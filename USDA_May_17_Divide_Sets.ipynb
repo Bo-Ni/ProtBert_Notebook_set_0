{
  "nbformat": 4,
  "nbformat_minor": 0,
  "metadata": {
    "colab": {
      "name": "USDA_May_17_Divide_Sets.ipynb",
      "provenance": [],
      "mount_file_id": "1GrZ2XRa82CtzBJKwMfi8aQb1Evz-nKOd",
      "authorship_tag": "ABX9TyOKm0cnwWrZUGWLbsTZhjSR",
      "include_colab_link": true
    },
    "kernelspec": {
      "name": "python3",
      "display_name": "Python 3"
    },
    "language_info": {
      "name": "python"
    }
  },
  "cells": [
    {
      "cell_type": "markdown",
      "metadata": {
        "id": "view-in-github",
        "colab_type": "text"
      },
      "source": [
        "<a href=\"https://colab.research.google.com/github/Bo-Ni/ProtBert_Notebook_set_0/blob/main/USDA_May_17_Divide_Sets.ipynb\" target=\"_parent\"><img src=\"https://colab.research.google.com/assets/colab-badge.svg\" alt=\"Open In Colab\"/></a>"
      ]
    },
    {
      "cell_type": "code",
      "execution_count": 21,
      "metadata": {
        "id": "E6_PlaNRBQdD"
      },
      "outputs": [],
      "source": [
        "# =================================================================\n",
        "# 0. prepare the packages\n",
        "# =================================================================\n",
        "import os\n",
        "# #if running colab or if you want to use GPU on a local machine, comment out this line\n",
        "# os.environ[\"CUDA_VISIBLE_DEVICES\"] = \"-1\"\n",
        "\n",
        "import numpy as np\n",
        "import pandas as pd\n",
        "\n",
        "import math\n",
        "\n",
        "import seaborn as sns\n",
        "import matplotlib.pyplot as plt\n",
        "\n",
        "import tensorflow as tf\n",
        "\n",
        "#\n",
        "# import matplotlib \n",
        "# matplotlib.use('Agg')\n",
        "#\n",
        "import matplotlib.pyplot as plt\n",
        "from matplotlib import rc"
      ]
    },
    {
      "cell_type": "code",
      "source": [
        "IF_Google = 1\n",
        "IF_Debug = 1"
      ],
      "metadata": {
        "id": "u7K4Mxw3CNdO"
      },
      "execution_count": 22,
      "outputs": []
    },
    {
      "cell_type": "code",
      "source": [
        "# =================================================================\n",
        "# 1. check the GPU set-up\n",
        "# =================================================================\n",
        "# Not work for .py file\n",
        "\n",
        "if IF_Google == 1:\n",
        "  print(os.popen('nvidia-smi').read())"
      ],
      "metadata": {
        "colab": {
          "base_uri": "https://localhost:8080/"
        },
        "id": "GG6AsovECQ42",
        "outputId": "bcd81b45-1a9a-445e-a51a-2dcb1299c7b4"
      },
      "execution_count": 3,
      "outputs": [
        {
          "output_type": "stream",
          "name": "stdout",
          "text": [
            "NVIDIA-SMI has failed because it couldn't communicate with the NVIDIA driver. Make sure that the latest NVIDIA driver is installed and running.\n",
            "\n",
            "\n"
          ]
        }
      ]
    },
    {
      "cell_type": "code",
      "source": [
        "csv_ecoli_pair = 'ecoli_pair_seq12_interact.csv'"
      ],
      "metadata": {
        "id": "9bd9oiqCCTDy"
      },
      "execution_count": 23,
      "outputs": []
    },
    {
      "cell_type": "code",
      "source": [
        "if IF_Google == 1:\n",
        "  file_exist_1 = os.path.exists(csv_ecoli_pair)\n",
        "\n",
        "\n",
        "  if not (file_exist_1 ):\n",
        "    # download files\n",
        "    print(os.popen('wget https://www.dropbox.com/s/kesvrpv4cyfmpwe/ecoli_pair_seq12_interact.csv').read())\n",
        "    # print(os.popen('wget https://www.dropbox.com/s/jvmcukfl571mxk6/uniprot_fgfr_reviewed.xlsx').read())\n",
        "    \n",
        "    # print(os.popen('wget https://www.dropbox.com/s/4rqairjn72t07ao/uniprot_fgf_unreviewed.xlsx').read())\n",
        "    # print(os.popen('wget https://www.dropbox.com/s/8utuj3dcxrmmrc6/uniprot_fgfr_unreviewed.xlsx').read())\n",
        "    # # move the file\n",
        "    # print(os.popen('mkdir homemade_metric_classification_accuracy').read())\n",
        "    # print(os.popen('mv homemade_metric_classification_accuracy.py ./homemade_metric_classification_accuracy').read())"
      ],
      "metadata": {
        "colab": {
          "base_uri": "https://localhost:8080/"
        },
        "id": "OPKNaNiwCVl2",
        "outputId": "260a1602-ec10-4f0e-91f0-b46b562c86c5"
      },
      "execution_count": 6,
      "outputs": [
        {
          "output_type": "stream",
          "name": "stdout",
          "text": [
            "\n"
          ]
        }
      ]
    },
    {
      "cell_type": "code",
      "source": [
        "df_raw_ecoli  = pd.read_csv(csv_ecoli_pair)"
      ],
      "metadata": {
        "id": "dlb-9Ay5C4S7"
      },
      "execution_count": 24,
      "outputs": []
    },
    {
      "cell_type": "code",
      "source": [
        "df_raw_ecoli.head(5)"
      ],
      "metadata": {
        "colab": {
          "base_uri": "https://localhost:8080/",
          "height": 270
        },
        "id": "vcrmNV7yDFC4",
        "outputId": "8aeb8d3d-e7bb-40f4-cc35-138b97d7877a"
      },
      "execution_count": 25,
      "outputs": [
        {
          "output_type": "execute_result",
          "data": {
            "text/plain": [
              "  Protein1 Protein2  Interaction  Probability  \\\n",
              "0   P31475   P0ACL9            1     0.999977   \n",
              "1   P0ACP7   P0ACQ0            1     0.999977   \n",
              "2   P52696   Q47141            1     0.999958   \n",
              "3   Q47141   P23841            1     0.999946   \n",
              "4   P52696   P0ACR7            1     0.999945   \n",
              "\n",
              "                                               Seq_1  \\\n",
              "0  MPLSAQQLAAQKNLSYVLAEKLAQRILKGEYEPGTILPGEIELGEQ...   \n",
              "1  MATIKDVAKRANVSTTTVSHVINKTRFVAEETRNAVWAAIKELHYS...   \n",
              "2  MKHELSSMKAFVILAESSSFNNAAKLLNITQPALTRRIKKMEEDLH...   \n",
              "3  MELRHLRYFVAVAQALNFTRAAEKLHTSQPSLSSQIRDLENCVGVP...   \n",
              "4  MKHELSSMKAFVILAESSSFNNAAKLLNITQPALTRRIKKMEEDLH...   \n",
              "\n",
              "                                               Seq_2  \n",
              "0  MAYSKIRQPKLSDVIEQQLEFLILEGTLRPGEKLPPERELAKQFDV...  \n",
              "1  MATMKDVARLAGVSTSTVSHVINKDRFVSEAITAKVEAAIKELNYA...  \n",
              "2  MELRHLRYFVAVAQALNFTRAAEKLHTSQPSLSSQIRDLENCVGVP...  \n",
              "3  MERVYRTDLKLLRYFLAVAEELHFGRAAARLNMSQPPLSIHIKELE...  \n",
              "4  MNYSLKQLKVFVTVAQEKSFSRAGERIGLSQSAVSHSVKELENHTG...  "
            ],
            "text/html": [
              "\n",
              "  <div id=\"df-478462e4-bd25-41d5-b7b5-0e8a3f4e02d0\">\n",
              "    <div class=\"colab-df-container\">\n",
              "      <div>\n",
              "<style scoped>\n",
              "    .dataframe tbody tr th:only-of-type {\n",
              "        vertical-align: middle;\n",
              "    }\n",
              "\n",
              "    .dataframe tbody tr th {\n",
              "        vertical-align: top;\n",
              "    }\n",
              "\n",
              "    .dataframe thead th {\n",
              "        text-align: right;\n",
              "    }\n",
              "</style>\n",
              "<table border=\"1\" class=\"dataframe\">\n",
              "  <thead>\n",
              "    <tr style=\"text-align: right;\">\n",
              "      <th></th>\n",
              "      <th>Protein1</th>\n",
              "      <th>Protein2</th>\n",
              "      <th>Interaction</th>\n",
              "      <th>Probability</th>\n",
              "      <th>Seq_1</th>\n",
              "      <th>Seq_2</th>\n",
              "    </tr>\n",
              "  </thead>\n",
              "  <tbody>\n",
              "    <tr>\n",
              "      <th>0</th>\n",
              "      <td>P31475</td>\n",
              "      <td>P0ACL9</td>\n",
              "      <td>1</td>\n",
              "      <td>0.999977</td>\n",
              "      <td>MPLSAQQLAAQKNLSYVLAEKLAQRILKGEYEPGTILPGEIELGEQ...</td>\n",
              "      <td>MAYSKIRQPKLSDVIEQQLEFLILEGTLRPGEKLPPERELAKQFDV...</td>\n",
              "    </tr>\n",
              "    <tr>\n",
              "      <th>1</th>\n",
              "      <td>P0ACP7</td>\n",
              "      <td>P0ACQ0</td>\n",
              "      <td>1</td>\n",
              "      <td>0.999977</td>\n",
              "      <td>MATIKDVAKRANVSTTTVSHVINKTRFVAEETRNAVWAAIKELHYS...</td>\n",
              "      <td>MATMKDVARLAGVSTSTVSHVINKDRFVSEAITAKVEAAIKELNYA...</td>\n",
              "    </tr>\n",
              "    <tr>\n",
              "      <th>2</th>\n",
              "      <td>P52696</td>\n",
              "      <td>Q47141</td>\n",
              "      <td>1</td>\n",
              "      <td>0.999958</td>\n",
              "      <td>MKHELSSMKAFVILAESSSFNNAAKLLNITQPALTRRIKKMEEDLH...</td>\n",
              "      <td>MELRHLRYFVAVAQALNFTRAAEKLHTSQPSLSSQIRDLENCVGVP...</td>\n",
              "    </tr>\n",
              "    <tr>\n",
              "      <th>3</th>\n",
              "      <td>Q47141</td>\n",
              "      <td>P23841</td>\n",
              "      <td>1</td>\n",
              "      <td>0.999946</td>\n",
              "      <td>MELRHLRYFVAVAQALNFTRAAEKLHTSQPSLSSQIRDLENCVGVP...</td>\n",
              "      <td>MERVYRTDLKLLRYFLAVAEELHFGRAAARLNMSQPPLSIHIKELE...</td>\n",
              "    </tr>\n",
              "    <tr>\n",
              "      <th>4</th>\n",
              "      <td>P52696</td>\n",
              "      <td>P0ACR7</td>\n",
              "      <td>1</td>\n",
              "      <td>0.999945</td>\n",
              "      <td>MKHELSSMKAFVILAESSSFNNAAKLLNITQPALTRRIKKMEEDLH...</td>\n",
              "      <td>MNYSLKQLKVFVTVAQEKSFSRAGERIGLSQSAVSHSVKELENHTG...</td>\n",
              "    </tr>\n",
              "  </tbody>\n",
              "</table>\n",
              "</div>\n",
              "      <button class=\"colab-df-convert\" onclick=\"convertToInteractive('df-478462e4-bd25-41d5-b7b5-0e8a3f4e02d0')\"\n",
              "              title=\"Convert this dataframe to an interactive table.\"\n",
              "              style=\"display:none;\">\n",
              "        \n",
              "  <svg xmlns=\"http://www.w3.org/2000/svg\" height=\"24px\"viewBox=\"0 0 24 24\"\n",
              "       width=\"24px\">\n",
              "    <path d=\"M0 0h24v24H0V0z\" fill=\"none\"/>\n",
              "    <path d=\"M18.56 5.44l.94 2.06.94-2.06 2.06-.94-2.06-.94-.94-2.06-.94 2.06-2.06.94zm-11 1L8.5 8.5l.94-2.06 2.06-.94-2.06-.94L8.5 2.5l-.94 2.06-2.06.94zm10 10l.94 2.06.94-2.06 2.06-.94-2.06-.94-.94-2.06-.94 2.06-2.06.94z\"/><path d=\"M17.41 7.96l-1.37-1.37c-.4-.4-.92-.59-1.43-.59-.52 0-1.04.2-1.43.59L10.3 9.45l-7.72 7.72c-.78.78-.78 2.05 0 2.83L4 21.41c.39.39.9.59 1.41.59.51 0 1.02-.2 1.41-.59l7.78-7.78 2.81-2.81c.8-.78.8-2.07 0-2.86zM5.41 20L4 18.59l7.72-7.72 1.47 1.35L5.41 20z\"/>\n",
              "  </svg>\n",
              "      </button>\n",
              "      \n",
              "  <style>\n",
              "    .colab-df-container {\n",
              "      display:flex;\n",
              "      flex-wrap:wrap;\n",
              "      gap: 12px;\n",
              "    }\n",
              "\n",
              "    .colab-df-convert {\n",
              "      background-color: #E8F0FE;\n",
              "      border: none;\n",
              "      border-radius: 50%;\n",
              "      cursor: pointer;\n",
              "      display: none;\n",
              "      fill: #1967D2;\n",
              "      height: 32px;\n",
              "      padding: 0 0 0 0;\n",
              "      width: 32px;\n",
              "    }\n",
              "\n",
              "    .colab-df-convert:hover {\n",
              "      background-color: #E2EBFA;\n",
              "      box-shadow: 0px 1px 2px rgba(60, 64, 67, 0.3), 0px 1px 3px 1px rgba(60, 64, 67, 0.15);\n",
              "      fill: #174EA6;\n",
              "    }\n",
              "\n",
              "    [theme=dark] .colab-df-convert {\n",
              "      background-color: #3B4455;\n",
              "      fill: #D2E3FC;\n",
              "    }\n",
              "\n",
              "    [theme=dark] .colab-df-convert:hover {\n",
              "      background-color: #434B5C;\n",
              "      box-shadow: 0px 1px 3px 1px rgba(0, 0, 0, 0.15);\n",
              "      filter: drop-shadow(0px 1px 2px rgba(0, 0, 0, 0.3));\n",
              "      fill: #FFFFFF;\n",
              "    }\n",
              "  </style>\n",
              "\n",
              "      <script>\n",
              "        const buttonEl =\n",
              "          document.querySelector('#df-478462e4-bd25-41d5-b7b5-0e8a3f4e02d0 button.colab-df-convert');\n",
              "        buttonEl.style.display =\n",
              "          google.colab.kernel.accessAllowed ? 'block' : 'none';\n",
              "\n",
              "        async function convertToInteractive(key) {\n",
              "          const element = document.querySelector('#df-478462e4-bd25-41d5-b7b5-0e8a3f4e02d0');\n",
              "          const dataTable =\n",
              "            await google.colab.kernel.invokeFunction('convertToInteractive',\n",
              "                                                     [key], {});\n",
              "          if (!dataTable) return;\n",
              "\n",
              "          const docLinkHtml = 'Like what you see? Visit the ' +\n",
              "            '<a target=\"_blank\" href=https://colab.research.google.com/notebooks/data_table.ipynb>data table notebook</a>'\n",
              "            + ' to learn more about interactive tables.';\n",
              "          element.innerHTML = '';\n",
              "          dataTable['output_type'] = 'display_data';\n",
              "          await google.colab.output.renderOutput(dataTable, element);\n",
              "          const docLink = document.createElement('div');\n",
              "          docLink.innerHTML = docLinkHtml;\n",
              "          element.appendChild(docLink);\n",
              "        }\n",
              "      </script>\n",
              "    </div>\n",
              "  </div>\n",
              "  "
            ]
          },
          "metadata": {},
          "execution_count": 25
        }
      ]
    },
    {
      "cell_type": "code",
      "source": [
        "print(len(df_raw_ecoli))"
      ],
      "metadata": {
        "colab": {
          "base_uri": "https://localhost:8080/"
        },
        "id": "tqQckFUEDOJD",
        "outputId": "07e4dfac-87fd-45e5-f1d4-1fa5451ed6da"
      },
      "execution_count": 26,
      "outputs": [
        {
          "output_type": "stream",
          "name": "stdout",
          "text": [
            "39892\n"
          ]
        }
      ]
    },
    {
      "cell_type": "code",
      "source": [
        "# add length into the set\n",
        "print( len(df_raw_ecoli[\"Seq_1\"][0]) )\n",
        "print( len(df_raw_ecoli.Seq_1[0]) )\n",
        "print( len(df_raw_ecoli.Seq_2[0]) )"
      ],
      "metadata": {
        "colab": {
          "base_uri": "https://localhost:8080/"
        },
        "id": "yiulVyRDDiHr",
        "outputId": "65d93827-2141-4442-bba0-343e6ce0c450"
      },
      "execution_count": 33,
      "outputs": [
        {
          "output_type": "stream",
          "name": "stdout",
          "text": [
            "230\n",
            "230\n",
            "254\n"
          ]
        }
      ]
    },
    {
      "cell_type": "code",
      "source": [
        "df_raw_ecoli['Seq_1_Len'] = df_raw_ecoli.apply(lambda row: len(row.Seq_1), axis = 1)\n",
        "df_raw_ecoli['Seq_2_Len'] = df_raw_ecoli.apply(lambda row: len(row.Seq_2), axis = 1)"
      ],
      "metadata": {
        "id": "4sS1CckXHETP"
      },
      "execution_count": 32,
      "outputs": []
    },
    {
      "cell_type": "code",
      "source": [
        "#df_raw_ecoli = df_raw_ecoli.assign(Seq_1_Len=lambda x: len(x.Seq_1))"
      ],
      "metadata": {
        "id": "18n9jgKoF6mC"
      },
      "execution_count": 16,
      "outputs": []
    },
    {
      "cell_type": "code",
      "source": [
        "print( df_raw_ecoli[\"Seq_1_Len\"][0] )\n",
        "print( df_raw_ecoli[\"Seq_2_Len\"][0] )"
      ],
      "metadata": {
        "colab": {
          "base_uri": "https://localhost:8080/"
        },
        "id": "pewFjG7FGezi",
        "outputId": "e3f8dfc6-85f8-4ee2-ea67-00c807f1022a"
      },
      "execution_count": 34,
      "outputs": [
        {
          "output_type": "stream",
          "name": "stdout",
          "text": [
            "230\n",
            "254\n"
          ]
        }
      ]
    },
    {
      "cell_type": "code",
      "source": [
        "# distribution in sequence length\n",
        "# check the distribution of the picked ones\n",
        "plt.figure()\n",
        "sns.histplot(df_raw_ecoli.Seq_1_Len.values, \n",
        "             bins=40, kde=True, stat='density', color=\"red\", label=\"Seq_1\");\n",
        "sns.histplot(df_raw_ecoli.Seq_2_Len.values, \n",
        "             bins=40, kde=True, stat='density', color=\"blue\", label=\"Seq_2\");\n",
        "\n",
        "plt.grid()\n",
        "plt.legend() \n",
        "plt.show()"
      ],
      "metadata": {
        "colab": {
          "base_uri": "https://localhost:8080/",
          "height": 267
        },
        "id": "Le_L2Wt9Gkcr",
        "outputId": "e889f09e-097a-4231-9752-60d4d99bf484"
      },
      "execution_count": 35,
      "outputs": [
        {
          "output_type": "display_data",
          "data": {
            "text/plain": [
              "<Figure size 432x288 with 1 Axes>"
            ],
            "image/png": "[encoded data removed]"
          },
          "metadata": {
            "needs_background": "light"
          }
        }
      ]
    },
    {
      "cell_type": "code",
      "source": [
        "# make an even size sets\n",
        "# 1. divide into 0 and 1 interactions\n",
        "df_ecoli_pair_Posi = df_raw_ecoli.loc[df_raw_ecoli['Interaction'] == 1]\n",
        "df_ecoli_pair_Nega = df_raw_ecoli.loc[df_raw_ecoli['Interaction'] == 0]\n"
      ],
      "metadata": {
        "colab": {
          "base_uri": "https://localhost:8080/"
        },
        "id": "a-t98ex0IRAB",
        "outputId": "1fd0c51f-7c91-4169-8cfb-9a27d39c0482"
      },
      "execution_count": 36,
      "outputs": [
        {
          "output_type": "stream",
          "name": "stdout",
          "text": [
            "254\n"
          ]
        }
      ]
    },
    {
      "cell_type": "code",
      "source": [
        "print(len(df_ecoli_pair_Posi))\n",
        "print(len(df_ecoli_pair_Nega))\n",
        "print( len(df_ecoli_pair_Posi)/len(df_ecoli_pair_Nega) )"
      ],
      "metadata": {
        "colab": {
          "base_uri": "https://localhost:8080/"
        },
        "id": "VsoIhI0jJazP",
        "outputId": "b914c34a-9394-49a4-de08-f2d070d1abfe"
      },
      "execution_count": 38,
      "outputs": [
        {
          "output_type": "stream",
          "name": "stdout",
          "text": [
            "254\n",
            "39638\n",
            "0.006407992330591856\n"
          ]
        }
      ]
    },
    {
      "cell_type": "code",
      "source": [
        "# 2. made a equal weighted mixture\n",
        "df_ecoli_pair_Posi_Pick = df_ecoli_pair_Posi\n",
        "df_ecoli_pair_Nega_Pick = df_ecoli_pair_Nega.sample(len(df_ecoli_pair_Posi))"
      ],
      "metadata": {
        "id": "7DEPXD9YJeKo"
      },
      "execution_count": 39,
      "outputs": []
    },
    {
      "cell_type": "code",
      "source": [
        "print(len(df_ecoli_pair_Posi_Pick))\n",
        "print(len(df_ecoli_pair_Nega_Pick))"
      ],
      "metadata": {
        "colab": {
          "base_uri": "https://localhost:8080/"
        },
        "id": "6M4RaP7BKzUt",
        "outputId": "8d4fad40-50f8-4233-82db-a4a24bd4d5ea"
      },
      "execution_count": 40,
      "outputs": [
        {
          "output_type": "stream",
          "name": "stdout",
          "text": [
            "254\n",
            "254\n"
          ]
        }
      ]
    },
    {
      "cell_type": "code",
      "source": [
        "plt.figure()\n",
        "sns.histplot(df_ecoli_pair_Posi_Pick.Seq_1_Len.values, \n",
        "             bins=40, kde=True, stat='density', color=\"red\", label=\"Seq_1\");\n",
        "sns.histplot(df_ecoli_pair_Posi_Pick.Seq_2_Len.values, \n",
        "             bins=40, kde=True, stat='density', color=\"blue\", label=\"Seq_2\");\n",
        "\n",
        "plt.grid()\n",
        "plt.legend() \n",
        "plt.show()"
      ],
      "metadata": {
        "colab": {
          "base_uri": "https://localhost:8080/",
          "height": 265
        },
        "id": "z9PHk-8LK50R",
        "outputId": "1ca26f6f-dae0-4dce-d9fc-a110b99a1fa6"
      },
      "execution_count": 41,
      "outputs": [
        {
          "output_type": "display_data",
          "data": {
            "text/plain": [
              "<Figure size 432x288 with 1 Axes>"
            ],
            "image/png": "[encoded data removed]"
          },
          "metadata": {
            "needs_background": "light"
          }
        }
      ]
    },
    {
      "cell_type": "code",
      "source": [
        "plt.figure()\n",
        "sns.histplot(df_ecoli_pair_Nega_Pick.Seq_1_Len.values, \n",
        "             bins=40, kde=True, stat='density', color=\"red\", label=\"Seq_1\");\n",
        "sns.histplot(df_ecoli_pair_Nega_Pick.Seq_2_Len.values, \n",
        "             bins=40, kde=True, stat='density', color=\"blue\", label=\"Seq_2\");\n",
        "\n",
        "plt.grid()\n",
        "plt.legend() \n",
        "plt.show()"
      ],
      "metadata": {
        "colab": {
          "base_uri": "https://localhost:8080/",
          "height": 265
        },
        "id": "3B4YzVDkLDUE",
        "outputId": "dc398c66-cf4d-4112-8e7b-56c39084ede8"
      },
      "execution_count": 42,
      "outputs": [
        {
          "output_type": "display_data",
          "data": {
            "text/plain": [
              "<Figure size 432x288 with 1 Axes>"
            ],
            "image/png": "[encoded data removed]"
          },
          "metadata": {
            "needs_background": "light"
          }
        }
      ]
    },
    {
      "cell_type": "code",
      "source": [
        "# divide into three groups\n",
        "def divide_into_three_sets(df,trai_ratio):\n",
        "  df_trai = df.sample( frac=trai_ratio )\n",
        "  df_vali_test = df.drop( df_trai.index )\n",
        "\n",
        "  df_vali = df_vali_test.sample( frac=0.5 )\n",
        "  df_test = df_vali_test.drop( df_vali.index )\n",
        "\n",
        "  return df_trai,df_vali,df_test"
      ],
      "metadata": {
        "id": "1J7_8oWMLPZP"
      },
      "execution_count": 43,
      "outputs": []
    },
    {
      "cell_type": "code",
      "source": [
        "# ration between groups: 80% + 10% +10%\n",
        "training_ratio = 0.70\n",
        "\n",
        "df_ecoli_pair_Posi_Pick_trai, \\\n",
        "df_ecoli_pair_Posi_Pick_vali, \\\n",
        "df_ecoli_pair_Posi_Pick_test = \\\n",
        "  divide_into_three_sets( df_ecoli_pair_Posi_Pick,training_ratio)\n",
        "\n",
        "print(len( df_ecoli_pair_Posi_Pick_trai))\n",
        "print(len( df_ecoli_pair_Posi_Pick_test))\n",
        "print(len( df_ecoli_pair_Posi_Pick_vali))"
      ],
      "metadata": {
        "colab": {
          "base_uri": "https://localhost:8080/"
        },
        "id": "wjsk2KxDLhWH",
        "outputId": "1e10203a-04d7-4082-d29d-fae8c2351d1e"
      },
      "execution_count": 44,
      "outputs": [
        {
          "output_type": "stream",
          "name": "stdout",
          "text": [
            "178\n",
            "38\n",
            "38\n"
          ]
        }
      ]
    },
    {
      "cell_type": "code",
      "source": [
        "df_ecoli_pair_Nega_Pick_trai, \\\n",
        "df_ecoli_pair_Nega_Pick_vali, \\\n",
        "df_ecoli_pair_Nega_Pick_test = \\\n",
        "  divide_into_three_sets( df_ecoli_pair_Nega_Pick,training_ratio)\n",
        "\n",
        "print(len( df_ecoli_pair_Nega_Pick_trai))\n",
        "print(len( df_ecoli_pair_Nega_Pick_test))\n",
        "print(len( df_ecoli_pair_Nega_Pick_vali))"
      ],
      "metadata": {
        "colab": {
          "base_uri": "https://localhost:8080/"
        },
        "id": "CMlPmgsJL7BV",
        "outputId": "28ff755a-1951-457a-f378-d95872ba1a2e"
      },
      "execution_count": 45,
      "outputs": [
        {
          "output_type": "stream",
          "name": "stdout",
          "text": [
            "178\n",
            "38\n",
            "38\n"
          ]
        }
      ]
    },
    {
      "cell_type": "code",
      "source": [
        "# compare the three sets:\n",
        "plt.figure()\n",
        "sns.histplot(df_ecoli_pair_Posi_Pick_trai.Seq_1_Len.values, \n",
        "             bins=40, kde=True, stat='density', color=\"red\", label=\"Training\");\n",
        "sns.histplot(df_ecoli_pair_Posi_Pick_vali.Seq_1_Len.values, \n",
        "             bins=40, kde=True, stat='density', color=\"blue\", label=\"Validation\");\n",
        "sns.histplot(df_ecoli_pair_Posi_Pick_test.Seq_1_Len.values, \n",
        "             bins=40, kde=True, stat='density', color=\"yellow\", label=\"Testing\");\n",
        "\n",
        "plt.grid()\n",
        "plt.legend() \n",
        "plt.show()"
      ],
      "metadata": {
        "colab": {
          "base_uri": "https://localhost:8080/",
          "height": 265
        },
        "id": "gSRsfhW8MJIu",
        "outputId": "3555172f-387b-4618-d861-cfaaa7d93248"
      },
      "execution_count": 48,
      "outputs": [
        {
          "output_type": "display_data",
          "data": {
            "text/plain": [
              "<Figure size 432x288 with 1 Axes>"
            ],
            "image/png": "[encoded data removed]"
          },
          "metadata": {
            "needs_background": "light"
          }
        }
      ]
    },
    {
      "cell_type": "code",
      "source": [
        "plt.figure()\n",
        "sns.histplot(df_ecoli_pair_Nega_Pick_trai.Seq_1_Len.values, \n",
        "             bins=40, kde=True, stat='density', color=\"red\", label=\"Training\");\n",
        "sns.histplot(df_ecoli_pair_Nega_Pick_vali.Seq_1_Len.values, \n",
        "             bins=40, kde=True, stat='density', color=\"blue\", label=\"Validation\");\n",
        "sns.histplot(df_ecoli_pair_Nega_Pick_test.Seq_1_Len.values, \n",
        "             bins=40, kde=True, stat='density', color=\"yellow\", label=\"Testing\");\n",
        "\n",
        "plt.grid()\n",
        "plt.legend() \n",
        "plt.show()"
      ],
      "metadata": {
        "colab": {
          "base_uri": "https://localhost:8080/",
          "height": 265
        },
        "id": "bBuj0n2HMlfT",
        "outputId": "db44f14e-434f-4089-e4a5-2347132a402c"
      },
      "execution_count": 49,
      "outputs": [
        {
          "output_type": "display_data",
          "data": {
            "text/plain": [
              "<Figure size 432x288 with 1 Axes>"
            ],
            "image/png": "[encoded data removed]"
          },
          "metadata": {
            "needs_background": "light"
          }
        }
      ]
    },
    {
      "cell_type": "code",
      "source": [
        "# mix the two parts\n",
        "def mix_two_df(df_0, df_1):\n",
        "  df_tot = pd.concat([df_0, df_1])\n",
        "  df_tot = df_tot.sample(frac=1.0)\n",
        "  return df_tot"
      ],
      "metadata": {
        "id": "1CJs3d_2Mt_J"
      },
      "execution_count": 50,
      "outputs": []
    },
    {
      "cell_type": "code",
      "source": [
        "df_ecoli_pair_Pick_trai = mix_two_df(df_ecoli_pair_Posi_Pick_trai,df_ecoli_pair_Nega_Pick_trai)\n",
        "df_ecoli_pair_Pick_vali = mix_two_df(df_ecoli_pair_Posi_Pick_vali,df_ecoli_pair_Nega_Pick_vali)\n",
        "df_ecoli_pair_Pick_test = mix_two_df(df_ecoli_pair_Posi_Pick_test,df_ecoli_pair_Nega_Pick_test)\n"
      ],
      "metadata": {
        "id": "ZFqCqN2TNBEc"
      },
      "execution_count": 51,
      "outputs": []
    },
    {
      "cell_type": "code",
      "source": [
        "# d. prepare the figures for the statistics of the mixed sets\n",
        "plt.figure()\n",
        "\n",
        "sns.histplot(df_ecoli_pair_Pick_trai.Seq_1_Len.values, \n",
        "             bins=40, kde=True, stat='density', color=\"red\", label=\"Training\");\n",
        "sns.histplot(df_ecoli_pair_Pick_vali.Seq_1_Len.values, \n",
        "             bins=40, kde=True, stat='density', color=\"blue\", label=\"Validation\");\n",
        "sns.histplot(df_ecoli_pair_Pick_test.Seq_1_Len.values, \n",
        "             bins=40, kde=True, stat='density', color=\"yellow\", label=\"Testing\");\n",
        "\n",
        "plt.grid()\n",
        "plt.legend() \n",
        "plt.show()"
      ],
      "metadata": {
        "colab": {
          "base_uri": "https://localhost:8080/",
          "height": 265
        },
        "id": "dQeL3AagNmvF",
        "outputId": "cdc6cc28-39a6-4c11-9ac5-315f919ef4ba"
      },
      "execution_count": 52,
      "outputs": [
        {
          "output_type": "display_data",
          "data": {
            "text/plain": [
              "<Figure size 432x288 with 1 Axes>"
            ],
            "image/png": "[encoded data removed]"
          },
          "metadata": {
            "needs_background": "light"
          }
        }
      ]
    },
    {
      "cell_type": "code",
      "source": [
        "plt.figure()\n",
        "\n",
        "sns.histplot(df_ecoli_pair_Pick_trai.Seq_2_Len.values, \n",
        "             bins=40, kde=True, stat='density', color=\"red\", label=\"Training\");\n",
        "sns.histplot(df_ecoli_pair_Pick_vali.Seq_2_Len.values, \n",
        "             bins=40, kde=True, stat='density', color=\"blue\", label=\"Validation\");\n",
        "sns.histplot(df_ecoli_pair_Pick_test.Seq_2_Len.values, \n",
        "             bins=40, kde=True, stat='density', color=\"yellow\", label=\"Testing\");\n",
        "\n",
        "plt.grid()\n",
        "plt.legend() \n",
        "plt.show()"
      ],
      "metadata": {
        "colab": {
          "base_uri": "https://localhost:8080/",
          "height": 265
        },
        "id": "XlvuTVzLN65y",
        "outputId": "6ef96a8c-d40a-4381-9b55-7717f64dab77"
      },
      "execution_count": 53,
      "outputs": [
        {
          "output_type": "display_data",
          "data": {
            "text/plain": [
              "<Figure size 432x288 with 1 Axes>"
            ],
            "image/png": "[encoded data removed]"
          },
          "metadata": {
            "needs_background": "light"
          }
        }
      ]
    },
    {
      "cell_type": "code",
      "source": [
        "# write to file\n",
        "Result_path='./drive/MyDrive/0_data_prepare_results/'"
      ],
      "metadata": {
        "id": "UYSl0tdzOAvy"
      },
      "execution_count": 54,
      "outputs": []
    },
    {
      "cell_type": "code",
      "source": [
        "# write into csv files\n",
        "csv_ecoli_pair_Pick_trai = Result_path+'ecoli_pair_Pick_trai.csv'\n",
        "csv_ecoli_pair_Pick_vali = Result_path+'ecoli_pair_Pick_vali.csv'\n",
        "csv_ecoli_pair_Pick_test = Result_path+'ecoli_pair_Pick_test.csv'\n"
      ],
      "metadata": {
        "id": "VuejMkDNORtQ"
      },
      "execution_count": 55,
      "outputs": []
    },
    {
      "cell_type": "code",
      "source": [
        "df_ecoli_pair_Pick_trai.to_csv(csv_ecoli_pair_Pick_trai,\n",
        "                             sep=',',index=False,encoding='utf-8')\n",
        "df_ecoli_pair_Pick_vali.to_csv(csv_ecoli_pair_Pick_vali,\n",
        "                             sep=',',index=False,encoding='utf-8')\n",
        "df_ecoli_pair_Pick_test.to_csv(csv_ecoli_pair_Pick_test,\n",
        "                             sep=',',index=False,encoding='utf-8')\n"
      ],
      "metadata": {
        "id": "TfbbOxbOOjZX"
      },
      "execution_count": 56,
      "outputs": []
    },
    {
      "cell_type": "code",
      "source": [
        ""
      ],
      "metadata": {
        "id": "EkhX2V6GO2EX"
      },
      "execution_count": null,
      "outputs": []
    }
  ]
}