{
  "nbformat": 4,
  "nbformat_minor": 0,
  "metadata": {
    "colab": {
      "name": "translate_NetSurfP_data_set_0.ipynb",
      "provenance": [],
      "machine_shape": "hm",
      "authorship_tag": "ABX9TyMjkkH6ZounSmmQisp8TF1Y",
      "include_colab_link": true
    },
    "kernelspec": {
      "name": "python3",
      "display_name": "Python 3"
    },
    "language_info": {
      "name": "python"
    }
  },
  "cells": [
    {
      "cell_type": "markdown",
      "metadata": {
        "id": "view-in-github",
        "colab_type": "text"
      },
      "source": [
        "<a href=\"https://colab.research.google.com/github/Bo-Ni/ProtBert_Notebook_set_0/blob/main/translate_NetSurfP_data_set_0.ipynb\" target=\"_parent\"><img src=\"https://colab.research.google.com/assets/colab-badge.svg\" alt=\"Open In Colab\"/></a>"
      ]
    },
    {
      "cell_type": "markdown",
      "source": [
        "## quick compare between datasets of NetSurfP2.0 and 3.0"
      ],
      "metadata": {
        "id": "Te8gijRRQrYn"
      }
    },
    {
      "cell_type": "markdown",
      "source": [
        "### 2.0\n",
        "https://services.healthtech.dtu.dk/service.php?NetSurfP-2.0\n",
        "### 3.0\n",
        "https://services.healthtech.dtu.dk/service.php?NetSurfP-3.0"
      ],
      "metadata": {
        "id": "5Nsx8n1oQ2eL"
      }
    },
    {
      "cell_type": "code",
      "source": [
        "import numpy as np\n",
        "import os"
      ],
      "metadata": {
        "id": "AOcPlIZiRK93"
      },
      "execution_count": 1,
      "outputs": []
    },
    {
      "cell_type": "code",
      "execution_count": 2,
      "metadata": {
        "colab": {
          "base_uri": "https://localhost:8080/"
        },
        "id": "CXxufd11Qhjk",
        "outputId": "8a5a6fd4-64d9-4fc5-8c1a-d880087e5400"
      },
      "outputs": [
        {
          "output_type": "stream",
          "name": "stdout",
          "text": [
            "\n"
          ]
        }
      ],
      "source": [
        "# 0. download the files\n",
        "print(os.popen('wget https://services.healthtech.dtu.dk/services/NetSurfP-2.0/training_data/Train_HHblits.npz').read())"
      ]
    },
    {
      "cell_type": "code",
      "source": [
        "data_v2 = np.load('./Train_HHblits.npz','r')"
      ],
      "metadata": {
        "id": "X1THlIKxRj2U"
      },
      "execution_count": 3,
      "outputs": []
    },
    {
      "cell_type": "code",
      "source": [
        "# what is inside the box\n",
        "print(data_v2.iterkeys())\n",
        "for k in data_v2.iterkeys():\n",
        "    print(k)"
      ],
      "metadata": {
        "colab": {
          "base_uri": "https://localhost:8080/"
        },
        "id": "TVVir0jhR9d6",
        "outputId": "e9e85637-afdd-4dc6-a39b-b7ed3d152c86"
      },
      "execution_count": 4,
      "outputs": [
        {
          "output_type": "stream",
          "name": "stdout",
          "text": [
            "KeysView(<numpy.lib.npyio.NpzFile object at 0x7f51a47eb690>)\n",
            "pdbids\n",
            "data\n"
          ]
        },
        {
          "output_type": "stream",
          "name": "stderr",
          "text": [
            "/usr/local/lib/python3.7/dist-packages/ipykernel_launcher.py:2: DeprecationWarning: NpzFile.iterkeys is deprecated in python 3, to match the removal of dict.iterkeys. Use .keys() instead.\n",
            "  \n",
            "/usr/local/lib/python3.7/dist-packages/ipykernel_launcher.py:3: DeprecationWarning: NpzFile.iterkeys is deprecated in python 3, to match the removal of dict.iterkeys. Use .keys() instead.\n",
            "  This is separate from the ipykernel package so we can avoid doing imports until\n"
          ]
        }
      ]
    },
    {
      "cell_type": "code",
      "source": [
        "print( len(data_v2['pdbids']) )\n",
        "print( data_v2['data'].shape )"
      ],
      "metadata": {
        "colab": {
          "base_uri": "https://localhost:8080/"
        },
        "id": "MgAC4NThSCmv",
        "outputId": "86686e14-afeb-412a-ac8b-e7a8d2c791e5"
      },
      "execution_count": 5,
      "outputs": [
        {
          "output_type": "stream",
          "name": "stdout",
          "text": [
            "10848\n",
            "(10848, 1632, 68)\n"
          ]
        }
      ]
    },
    {
      "cell_type": "code",
      "source": [
        "print(data_v2['pdbids'])"
      ],
      "metadata": {
        "colab": {
          "base_uri": "https://localhost:8080/"
        },
        "id": "yDW4OXftTu9V",
        "outputId": "b1f58091-3c38-4b51-b789-476e3c2f6b43"
      },
      "execution_count": 6,
      "outputs": [
        {
          "output_type": "stream",
          "name": "stdout",
          "text": [
            "['12as-A' '16vp-A' '1a12-C' ... '7ahl-B' '7odc-A' '8abp-A']\n"
          ]
        }
      ]
    },
    {
      "cell_type": "code",
      "source": [
        "print(data_v2['data'][0].shape)\n",
        "print(data_v2['data'][1].shape)"
      ],
      "metadata": {
        "colab": {
          "base_uri": "https://localhost:8080/"
        },
        "id": "djPeUNtZU5kq",
        "outputId": "f8db7552-8532-4a41-eafe-bfa0b0d2a10c"
      },
      "execution_count": 7,
      "outputs": [
        {
          "output_type": "stream",
          "name": "stdout",
          "text": [
            "(1632, 68)\n",
            "(1632, 68)\n"
          ]
        }
      ]
    },
    {
      "cell_type": "code",
      "source": [
        "reco_0_v2 = data_v2['data'][7]\n",
        "reco_1_v2 = data_v2['data'][0]"
      ],
      "metadata": {
        "id": "V3OzuUbWVBhX"
      },
      "execution_count": 8,
      "outputs": []
    },
    {
      "cell_type": "code",
      "source": [
        "print( reco_0_v2.shape )"
      ],
      "metadata": {
        "colab": {
          "base_uri": "https://localhost:8080/"
        },
        "id": "HXLcXzZdV5P_",
        "outputId": "31e2900d-2b16-4d23-aa15-bde664fcdf3a"
      },
      "execution_count": 9,
      "outputs": [
        {
          "output_type": "stream",
          "name": "stdout",
          "text": [
            "(1632, 68)\n"
          ]
        }
      ]
    },
    {
      "cell_type": "code",
      "source": [
        "print(data_v2['pdbids'][7])"
      ],
      "metadata": {
        "colab": {
          "base_uri": "https://localhost:8080/"
        },
        "id": "Y7GObmCAcK8F",
        "outputId": "907baf44-1abc-43ce-b8a8-ffb6b3b883f5"
      },
      "execution_count": 10,
      "outputs": [
        {
          "output_type": "stream",
          "name": "stdout",
          "text": [
            "1a62-A\n"
          ]
        }
      ]
    },
    {
      "cell_type": "code",
      "source": [
        "# [0:20] Amino Acids (sparse encoding)\n",
        "# [50] Seq mask (1 = seq, 0 = empty)\n",
        "print(reco_0_v2[0,50])\n",
        "print(reco_0_v2[0,0:20])\n",
        "print(reco_0_v2[2,50])\n",
        "print(reco_0_v2[2,0:20])\n",
        "print(reco_0_v2[1631,50])\n",
        "print(reco_0_v2[1631,0:20])"
      ],
      "metadata": {
        "colab": {
          "base_uri": "https://localhost:8080/"
        },
        "id": "GD4Gs85IZUTQ",
        "outputId": "edc953b6-974b-4684-c4ba-1c5ea545c9bb"
      },
      "execution_count": 11,
      "outputs": [
        {
          "output_type": "stream",
          "name": "stdout",
          "text": [
            "1.0\n",
            "[0. 0. 0. 0. 0. 0. 0. 0. 0. 0. 0. 0. 0. 0. 0. 0. 0. 0. 0. 0.]\n",
            "1.0\n",
            "[0. 0. 0. 0. 0. 0. 0. 0. 0. 1. 0. 0. 0. 0. 0. 0. 0. 0. 0. 0.]\n",
            "0.0\n",
            "[0. 0. 0. 0. 0. 0. 0. 0. 0. 0. 0. 0. 0. 0. 0. 0. 0. 0. 0. 0.]\n"
          ]
        }
      ]
    },
    {
      "cell_type": "code",
      "source": [
        "print(reco_0_v2[:,50])\n",
        "aa_index_list = np.where(reco_0_v2[:,50]==1)[0]\n",
        "print(aa_index_list)\n",
        "n_aa = aa_index_list.shape[0]\n",
        "# n_aa = np.amax(aa_index_list)+1\n",
        "print(n_aa)\n",
        "aa_list = np.zeros(n_aa, dtype=int)\n",
        "print(aa_list)\n",
        "for i in range(n_aa):\n",
        "  i_aa = aa_index_list[i]\n",
        "  print(i_aa)\n",
        "  print(np.where(reco_0_v2[i_aa,0:20]==1)[0])\n",
        "  id = np.where(reco_0_v2[i_aa,0:20]==1)[0]\n",
        "  if len(id)==1:\n",
        "    aa_list[i_aa] = id+1\n",
        "print(aa_list)"
      ],
      "metadata": {
        "colab": {
          "base_uri": "https://localhost:8080/"
        },
        "id": "xUCKPMahd-xE",
        "outputId": "062714f5-abe6-42ed-c373-4c004770a265"
      },
      "execution_count": 18,
      "outputs": [
        {
          "output_type": "stream",
          "name": "stdout",
          "text": [
            "[1. 1. 1. ... 0. 0. 0.]\n",
            "[  0   1   2   3   4   5   6   7   8   9  10  11  12  13  14  15  16  17\n",
            "  18  19  20  21  22  23  24  25  26  27  28  29  30  31  32  33  34  35\n",
            "  36  37  38  39  40  41  42  43  44  45  46  47  48  49  50  51  52  53\n",
            "  54  55  56  57  58  59  60  61  62  63  64  65  66  67  68  69  70  71\n",
            "  72  73  74  75  76  77  78  79  80  81  82  83  84  85  86  87  88  89\n",
            "  90  91  92  93  94  95  96  97  98  99 100 101 102 103 104 105 106 107\n",
            " 108 109 110 111 112 113 114 115 116 117 118 119 120 121 122 123 124 125\n",
            " 126 127 128 129]\n",
            "130\n",
            "[0 0 0 0 0 0 0 0 0 0 0 0 0 0 0 0 0 0 0 0 0 0 0 0 0 0 0 0 0 0 0 0 0 0 0 0 0\n",
            " 0 0 0 0 0 0 0 0 0 0 0 0 0 0 0 0 0 0 0 0 0 0 0 0 0 0 0 0 0 0 0 0 0 0 0 0 0\n",
            " 0 0 0 0 0 0 0 0 0 0 0 0 0 0 0 0 0 0 0 0 0 0 0 0 0 0 0 0 0 0 0 0 0 0 0 0 0\n",
            " 0 0 0 0 0 0 0 0 0 0 0 0 0 0 0 0 0 0 0]\n",
            "0\n",
            "[]\n",
            "1\n",
            "[11]\n",
            "2\n",
            "[9]\n",
            "3\n",
            "[16]\n",
            "4\n",
            "[3]\n",
            "5\n",
            "[9]\n",
            "6\n",
            "[8]\n",
            "7\n",
            "[11]\n",
            "8\n",
            "[16]\n",
            "9\n",
            "[12]\n",
            "10\n",
            "[17]\n",
            "11\n",
            "[15]\n",
            "12\n",
            "[3]\n",
            "13\n",
            "[9]\n",
            "14\n",
            "[7]\n",
            "15\n",
            "[16]\n",
            "16\n",
            "[9]\n",
            "17\n",
            "[5]\n",
            "18\n",
            "[3]\n",
            "19\n",
            "[11]\n",
            "20\n",
            "[]\n",
            "21\n",
            "[5]\n",
            "22\n",
            "[9]\n",
            "23\n",
            "[3]\n",
            "24\n",
            "[11]\n",
            "25\n",
            "[9]\n",
            "26\n",
            "[0]\n",
            "27\n",
            "[14]\n",
            "28\n",
            "[]\n",
            "29\n",
            "[14]\n",
            "30\n",
            "[8]\n",
            "31\n",
            "[13]\n",
            "32\n",
            "[2]\n",
            "33\n",
            "[7]\n",
            "34\n",
            "[7]\n",
            "35\n",
            "[4]\n",
            "36\n",
            "[0]\n",
            "37\n",
            "[7]\n",
            "38\n",
            "[9]\n",
            "39\n",
            "[8]\n",
            "40\n",
            "[13]\n",
            "41\n",
            "[6]\n",
            "42\n",
            "[0]\n",
            "43\n",
            "[8]\n",
            "44\n",
            "[15]\n",
            "45\n",
            "[5]\n",
            "46\n",
            "[3]\n",
            "47\n",
            "[2]\n",
            "48\n",
            "[7]\n",
            "49\n",
            "[4]\n",
            "50\n",
            "[5]\n",
            "51\n",
            "[2]\n",
            "52\n",
            "[5]\n",
            "53\n",
            "[17]\n",
            "54\n",
            "[9]\n",
            "55\n",
            "[3]\n",
            "56\n",
            "[7]\n",
            "57\n",
            "[9]\n",
            "58\n",
            "[13]\n",
            "59\n",
            "[2]\n",
            "60\n",
            "[5]\n",
            "61\n",
            "[4]\n",
            "62\n",
            "[5]\n",
            "63\n",
            "[4]\n",
            "64\n",
            "[9]\n",
            "65\n",
            "[14]\n",
            "66\n",
            "[15]\n",
            "67\n",
            "[0]\n",
            "68\n",
            "[2]\n",
            "69\n",
            "[15]\n",
            "70\n",
            "[15]\n",
            "71\n",
            "[19]\n",
            "72\n",
            "[9]\n",
            "73\n",
            "[0]\n",
            "74\n",
            "[5]\n",
            "75\n",
            "[12]\n",
            "76\n",
            "[2]\n",
            "77\n",
            "[2]\n",
            "78\n",
            "[7]\n",
            "79\n",
            "[19]\n",
            "80\n",
            "[17]\n",
            "81\n",
            "[15]\n",
            "82\n",
            "[12]\n",
            "83\n",
            "[15]\n",
            "84\n",
            "[13]\n",
            "85\n",
            "[7]\n",
            "86\n",
            "[14]\n",
            "87\n",
            "[14]\n",
            "88\n",
            "[4]\n",
            "89\n",
            "[11]\n",
            "90\n",
            "[9]\n",
            "91\n",
            "[14]\n",
            "92\n",
            "[16]\n",
            "93\n",
            "[5]\n",
            "94\n",
            "[2]\n",
            "95\n",
            "[16]\n",
            "96\n",
            "[7]\n",
            "97\n",
            "[15]\n",
            "98\n",
            "[5]\n",
            "99\n",
            "[8]\n",
            "100\n",
            "[7]\n",
            "101\n",
            "[14]\n",
            "102\n",
            "[12]\n",
            "103\n",
            "[12]\n",
            "104\n",
            "[8]\n",
            "105\n",
            "[3]\n",
            "106\n",
            "[5]\n",
            "107\n",
            "[3]\n",
            "108\n",
            "[14]\n",
            "109\n",
            "[19]\n",
            "110\n",
            "[4]\n",
            "111\n",
            "[0]\n",
            "112\n",
            "[9]\n",
            "113\n",
            "[9]\n",
            "114\n",
            "[8]\n",
            "115\n",
            "[17]\n",
            "116\n",
            "[11]\n",
            "117\n",
            "[3]\n",
            "118\n",
            "[17]\n",
            "119\n",
            "[11]\n",
            "120\n",
            "[4]\n",
            "121\n",
            "[2]\n",
            "122\n",
            "[8]\n",
            "123\n",
            "[12]\n",
            "124\n",
            "[3]\n",
            "125\n",
            "[11]\n",
            "126\n",
            "[0]\n",
            "127\n",
            "[14]\n",
            "128\n",
            "[11]\n",
            "129\n",
            "[8]\n",
            "[ 0 12 10 17  4 10  9 12 17 13 18 16  4 10  8 17 10  6  4 12  0  6 10  4\n",
            " 12 10  1 15  0 15  9 14  3  8  8  5  1  8 10  9 14  7  1  9 16  6  4  3\n",
            "  8  5  6  3  6 18 10  4  8 10 14  3  6  5  6  5 10 15 16  1  3 16 16 20\n",
            " 10  1  6 13  3  3  8 20 18 16 13 16 14  8 15 15  5 12 10 15 17  6  3 17\n",
            "  8 16  6  9  8 15 13 13  9  4  6  4 15 20  5  1 10 10  9 18 12  4 18 12\n",
            "  5  3  9 13  4 12  1 15 12  9]\n"
          ]
        }
      ]
    },
    {
      "cell_type": "code",
      "source": [
        "print(np.where(reco_0_v2[0,0:20]==1)[0])\n",
        "print(np.where(reco_0_v2[1,0:20]==1)[0])"
      ],
      "metadata": {
        "colab": {
          "base_uri": "https://localhost:8080/"
        },
        "id": "WTyhizHl5vY9",
        "outputId": "140fa43d-8559-4135-c488-6f9fd154381a"
      },
      "execution_count": 17,
      "outputs": [
        {
          "output_type": "stream",
          "name": "stdout",
          "text": [
            "[]\n",
            "[11]\n"
          ]
        }
      ]
    },
    {
      "cell_type": "code",
      "source": [
        "# function to extract the amino acids\n",
        "def read_AA_from_sparse_coding(reco_0_v2):\n",
        "  # print(reco_0_v2[:,50])\n",
        "  aa_index_list = np.where(reco_0_v2[:,50]==1)[0]\n",
        "  # print(aa_index_list)\n",
        "  # n_aa = aa_index_list.shape[0]\n",
        "  n_aa = np.amax(aa_index_list)+1\n",
        "  # print(n_aa)\n",
        "  aa_list = np.zeros(n_aa, dtype=int)\n",
        "  # print(aa_list)\n",
        "  for i in range(n_aa):\n",
        "    i_aa = aa_index_list[i]\n",
        "    # print(i_aa)\n",
        "    id = np.where(reco_0_v2[i_aa,0:20]==1)[0]\n",
        "    if len(id)==1:\n",
        "      aa_list[i_aa] = id+1\n",
        "  # print(aa_list)  \n",
        "  return aa_list, n_aa"
      ],
      "metadata": {
        "id": "zJqMPS96cfeQ"
      },
      "execution_count": 19,
      "outputs": []
    },
    {
      "cell_type": "code",
      "source": [
        "aa_list,n_aa = read_AA_from_sparse_coding(reco_0_v2)\n",
        "print(n_aa)\n",
        "print(aa_list)"
      ],
      "metadata": {
        "colab": {
          "base_uri": "https://localhost:8080/"
        },
        "id": "MlUg5hHRhvbp",
        "outputId": "7e467b8d-6335-49d6-ef13-51f80ba61b92"
      },
      "execution_count": 20,
      "outputs": [
        {
          "output_type": "stream",
          "name": "stdout",
          "text": [
            "130\n",
            "[ 0 12 10 17  4 10  9 12 17 13 18 16  4 10  8 17 10  6  4 12  0  6 10  4\n",
            " 12 10  1 15  0 15  9 14  3  8  8  5  1  8 10  9 14  7  1  9 16  6  4  3\n",
            "  8  5  6  3  6 18 10  4  8 10 14  3  6  5  6  5 10 15 16  1  3 16 16 20\n",
            " 10  1  6 13  3  3  8 20 18 16 13 16 14  8 15 15  5 12 10 15 17  6  3 17\n",
            "  8 16  6  9  8 15 13 13  9  4  6  4 15 20  5  1 10 10  9 18 12  4 18 12\n",
            "  5  3  9 13  4 12  1 15 12  9]\n"
          ]
        }
      ]
    },
    {
      "cell_type": "code",
      "source": [
        "print( reco_0_v2[:,51] )\n",
        "# not sure the meaning\n",
        "print( len(np.where(reco_0_v2[:,52]==1)[0]) )"
      ],
      "metadata": {
        "colab": {
          "base_uri": "https://localhost:8080/"
        },
        "id": "RaPbmWEikGp7",
        "outputId": "85670914-6d69-4440-d32b-dd72be0ada18"
      },
      "execution_count": null,
      "outputs": [
        {
          "output_type": "stream",
          "name": "stdout",
          "text": [
            "[0. 0. 0. ... 0. 0. 0.]\n",
            "330\n"
          ]
        }
      ]
    },
    {
      "cell_type": "code",
      "source": [
        "print(reco_0_v2[0,57:65])\n",
        "print(len(reco_0_v2[0,57:65]))\n",
        "print(reco_0_v2[10,65:67])\n",
        "print(reco_0_v2[10,65])\n",
        "print(reco_0_v2[10,66])\n",
        "# print(reco_0_v2[:,54])"
      ],
      "metadata": {
        "colab": {
          "base_uri": "https://localhost:8080/"
        },
        "id": "meFNKsmWl1_u",
        "outputId": "0946e8ca-6236-46ee-8e62-f65a0867c3f9"
      },
      "execution_count": null,
      "outputs": [
        {
          "output_type": "stream",
          "name": "stdout",
          "text": [
            "[0. 0. 0. 0. 0. 0. 0. 1.]\n",
            "8\n",
            "[-52.9 -57.3]\n",
            "-52.9\n",
            "-57.3\n"
          ]
        }
      ]
    },
    {
      "cell_type": "code",
      "source": [
        ""
      ],
      "metadata": {
        "colab": {
          "base_uri": "https://localhost:8080/"
        },
        "id": "EBGILIMmx8ws",
        "outputId": "4536cadc-1c06-4184-abea-5c661753c976"
      },
      "execution_count": null,
      "outputs": [
        {
          "output_type": "stream",
          "name": "stdout",
          "text": [
            "19\n",
            "[ 1  3  4  5  6  7  8  9 10 11 12 13 14 15 16 17 18 19 20]\n"
          ]
        }
      ]
    },
    {
      "cell_type": "code",
      "source": [
        "# need the code of AA\n",
        "print(len(np.unique(aa_list)))\n",
        "print(np.unique(aa_list))"
      ],
      "metadata": {
        "colab": {
          "base_uri": "https://localhost:8080/"
        },
        "id": "WNGc1385ySqJ",
        "outputId": "7128cb88-9c7a-44b5-c6ac-528a0b2a3cb2"
      },
      "execution_count": null,
      "outputs": [
        {
          "output_type": "stream",
          "name": "stdout",
          "text": [
            "19\n",
            "[ 1  3  4  5  6  7  8  9 10 11 12 13 14 15 16 17 18 19 20]\n",
            "['M' 'K' 'T' 'A' 'Y' 'I' 'A' 'K' 'Q' 'R' 'Q' 'I' 'S' 'F' 'V' 'K' 'S' 'H'\n",
            " 'F' 'S' 'R' 'Q' 'L' 'E' 'E' 'R' 'L' 'G' 'L' 'I' 'E' 'V' 'Q' 'A' 'P' 'I'\n",
            " 'L' 'S' 'R' 'V' 'G' 'D' 'G' 'T' 'Q' 'D' 'N' 'L' 'S' 'G' 'A' 'E' 'K' 'A'\n",
            " 'V' 'Q' 'V' 'K' 'V' 'K' 'A' 'L' 'P' 'D' 'A' 'Q' 'F' 'E' 'V' 'V' 'H' 'S'\n",
            " 'L' 'A' 'K' 'W' 'K' 'R' 'Q' 'T' 'L' 'G' 'Q' 'H' 'D' 'F' 'S' 'A' 'G' 'E'\n",
            " 'G' 'L' 'Y' 'T' 'H' 'M' 'K' 'A' 'L' 'R' 'P' 'D' 'E' 'D' 'R' 'L' 'S' 'P'\n",
            " 'L' 'H' 'S' 'V' 'Y' 'V' 'D' 'Q' 'W' 'D' 'W' 'E' 'R' 'V' 'M' 'G' 'D' 'G'\n",
            " 'E' 'R' 'Q' 'F' 'S' 'T' 'L' 'K' 'S' 'T' 'V' 'E' 'A' 'I' 'W' 'A' 'G' 'I'\n",
            " 'K' 'A' 'T' 'E' 'A' 'A' 'V' 'S' 'E' 'E' 'F' 'G' 'L' 'A' 'P' 'F' 'L' 'P'\n",
            " 'D' 'Q' 'I' 'H' 'F' 'V' 'H' 'S' 'Q' 'E' 'L' 'L' 'S' 'R' 'Y' 'P' 'D' 'L'\n",
            " 'D' 'A' 'K' 'G' 'R' 'E' 'R' 'A' 'I' 'A' 'K' 'D' 'L' 'G' 'A' 'V' 'F' 'L'\n",
            " 'V' 'G' 'I' 'G' 'G' 'K' 'L' 'S' 'D' 'G' 'H' 'R' 'H' 'D' 'V' 'R' 'A' 'P'\n",
            " 'D' 'Y' 'D' 'D' 'W' 'S' 'T' 'P' 'S' 'E' 'L' 'G' 'H' 'A' 'G' 'L' 'N' 'G'\n",
            " 'D' 'I' 'L' 'V' 'W' 'N' 'P' 'V' 'L' 'E' 'D' 'A' 'F' 'E' 'L' 'S' 'S' 'M'\n",
            " 'G' 'I' 'R' 'V' 'D' 'A' 'D' 'T' 'L' 'K' 'H' 'Q' 'L' 'A' 'L' 'T' 'G' 'D'\n",
            " 'E' 'D' 'R' 'L' 'E' 'L' 'E' 'W' 'H' 'Q' 'A' 'L' 'L' 'R' 'G' 'E' 'M' 'P'\n",
            " 'Q' 'T' 'I' 'G' 'G' 'G' 'I' 'G' 'Q' 'S' 'R' 'L' 'T' 'M' 'L' 'L' 'L' 'Q'\n",
            " 'L' 'P' 'H' 'I' 'G' 'Q' 'V' 'Q' 'A' 'G' 'V' 'W' 'P' 'A' 'A' 'V' 'R' 'E'\n",
            " 'S' 'V' 'P' 'S' 'L' 'L']\n",
            "['A' 'D' 'E' 'F' 'G' 'H' 'I' 'K' 'L' 'M' 'N' 'P' 'Q' 'R' 'S' 'T' 'V' 'W'\n",
            " 'Y']\n"
          ]
        }
      ]
    },
    {
      "cell_type": "code",
      "source": [
        "aa_name_reco_0_v2=np.array(list('MKTAYIAKQRQISFVKSHFSRQLEERLGLIEVQAPILSRVGDGTQDNLSGAEKAVQVKVKALPDAQFEVVHSLAKWKRQTLGQHDFSAGEGLYTHMKALRPDEDRLSPLHSVYVDQWDWERVMGDGERQFSTLKSTVEAIWAGIKATEAAVSEEFGLAPFLPDQIHFVHSQELLSRYPDLDAKGRERAIAKDLGAVFLVGIGGKLSDGHRHDVRAPDYDDWSTPSELGHAGLNGDILVWNPVLEDAFELSSMGIRVDADTLKHQLALTGDEDRLELEWHQALLRGEMPQTIGGGIGQSRLTMLLLQLPHIGQVQAGVWPAAVRESVPSLL'))\n",
        "# print(aa_name_reco_0_v2)\n",
        "print(np.unique(aa_name_reco_0_v2))"
      ],
      "metadata": {
        "colab": {
          "base_uri": "https://localhost:8080/"
        },
        "id": "z5MIDd9c0sKp",
        "outputId": "8f72098a-1558-485b-fc99-e4567cc4940d"
      },
      "execution_count": null,
      "outputs": [
        {
          "output_type": "stream",
          "name": "stdout",
          "text": [
            "['A' 'D' 'E' 'F' 'G' 'H' 'I' 'K' 'L' 'M' 'N' 'P' 'Q' 'R' 'S' 'T' 'V' 'W'\n",
            " 'Y']\n"
          ]
        }
      ]
    },
    {
      "cell_type": "code",
      "source": [
        "aa_list,n_aa = read_AA_from_sparse_coding(reco_1_v2)\n",
        "print(len(np.unique(aa_list)))\n",
        "print(np.unique(aa_list))"
      ],
      "metadata": {
        "colab": {
          "base_uri": "https://localhost:8080/"
        },
        "id": "au6m8Mym0ySm",
        "outputId": "af760121-f711-4672-8913-edbdde0e4ebd"
      },
      "execution_count": null,
      "outputs": [
        {
          "output_type": "stream",
          "name": "stdout",
          "text": [
            "20\n",
            "[ 1  2  3  4  5  6  7  8  9 10 11 12 13 14 15 16 17 18 19 20]\n"
          ]
        }
      ]
    },
    {
      "cell_type": "code",
      "source": [
        "aa_name_reco_1_v2=np.array(list('SRMPSPPMPVPPAALFNRLLDDLGFSAGPALCTMLDTWNEDLFSALPTNADLYRECKFLSTLPSDVVEWGDAYVPERTQIDIRAHGDVAFPTLPATRDGLGLYYEALSRFFHAELRAREESYRTVLANFCSALYRYLRASVRQLHRQAHMRGRDRDLGEMLRATIADRYYRETARLARVLFLHLYLFLTREILWAAYAEQMMRPDLFDCLCCDLESWRQLAGLFQPFMFVNGALTVRGVPIEARRLRELNHIREHLNLPLVRSAATEEPGAPLTTPPTLHGNQARASGYFMVLIRAKLDSYSSFTTSPSEAVMREHAYSRAPTKNNYGSTIEGLLDLPDDDAPEEAGLAAPRLSFLPAGHTRRLST'))\n",
        "# print(aa_name_reco_0_v2)\n",
        "print(\"\".join(np.unique(aa_name_reco_1_v2)))"
      ],
      "metadata": {
        "colab": {
          "base_uri": "https://localhost:8080/"
        },
        "id": "1BkpGtnv09QT",
        "outputId": "4748079f-4650-4ec0-a191-5e698c248f63"
      },
      "execution_count": null,
      "outputs": [
        {
          "output_type": "stream",
          "name": "stdout",
          "text": [
            "ACDEFGHIKLMNPQRSTVWY\n"
          ]
        }
      ]
    },
    {
      "cell_type": "code",
      "source": [
        "# function to extract the amino acids\n",
        "def read_info_from_sparse_coding(reco_0_v2):\n",
        "  # print(reco_0_v2[:,50])\n",
        "  aa_index_list = np.where(reco_0_v2[:,50]==1)[0]\n",
        "  # print(aa_index_list)\n",
        "  # n_aa = aa_index_list.shape[0]\n",
        "  n_aa = np.amax(aa_index_list)+1\n",
        "  # print(n_aa)\n",
        "  aa_list = np.zeros(n_aa, dtype=int)\n",
        "  ss_list = np.zeros(n_aa, dtype=int)\n",
        "  phi_list = np.zeros(n_aa)\n",
        "  psi_list = np.zeros(n_aa)\n",
        "  # print(aa_list)\n",
        "  for i in range(n_aa):\n",
        "    i_aa = aa_index_list[i]\n",
        "    # print(i_aa)\n",
        "    id = np.where(reco_0_v2[i_aa,0:20]==1)[0]\n",
        "    if len(id)==1:\n",
        "      aa_list[i_aa] = id+1\n",
        "    id = np.where(reco_0_v2[i_aa,57:65]==1)[0]\n",
        "    if len(id)==1:\n",
        "      ss_list[i_aa] = id+1\n",
        "      \n",
        "    phi_list[i_aa] = reco_0_v2[i_aa,65]\n",
        "    psi_list[i_aa] = reco_0_v2[i_aa,66]\n",
        "  # print(aa_list)  \n",
        "  return n_aa,aa_list,ss_list,phi_list,psi_list"
      ],
      "metadata": {
        "id": "AlOs1i8UoI80"
      },
      "execution_count": 21,
      "outputs": []
    },
    {
      "cell_type": "code",
      "source": [
        "n_aa,aa_list,ss_list,phi_list,psi_list = read_info_from_sparse_coding(reco_0_v2)"
      ],
      "metadata": {
        "id": "4TkjDPtxqPco"
      },
      "execution_count": 22,
      "outputs": []
    },
    {
      "cell_type": "code",
      "source": [
        "print(n_aa)\n",
        "print(aa_list)\n",
        "print(ss_list)\n",
        "print(phi_list)\n",
        "print(psi_list)"
      ],
      "metadata": {
        "colab": {
          "base_uri": "https://localhost:8080/"
        },
        "id": "vUOqpBAmqrPQ",
        "outputId": "ee16f975-d708-49a3-e672-6cd382e35ef8"
      },
      "execution_count": 23,
      "outputs": [
        {
          "output_type": "stream",
          "name": "stdout",
          "text": [
            "130\n",
            "[ 0 12 10 17  4 10  9 12 17 13 18 16  4 10  8 17 10  6  4 12  0  6 10  4\n",
            " 12 10  1 15  0 15  9 14  3  8  8  5  1  8 10  9 14  7  1  9 16  6  4  3\n",
            "  8  5  6  3  6 18 10  4  8 10 14  3  6  5  6  5 10 15 16  1  3 16 16 20\n",
            " 10  1  6 13  3  3  8 20 18 16 13 16 14  8 15 15  5 12 10 15 17  6  3 17\n",
            "  8 16  6  9  8 15 13 13  9  4  6  4 15 20  5  1 10 10  9 18 12  4 18 12\n",
            "  5  3  9 13  4 12  1 15 12  9]\n",
            "[8 4 2 2 2 2 2 7 6 8 2 2 2 2 2 2 2 2 2 7 7 7 8 8 8 8 7 7 6 8 2 2 2 2 2 2 2\n",
            " 2 2 2 2 2 2 2 7 7 8 8 5 5 5 5 5 5 5 5 5 8 7 7 6 8 5 5 5 5 8 1 1 1 7 7 8 8\n",
            " 8 7 7 8 5 5 5 8 2 2 2 2 2 2 7 7 8 8 7 7 8 5 5 5 5 5 5 5 8 8 8 7 7 8 8 6 5\n",
            " 5 5 5 5 5 5 5 5 7 7 4 8 8 8 8 8 8 8 8]\n",
            "[ 360.  -134.2  -56.5  -65.1  -62.3  -62.3  -60.4  -93.9  -99.6  -57.6\n",
            "  -57.1  -61.6  -73.6  -67.8  -60.8  -60.   -55.8  -68.8  -60.3  -63.9\n",
            " -113.5   84.7 -104.1 -135.7   48.1  -75.8  -48.1  -79.   -93.1  -70.6\n",
            "  -51.4  -60.6  -76.1  -66.5  -60.1  -58.9  -58.7  -64.3  -62.1  -63.6\n",
            "  -63.4  -62.   -61.6  -62.4  -82.7   86.6  -93.3  -72.4 -131.8 -119.6\n",
            " -155.9 -159.1  167.9  -95.6  -81.2 -134.   -88.4  -89.8  -51.2  -57.6\n",
            "  103.9 -100.2 -136.  -145.3  -99.6 -118.6  -56.5  -62.   -78.7  -76.2\n",
            "   55.1   84.5  -81.1  -70.2 -151.2  -62.5  -90.5  -61.6  -97.2  -71.2\n",
            " -123.6  -76.4  -60.3  -69.4  -70.8  -64.6  -70.4  -53.4 -113.6   43.\n",
            "  -73.  -129.3  -59.    97.1  -73.7  -98.2 -125.5 -144.   169.8  -80.4\n",
            " -126.8 -130.8  -74.4  -64.4  -88.9  -59.9  100.8  -73.6 -111.5 -111.2\n",
            "  -73.5 -122.8  -69.8  -95.9 -142.7  -82.7  -95.6 -142.8 -124.2   53.8\n",
            "   59.8 -125.9  -61.5  -54.4 -117.9    0.     0.     0.     0.     0. ]\n",
            "[ 136.6  150.2  -47.7  -35.1  -47.2  -41.   -29.     9.5  135.1  145.2\n",
            "  -41.6  -33.2  -35.6  -37.6  -46.   -51.5  -41.6  -42.4  -43.2  -11.3\n",
            "   20.8   19.1  156.5  177.1   37.3  -39.7  -36.6   -9.6  161.7  153.4\n",
            "  -45.3  -31.9  -32.5  -47.1  -42.8  -47.6  -45.2  -48.6  -40.1  -44.6\n",
            "  -44.   -47.7  -38.5  -24.3    2.2    9.3  146.8  147.5  141.4  164.4\n",
            "  168.7  166.   179.9  127.3  138.6  116.6  124.8  179.8  -53.5  -12.6\n",
            "  -12.   169.6 -174.6  146.5  125.1  154.4  144.3  -33.2   -7.8  -13.5\n",
            "   25.7   17.8  134.5  146.6  163.   -30.6   14.6  140.4  122.1  134.2\n",
            "  123.3  157.   -32.6  -35.7  -36.8  -43.4  -42.9  -42.2   18.5   56.6\n",
            "  149.7  146.   138.5  -10.8  145.2  128.   145.4  148.  -168.2  141.1\n",
            "  165.5  150.1  153.6  146.9 -178.3  117.1  -21.   154.2  -40.   157.3\n",
            "  147.9  147.6  125.1  -45.1  130.1  115.6  -40.9  142.6  120.2   47.2\n",
            "   15.3  165.4  139.3   14.2  360.     0.     0.     0.     0.     0. ]\n"
          ]
        }
      ]
    },
    {
      "cell_type": "code",
      "source": [
        "AA_Dict = np.array(list('ARNDBCEQZGHILKMFPSTWYV'))\n",
        "AA_Dict = np.array(list('ABDEFGHIKLMNPQRSTVWY'))\n",
        "AA_Dict = np.array(list('ACDEFGHIKLMNPQRSTVWY'))\n",
        "\n",
        "print(AA_Dict)\n",
        "print(AA_Dict.shape)\n",
        "print(AA_Dict[[1,2]])"
      ],
      "metadata": {
        "colab": {
          "base_uri": "https://localhost:8080/"
        },
        "id": "8UHMZErstq3s",
        "outputId": "61441080-1e6e-40db-bcd7-0b850152e2f6"
      },
      "execution_count": null,
      "outputs": [
        {
          "output_type": "stream",
          "name": "stdout",
          "text": [
            "['A' 'C' 'D' 'E' 'F' 'G' 'H' 'I' 'K' 'L' 'M' 'N' 'P' 'Q' 'R' 'S' 'T' 'V'\n",
            " 'W' 'Y']\n",
            "(20,)\n",
            "['C' 'D']\n"
          ]
        }
      ]
    },
    {
      "cell_type": "code",
      "source": [
        "# only need to consider 20 AA according to the web\n",
        "# how to handle other AA?"
      ],
      "metadata": {
        "id": "Q-RliN702Huu"
      },
      "execution_count": null,
      "outputs": []
    },
    {
      "cell_type": "code",
      "source": [
        "# translate num to code\n",
        "# n_aa,aa_list,ss_list,phi_list,psi_list\n",
        "def translate_AA_to_print(aa_list):\n",
        "  # AA_Dict = np.array(list('ACDEFGHIKLMNPQRSTVWY'))\n",
        "  # aa_name_list=AA_Dict[aa_list-1]\n",
        "\n",
        "  # to be save with 0 position problem: mark it as X\n",
        "  AA_Dict = np.array(list('XACDEFGHIKLMNPQRSTVWY'))\n",
        "  aa_name_list=AA_Dict[aa_list]\n",
        "  return aa_name_list"
      ],
      "metadata": {
        "id": "x5xFbvT_tCRt"
      },
      "execution_count": 24,
      "outputs": []
    },
    {
      "cell_type": "code",
      "source": [
        "print(aa_list)\n",
        "print(translate_AA_to_print(aa_list))\n",
        "print(\"\".join(translate_AA_to_print(aa_list)))"
      ],
      "metadata": {
        "colab": {
          "base_uri": "https://localhost:8080/"
        },
        "id": "HEV6q8UJuxtW",
        "outputId": "20a962d7-f6d6-45a8-bc69-239667637b6b"
      },
      "execution_count": 25,
      "outputs": [
        {
          "output_type": "stream",
          "name": "stdout",
          "text": [
            "[ 0 12 10 17  4 10  9 12 17 13 18 16  4 10  8 17 10  6  4 12  0  6 10  4\n",
            " 12 10  1 15  0 15  9 14  3  8  8  5  1  8 10  9 14  7  1  9 16  6  4  3\n",
            "  8  5  6  3  6 18 10  4  8 10 14  3  6  5  6  5 10 15 16  1  3 16 16 20\n",
            " 10  1  6 13  3  3  8 20 18 16 13 16 14  8 15 15  5 12 10 15 17  6  3 17\n",
            "  8 16  6  9  8 15 13 13  9  4  6  4 15 20  5  1 10 10  9 18 12  4 18 12\n",
            "  5  3  9 13  4 12  1 15 12  9]\n",
            "['X' 'N' 'L' 'T' 'E' 'L' 'K' 'N' 'T' 'P' 'V' 'S' 'E' 'L' 'I' 'T' 'L' 'G'\n",
            " 'E' 'N' 'X' 'G' 'L' 'E' 'N' 'L' 'A' 'R' 'X' 'R' 'K' 'Q' 'D' 'I' 'I' 'F'\n",
            " 'A' 'I' 'L' 'K' 'Q' 'H' 'A' 'K' 'S' 'G' 'E' 'D' 'I' 'F' 'G' 'D' 'G' 'V'\n",
            " 'L' 'E' 'I' 'L' 'Q' 'D' 'G' 'F' 'G' 'F' 'L' 'R' 'S' 'A' 'D' 'S' 'S' 'Y'\n",
            " 'L' 'A' 'G' 'P' 'D' 'D' 'I' 'Y' 'V' 'S' 'P' 'S' 'Q' 'I' 'R' 'R' 'F' 'N'\n",
            " 'L' 'R' 'T' 'G' 'D' 'T' 'I' 'S' 'G' 'K' 'I' 'R' 'P' 'P' 'K' 'E' 'G' 'E'\n",
            " 'R' 'Y' 'F' 'A' 'L' 'L' 'K' 'V' 'N' 'E' 'V' 'N' 'F' 'D' 'K' 'P' 'E' 'N'\n",
            " 'A' 'R' 'N' 'K']\n",
            "XNLTELKNTPVSELITLGENXGLENLARXRKQDIIFAILKQHAKSGEDIFGDGVLEILQDGFGFLRSADSSYLAGPDDIYVSPSQIRRFNLRTGDTISGKIRPPKEGERYFALLKVNEVNFDKPENARNK\n"
          ]
        }
      ]
    },
    {
      "cell_type": "code",
      "source": [
        "n_aa_0,aa_list_0,ss_list_0,phi_list_0,psi_list_0 = read_info_from_sparse_coding(reco_0_v2)\n",
        "n_aa_1,aa_list_1,ss_list_1,phi_list_1,psi_list_1 = read_info_from_sparse_coding(reco_1_v2)"
      ],
      "metadata": {
        "id": "BJMMtJ3s3qk7"
      },
      "execution_count": null,
      "outputs": []
    },
    {
      "cell_type": "code",
      "source": [
        "print(np.unique(ss_list_0))"
      ],
      "metadata": {
        "colab": {
          "base_uri": "https://localhost:8080/"
        },
        "id": "ti2y0Ken4Krp",
        "outputId": "57752108-74ac-478a-8f5a-5dd5086858bc"
      },
      "execution_count": null,
      "outputs": [
        {
          "output_type": "stream",
          "name": "stdout",
          "text": [
            "[1 2 4 5 6 7 8]\n"
          ]
        }
      ]
    },
    {
      "cell_type": "code",
      "source": [
        "def translate_SS_to_print(ss_list):\n",
        "  # AA_Dict = np.array(list('ACDEFGHIKLMNPQRSTVWY'))\n",
        "  # aa_name_list=AA_Dict[aa_list-1]\n",
        "\n",
        "  # to be save with 0 position problem: mark it as X\n",
        "  SS_Dict = np.array(list('XGHIBESTC'))\n",
        "  ss_name_list=SS_Dict[ss_list]\n",
        "  return ss_name_list"
      ],
      "metadata": {
        "id": "na99-0KR3lD0"
      },
      "execution_count": null,
      "outputs": []
    },
    {
      "cell_type": "code",
      "source": [
        "print(ss_list_0)\n",
        "print(\"\".join(translate_SS_to_print(ss_list_0)))\n",
        "print(ss_list_1.shape)\n",
        "print(\"\".join(translate_SS_to_print(ss_list_1)))"
      ],
      "metadata": {
        "colab": {
          "base_uri": "https://localhost:8080/"
        },
        "id": "6MpB3PWQ4Y-G",
        "outputId": "eee14ac6-aede-4a9f-9ede-ce438d891222"
      },
      "execution_count": null,
      "outputs": [
        {
          "output_type": "stream",
          "name": "stdout",
          "text": [
            "[8 8 8 8 2 2 2 2 2 2 2 2 2 2 2 2 2 2 2 2 2 2 2 2 2 2 2 8 5 5 5 8 8 8 8 6 5\n",
            " 5 5 7 7 6 6 8 6 8 8 7 7 7 7 8 8 8 8 5 5 8 8 6 6 6 7 7 8 8 5 5 5 8 6 8 8 7\n",
            " 7 2 2 2 2 2 2 2 2 7 7 8 8 7 7 8 5 5 5 5 5 5 5 5 5 8 7 7 8 6 8 8 8 6 6 8 8\n",
            " 6 5 5 5 5 5 5 5 5 5 5 8 8 7 7 8 8 6 2 2 2 2 2 2 2 2 2 2 2 2 2 2 2 2 2 2 2\n",
            " 2 2 2 2 2 2 6 8 8 8 8 8 6 8 6 6 8 5 5 5 5 2 2 2 2 2 2 2 6 6 6 6 8 2 2 2 2\n",
            " 2 2 2 2 2 2 2 2 6 5 5 5 5 5 8 8 6 6 8 8 6 6 6 8 8 6 6 8 8 8 7 7 7 4 8 8 6\n",
            " 6 4 8 7 7 6 6 4 8 6 5 5 5 5 5 5 5 5 7 7 7 7 5 5 5 5 5 5 5 5 5 5 4 8 8 2 2\n",
            " 2 2 2 2 2 2 2 2 2 7 8 7 7 1 1 1 6 2 2 2 2 2 2 2 7 7 8 6 8 8 5 5 5 5 5 5 5\n",
            " 2 2 2 2 2 2 2 2 2 7 8 6 8 1 1 1 7 6 8 8 8 8 8 2 2 2 2 2 2 8 8 6 8 8]\n",
            "CCCCHHHHHHHHHHHHHHHHHHHHHHHCEEECCCCSEEETTSSCSCCTTTTCCCCEECCSSSTTCCEEECSCCTTHHHHHHHHTTCCTTCEEEEEEEEECTTCSCCCSSCCSEEEEEEEEEECCTTCCSHHHHHHHHHHHHHHHHHHHHHHHHHSCCCCCSCSSCEEEEHHHHHHHSSSSCHHHHHHHHHHHHSEEEEECCSSCCSSSCCSSCCCTTTBCCSSBCTTSSBCSEEEEEEEETTTTEEEEEEEEEEBCCHHHHHHHHHHHTCTTGGGSHHHHHHHTTCSCCEEEEEEEHHHHHHHHHTCSCGGGTSCCCCCHHHHHHCCSCC\n",
            "(366,)\n",
            "CCSCCCCCCCCHHHHHHHHHHHHTCTTHHHHHHHHHHCCCCCSTTSCCCGGGGTTCGGGCSCHHHHHHHHHHCCCCCSSCCTTCCCSSCCCCCCSSGGGHHHHHHHHHHHHHHHHHHHHHHHHHHHHHHHHHHHHHHHHHHHHHHHHHHHTTCCCCHHHHHHHHIIIIIHHHHHHHHHHHHHHHHHHHHHHHHHHHHHHHHTCHHHHTTEEEEESCSHHHHSSCCSCSBCCSEEEETTEECCHHHHHHHHHHHHHTTCCCCBCTTTSCTTSCSCCCCCCCTTSCCHHHHHHHHHHHHHTSTTCCCCCCCCCCCCCCCCCCCCCCCCCCCCCCCCCCCCCCCCCCCCCCCCCEEEECCCCCCCCCCC\n"
          ]
        }
      ]
    },
    {
      "cell_type": "code",
      "source": [
        "print( phi_list_0 )\n",
        "print( aa_list_0 )\n",
        "\" \".join(str(x) for x in phi_list_0)\n",
        "# np.fromstring(phi_list_0, dtype=int)\n",
        "#print(\"\".join(phi_list_0.tostring()))"
      ],
      "metadata": {
        "colab": {
          "base_uri": "https://localhost:8080/",
          "height": 1000
        },
        "id": "D7YCJ_dtKITG",
        "outputId": "e431f21b-c644-41aa-f09e-54295a5112f0"
      },
      "execution_count": null,
      "outputs": [
        {
          "output_type": "stream",
          "name": "stdout",
          "text": [
            "[   0.     0.     0.   360.   -41.6  -55.5  -54.4  -54.3  -61.4  -86.1\n",
            "  -52.9  -53.8  -55.7  -64.6  -61.1  -62.5  -80.5  -53.4  -67.3  -57.8\n",
            "  -70.4  -59.1  -75.1  -74.7  -87.6  -75.4 -123.5   61.8 -104.2 -102.2\n",
            "  -76.6 -124.3  -73.8  -87.   -63.3 -128.7 -106.8 -148.5  -81.   -70.7\n",
            "  107.3 -106.1   71.2  -95.3 -101.8  -72.7  -89.3   64.6  -65.7   82.1\n",
            " -102.3  -97.2  -70.1  -95.3  -71.1  -77.3 -113.   -99.   -88.   -77.6\n",
            "  -73.5 -123.1  -72.8 -107.8 -120.2 -113.4 -135.  -136.4  -83.1  -79.2\n",
            "  -83.3  176.6  -90.2  -36.5  -92.4  -51.8  -73.1  -73.1  -63.2  -66.\n",
            "  -71.9  -64.2  -67.5  -95.    61.6  -68.2  -94.8  -84.5   96.1 -117.9\n",
            " -147.2 -123.9 -143.  -126.8  -90.1  -75.3 -112.8 -150.4 -111.4 -126.6\n",
            "  -75.4 -110.4  -52.9  -89.7 -129.4  -71.2 -157.5  -52.9 -114.6 -101.5\n",
            " -114.   -76.5  -93.3 -106.7 -115.9 -150.6  -72.5  -95.7 -129.1 -149.5\n",
            " -140.9  -78.3  -96.3 -109.3  -60.5   76.5  -99.7  -80.5 -157.7  -62.5\n",
            "  -56.1  -72.   -66.8  -55.2  -71.9  -56.7  -57.5  -77.1  -62.1  -57.8\n",
            "  -67.7  -70.4  -74.   -66.6  -66.6  -52.3  -66.1  -71.7  -79.4  -67.8\n",
            "  -59.9  -67.1 -140.8  -75.4 -115.1   62.2  -80.   -69.1  -85.  -148.4\n",
            "  -69.5  -57.2  -71.5 -144.5  -99.2 -117.7 -106.6 -131.9  -71.7  -61.6\n",
            "  -67.7  -87.8  -66.9  -60.4  -69.   -78.9 -147.   -76.1  -70.2  -63.3\n",
            "  -82.6  -45.2  -70.6  -78.7  -73.7  -70.9  -60.8  -64.6  -61.1  -71.2\n",
            "  -72.7  -65.1 -108.6   83.4 -165.9 -118.7  -86.3  -93.   -76.7   81.7\n",
            " -101.2  148.4  -88.7  -75.3  -84.4  -58.8  -71.2 -140.5 -137.7  -62.8\n",
            "  -78.6 -139.9  -48.5 -144.3  -64.7  -63.8 -108.  -123.1  -94.4  -90.6\n",
            " -111.3 -142.7  -81.4  -65.3  -96.3  -67.4  -74.9  113.  -132.6  -80.2\n",
            "  121.6 -112.1 -136.8  175.6 -117.3  -91.1 -134.5 -129.   -79.9  -90.4\n",
            "  -80.7  -75.   -83.1   39.  -150.5  -73.9 -130.7  -79.1 -100.  -168.1\n",
            " -131.6 -140.1  164.8  -64.1  -87.3  -41.1 -109.2  -63.7  -80.8  -71.\n",
            "  -64.3  -79.6  -76.   -79.3  -59.8  -76.5  -91.9  -95.3   73.2 -122.8\n",
            "  -88.9  -81.9  -60.3  -58.2  -96.3  -88.7  -48.6  -70.4  -71.   -67.2\n",
            "  -71.3  -66.5  -66.9  -86.8   59.3 -101.9 -116.6  -75.6  -86.  -130.2\n",
            " -112.4 -154.3 -177.5 -122.1 -103.1  -69.6  -73.1  -75.8  -62.8  -78.4\n",
            "  -62.4  -65.8  -76.3  -88.4  -92.9   73.  -118.   -90.4 -138.6  -66.3\n",
            "  -62.4  -89.7 -115.8 -135.6 -102.5 -137.8 -106.4 -128.3  -55.4  -53.6\n",
            "  -69.1  -83.1  -54.4  -64.7  -87.2 -119.1  -88.7   72.2  -78.   100.3]\n",
            "[11  9 17  1 20  8  1  9 14 15 14  8 16  5 18  9 16  7  5 16 15 14 10  4\n",
            "  4 15 10  6 10  8  4 18 14  1 13  8 10 16 15 18  6  3  6 17 14  3 12 10\n",
            " 16  6  1  4  9  1 18 14 18  9 18  9  1 10 13  3  1 14  5  4 18 18  7 16\n",
            " 10  1  9 19  9 15 14 17 10  6 14  7  3  5 16  1  6  4  6 10 20 17  7 11\n",
            "  9  1 10 15 13  3  4  3 15 10 16 13 10  7 16 18 20 18  3 14 19  3 19  4\n",
            " 15 18 11  6  3  6  4 15 14  5 16 17 10  9 16 17 18  4  1  8 19  1  6  8\n",
            "  9  1 17  4  1  1 18 16  4  4  5  6 10  1 13  5 10 13  3 14  8  7  5 18\n",
            "  7 16 14  4 10 10 16 15 20 13  3 10  3  1  9  6 15  4 15  1  8  1  9  3\n",
            " 10  6  1 18  5 10 18  6  8  6  6  9 10 16  3  6  7 15  7  3 18 15  1 13\n",
            "  3 20  3  3 19 16 17 13 16  4 10  6  7  1  6 10 12  6  3  8 10 18 19 12\n",
            " 13 18 10  4  3  1  5  4 10 16 16 11  6  8 15 18  3  1  3 17 10  9  7 14\n",
            " 10  1 10 17  6  3  4  3 15 10  4 10  4 19  7 14  1 10 10 15  6  4 11 13\n",
            " 14 17  8  6  6  6  8  6 14 16 15 10 17 11 10 10 10 14 10 13  7  8  6 14\n",
            " 18 14  1  6 18 19 13  1  1 18 15  4 16 18 13 16 10 10]\n"
          ]
        },
        {
          "output_type": "execute_result",
          "data": {
            "text/plain": [
              "'0.0 0.0 0.0 360.0 -41.6 -55.5 -54.4 -54.3 -61.4 -86.1 -52.9 -53.8 -55.7 -64.6 -61.1 -62.5 -80.5 -53.4 -67.3 -57.8 -70.4 -59.1 -75.1 -74.7 -87.6 -75.4 -123.5 61.8 -104.2 -102.2 -76.6 -124.3 -73.8 -87.0 -63.3 -128.7 -106.8 -148.5 -81.0 -70.7 107.3 -106.1 71.2 -95.3 -101.8 -72.7 -89.3 64.6 -65.7 82.1 -102.3 -97.2 -70.1 -95.3 -71.1 -77.3 -113.0 -99.0 -88.0 -77.6 -73.5 -123.1 -72.8 -107.8 -120.2 -113.4 -135.0 -136.4 -83.1 -79.2 -83.3 176.6 -90.2 -36.5 -92.4 -51.8 -73.1 -73.1 -63.2 -66.0 -71.9 -64.2 -67.5 -95.0 61.6 -68.2 -94.8 -84.5 96.1 -117.9 -147.2 -123.9 -143.0 -126.8 -90.1 -75.3 -112.8 -150.4 -111.4 -126.6 -75.4 -110.4 -52.9 -89.7 -129.4 -71.2 -157.5 -52.9 -114.6 -101.5 -114.0 -76.5 -93.3 -106.7 -115.9 -150.6 -72.5 -95.7 -129.1 -149.5 -140.9 -78.3 -96.3 -109.3 -60.5 76.5 -99.7 -80.5 -157.7 -62.5 -56.1 -72.0 -66.8 -55.2 -71.9 -56.7 -57.5 -77.1 -62.1 -57.8 -67.7 -70.4 -74.0 -66.6 -66.6 -52.3 -66.1 -71.7 -79.4 -67.8 -59.9 -67.1 -140.8 -75.4 -115.1 62.2 -80.0 -69.1 -85.0 -148.4 -69.5 -57.2 -71.5 -144.5 -99.2 -117.7 -106.6 -131.9 -71.7 -61.6 -67.7 -87.8 -66.9 -60.4 -69.0 -78.9 -147.0 -76.1 -70.2 -63.3 -82.6 -45.2 -70.6 -78.7 -73.7 -70.9 -60.8 -64.6 -61.1 -71.2 -72.7 -65.1 -108.6 83.4 -165.9 -118.7 -86.3 -93.0 -76.7 81.7 -101.2 148.4 -88.7 -75.3 -84.4 -58.8 -71.2 -140.5 -137.7 -62.8 -78.6 -139.9 -48.5 -144.3 -64.7 -63.8 -108.0 -123.1 -94.4 -90.6 -111.3 -142.7 -81.4 -65.3 -96.3 -67.4 -74.9 113.0 -132.6 -80.2 121.6 -112.1 -136.8 175.6 -117.3 -91.1 -134.5 -129.0 -79.9 -90.4 -80.7 -75.0 -83.1 39.0 -150.5 -73.9 -130.7 -79.1 -100.0 -168.1 -131.6 -140.1 164.8 -64.1 -87.3 -41.1 -109.2 -63.7 -80.8 -71.0 -64.3 -79.6 -76.0 -79.3 -59.8 -76.5 -91.9 -95.3 73.2 -122.8 -88.9 -81.9 -60.3 -58.2 -96.3 -88.7 -48.6 -70.4 -71.0 -67.2 -71.3 -66.5 -66.9 -86.8 59.3 -101.9 -116.6 -75.6 -86.0 -130.2 -112.4 -154.3 -177.5 -122.1 -103.1 -69.6 -73.1 -75.8 -62.8 -78.4 -62.4 -65.8 -76.3 -88.4 -92.9 73.0 -118.0 -90.4 -138.6 -66.3 -62.4 -89.7 -115.8 -135.6 -102.5 -137.8 -106.4 -128.3 -55.4 -53.6 -69.1 -83.1 -54.4 -64.7 -87.2 -119.1 -88.7 72.2 -78.0 100.3'"
            ],
            "application/vnd.google.colaboratory.intrinsic+json": {
              "type": "string"
            }
          },
          "metadata": {},
          "execution_count": 145
        }
      ]
    },
    {
      "cell_type": "code",
      "source": [
        "print( reco_0_v2[0,0:68] )"
      ],
      "metadata": {
        "colab": {
          "base_uri": "https://localhost:8080/"
        },
        "id": "VBq9OcPpWMHg",
        "outputId": "9723ff22-7193-46a6-ee9b-604bf1426f41"
      },
      "execution_count": null,
      "outputs": [
        {
          "output_type": "stream",
          "name": "stdout",
          "text": [
            "[  0.           0.           0.           0.           0.\n",
            "   0.           0.           0.           0.           0.\n",
            "   1.           0.           0.           0.           0.\n",
            "   0.           0.           0.           0.           0.\n",
            "   0.           0.           0.           0.           0.\n",
            "   0.           0.           0.           0.           0.\n",
            "   1.           0.           0.           0.           0.\n",
            "   0.           0.           0.           0.           0.\n",
            "   1.           0.           0.           0.           0.\n",
            "   0.           0.           0.39338122   1.           1.\n",
            "   1.           0.           1.           0.           0.\n",
            "   0.           0.           0.           0.           0.\n",
            "   0.           0.           0.           0.           1.\n",
            "   0.           0.         200.1       ]\n"
          ]
        }
      ]
    },
    {
      "cell_type": "code",
      "source": [
        ""
      ],
      "metadata": {
        "id": "SMR2LoWBXtBv"
      },
      "execution_count": null,
      "outputs": []
    }
  ]
}