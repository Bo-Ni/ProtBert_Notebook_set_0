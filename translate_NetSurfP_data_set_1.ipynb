{
  "nbformat": 4,
  "nbformat_minor": 0,
  "metadata": {
    "colab": {
      "name": "translate_NetSurfP_data_set_1.ipynb",
      "provenance": [],
      "machine_shape": "hm",
      "mount_file_id": "1g_cI3xj4mR9VB_-p0MNX04RnX5ZjLRbA",
      "authorship_tag": "ABX9TyPz2EP8veODrTMM2t9XIRnU",
      "include_colab_link": true
    },
    "kernelspec": {
      "name": "python3",
      "display_name": "Python 3"
    },
    "language_info": {
      "name": "python"
    }
  },
  "cells": [
    {
      "cell_type": "markdown",
      "metadata": {
        "id": "view-in-github",
        "colab_type": "text"
      },
      "source": [
        "<a href=\"https://colab.research.google.com/github/Bo-Ni/ProtBert_Notebook_set_0/blob/main/translate_NetSurfP_data_set_1.ipynb\" target=\"_parent\"><img src=\"https://colab.research.google.com/assets/colab-badge.svg\" alt=\"Open In Colab\"/></a>"
      ]
    },
    {
      "cell_type": "code",
      "execution_count": 42,
      "metadata": {
        "id": "10STPR5cFnx5"
      },
      "outputs": [],
      "source": [
        "import numpy as np\n",
        "import os\n",
        "import pandas as pd"
      ]
    },
    {
      "cell_type": "code",
      "source": [
        "# function to extract the amino acids\n",
        "def read_info_from_sparse_coding(reco_0_v2):\n",
        "  # print(reco_0_v2[:,50])\n",
        "  aa_index_list = np.where(reco_0_v2[:,50]==1)[0]\n",
        "  # print(aa_index_list)\n",
        "  # n_aa = aa_index_list.shape[0]\n",
        "  n_aa = np.amax(aa_index_list)+1\n",
        "  # print(n_aa)\n",
        "  aa_list = np.zeros(n_aa, dtype=int)\n",
        "  ss_list = np.zeros(n_aa, dtype=int)\n",
        "  phi_list = np.zeros(n_aa)\n",
        "  psi_list = np.zeros(n_aa)\n",
        "  # print(aa_list)\n",
        "  for i in range(n_aa):\n",
        "    i_aa = aa_index_list[i]\n",
        "    # print(i_aa)\n",
        "    id = np.where(reco_0_v2[i_aa,0:20]==1)[0]\n",
        "    if len(id)==1:\n",
        "      aa_list[i_aa] = id+1\n",
        "    id = np.where(reco_0_v2[i_aa,57:65]==1)[0]\n",
        "    if len(id)==1:\n",
        "      ss_list[i_aa] = id+1\n",
        "      \n",
        "    phi_list[i_aa] = reco_0_v2[i_aa,65]\n",
        "    psi_list[i_aa] = reco_0_v2[i_aa,66]\n",
        "  # print(aa_list)  \n",
        "  return n_aa,aa_list,ss_list,phi_list,psi_list\n",
        "\n",
        "# translate num to code\n",
        "# n_aa,aa_list,ss_list,phi_list,psi_list\n",
        "def translate_AA_to_print(aa_list):\n",
        "  # AA_Dict = np.array(list('ACDEFGHIKLMNPQRSTVWY'))\n",
        "  # aa_name_list=AA_Dict[aa_list-1]\n",
        "\n",
        "  # to be save with 0 position problem: mark it as X\n",
        "  AA_Dict = np.array(list('XACDEFGHIKLMNPQRSTVWY'))\n",
        "  aa_name_list=AA_Dict[aa_list]\n",
        "  return aa_name_list\n",
        "\n",
        "def translate_SS_to_print(ss_list):\n",
        "  # AA_Dict = np.array(list('ACDEFGHIKLMNPQRSTVWY'))\n",
        "  # aa_name_list=AA_Dict[aa_list-1]\n",
        "\n",
        "  # to be save with 0 position problem: mark it as X\n",
        "  SS_Dict = np.array(list('XGHIBESTC'))\n",
        "  ss_name_list=SS_Dict[ss_list]\n",
        "  return ss_name_list\n",
        "\n",
        "def split_pdb(pdb_reco):\n",
        "  words = pdb_reco.split('-')\n",
        "  return words[0],words[1]"
      ],
      "metadata": {
        "id": "tgnCYYNQHi9T"
      },
      "execution_count": 43,
      "outputs": []
    },
    {
      "cell_type": "code",
      "source": [
        "# 0. download the files\n",
        "in_file = 'Train_HHblits.npz'\n",
        "out_file = 'Train_HHblits_translate_aa_ss_phi_psi.csv'\n",
        "\n",
        "in_file = 'Train_MMseqs.npz'\n",
        "out_file = 'Train_MMseqs_translate_aa_ss_phi_psi.csv'\n",
        "# https://services.healthtech.dtu.dk/services/NetSurfP-3.0/training_data/Train_MMseqs.npz\n",
        "\n",
        "in_file = 'CB513_HHblits.npz'\n",
        "out_file = 'CB513_HHblits_translate_aa_ss_phi_psi.csv'\n",
        "# https://services.healthtech.dtu.dk/services/NetSurfP-3.0/training_data/CB513_HHblits.npz\n",
        "\n",
        "in_file = 'TS115_HHblits.npz'\n",
        "out_file = 'TS115_HHblits_translate_aa_ss_phi_psi.csv'\n",
        "# https://services.healthtech.dtu.dk/services/NetSurfP-3.0/training_data/TS115_HHblits.npz\n",
        "\n",
        "in_file = 'CASP12_HHblits.npz'\n",
        "out_file = 'CASP12_HHblits_translate_aa_ss_phi_psi.csv'\n",
        "# https://services.healthtech.dtu.dk/services/NetSurfP-3.0/training_data/CASP12_HHblits.npz"
      ],
      "metadata": {
        "id": "Js7yYNmqFuw6"
      },
      "execution_count": 44,
      "outputs": []
    },
    {
      "cell_type": "code",
      "source": [
        "print(os.popen('wget https://services.healthtech.dtu.dk/services/NetSurfP-3.0/training_data/'+in_file).read())"
      ],
      "metadata": {
        "colab": {
          "base_uri": "https://localhost:8080/"
        },
        "id": "Mr0yuDs0CfBp",
        "outputId": "56813016-7032-4673-f88c-11353c927cfb"
      },
      "execution_count": 45,
      "outputs": [
        {
          "output_type": "stream",
          "name": "stdout",
          "text": [
            "\n"
          ]
        }
      ]
    },
    {
      "cell_type": "code",
      "source": [
        "data_v2 = np.load(in_file,'r')"
      ],
      "metadata": {
        "id": "i5nn4jnAF0aX"
      },
      "execution_count": 46,
      "outputs": []
    },
    {
      "cell_type": "code",
      "source": [
        "print(data_v2)"
      ],
      "metadata": {
        "colab": {
          "base_uri": "https://localhost:8080/"
        },
        "id": "vz3lTJGi-qxX",
        "outputId": "a26030c9-97e4-4b12-ba20-2c9a674bfdc5"
      },
      "execution_count": 47,
      "outputs": [
        {
          "output_type": "stream",
          "name": "stdout",
          "text": [
            "<numpy.lib.npyio.NpzFile object at 0x7f68190ba8d0>\n"
          ]
        }
      ]
    },
    {
      "cell_type": "code",
      "source": [
        "print(len(data_v2['pdbids']))"
      ],
      "metadata": {
        "colab": {
          "base_uri": "https://localhost:8080/"
        },
        "id": "gzKi3QPSF7-d",
        "outputId": "2a148c2a-3ad1-4a84-a022-22e458c4269c"
      },
      "execution_count": 48,
      "outputs": [
        {
          "output_type": "stream",
          "name": "stdout",
          "text": [
            "21\n"
          ]
        }
      ]
    },
    {
      "cell_type": "code",
      "source": [
        "# to make reading faster\n",
        "a1 = data_v2['pdbids']\n",
        "a2 = data_v2['data']\n",
        "\n",
        "# np.savez('test3.npz', a1=a1, a2=a2)\n",
        "# x = np.load('test3.npz')\n",
        "# a1 = x['a1']\n",
        "# a2 = x['a2']\n"
      ],
      "metadata": {
        "id": "iYN6lwGC_zvV"
      },
      "execution_count": 49,
      "outputs": []
    },
    {
      "cell_type": "code",
      "source": [
        "dict_data = {'pdb_id':[],'chain_id':[],'seq':[],'seq_len':[],'ssp':[],'phi':[],'psi':[]}"
      ],
      "metadata": {
        "id": "MC_6uaAcGDDl"
      },
      "execution_count": 50,
      "outputs": []
    },
    {
      "cell_type": "code",
      "source": [
        "df = pd.DataFrame(dict_data)"
      ],
      "metadata": {
        "id": "5qv2U-kjG_n7"
      },
      "execution_count": 51,
      "outputs": []
    },
    {
      "cell_type": "code",
      "source": [
        "df.head()"
      ],
      "metadata": {
        "colab": {
          "base_uri": "https://localhost:8080/",
          "height": 50
        },
        "id": "BOmweqJHHKrZ",
        "outputId": "2f66fab6-5806-465a-8e05-675245c3e5c9"
      },
      "execution_count": 52,
      "outputs": [
        {
          "output_type": "execute_result",
          "data": {
            "text/plain": [
              "Empty DataFrame\n",
              "Columns: [pdb_id, chain_id, seq, seq_len, ssp, phi, psi]\n",
              "Index: []"
            ],
            "text/html": [
              "\n",
              "  <div id=\"df-6c8208f1-69ec-44e3-a023-03bbbae77faf\">\n",
              "    <div class=\"colab-df-container\">\n",
              "      <div>\n",
              "<style scoped>\n",
              "    .dataframe tbody tr th:only-of-type {\n",
              "        vertical-align: middle;\n",
              "    }\n",
              "\n",
              "    .dataframe tbody tr th {\n",
              "        vertical-align: top;\n",
              "    }\n",
              "\n",
              "    .dataframe thead th {\n",
              "        text-align: right;\n",
              "    }\n",
              "</style>\n",
              "<table border=\"1\" class=\"dataframe\">\n",
              "  <thead>\n",
              "    <tr style=\"text-align: right;\">\n",
              "      <th></th>\n",
              "      <th>pdb_id</th>\n",
              "      <th>chain_id</th>\n",
              "      <th>seq</th>\n",
              "      <th>seq_len</th>\n",
              "      <th>ssp</th>\n",
              "      <th>phi</th>\n",
              "      <th>psi</th>\n",
              "    </tr>\n",
              "  </thead>\n",
              "  <tbody>\n",
              "  </tbody>\n",
              "</table>\n",
              "</div>\n",
              "      <button class=\"colab-df-convert\" onclick=\"convertToInteractive('df-6c8208f1-69ec-44e3-a023-03bbbae77faf')\"\n",
              "              title=\"Convert this dataframe to an interactive table.\"\n",
              "              style=\"display:none;\">\n",
              "        \n",
              "  <svg xmlns=\"http://www.w3.org/2000/svg\" height=\"24px\"viewBox=\"0 0 24 24\"\n",
              "       width=\"24px\">\n",
              "    <path d=\"M0 0h24v24H0V0z\" fill=\"none\"/>\n",
              "    <path d=\"M18.56 5.44l.94 2.06.94-2.06 2.06-.94-2.06-.94-.94-2.06-.94 2.06-2.06.94zm-11 1L8.5 8.5l.94-2.06 2.06-.94-2.06-.94L8.5 2.5l-.94 2.06-2.06.94zm10 10l.94 2.06.94-2.06 2.06-.94-2.06-.94-.94-2.06-.94 2.06-2.06.94z\"/><path d=\"M17.41 7.96l-1.37-1.37c-.4-.4-.92-.59-1.43-.59-.52 0-1.04.2-1.43.59L10.3 9.45l-7.72 7.72c-.78.78-.78 2.05 0 2.83L4 21.41c.39.39.9.59 1.41.59.51 0 1.02-.2 1.41-.59l7.78-7.78 2.81-2.81c.8-.78.8-2.07 0-2.86zM5.41 20L4 18.59l7.72-7.72 1.47 1.35L5.41 20z\"/>\n",
              "  </svg>\n",
              "      </button>\n",
              "      \n",
              "  <style>\n",
              "    .colab-df-container {\n",
              "      display:flex;\n",
              "      flex-wrap:wrap;\n",
              "      gap: 12px;\n",
              "    }\n",
              "\n",
              "    .colab-df-convert {\n",
              "      background-color: #E8F0FE;\n",
              "      border: none;\n",
              "      border-radius: 50%;\n",
              "      cursor: pointer;\n",
              "      display: none;\n",
              "      fill: #1967D2;\n",
              "      height: 32px;\n",
              "      padding: 0 0 0 0;\n",
              "      width: 32px;\n",
              "    }\n",
              "\n",
              "    .colab-df-convert:hover {\n",
              "      background-color: #E2EBFA;\n",
              "      box-shadow: 0px 1px 2px rgba(60, 64, 67, 0.3), 0px 1px 3px 1px rgba(60, 64, 67, 0.15);\n",
              "      fill: #174EA6;\n",
              "    }\n",
              "\n",
              "    [theme=dark] .colab-df-convert {\n",
              "      background-color: #3B4455;\n",
              "      fill: #D2E3FC;\n",
              "    }\n",
              "\n",
              "    [theme=dark] .colab-df-convert:hover {\n",
              "      background-color: #434B5C;\n",
              "      box-shadow: 0px 1px 3px 1px rgba(0, 0, 0, 0.15);\n",
              "      filter: drop-shadow(0px 1px 2px rgba(0, 0, 0, 0.3));\n",
              "      fill: #FFFFFF;\n",
              "    }\n",
              "  </style>\n",
              "\n",
              "      <script>\n",
              "        const buttonEl =\n",
              "          document.querySelector('#df-6c8208f1-69ec-44e3-a023-03bbbae77faf button.colab-df-convert');\n",
              "        buttonEl.style.display =\n",
              "          google.colab.kernel.accessAllowed ? 'block' : 'none';\n",
              "\n",
              "        async function convertToInteractive(key) {\n",
              "          const element = document.querySelector('#df-6c8208f1-69ec-44e3-a023-03bbbae77faf');\n",
              "          const dataTable =\n",
              "            await google.colab.kernel.invokeFunction('convertToInteractive',\n",
              "                                                     [key], {});\n",
              "          if (!dataTable) return;\n",
              "\n",
              "          const docLinkHtml = 'Like what you see? Visit the ' +\n",
              "            '<a target=\"_blank\" href=https://colab.research.google.com/notebooks/data_table.ipynb>data table notebook</a>'\n",
              "            + ' to learn more about interactive tables.';\n",
              "          element.innerHTML = '';\n",
              "          dataTable['output_type'] = 'display_data';\n",
              "          await google.colab.output.renderOutput(dataTable, element);\n",
              "          const docLink = document.createElement('div');\n",
              "          docLink.innerHTML = docLinkHtml;\n",
              "          element.appendChild(docLink);\n",
              "        }\n",
              "      </script>\n",
              "    </div>\n",
              "  </div>\n",
              "  "
            ]
          },
          "metadata": {},
          "execution_count": 52
        }
      ]
    },
    {
      "cell_type": "code",
      "source": [
        "df = pd.DataFrame(dict_data)\n",
        "\n",
        "for i in range(len(a1)):\n",
        "  print(i)\n",
        "# for i in range(2):\n",
        "  # create one_line\n",
        "  pdb,pdb_chain = split_pdb(a1[i])\n",
        "  # print(pdb)\n",
        "  # print(pdb_chain)\n",
        "  n_aa,aa_list,ss_list,phi_list,psi_list \\\n",
        "  = read_info_from_sparse_coding(a2[i])\n",
        "  aa_p = \"\".join(translate_AA_to_print(aa_list))\n",
        "  ss_p = \"\".join(translate_SS_to_print(ss_list))\n",
        "  phi_p = \" \".join(str(x) for x in phi_list)\n",
        "  psi_p = \" \".join(str(x) for x in psi_list)\n",
        "\n",
        "  one_line = [pdb,pdb_chain,aa_p,n_aa,ss_p,phi_p,psi_p]\n",
        "  # print(one_line)\n",
        "\n",
        "\n",
        "  df.loc[i] = one_line\n",
        "\n",
        "# out_file = 'Train_HHblits_translate_aa_ss_phi_psi.csv'\n",
        "df.to_csv('./drive/MyDrive/0_data_prepare_results/'+out_file,index=False)"
      ],
      "metadata": {
        "colab": {
          "base_uri": "https://localhost:8080/"
        },
        "id": "rIVXbyBqAxg2",
        "outputId": "74f18b5d-fa64-4fe0-ca0a-0e25a8546f4d"
      },
      "execution_count": 53,
      "outputs": [
        {
          "output_type": "stream",
          "name": "stdout",
          "text": [
            "0\n",
            "1\n",
            "2\n",
            "3\n",
            "4\n",
            "5\n",
            "6\n",
            "7\n",
            "8\n",
            "9\n",
            "10\n",
            "11\n",
            "12\n",
            "13\n",
            "14\n",
            "15\n",
            "16\n",
            "17\n",
            "18\n",
            "19\n",
            "20\n"
          ]
        }
      ]
    },
    {
      "cell_type": "code",
      "source": [
        ""
      ],
      "metadata": {
        "id": "ZwiX2_C1A5qi"
      },
      "execution_count": 53,
      "outputs": []
    },
    {
      "cell_type": "code",
      "source": [
        "# out_file = 'Train_HHblits_translate_aa_ss_phi_psi.csv'\n",
        "# df.to_csv('./drive/MyDrive/0_data_prepare_results/'+out_file,index=False)"
      ],
      "metadata": {
        "id": "vhkDWlSBMfUe"
      },
      "execution_count": 54,
      "outputs": []
    },
    {
      "cell_type": "code",
      "source": [
        "df.head()"
      ],
      "metadata": {
        "id": "vqFJk0BUIA02",
        "colab": {
          "base_uri": "https://localhost:8080/",
          "height": 1000
        },
        "outputId": "73d69aa1-547d-4fcf-dd4e-240ab9f09bf6"
      },
      "execution_count": 55,
      "outputs": [
        {
          "output_type": "execute_result",
          "data": {
            "text/plain": [
              "  pdb_id chain_id                                                seq  seq_len  \\\n",
              "0   5a7d        L  SLRFTASTSTPKSGSKIAKRGKKHPEPVASWMSEQRWAGEPEVMCT...    341.0   \n",
              "1   5aot        A  MGAEEEDTAILYPFTISGNDRNGNFTINFKGTPNSTNNGCIGYSYN...    106.0   \n",
              "2   5d9g        A  GHXASGPWKLTASKTHIXKSADVEKLADELHXPSLPEXXFGDNVLR...    246.0   \n",
              "3   5fhy        A  MGHHHHHHGGSENLYFQGNEDILKASATQSAVAGTYQIQVNSLATS...    346.0   \n",
              "4   5g5n        A  GLPVPSPPGTLLPGQSPDEAFARNSVVFLVPGAEYNWKNVVIRKPV...    353.0   \n",
              "\n",
              "                                                 ssp  \\\n",
              "0  CCCCCCCCCCCCCCCCCCCCCCCCCCHHHHHHHHGGGCCCCCCCCC...   \n",
              "1  CCCCCTTTSEEEEEECCSSCCCSEEEEEEEESTTCEEEEEEEEEET...   \n",
              "2  CEEEETTEEEEEECCCCCCHHHHHHHHHHTTCSCCCSEECTTCEEE...   \n",
              "3  CCCCCCCCCCCCCCCCCCCCCCSEEEEESSCCCEEEEEEEEECCBE...   \n",
              "4  CCCCCCCCCEECTTSCHHHHHHHCSEEEECTTCEEECSSEEECSCC...   \n",
              "\n",
              "                                                 phi  \\\n",
              "0  0.0 0.0 0.0 0.0 0.0 0.0 0.0 0.0 0.0 0.0 0.0 0....   \n",
              "1  0.0 0.0 0.0 0.0 360.0 -59.4 -65.0 -98.1 -96.0 ...   \n",
              "2  360.0 -125.6 -133.7 -120.4 -158.4 71.2 -82.5 -...   \n",
              "3  0.0 0.0 0.0 0.0 0.0 0.0 0.0 0.0 0.0 0.0 0.0 0....   \n",
              "4  0.0 0.0 0.0 0.0 0.0 0.0 0.0 0.0 360.0 -101.8 -...   \n",
              "\n",
              "                                                 psi  \n",
              "0  0.0 0.0 0.0 0.0 0.0 0.0 0.0 0.0 0.0 0.0 0.0 0....  \n",
              "1  0.0 0.0 0.0 0.0 -70.6 -43.3 -29.3 -10.5 155.1 ...  \n",
              "2  -99.4 131.8 126.3 145.5 92.5 -126.3 -9.7 131.5...  \n",
              "3  0.0 0.0 0.0 0.0 0.0 0.0 0.0 0.0 0.0 0.0 0.0 0....  \n",
              "4  0.0 0.0 0.0 0.0 0.0 0.0 0.0 0.0 2.6 138.0 118....  "
            ],
            "text/html": [
              "\n",
              "  <div id=\"df-a44ec370-2930-42bf-b864-7f122155c1cc\">\n",
              "    <div class=\"colab-df-container\">\n",
              "      <div>\n",
              "<style scoped>\n",
              "    .dataframe tbody tr th:only-of-type {\n",
              "        vertical-align: middle;\n",
              "    }\n",
              "\n",
              "    .dataframe tbody tr th {\n",
              "        vertical-align: top;\n",
              "    }\n",
              "\n",
              "    .dataframe thead th {\n",
              "        text-align: right;\n",
              "    }\n",
              "</style>\n",
              "<table border=\"1\" class=\"dataframe\">\n",
              "  <thead>\n",
              "    <tr style=\"text-align: right;\">\n",
              "      <th></th>\n",
              "      <th>pdb_id</th>\n",
              "      <th>chain_id</th>\n",
              "      <th>seq</th>\n",
              "      <th>seq_len</th>\n",
              "      <th>ssp</th>\n",
              "      <th>phi</th>\n",
              "      <th>psi</th>\n",
              "    </tr>\n",
              "  </thead>\n",
              "  <tbody>\n",
              "    <tr>\n",
              "      <th>0</th>\n",
              "      <td>5a7d</td>\n",
              "      <td>L</td>\n",
              "      <td>SLRFTASTSTPKSGSKIAKRGKKHPEPVASWMSEQRWAGEPEVMCT...</td>\n",
              "      <td>341.0</td>\n",
              "      <td>CCCCCCCCCCCCCCCCCCCCCCCCCCHHHHHHHHGGGCCCCCCCCC...</td>\n",
              "      <td>0.0 0.0 0.0 0.0 0.0 0.0 0.0 0.0 0.0 0.0 0.0 0....</td>\n",
              "      <td>0.0 0.0 0.0 0.0 0.0 0.0 0.0 0.0 0.0 0.0 0.0 0....</td>\n",
              "    </tr>\n",
              "    <tr>\n",
              "      <th>1</th>\n",
              "      <td>5aot</td>\n",
              "      <td>A</td>\n",
              "      <td>MGAEEEDTAILYPFTISGNDRNGNFTINFKGTPNSTNNGCIGYSYN...</td>\n",
              "      <td>106.0</td>\n",
              "      <td>CCCCCTTTSEEEEEECCSSCCCSEEEEEEEESTTCEEEEEEEEEET...</td>\n",
              "      <td>0.0 0.0 0.0 0.0 360.0 -59.4 -65.0 -98.1 -96.0 ...</td>\n",
              "      <td>0.0 0.0 0.0 0.0 -70.6 -43.3 -29.3 -10.5 155.1 ...</td>\n",
              "    </tr>\n",
              "    <tr>\n",
              "      <th>2</th>\n",
              "      <td>5d9g</td>\n",
              "      <td>A</td>\n",
              "      <td>GHXASGPWKLTASKTHIXKSADVEKLADELHXPSLPEXXFGDNVLR...</td>\n",
              "      <td>246.0</td>\n",
              "      <td>CEEEETTEEEEEECCCCCCHHHHHHHHHHTTCSCCCSEECTTCEEE...</td>\n",
              "      <td>360.0 -125.6 -133.7 -120.4 -158.4 71.2 -82.5 -...</td>\n",
              "      <td>-99.4 131.8 126.3 145.5 92.5 -126.3 -9.7 131.5...</td>\n",
              "    </tr>\n",
              "    <tr>\n",
              "      <th>3</th>\n",
              "      <td>5fhy</td>\n",
              "      <td>A</td>\n",
              "      <td>MGHHHHHHGGSENLYFQGNEDILKASATQSAVAGTYQIQVNSLATS...</td>\n",
              "      <td>346.0</td>\n",
              "      <td>CCCCCCCCCCCCCCCCCCCCCCSEEEEESSCCCEEEEEEEEECCBE...</td>\n",
              "      <td>0.0 0.0 0.0 0.0 0.0 0.0 0.0 0.0 0.0 0.0 0.0 0....</td>\n",
              "      <td>0.0 0.0 0.0 0.0 0.0 0.0 0.0 0.0 0.0 0.0 0.0 0....</td>\n",
              "    </tr>\n",
              "    <tr>\n",
              "      <th>4</th>\n",
              "      <td>5g5n</td>\n",
              "      <td>A</td>\n",
              "      <td>GLPVPSPPGTLLPGQSPDEAFARNSVVFLVPGAEYNWKNVVIRKPV...</td>\n",
              "      <td>353.0</td>\n",
              "      <td>CCCCCCCCCEECTTSCHHHHHHHCSEEEECTTCEEECSSEEECSCC...</td>\n",
              "      <td>0.0 0.0 0.0 0.0 0.0 0.0 0.0 0.0 360.0 -101.8 -...</td>\n",
              "      <td>0.0 0.0 0.0 0.0 0.0 0.0 0.0 0.0 2.6 138.0 118....</td>\n",
              "    </tr>\n",
              "  </tbody>\n",
              "</table>\n",
              "</div>\n",
              "      <button class=\"colab-df-convert\" onclick=\"convertToInteractive('df-a44ec370-2930-42bf-b864-7f122155c1cc')\"\n",
              "              title=\"Convert this dataframe to an interactive table.\"\n",
              "              style=\"display:none;\">\n",
              "        \n",
              "  <svg xmlns=\"http://www.w3.org/2000/svg\" height=\"24px\"viewBox=\"0 0 24 24\"\n",
              "       width=\"24px\">\n",
              "    <path d=\"M0 0h24v24H0V0z\" fill=\"none\"/>\n",
              "    <path d=\"M18.56 5.44l.94 2.06.94-2.06 2.06-.94-2.06-.94-.94-2.06-.94 2.06-2.06.94zm-11 1L8.5 8.5l.94-2.06 2.06-.94-2.06-.94L8.5 2.5l-.94 2.06-2.06.94zm10 10l.94 2.06.94-2.06 2.06-.94-2.06-.94-.94-2.06-.94 2.06-2.06.94z\"/><path d=\"M17.41 7.96l-1.37-1.37c-.4-.4-.92-.59-1.43-.59-.52 0-1.04.2-1.43.59L10.3 9.45l-7.72 7.72c-.78.78-.78 2.05 0 2.83L4 21.41c.39.39.9.59 1.41.59.51 0 1.02-.2 1.41-.59l7.78-7.78 2.81-2.81c.8-.78.8-2.07 0-2.86zM5.41 20L4 18.59l7.72-7.72 1.47 1.35L5.41 20z\"/>\n",
              "  </svg>\n",
              "      </button>\n",
              "      \n",
              "  <style>\n",
              "    .colab-df-container {\n",
              "      display:flex;\n",
              "      flex-wrap:wrap;\n",
              "      gap: 12px;\n",
              "    }\n",
              "\n",
              "    .colab-df-convert {\n",
              "      background-color: #E8F0FE;\n",
              "      border: none;\n",
              "      border-radius: 50%;\n",
              "      cursor: pointer;\n",
              "      display: none;\n",
              "      fill: #1967D2;\n",
              "      height: 32px;\n",
              "      padding: 0 0 0 0;\n",
              "      width: 32px;\n",
              "    }\n",
              "\n",
              "    .colab-df-convert:hover {\n",
              "      background-color: #E2EBFA;\n",
              "      box-shadow: 0px 1px 2px rgba(60, 64, 67, 0.3), 0px 1px 3px 1px rgba(60, 64, 67, 0.15);\n",
              "      fill: #174EA6;\n",
              "    }\n",
              "\n",
              "    [theme=dark] .colab-df-convert {\n",
              "      background-color: #3B4455;\n",
              "      fill: #D2E3FC;\n",
              "    }\n",
              "\n",
              "    [theme=dark] .colab-df-convert:hover {\n",
              "      background-color: #434B5C;\n",
              "      box-shadow: 0px 1px 3px 1px rgba(0, 0, 0, 0.15);\n",
              "      filter: drop-shadow(0px 1px 2px rgba(0, 0, 0, 0.3));\n",
              "      fill: #FFFFFF;\n",
              "    }\n",
              "  </style>\n",
              "\n",
              "      <script>\n",
              "        const buttonEl =\n",
              "          document.querySelector('#df-a44ec370-2930-42bf-b864-7f122155c1cc button.colab-df-convert');\n",
              "        buttonEl.style.display =\n",
              "          google.colab.kernel.accessAllowed ? 'block' : 'none';\n",
              "\n",
              "        async function convertToInteractive(key) {\n",
              "          const element = document.querySelector('#df-a44ec370-2930-42bf-b864-7f122155c1cc');\n",
              "          const dataTable =\n",
              "            await google.colab.kernel.invokeFunction('convertToInteractive',\n",
              "                                                     [key], {});\n",
              "          if (!dataTable) return;\n",
              "\n",
              "          const docLinkHtml = 'Like what you see? Visit the ' +\n",
              "            '<a target=\"_blank\" href=https://colab.research.google.com/notebooks/data_table.ipynb>data table notebook</a>'\n",
              "            + ' to learn more about interactive tables.';\n",
              "          element.innerHTML = '';\n",
              "          dataTable['output_type'] = 'display_data';\n",
              "          await google.colab.output.renderOutput(dataTable, element);\n",
              "          const docLink = document.createElement('div');\n",
              "          docLink.innerHTML = docLinkHtml;\n",
              "          element.appendChild(docLink);\n",
              "        }\n",
              "      </script>\n",
              "    </div>\n",
              "  </div>\n",
              "  "
            ]
          },
          "metadata": {},
          "execution_count": 55
        }
      ]
    },
    {
      "cell_type": "code",
      "source": [
        ""
      ],
      "metadata": {
        "id": "O6OK6LJ_MQgZ"
      },
      "execution_count": 55,
      "outputs": []
    }
  ]
}