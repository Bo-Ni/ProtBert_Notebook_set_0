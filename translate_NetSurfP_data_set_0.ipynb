{
  "nbformat": 4,
  "nbformat_minor": 0,
  "metadata": {
    "colab": {
      "name": "translate_NetSurfP_data_set_0.ipynb",
      "provenance": [],
      "machine_shape": "hm",
      "authorship_tag": "ABX9TyNXtMDxmxEavGDiBmrd2t1m",
      "include_colab_link": true
    },
    "kernelspec": {
      "name": "python3",
      "display_name": "Python 3"
    },
    "language_info": {
      "name": "python"
    }
  },
  "cells": [
    {
      "cell_type": "markdown",
      "metadata": {
        "id": "view-in-github",
        "colab_type": "text"
      },
      "source": [
        "<a href=\"https://colab.research.google.com/github/Bo-Ni/ProtBert_Notebook_set_0/blob/main/translate_NetSurfP_data_set_0.ipynb\" target=\"_parent\"><img src=\"https://colab.research.google.com/assets/colab-badge.svg\" alt=\"Open In Colab\"/></a>"
      ]
    },
    {
      "cell_type": "markdown",
      "source": [
        "## quick compare between datasets of NetSurfP2.0 and 3.0"
      ],
      "metadata": {
        "id": "Te8gijRRQrYn"
      }
    },
    {
      "cell_type": "markdown",
      "source": [
        "### 2.0\n",
        "https://services.healthtech.dtu.dk/service.php?NetSurfP-2.0\n",
        "### 3.0\n",
        "https://services.healthtech.dtu.dk/service.php?NetSurfP-3.0"
      ],
      "metadata": {
        "id": "5Nsx8n1oQ2eL"
      }
    },
    {
      "cell_type": "code",
      "source": [
        "import numpy as np\n",
        "import os"
      ],
      "metadata": {
        "id": "AOcPlIZiRK93"
      },
      "execution_count": 1,
      "outputs": []
    },
    {
      "cell_type": "code",
      "execution_count": 2,
      "metadata": {
        "colab": {
          "base_uri": "https://localhost:8080/"
        },
        "id": "CXxufd11Qhjk",
        "outputId": "2d910f42-0901-45e4-8a9e-f58eb4c0dbef"
      },
      "outputs": [
        {
          "output_type": "stream",
          "name": "stdout",
          "text": [
            "\n"
          ]
        }
      ],
      "source": [
        "# 0. download the files\n",
        "print(os.popen('wget https://services.healthtech.dtu.dk/services/NetSurfP-2.0/training_data/Train_HHblits.npz').read())"
      ]
    },
    {
      "cell_type": "code",
      "source": [
        "data_v2 = np.load('./Train_HHblits.npz')"
      ],
      "metadata": {
        "id": "X1THlIKxRj2U"
      },
      "execution_count": 3,
      "outputs": []
    },
    {
      "cell_type": "code",
      "source": [
        "# what is inside the box\n",
        "print(data_v2.iterkeys())\n",
        "for k in data_v2.iterkeys():\n",
        "    print(k)"
      ],
      "metadata": {
        "colab": {
          "base_uri": "https://localhost:8080/"
        },
        "id": "TVVir0jhR9d6",
        "outputId": "c03bedbc-7ffc-4aee-d851-267c6878cc3d"
      },
      "execution_count": 4,
      "outputs": [
        {
          "output_type": "stream",
          "name": "stdout",
          "text": [
            "KeysView(<numpy.lib.npyio.NpzFile object at 0x7fc81112a710>)\n",
            "pdbids\n",
            "data\n"
          ]
        },
        {
          "output_type": "stream",
          "name": "stderr",
          "text": [
            "/usr/local/lib/python3.7/dist-packages/ipykernel_launcher.py:2: DeprecationWarning: NpzFile.iterkeys is deprecated in python 3, to match the removal of dict.iterkeys. Use .keys() instead.\n",
            "  \n",
            "/usr/local/lib/python3.7/dist-packages/ipykernel_launcher.py:3: DeprecationWarning: NpzFile.iterkeys is deprecated in python 3, to match the removal of dict.iterkeys. Use .keys() instead.\n",
            "  This is separate from the ipykernel package so we can avoid doing imports until\n"
          ]
        }
      ]
    },
    {
      "cell_type": "code",
      "source": [
        "print( len(data_v2['pdbids']) )\n",
        "print( data_v2['data'].shape )"
      ],
      "metadata": {
        "colab": {
          "base_uri": "https://localhost:8080/"
        },
        "id": "MgAC4NThSCmv",
        "outputId": "aaee73bf-7ecb-4937-f0f2-5566f8e94f44"
      },
      "execution_count": 5,
      "outputs": [
        {
          "output_type": "stream",
          "name": "stdout",
          "text": [
            "10848\n",
            "(10848, 1632, 68)\n"
          ]
        }
      ]
    },
    {
      "cell_type": "code",
      "source": [
        "print(data_v2['pdbids'])"
      ],
      "metadata": {
        "colab": {
          "base_uri": "https://localhost:8080/"
        },
        "id": "yDW4OXftTu9V",
        "outputId": "0d2cf2b2-d4fd-40a4-8aa1-2dfd045ab93c"
      },
      "execution_count": 6,
      "outputs": [
        {
          "output_type": "stream",
          "name": "stdout",
          "text": [
            "['12as-A' '16vp-A' '1a12-C' ... '7ahl-B' '7odc-A' '8abp-A']\n"
          ]
        }
      ]
    },
    {
      "cell_type": "code",
      "source": [
        "print(data_v2['data'][0].shape)\n",
        "print(data_v2['data'][1].shape)"
      ],
      "metadata": {
        "colab": {
          "base_uri": "https://localhost:8080/"
        },
        "id": "djPeUNtZU5kq",
        "outputId": "e6cdb214-ee34-47df-8b23-0724a1626f42"
      },
      "execution_count": 15,
      "outputs": [
        {
          "output_type": "stream",
          "name": "stdout",
          "text": [
            "(1632, 68)\n",
            "(1632, 68)\n"
          ]
        }
      ]
    },
    {
      "cell_type": "code",
      "source": [
        "reco_0_v2 = data_v2['data'][0]\n",
        "reco_1_v2 = data_v2['data'][1]"
      ],
      "metadata": {
        "id": "V3OzuUbWVBhX"
      },
      "execution_count": 16,
      "outputs": []
    },
    {
      "cell_type": "code",
      "source": [
        "print( reco_0_v2.shape )"
      ],
      "metadata": {
        "colab": {
          "base_uri": "https://localhost:8080/"
        },
        "id": "HXLcXzZdV5P_",
        "outputId": "262ec748-fc5a-41a2-d058-294acf8581b9"
      },
      "execution_count": 18,
      "outputs": [
        {
          "output_type": "stream",
          "name": "stdout",
          "text": [
            "(1632, 68)\n"
          ]
        }
      ]
    },
    {
      "cell_type": "code",
      "source": [
        "print(data_v2['pdbids'][0])"
      ],
      "metadata": {
        "colab": {
          "base_uri": "https://localhost:8080/"
        },
        "id": "Y7GObmCAcK8F",
        "outputId": "6fc47977-ca3a-4124-d826-cc727c15f266"
      },
      "execution_count": 23,
      "outputs": [
        {
          "output_type": "stream",
          "name": "stdout",
          "text": [
            "12as-A\n"
          ]
        }
      ]
    },
    {
      "cell_type": "code",
      "source": [
        "# [0:20] Amino Acids (sparse encoding)\n",
        "# [50] Seq mask (1 = seq, 0 = empty)\n",
        "print(reco_0_v2[0,50])\n",
        "print(reco_0_v2[0,0:20])\n",
        "print(reco_0_v2[2,50])\n",
        "print(reco_0_v2[2,0:20])\n",
        "print(reco_0_v2[1631,50])\n",
        "print(reco_0_v2[1631,0:20])"
      ],
      "metadata": {
        "colab": {
          "base_uri": "https://localhost:8080/"
        },
        "id": "GD4Gs85IZUTQ",
        "outputId": "35fce246-7a8f-4f8e-ee52-45f714fe9d19"
      },
      "execution_count": 26,
      "outputs": [
        {
          "output_type": "stream",
          "name": "stdout",
          "text": [
            "1.0\n",
            "[0. 0. 0. 0. 0. 0. 0. 0. 0. 0. 1. 0. 0. 0. 0. 0. 0. 0. 0. 0.]\n",
            "1.0\n",
            "[0. 0. 0. 0. 0. 0. 0. 0. 0. 0. 0. 0. 0. 0. 0. 0. 1. 0. 0. 0.]\n",
            "0.0\n",
            "[0. 0. 0. 0. 0. 0. 0. 0. 0. 0. 0. 0. 0. 0. 0. 0. 0. 0. 0. 0.]\n"
          ]
        }
      ]
    },
    {
      "cell_type": "code",
      "source": [
        "print(reco_0_v2[:,50])\n",
        "aa_index_list = np.where(reco_0_v2[:,50]==1)[0]\n",
        "print(aa_index_list)\n",
        "n_aa = aa_index_list.shape[0]\n",
        "# n_aa = np.amax(aa_index_list)+1\n",
        "print(n_aa)\n",
        "aa_list = np.zeros(n_aa, dtype=int)\n",
        "print(aa_list)\n",
        "for i in range(n_aa):\n",
        "  i_aa = aa_index_list[i]\n",
        "  # print(i_aa)\n",
        "  aa_list[i_aa] = np.where(reco_0_v2[i_aa,0:20]==1)[0]+1\n",
        "print(aa_list)"
      ],
      "metadata": {
        "colab": {
          "base_uri": "https://localhost:8080/"
        },
        "id": "xUCKPMahd-xE",
        "outputId": "258602d9-c997-48b3-aaf2-da8f6a0ad34d"
      },
      "execution_count": 87,
      "outputs": [
        {
          "output_type": "stream",
          "name": "stdout",
          "text": [
            "[1. 1. 1. ... 0. 0. 0.]\n",
            "[  0   1   2   3   4   5   6   7   8   9  10  11  12  13  14  15  16  17\n",
            "  18  19  20  21  22  23  24  25  26  27  28  29  30  31  32  33  34  35\n",
            "  36  37  38  39  40  41  42  43  44  45  46  47  48  49  50  51  52  53\n",
            "  54  55  56  57  58  59  60  61  62  63  64  65  66  67  68  69  70  71\n",
            "  72  73  74  75  76  77  78  79  80  81  82  83  84  85  86  87  88  89\n",
            "  90  91  92  93  94  95  96  97  98  99 100 101 102 103 104 105 106 107\n",
            " 108 109 110 111 112 113 114 115 116 117 118 119 120 121 122 123 124 125\n",
            " 126 127 128 129 130 131 132 133 134 135 136 137 138 139 140 141 142 143\n",
            " 144 145 146 147 148 149 150 151 152 153 154 155 156 157 158 159 160 161\n",
            " 162 163 164 165 166 167 168 169 170 171 172 173 174 175 176 177 178 179\n",
            " 180 181 182 183 184 185 186 187 188 189 190 191 192 193 194 195 196 197\n",
            " 198 199 200 201 202 203 204 205 206 207 208 209 210 211 212 213 214 215\n",
            " 216 217 218 219 220 221 222 223 224 225 226 227 228 229 230 231 232 233\n",
            " 234 235 236 237 238 239 240 241 242 243 244 245 246 247 248 249 250 251\n",
            " 252 253 254 255 256 257 258 259 260 261 262 263 264 265 266 267 268 269\n",
            " 270 271 272 273 274 275 276 277 278 279 280 281 282 283 284 285 286 287\n",
            " 288 289 290 291 292 293 294 295 296 297 298 299 300 301 302 303 304 305\n",
            " 306 307 308 309 310 311 312 313 314 315 316 317 318 319 320 321 322 323\n",
            " 324 325 326 327 328 329]\n",
            "330\n",
            "[0 0 0 0 0 0 0 0 0 0 0 0 0 0 0 0 0 0 0 0 0 0 0 0 0 0 0 0 0 0 0 0 0 0 0 0 0\n",
            " 0 0 0 0 0 0 0 0 0 0 0 0 0 0 0 0 0 0 0 0 0 0 0 0 0 0 0 0 0 0 0 0 0 0 0 0 0\n",
            " 0 0 0 0 0 0 0 0 0 0 0 0 0 0 0 0 0 0 0 0 0 0 0 0 0 0 0 0 0 0 0 0 0 0 0 0 0\n",
            " 0 0 0 0 0 0 0 0 0 0 0 0 0 0 0 0 0 0 0 0 0 0 0 0 0 0 0 0 0 0 0 0 0 0 0 0 0\n",
            " 0 0 0 0 0 0 0 0 0 0 0 0 0 0 0 0 0 0 0 0 0 0 0 0 0 0 0 0 0 0 0 0 0 0 0 0 0\n",
            " 0 0 0 0 0 0 0 0 0 0 0 0 0 0 0 0 0 0 0 0 0 0 0 0 0 0 0 0 0 0 0 0 0 0 0 0 0\n",
            " 0 0 0 0 0 0 0 0 0 0 0 0 0 0 0 0 0 0 0 0 0 0 0 0 0 0 0 0 0 0 0 0 0 0 0 0 0\n",
            " 0 0 0 0 0 0 0 0 0 0 0 0 0 0 0 0 0 0 0 0 0 0 0 0 0 0 0 0 0 0 0 0 0 0 0 0 0\n",
            " 0 0 0 0 0 0 0 0 0 0 0 0 0 0 0 0 0 0 0 0 0 0 0 0 0 0 0 0 0 0 0 0 0 0]\n",
            "[11  9 17  1 20  8  1  9 14 15 14  8 16  5 18  9 16  7  5 16 15 14 10  4\n",
            "  4 15 10  6 10  8  4 18 14  1 13  8 10 16 15 18  6  3  6 17 14  3 12 10\n",
            " 16  6  1  4  9  1 18 14 18  9 18  9  1 10 13  3  1 14  5  4 18 18  7 16\n",
            " 10  1  9 19  9 15 14 17 10  6 14  7  3  5 16  1  6  4  6 10 20 17  7 11\n",
            "  9  1 10 15 13  3  4  3 15 10 16 13 10  7 16 18 20 18  3 14 19  3 19  4\n",
            " 15 18 11  6  3  6  4 15 14  5 16 17 10  9 16 17 18  4  1  8 19  1  6  8\n",
            "  9  1 17  4  1  1 18 16  4  4  5  6 10  1 13  5 10 13  3 14  8  7  5 18\n",
            "  7 16 14  4 10 10 16 15 20 13  3 10  3  1  9  6 15  4 15  1  8  1  9  3\n",
            " 10  6  1 18  5 10 18  6  8  6  6  9 10 16  3  6  7 15  7  3 18 15  1 13\n",
            "  3 20  3  3 19 16 17 13 16  4 10  6  7  1  6 10 12  6  3  8 10 18 19 12\n",
            " 13 18 10  4  3  1  5  4 10 16 16 11  6  8 15 18  3  1  3 17 10  9  7 14\n",
            " 10  1 10 17  6  3  4  3 15 10  4 10  4 19  7 14  1 10 10 15  6  4 11 13\n",
            " 14 17  8  6  6  6  8  6 14 16 15 10 17 11 10 10 10 14 10 13  7  8  6 14\n",
            " 18 14  1  6 18 19 13  1  1 18 15  4 16 18 13 16 10 10]\n"
          ]
        }
      ]
    },
    {
      "cell_type": "code",
      "source": [
        "# function to extract the amino acids\n",
        "def read_AA_from_sparse_coding(reco_0_v2):\n",
        "  # print(reco_0_v2[:,50])\n",
        "  aa_index_list = np.where(reco_0_v2[:,50]==1)[0]\n",
        "  # print(aa_index_list)\n",
        "  # n_aa = aa_index_list.shape[0]\n",
        "  n_aa = np.amax(aa_index_list)+1\n",
        "  # print(n_aa)\n",
        "  aa_list = np.zeros(n_aa, dtype=int)\n",
        "  # print(aa_list)\n",
        "  for i in range(n_aa):\n",
        "    i_aa = aa_index_list[i]\n",
        "    # print(i_aa)\n",
        "    aa_list[i_aa] = np.where(reco_0_v2[i_aa,0:20]==1)[0]+1\n",
        "  # print(aa_list)  \n",
        "  return aa_list, n_aa"
      ],
      "metadata": {
        "id": "zJqMPS96cfeQ"
      },
      "execution_count": 88,
      "outputs": []
    },
    {
      "cell_type": "code",
      "source": [
        "aa_list,n_aa = read_AA_from_sparse_coding(reco_0_v2)\n",
        "print(n_aa)\n",
        "print(aa_list)"
      ],
      "metadata": {
        "colab": {
          "base_uri": "https://localhost:8080/"
        },
        "id": "MlUg5hHRhvbp",
        "outputId": "e99791c7-046e-4b6f-eec9-3936fb5e6279"
      },
      "execution_count": 93,
      "outputs": [
        {
          "output_type": "stream",
          "name": "stdout",
          "text": [
            "330\n",
            "[11  9 17  1 20  8  1  9 14 15 14  8 16  5 18  9 16  7  5 16 15 14 10  4\n",
            "  4 15 10  6 10  8  4 18 14  1 13  8 10 16 15 18  6  3  6 17 14  3 12 10\n",
            " 16  6  1  4  9  1 18 14 18  9 18  9  1 10 13  3  1 14  5  4 18 18  7 16\n",
            " 10  1  9 19  9 15 14 17 10  6 14  7  3  5 16  1  6  4  6 10 20 17  7 11\n",
            "  9  1 10 15 13  3  4  3 15 10 16 13 10  7 16 18 20 18  3 14 19  3 19  4\n",
            " 15 18 11  6  3  6  4 15 14  5 16 17 10  9 16 17 18  4  1  8 19  1  6  8\n",
            "  9  1 17  4  1  1 18 16  4  4  5  6 10  1 13  5 10 13  3 14  8  7  5 18\n",
            "  7 16 14  4 10 10 16 15 20 13  3 10  3  1  9  6 15  4 15  1  8  1  9  3\n",
            " 10  6  1 18  5 10 18  6  8  6  6  9 10 16  3  6  7 15  7  3 18 15  1 13\n",
            "  3 20  3  3 19 16 17 13 16  4 10  6  7  1  6 10 12  6  3  8 10 18 19 12\n",
            " 13 18 10  4  3  1  5  4 10 16 16 11  6  8 15 18  3  1  3 17 10  9  7 14\n",
            " 10  1 10 17  6  3  4  3 15 10  4 10  4 19  7 14  1 10 10 15  6  4 11 13\n",
            " 14 17  8  6  6  6  8  6 14 16 15 10 17 11 10 10 10 14 10 13  7  8  6 14\n",
            " 18 14  1  6 18 19 13  1  1 18 15  4 16 18 13 16 10 10]\n"
          ]
        }
      ]
    },
    {
      "cell_type": "code",
      "source": [
        "print( reco_0_v2[:,51] )\n",
        "# not sure the meaning\n",
        "print( len(np.where(reco_0_v2[:,52]==1)[0]) )"
      ],
      "metadata": {
        "colab": {
          "base_uri": "https://localhost:8080/"
        },
        "id": "RaPbmWEikGp7",
        "outputId": "85670914-6d69-4440-d32b-dd72be0ada18"
      },
      "execution_count": 52,
      "outputs": [
        {
          "output_type": "stream",
          "name": "stdout",
          "text": [
            "[0. 0. 0. ... 0. 0. 0.]\n",
            "330\n"
          ]
        }
      ]
    },
    {
      "cell_type": "code",
      "source": [
        "print(reco_0_v2[0,57:65])\n",
        "print(len(reco_0_v2[0,57:65]))\n",
        "print(reco_0_v2[10,65:67])\n",
        "print(reco_0_v2[10,65])\n",
        "print(reco_0_v2[10,66])\n",
        "# print(reco_0_v2[:,54])"
      ],
      "metadata": {
        "colab": {
          "base_uri": "https://localhost:8080/"
        },
        "id": "meFNKsmWl1_u",
        "outputId": "0946e8ca-6236-46ee-8e62-f65a0867c3f9"
      },
      "execution_count": 62,
      "outputs": [
        {
          "output_type": "stream",
          "name": "stdout",
          "text": [
            "[0. 0. 0. 0. 0. 0. 0. 1.]\n",
            "8\n",
            "[-52.9 -57.3]\n",
            "-52.9\n",
            "-57.3\n"
          ]
        }
      ]
    },
    {
      "cell_type": "code",
      "source": [
        ""
      ],
      "metadata": {
        "colab": {
          "base_uri": "https://localhost:8080/"
        },
        "id": "EBGILIMmx8ws",
        "outputId": "4536cadc-1c06-4184-abea-5c661753c976"
      },
      "execution_count": 96,
      "outputs": [
        {
          "output_type": "stream",
          "name": "stdout",
          "text": [
            "19\n",
            "[ 1  3  4  5  6  7  8  9 10 11 12 13 14 15 16 17 18 19 20]\n"
          ]
        }
      ]
    },
    {
      "cell_type": "code",
      "source": [
        "# need the code of AA\n",
        "print(len(np.unique(aa_list)))\n",
        "print(np.unique(aa_list))"
      ],
      "metadata": {
        "colab": {
          "base_uri": "https://localhost:8080/"
        },
        "id": "WNGc1385ySqJ",
        "outputId": "7128cb88-9c7a-44b5-c6ac-528a0b2a3cb2"
      },
      "execution_count": 104,
      "outputs": [
        {
          "output_type": "stream",
          "name": "stdout",
          "text": [
            "19\n",
            "[ 1  3  4  5  6  7  8  9 10 11 12 13 14 15 16 17 18 19 20]\n",
            "['M' 'K' 'T' 'A' 'Y' 'I' 'A' 'K' 'Q' 'R' 'Q' 'I' 'S' 'F' 'V' 'K' 'S' 'H'\n",
            " 'F' 'S' 'R' 'Q' 'L' 'E' 'E' 'R' 'L' 'G' 'L' 'I' 'E' 'V' 'Q' 'A' 'P' 'I'\n",
            " 'L' 'S' 'R' 'V' 'G' 'D' 'G' 'T' 'Q' 'D' 'N' 'L' 'S' 'G' 'A' 'E' 'K' 'A'\n",
            " 'V' 'Q' 'V' 'K' 'V' 'K' 'A' 'L' 'P' 'D' 'A' 'Q' 'F' 'E' 'V' 'V' 'H' 'S'\n",
            " 'L' 'A' 'K' 'W' 'K' 'R' 'Q' 'T' 'L' 'G' 'Q' 'H' 'D' 'F' 'S' 'A' 'G' 'E'\n",
            " 'G' 'L' 'Y' 'T' 'H' 'M' 'K' 'A' 'L' 'R' 'P' 'D' 'E' 'D' 'R' 'L' 'S' 'P'\n",
            " 'L' 'H' 'S' 'V' 'Y' 'V' 'D' 'Q' 'W' 'D' 'W' 'E' 'R' 'V' 'M' 'G' 'D' 'G'\n",
            " 'E' 'R' 'Q' 'F' 'S' 'T' 'L' 'K' 'S' 'T' 'V' 'E' 'A' 'I' 'W' 'A' 'G' 'I'\n",
            " 'K' 'A' 'T' 'E' 'A' 'A' 'V' 'S' 'E' 'E' 'F' 'G' 'L' 'A' 'P' 'F' 'L' 'P'\n",
            " 'D' 'Q' 'I' 'H' 'F' 'V' 'H' 'S' 'Q' 'E' 'L' 'L' 'S' 'R' 'Y' 'P' 'D' 'L'\n",
            " 'D' 'A' 'K' 'G' 'R' 'E' 'R' 'A' 'I' 'A' 'K' 'D' 'L' 'G' 'A' 'V' 'F' 'L'\n",
            " 'V' 'G' 'I' 'G' 'G' 'K' 'L' 'S' 'D' 'G' 'H' 'R' 'H' 'D' 'V' 'R' 'A' 'P'\n",
            " 'D' 'Y' 'D' 'D' 'W' 'S' 'T' 'P' 'S' 'E' 'L' 'G' 'H' 'A' 'G' 'L' 'N' 'G'\n",
            " 'D' 'I' 'L' 'V' 'W' 'N' 'P' 'V' 'L' 'E' 'D' 'A' 'F' 'E' 'L' 'S' 'S' 'M'\n",
            " 'G' 'I' 'R' 'V' 'D' 'A' 'D' 'T' 'L' 'K' 'H' 'Q' 'L' 'A' 'L' 'T' 'G' 'D'\n",
            " 'E' 'D' 'R' 'L' 'E' 'L' 'E' 'W' 'H' 'Q' 'A' 'L' 'L' 'R' 'G' 'E' 'M' 'P'\n",
            " 'Q' 'T' 'I' 'G' 'G' 'G' 'I' 'G' 'Q' 'S' 'R' 'L' 'T' 'M' 'L' 'L' 'L' 'Q'\n",
            " 'L' 'P' 'H' 'I' 'G' 'Q' 'V' 'Q' 'A' 'G' 'V' 'W' 'P' 'A' 'A' 'V' 'R' 'E'\n",
            " 'S' 'V' 'P' 'S' 'L' 'L']\n",
            "['A' 'D' 'E' 'F' 'G' 'H' 'I' 'K' 'L' 'M' 'N' 'P' 'Q' 'R' 'S' 'T' 'V' 'W'\n",
            " 'Y']\n"
          ]
        }
      ]
    },
    {
      "cell_type": "code",
      "source": [
        "aa_name_reco_0_v2=np.array(list('MKTAYIAKQRQISFVKSHFSRQLEERLGLIEVQAPILSRVGDGTQDNLSGAEKAVQVKVKALPDAQFEVVHSLAKWKRQTLGQHDFSAGEGLYTHMKALRPDEDRLSPLHSVYVDQWDWERVMGDGERQFSTLKSTVEAIWAGIKATEAAVSEEFGLAPFLPDQIHFVHSQELLSRYPDLDAKGRERAIAKDLGAVFLVGIGGKLSDGHRHDVRAPDYDDWSTPSELGHAGLNGDILVWNPVLEDAFELSSMGIRVDADTLKHQLALTGDEDRLELEWHQALLRGEMPQTIGGGIGQSRLTMLLLQLPHIGQVQAGVWPAAVRESVPSLL'))\n",
        "# print(aa_name_reco_0_v2)\n",
        "print(np.unique(aa_name_reco_0_v2))"
      ],
      "metadata": {
        "colab": {
          "base_uri": "https://localhost:8080/"
        },
        "id": "z5MIDd9c0sKp",
        "outputId": "8f72098a-1558-485b-fc99-e4567cc4940d"
      },
      "execution_count": 106,
      "outputs": [
        {
          "output_type": "stream",
          "name": "stdout",
          "text": [
            "['A' 'D' 'E' 'F' 'G' 'H' 'I' 'K' 'L' 'M' 'N' 'P' 'Q' 'R' 'S' 'T' 'V' 'W'\n",
            " 'Y']\n"
          ]
        }
      ]
    },
    {
      "cell_type": "code",
      "source": [
        "aa_list,n_aa = read_AA_from_sparse_coding(reco_1_v2)\n",
        "print(len(np.unique(aa_list)))\n",
        "print(np.unique(aa_list))"
      ],
      "metadata": {
        "colab": {
          "base_uri": "https://localhost:8080/"
        },
        "id": "au6m8Mym0ySm",
        "outputId": "af760121-f711-4672-8913-edbdde0e4ebd"
      },
      "execution_count": 107,
      "outputs": [
        {
          "output_type": "stream",
          "name": "stdout",
          "text": [
            "20\n",
            "[ 1  2  3  4  5  6  7  8  9 10 11 12 13 14 15 16 17 18 19 20]\n"
          ]
        }
      ]
    },
    {
      "cell_type": "code",
      "source": [
        "aa_name_reco_1_v2=np.array(list('SRMPSPPMPVPPAALFNRLLDDLGFSAGPALCTMLDTWNEDLFSALPTNADLYRECKFLSTLPSDVVEWGDAYVPERTQIDIRAHGDVAFPTLPATRDGLGLYYEALSRFFHAELRAREESYRTVLANFCSALYRYLRASVRQLHRQAHMRGRDRDLGEMLRATIADRYYRETARLARVLFLHLYLFLTREILWAAYAEQMMRPDLFDCLCCDLESWRQLAGLFQPFMFVNGALTVRGVPIEARRLRELNHIREHLNLPLVRSAATEEPGAPLTTPPTLHGNQARASGYFMVLIRAKLDSYSSFTTSPSEAVMREHAYSRAPTKNNYGSTIEGLLDLPDDDAPEEAGLAAPRLSFLPAGHTRRLST'))\n",
        "# print(aa_name_reco_0_v2)\n",
        "print(\"\".join(np.unique(aa_name_reco_1_v2)))"
      ],
      "metadata": {
        "colab": {
          "base_uri": "https://localhost:8080/"
        },
        "id": "1BkpGtnv09QT",
        "outputId": "4748079f-4650-4ec0-a191-5e698c248f63"
      },
      "execution_count": 109,
      "outputs": [
        {
          "output_type": "stream",
          "name": "stdout",
          "text": [
            "ACDEFGHIKLMNPQRSTVWY\n"
          ]
        }
      ]
    },
    {
      "cell_type": "code",
      "source": [
        "# function to extract the amino acids\n",
        "def read_info_from_sparse_coding(reco_0_v2):\n",
        "  # print(reco_0_v2[:,50])\n",
        "  aa_index_list = np.where(reco_0_v2[:,50]==1)[0]\n",
        "  # print(aa_index_list)\n",
        "  # n_aa = aa_index_list.shape[0]\n",
        "  n_aa = np.amax(aa_index_list)+1\n",
        "  # print(n_aa)\n",
        "  aa_list = np.zeros(n_aa, dtype=int)\n",
        "  ss_list = np.zeros(n_aa, dtype=int)\n",
        "  phi_list = np.zeros(n_aa)\n",
        "  psi_list = np.zeros(n_aa)\n",
        "  # print(aa_list)\n",
        "  for i in range(n_aa):\n",
        "    i_aa = aa_index_list[i]\n",
        "    # print(i_aa)\n",
        "    aa_list[i_aa] = np.where(reco_0_v2[i_aa,0:20]==1)[0]+1\n",
        "    ss_list[i_aa] = np.where(reco_0_v2[i_aa,57:65]==1)[0]+1\n",
        "    phi_list[i_aa] = reco_0_v2[i_aa,65]\n",
        "    psi_list[i_aa] = reco_0_v2[i_aa,66]\n",
        "  # print(aa_list)  \n",
        "  return n_aa,aa_list,ss_list,phi_list,psi_list"
      ],
      "metadata": {
        "id": "AlOs1i8UoI80"
      },
      "execution_count": 131,
      "outputs": []
    },
    {
      "cell_type": "code",
      "source": [
        "n_aa,aa_list,ss_list,phi_list,psi_list = read_info_from_sparse_coding(reco_0_v2)"
      ],
      "metadata": {
        "id": "4TkjDPtxqPco"
      },
      "execution_count": 91,
      "outputs": []
    },
    {
      "cell_type": "code",
      "source": [
        "print(n_aa)\n",
        "print(aa_list)\n",
        "print(ss_list)\n",
        "print(phi_list)\n",
        "print(psi_list)"
      ],
      "metadata": {
        "colab": {
          "base_uri": "https://localhost:8080/"
        },
        "id": "vUOqpBAmqrPQ",
        "outputId": "3069ac0d-858c-4822-baba-29620e6422a4"
      },
      "execution_count": 92,
      "outputs": [
        {
          "output_type": "stream",
          "name": "stdout",
          "text": [
            "330\n",
            "[11  9 17  1 20  8  1  9 14 15 14  8 16  5 18  9 16  7  5 16 15 14 10  4\n",
            "  4 15 10  6 10  8  4 18 14  1 13  8 10 16 15 18  6  3  6 17 14  3 12 10\n",
            " 16  6  1  4  9  1 18 14 18  9 18  9  1 10 13  3  1 14  5  4 18 18  7 16\n",
            " 10  1  9 19  9 15 14 17 10  6 14  7  3  5 16  1  6  4  6 10 20 17  7 11\n",
            "  9  1 10 15 13  3  4  3 15 10 16 13 10  7 16 18 20 18  3 14 19  3 19  4\n",
            " 15 18 11  6  3  6  4 15 14  5 16 17 10  9 16 17 18  4  1  8 19  1  6  8\n",
            "  9  1 17  4  1  1 18 16  4  4  5  6 10  1 13  5 10 13  3 14  8  7  5 18\n",
            "  7 16 14  4 10 10 16 15 20 13  3 10  3  1  9  6 15  4 15  1  8  1  9  3\n",
            " 10  6  1 18  5 10 18  6  8  6  6  9 10 16  3  6  7 15  7  3 18 15  1 13\n",
            "  3 20  3  3 19 16 17 13 16  4 10  6  7  1  6 10 12  6  3  8 10 18 19 12\n",
            " 13 18 10  4  3  1  5  4 10 16 16 11  6  8 15 18  3  1  3 17 10  9  7 14\n",
            " 10  1 10 17  6  3  4  3 15 10  4 10  4 19  7 14  1 10 10 15  6  4 11 13\n",
            " 14 17  8  6  6  6  8  6 14 16 15 10 17 11 10 10 10 14 10 13  7  8  6 14\n",
            " 18 14  1  6 18 19 13  1  1 18 15  4 16 18 13 16 10 10]\n",
            "[8 8 8 8 2 2 2 2 2 2 2 2 2 2 2 2 2 2 2 2 2 2 2 2 2 2 2 8 5 5 5 8 8 8 8 6 5\n",
            " 5 5 7 7 6 6 8 6 8 8 7 7 7 7 8 8 8 8 5 5 8 8 6 6 6 7 7 8 8 5 5 5 8 6 8 8 7\n",
            " 7 2 2 2 2 2 2 2 2 7 7 8 8 7 7 8 5 5 5 5 5 5 5 5 5 8 7 7 8 6 8 8 8 6 6 8 8\n",
            " 6 5 5 5 5 5 5 5 5 5 5 8 8 7 7 8 8 6 2 2 2 2 2 2 2 2 2 2 2 2 2 2 2 2 2 2 2\n",
            " 2 2 2 2 2 2 6 8 8 8 8 8 6 8 6 6 8 5 5 5 5 2 2 2 2 2 2 2 6 6 6 6 8 2 2 2 2\n",
            " 2 2 2 2 2 2 2 2 6 5 5 5 5 5 8 8 6 6 8 8 6 6 6 8 8 6 6 8 8 8 7 7 7 4 8 8 6\n",
            " 6 4 8 7 7 6 6 4 8 6 5 5 5 5 5 5 5 5 7 7 7 7 5 5 5 5 5 5 5 5 5 5 4 8 8 2 2\n",
            " 2 2 2 2 2 2 2 2 2 7 8 7 7 1 1 1 6 2 2 2 2 2 2 2 7 7 8 6 8 8 5 5 5 5 5 5 5\n",
            " 2 2 2 2 2 2 2 2 2 7 8 6 8 1 1 1 7 6 8 8 8 8 8 2 2 2 2 2 2 8 8 6 8 8]\n",
            "[   0.     0.     0.   360.   -41.6  -55.5  -54.4  -54.3  -61.4  -86.1\n",
            "  -52.9  -53.8  -55.7  -64.6  -61.1  -62.5  -80.5  -53.4  -67.3  -57.8\n",
            "  -70.4  -59.1  -75.1  -74.7  -87.6  -75.4 -123.5   61.8 -104.2 -102.2\n",
            "  -76.6 -124.3  -73.8  -87.   -63.3 -128.7 -106.8 -148.5  -81.   -70.7\n",
            "  107.3 -106.1   71.2  -95.3 -101.8  -72.7  -89.3   64.6  -65.7   82.1\n",
            " -102.3  -97.2  -70.1  -95.3  -71.1  -77.3 -113.   -99.   -88.   -77.6\n",
            "  -73.5 -123.1  -72.8 -107.8 -120.2 -113.4 -135.  -136.4  -83.1  -79.2\n",
            "  -83.3  176.6  -90.2  -36.5  -92.4  -51.8  -73.1  -73.1  -63.2  -66.\n",
            "  -71.9  -64.2  -67.5  -95.    61.6  -68.2  -94.8  -84.5   96.1 -117.9\n",
            " -147.2 -123.9 -143.  -126.8  -90.1  -75.3 -112.8 -150.4 -111.4 -126.6\n",
            "  -75.4 -110.4  -52.9  -89.7 -129.4  -71.2 -157.5  -52.9 -114.6 -101.5\n",
            " -114.   -76.5  -93.3 -106.7 -115.9 -150.6  -72.5  -95.7 -129.1 -149.5\n",
            " -140.9  -78.3  -96.3 -109.3  -60.5   76.5  -99.7  -80.5 -157.7  -62.5\n",
            "  -56.1  -72.   -66.8  -55.2  -71.9  -56.7  -57.5  -77.1  -62.1  -57.8\n",
            "  -67.7  -70.4  -74.   -66.6  -66.6  -52.3  -66.1  -71.7  -79.4  -67.8\n",
            "  -59.9  -67.1 -140.8  -75.4 -115.1   62.2  -80.   -69.1  -85.  -148.4\n",
            "  -69.5  -57.2  -71.5 -144.5  -99.2 -117.7 -106.6 -131.9  -71.7  -61.6\n",
            "  -67.7  -87.8  -66.9  -60.4  -69.   -78.9 -147.   -76.1  -70.2  -63.3\n",
            "  -82.6  -45.2  -70.6  -78.7  -73.7  -70.9  -60.8  -64.6  -61.1  -71.2\n",
            "  -72.7  -65.1 -108.6   83.4 -165.9 -118.7  -86.3  -93.   -76.7   81.7\n",
            " -101.2  148.4  -88.7  -75.3  -84.4  -58.8  -71.2 -140.5 -137.7  -62.8\n",
            "  -78.6 -139.9  -48.5 -144.3  -64.7  -63.8 -108.  -123.1  -94.4  -90.6\n",
            " -111.3 -142.7  -81.4  -65.3  -96.3  -67.4  -74.9  113.  -132.6  -80.2\n",
            "  121.6 -112.1 -136.8  175.6 -117.3  -91.1 -134.5 -129.   -79.9  -90.4\n",
            "  -80.7  -75.   -83.1   39.  -150.5  -73.9 -130.7  -79.1 -100.  -168.1\n",
            " -131.6 -140.1  164.8  -64.1  -87.3  -41.1 -109.2  -63.7  -80.8  -71.\n",
            "  -64.3  -79.6  -76.   -79.3  -59.8  -76.5  -91.9  -95.3   73.2 -122.8\n",
            "  -88.9  -81.9  -60.3  -58.2  -96.3  -88.7  -48.6  -70.4  -71.   -67.2\n",
            "  -71.3  -66.5  -66.9  -86.8   59.3 -101.9 -116.6  -75.6  -86.  -130.2\n",
            " -112.4 -154.3 -177.5 -122.1 -103.1  -69.6  -73.1  -75.8  -62.8  -78.4\n",
            "  -62.4  -65.8  -76.3  -88.4  -92.9   73.  -118.   -90.4 -138.6  -66.3\n",
            "  -62.4  -89.7 -115.8 -135.6 -102.5 -137.8 -106.4 -128.3  -55.4  -53.6\n",
            "  -69.1  -83.1  -54.4  -64.7  -87.2 -119.1  -88.7   72.2  -78.   100.3]\n",
            "[ 0.000e+00  0.000e+00  0.000e+00  1.579e+02 -5.680e+01 -5.110e+01\n",
            " -5.830e+01 -3.930e+01 -3.350e+01 -3.230e+01 -5.730e+01 -5.050e+01\n",
            " -4.170e+01 -4.490e+01 -5.420e+01 -2.990e+01 -5.360e+01 -5.030e+01\n",
            " -2.880e+01 -4.290e+01 -3.290e+01 -3.430e+01 -3.570e+01 -3.760e+01\n",
            " -4.050e+01 -2.890e+01  3.000e-01  4.430e+01  1.376e+02  1.529e+02\n",
            "  1.341e+02  1.551e+02  1.291e+02  1.376e+02  1.640e+02 -2.790e+01\n",
            "  1.650e+02  1.510e+02  1.370e+02  1.324e+02 -8.500e+00  1.420e+01\n",
            " -8.700e+00  1.430e+01  1.324e+02  1.085e+02 -8.500e+00 -1.302e+02\n",
            " -1.310e+01  7.000e-01 -1.620e+01  1.139e+02  1.354e+02  1.735e+02\n",
            "  1.145e+02  1.287e+02  1.370e+02  1.174e+02  1.207e+02 -2.410e+01\n",
            " -2.330e+01  6.490e+01 -1.970e+01  2.290e+01  1.556e+02  1.435e+02\n",
            "  1.525e+02  1.556e+02  1.449e+02  1.483e+02 -3.340e+01  1.641e+02\n",
            "  2.110e+01 -5.020e+01 -3.580e+01 -3.600e+01 -3.670e+01 -3.770e+01\n",
            " -4.160e+01 -3.580e+01 -4.070e+01 -4.030e+01 -4.300e+01  1.250e+01\n",
            "  4.870e+01  1.461e+02  1.797e+02  1.330e+02  8.000e-01  1.359e+02\n",
            "  1.758e+02  1.588e+02  1.536e+02  1.628e+02  8.970e+01  1.323e+02\n",
            "  1.394e+02  1.557e+02  1.311e+02  8.090e+01 -2.100e+00  1.300e+01\n",
            "  1.379e+02 -4.360e+01  1.188e+02  1.398e+02 -1.776e+02 -1.370e+01\n",
            " -3.840e+01  1.257e+02  1.680e+02 -2.600e+01  1.059e+02  1.193e+02\n",
            "  1.481e+02  1.438e+02  9.820e+01  1.148e+02  1.578e+02  1.502e+02\n",
            "  1.362e+02  1.373e+02  1.577e+02 -1.732e+02  1.247e+02  2.420e+01\n",
            " -4.100e+00  6.640e+01  1.657e+02 -3.540e+01 -2.840e+01 -3.910e+01\n",
            " -5.040e+01 -4.350e+01 -4.710e+01 -4.640e+01 -3.360e+01 -3.750e+01\n",
            " -4.580e+01 -3.900e+01 -3.660e+01 -2.150e+01 -4.140e+01 -4.790e+01\n",
            " -3.440e+01 -5.350e+01 -3.060e+01 -2.940e+01 -3.460e+01 -4.360e+01\n",
            " -3.950e+01  1.100e+00 -1.260e+01 -4.870e+01  1.390e+01  1.560e+01\n",
            "  1.217e+02  1.319e+02  1.544e+02 -1.860e+01  1.466e+02  1.496e+02\n",
            " -2.420e+01  1.535e+02  1.507e+02  1.498e+02  1.231e+02  1.249e+02\n",
            "  1.459e+02 -3.250e+01 -3.120e+01 -1.550e+01 -4.930e+01 -3.200e+01\n",
            " -4.160e+01 -2.010e+01  6.570e+01 -3.140e+01 -4.420e+01  1.539e+02\n",
            "  1.712e+02 -5.340e+01 -2.750e+01 -2.300e+01 -3.700e+01 -3.810e+01\n",
            " -4.180e+01 -5.310e+01 -3.170e+01 -3.890e+01 -3.550e+01 -4.790e+01\n",
            " -2.820e+01 -2.450e+01  1.008e+02  1.291e+02  1.115e+02  1.024e+02\n",
            "  1.455e+02  5.580e+01  1.004e+02 -3.210e+01  1.550e+02  1.251e+02\n",
            " -1.727e+02 -2.980e+01 -1.344e+02  3.930e+01  1.334e+02  1.626e+02\n",
            " -5.260e+01  1.449e+02  1.408e+02  1.424e+02  1.460e+02 -2.920e+01\n",
            "  2.300e+00 -3.990e+01  1.405e+02  1.035e+02  2.320e+01 -1.180e+01\n",
            "  1.302e+02  1.323e+02  1.694e+02 -1.000e-01 -2.220e+01 -1.740e+01\n",
            "  1.766e+02  1.366e+02  1.320e+02  3.590e+01  1.742e+02 -1.727e+02\n",
            "  1.522e+02  1.288e+02  1.357e+02  1.655e+02  1.166e+02  1.118e+02\n",
            " -1.710e+01 -4.160e+01 -8.900e+00  4.690e+01  1.727e+02  1.452e+02\n",
            "  1.092e+02  1.220e+02 -3.290e+01  1.542e+02  1.269e+02  1.796e+02\n",
            "  1.525e+02  1.394e+02  1.381e+02  1.450e+02 -1.719e+02 -3.680e+01\n",
            " -3.550e+01 -3.030e+01 -4.040e+01 -2.310e+01 -4.600e+01 -3.830e+01\n",
            " -3.350e+01 -1.850e+01 -2.720e+01 -9.000e-01  2.930e+01  5.940e+01\n",
            "  4.800e+00 -2.230e+01 -1.810e+01 -2.590e+01  9.800e+00  1.531e+02\n",
            " -5.450e+01 -4.230e+01 -3.570e+01 -3.940e+01 -3.000e+01 -4.220e+01\n",
            " -3.220e+01  6.700e+00  5.320e+01 -3.700e+00  1.516e+02  1.700e+02\n",
            "  1.272e+02  1.616e+02  1.375e+02  1.704e+02  1.768e+02  1.228e+02\n",
            "  1.287e+02  1.244e+02 -4.530e+01 -3.640e+01 -3.660e+01 -4.210e+01\n",
            " -4.460e+01 -2.390e+01 -3.840e+01 -2.350e+01 -1.240e+01  5.330e+01\n",
            "  1.440e+02 -5.100e+00  1.364e+02 -2.590e+01 -1.140e+01 -1.270e+01\n",
            " -4.200e+00  1.456e+02  9.970e+01 -1.697e+02  1.311e+02  1.524e+02\n",
            "  1.466e+02 -3.630e+01 -3.070e+01 -3.290e+01 -4.010e+01 -5.570e+01\n",
            " -1.870e+01  1.227e+02  1.554e+02  3.070e+01  1.321e+02  3.600e+02]\n"
          ]
        }
      ]
    },
    {
      "cell_type": "code",
      "source": [
        "AA_Dict = np.array(list('ARNDBCEQZGHILKMFPSTWYV'))\n",
        "AA_Dict = np.array(list('ABDEFGHIKLMNPQRSTVWY'))\n",
        "AA_Dict = np.array(list('ACDEFGHIKLMNPQRSTVWY'))\n",
        "\n",
        "print(AA_Dict)\n",
        "print(AA_Dict.shape)\n",
        "print(AA_Dict[[1,2]])"
      ],
      "metadata": {
        "colab": {
          "base_uri": "https://localhost:8080/"
        },
        "id": "8UHMZErstq3s",
        "outputId": "61441080-1e6e-40db-bcd7-0b850152e2f6"
      },
      "execution_count": 110,
      "outputs": [
        {
          "output_type": "stream",
          "name": "stdout",
          "text": [
            "['A' 'C' 'D' 'E' 'F' 'G' 'H' 'I' 'K' 'L' 'M' 'N' 'P' 'Q' 'R' 'S' 'T' 'V'\n",
            " 'W' 'Y']\n",
            "(20,)\n",
            "['C' 'D']\n"
          ]
        }
      ]
    },
    {
      "cell_type": "code",
      "source": [
        "# only need to consider 20 AA according to the web\n",
        "# how to handle other AA?"
      ],
      "metadata": {
        "id": "Q-RliN702Huu"
      },
      "execution_count": null,
      "outputs": []
    },
    {
      "cell_type": "code",
      "source": [
        "# translate num to code\n",
        "# n_aa,aa_list,ss_list,phi_list,psi_list\n",
        "def translate_AA_to_print(aa_list):\n",
        "  # AA_Dict = np.array(list('ACDEFGHIKLMNPQRSTVWY'))\n",
        "  # aa_name_list=AA_Dict[aa_list-1]\n",
        "\n",
        "  # to be save with 0 position problem: mark it as X\n",
        "  AA_Dict = np.array(list('XACDEFGHIKLMNPQRSTVWY'))\n",
        "  aa_name_list=AA_Dict[aa_list]\n",
        "  return aa_name_list"
      ],
      "metadata": {
        "id": "x5xFbvT_tCRt"
      },
      "execution_count": 115,
      "outputs": []
    },
    {
      "cell_type": "code",
      "source": [
        "print(aa_list)\n",
        "print(translate_AA_to_print(aa_list))\n",
        "print(\"\".join(translate_AA_to_print(aa_list)))"
      ],
      "metadata": {
        "colab": {
          "base_uri": "https://localhost:8080/"
        },
        "id": "HEV6q8UJuxtW",
        "outputId": "9222683f-b3fe-4792-a771-206d208141e6"
      },
      "execution_count": 116,
      "outputs": [
        {
          "output_type": "stream",
          "name": "stdout",
          "text": [
            "[16 15 11 13 16 13 13 11 13 18 13 13  1  1 10  5 12 15 10 10  3  3 10  6\n",
            "  5 16  1  6 13  1 10  2 17 11 10  3 17 19 12  4  3 10  5 16  1 10 13 17\n",
            " 12  1  3 10 20 15  4  2  9  5 10 16 17 10 13 16  3 18 18  4 19  6  3  1\n",
            " 20 18 13  4 15 17 14  8  3  8 15  1  7  6  3 18  1  5 13 17 10 13  1 17\n",
            " 15  3  6 10  6 10 20 20  4  1 10 16 15  5  5  7  1  4 10 15  1 15  4  4\n",
            " 16 20 15 17 18 10  1 12  5  2 16  1 10 20 15 20 10 15  1 16 18 15 14 10\n",
            "  7 15 14  1  7 11 15  6 15  3 15  3 10  6  4 11 10 15  1 17  8  1  3 15\n",
            " 20 20 15  4 17  1 15 10  1 15 18 10  5 10  7 10 20 10  5 10 17 15  4  8\n",
            " 10 19  1  1 20  1  4 14 11 11 15 13  3 10  5  3  2 10  2  2  3 10  4 16\n",
            " 19 15 14 10  1  6 10  5 14 13  5 11  5 18 12  6  1 10 17 18 15  6 18 13\n",
            "  8  4  1 15 15 10 15  4 10 12  7  8 15  4  7 10 12 10 13 10 18 15 16  1\n",
            "  1 17  4  4 13  6  1 13 10 17 17 13 13 17 10  7  6 12 14  1 15  1 16  6\n",
            " 20  5 11 18 10  8 15  1  9 10  3 16 20 16 16  5 17 17 16 13 16  4  1 18\n",
            " 11 15  4  7  1 20 16 15  1 13 17  9 12 12 20  6 16 17  8  4  6 10 10  3\n",
            " 10 13  3  3  3  1 13  4  4  1  6 10  1  1 13 15 10 16  5 10 13  1  6  7\n",
            " 17 15 15 10 16 17]\n",
            "['S' 'R' 'M' 'P' 'S' 'P' 'P' 'M' 'P' 'V' 'P' 'P' 'A' 'A' 'L' 'F' 'N' 'R'\n",
            " 'L' 'L' 'D' 'D' 'L' 'G' 'F' 'S' 'A' 'G' 'P' 'A' 'L' 'C' 'T' 'M' 'L' 'D'\n",
            " 'T' 'W' 'N' 'E' 'D' 'L' 'F' 'S' 'A' 'L' 'P' 'T' 'N' 'A' 'D' 'L' 'Y' 'R'\n",
            " 'E' 'C' 'K' 'F' 'L' 'S' 'T' 'L' 'P' 'S' 'D' 'V' 'V' 'E' 'W' 'G' 'D' 'A'\n",
            " 'Y' 'V' 'P' 'E' 'R' 'T' 'Q' 'I' 'D' 'I' 'R' 'A' 'H' 'G' 'D' 'V' 'A' 'F'\n",
            " 'P' 'T' 'L' 'P' 'A' 'T' 'R' 'D' 'G' 'L' 'G' 'L' 'Y' 'Y' 'E' 'A' 'L' 'S'\n",
            " 'R' 'F' 'F' 'H' 'A' 'E' 'L' 'R' 'A' 'R' 'E' 'E' 'S' 'Y' 'R' 'T' 'V' 'L'\n",
            " 'A' 'N' 'F' 'C' 'S' 'A' 'L' 'Y' 'R' 'Y' 'L' 'R' 'A' 'S' 'V' 'R' 'Q' 'L'\n",
            " 'H' 'R' 'Q' 'A' 'H' 'M' 'R' 'G' 'R' 'D' 'R' 'D' 'L' 'G' 'E' 'M' 'L' 'R'\n",
            " 'A' 'T' 'I' 'A' 'D' 'R' 'Y' 'Y' 'R' 'E' 'T' 'A' 'R' 'L' 'A' 'R' 'V' 'L'\n",
            " 'F' 'L' 'H' 'L' 'Y' 'L' 'F' 'L' 'T' 'R' 'E' 'I' 'L' 'W' 'A' 'A' 'Y' 'A'\n",
            " 'E' 'Q' 'M' 'M' 'R' 'P' 'D' 'L' 'F' 'D' 'C' 'L' 'C' 'C' 'D' 'L' 'E' 'S'\n",
            " 'W' 'R' 'Q' 'L' 'A' 'G' 'L' 'F' 'Q' 'P' 'F' 'M' 'F' 'V' 'N' 'G' 'A' 'L'\n",
            " 'T' 'V' 'R' 'G' 'V' 'P' 'I' 'E' 'A' 'R' 'R' 'L' 'R' 'E' 'L' 'N' 'H' 'I'\n",
            " 'R' 'E' 'H' 'L' 'N' 'L' 'P' 'L' 'V' 'R' 'S' 'A' 'A' 'T' 'E' 'E' 'P' 'G'\n",
            " 'A' 'P' 'L' 'T' 'T' 'P' 'P' 'T' 'L' 'H' 'G' 'N' 'Q' 'A' 'R' 'A' 'S' 'G'\n",
            " 'Y' 'F' 'M' 'V' 'L' 'I' 'R' 'A' 'K' 'L' 'D' 'S' 'Y' 'S' 'S' 'F' 'T' 'T'\n",
            " 'S' 'P' 'S' 'E' 'A' 'V' 'M' 'R' 'E' 'H' 'A' 'Y' 'S' 'R' 'A' 'P' 'T' 'K'\n",
            " 'N' 'N' 'Y' 'G' 'S' 'T' 'I' 'E' 'G' 'L' 'L' 'D' 'L' 'P' 'D' 'D' 'D' 'A'\n",
            " 'P' 'E' 'E' 'A' 'G' 'L' 'A' 'A' 'P' 'R' 'L' 'S' 'F' 'L' 'P' 'A' 'G' 'H'\n",
            " 'T' 'R' 'R' 'L' 'S' 'T']\n",
            "SRMPSPPMPVPPAALFNRLLDDLGFSAGPALCTMLDTWNEDLFSALPTNADLYRECKFLSTLPSDVVEWGDAYVPERTQIDIRAHGDVAFPTLPATRDGLGLYYEALSRFFHAELRAREESYRTVLANFCSALYRYLRASVRQLHRQAHMRGRDRDLGEMLRATIADRYYRETARLARVLFLHLYLFLTREILWAAYAEQMMRPDLFDCLCCDLESWRQLAGLFQPFMFVNGALTVRGVPIEARRLRELNHIREHLNLPLVRSAATEEPGAPLTTPPTLHGNQARASGYFMVLIRAKLDSYSSFTTSPSEAVMREHAYSRAPTKNNYGSTIEGLLDLPDDDAPEEAGLAAPRLSFLPAGHTRRLST\n"
          ]
        }
      ]
    },
    {
      "cell_type": "code",
      "source": [
        "n_aa_0,aa_list_0,ss_list_0,phi_list_0,psi_list_0 = read_info_from_sparse_coding(reco_0_v2)\n",
        "n_aa_1,aa_list_1,ss_list_1,phi_list_1,psi_list_1 = read_info_from_sparse_coding(reco_1_v2)"
      ],
      "metadata": {
        "id": "BJMMtJ3s3qk7"
      },
      "execution_count": 118,
      "outputs": []
    },
    {
      "cell_type": "code",
      "source": [
        "print(np.unique(ss_list_0))"
      ],
      "metadata": {
        "colab": {
          "base_uri": "https://localhost:8080/"
        },
        "id": "ti2y0Ken4Krp",
        "outputId": "57752108-74ac-478a-8f5a-5dd5086858bc"
      },
      "execution_count": 120,
      "outputs": [
        {
          "output_type": "stream",
          "name": "stdout",
          "text": [
            "[1 2 4 5 6 7 8]\n"
          ]
        }
      ]
    },
    {
      "cell_type": "code",
      "source": [
        "def translate_SS_to_print(ss_list):\n",
        "  # AA_Dict = np.array(list('ACDEFGHIKLMNPQRSTVWY'))\n",
        "  # aa_name_list=AA_Dict[aa_list-1]\n",
        "\n",
        "  # to be save with 0 position problem: mark it as X\n",
        "  SS_Dict = np.array(list('XGHIBESTC'))\n",
        "  ss_name_list=SS_Dict[ss_list]\n",
        "  return ss_name_list"
      ],
      "metadata": {
        "id": "na99-0KR3lD0"
      },
      "execution_count": 132,
      "outputs": []
    },
    {
      "cell_type": "code",
      "source": [
        "print(ss_list_0)\n",
        "print(\"\".join(translate_SS_to_print(ss_list_0)))\n",
        "print(ss_list_1.shape)\n",
        "print(\"\".join(translate_SS_to_print(ss_list_1)))"
      ],
      "metadata": {
        "colab": {
          "base_uri": "https://localhost:8080/"
        },
        "id": "6MpB3PWQ4Y-G",
        "outputId": "eee14ac6-aede-4a9f-9ede-ce438d891222"
      },
      "execution_count": 135,
      "outputs": [
        {
          "output_type": "stream",
          "name": "stdout",
          "text": [
            "[8 8 8 8 2 2 2 2 2 2 2 2 2 2 2 2 2 2 2 2 2 2 2 2 2 2 2 8 5 5 5 8 8 8 8 6 5\n",
            " 5 5 7 7 6 6 8 6 8 8 7 7 7 7 8 8 8 8 5 5 8 8 6 6 6 7 7 8 8 5 5 5 8 6 8 8 7\n",
            " 7 2 2 2 2 2 2 2 2 7 7 8 8 7 7 8 5 5 5 5 5 5 5 5 5 8 7 7 8 6 8 8 8 6 6 8 8\n",
            " 6 5 5 5 5 5 5 5 5 5 5 8 8 7 7 8 8 6 2 2 2 2 2 2 2 2 2 2 2 2 2 2 2 2 2 2 2\n",
            " 2 2 2 2 2 2 6 8 8 8 8 8 6 8 6 6 8 5 5 5 5 2 2 2 2 2 2 2 6 6 6 6 8 2 2 2 2\n",
            " 2 2 2 2 2 2 2 2 6 5 5 5 5 5 8 8 6 6 8 8 6 6 6 8 8 6 6 8 8 8 7 7 7 4 8 8 6\n",
            " 6 4 8 7 7 6 6 4 8 6 5 5 5 5 5 5 5 5 7 7 7 7 5 5 5 5 5 5 5 5 5 5 4 8 8 2 2\n",
            " 2 2 2 2 2 2 2 2 2 7 8 7 7 1 1 1 6 2 2 2 2 2 2 2 7 7 8 6 8 8 5 5 5 5 5 5 5\n",
            " 2 2 2 2 2 2 2 2 2 7 8 6 8 1 1 1 7 6 8 8 8 8 8 2 2 2 2 2 2 8 8 6 8 8]\n",
            "CCCCHHHHHHHHHHHHHHHHHHHHHHHCEEECCCCSEEETTSSCSCCTTTTCCCCEECCSSSTTCCEEECSCCTTHHHHHHHHTTCCTTCEEEEEEEEECTTCSCCCSSCCSEEEEEEEEEECCTTCCSHHHHHHHHHHHHHHHHHHHHHHHHHSCCCCCSCSSCEEEEHHHHHHHSSSSCHHHHHHHHHHHHSEEEEECCSSCCSSSCCSSCCCTTTBCCSSBCTTSSBCSEEEEEEEETTTTEEEEEEEEEEBCCHHHHHHHHHHHTCTTGGGSHHHHHHHTTCSCCEEEEEEEHHHHHHHHHTCSCGGGTSCCCCCHHHHHHCCSCC\n",
            "(366,)\n",
            "CCSCCCCCCCCHHHHHHHHHHHHTCTTHHHHHHHHHHCCCCCSTTSCCCGGGGTTCGGGCSCHHHHHHHHHHCCCCCSSCCTTCCCSSCCCCCCSSGGGHHHHHHHHHHHHHHHHHHHHHHHHHHHHHHHHHHHHHHHHHHHHHHHHHHHTTCCCCHHHHHHHHIIIIIHHHHHHHHHHHHHHHHHHHHHHHHHHHHHHHHTCHHHHTTEEEEESCSHHHHSSCCSCSBCCSEEEETTEECCHHHHHHHHHHHHHTTCCCCBCTTTSCTTSCSCCCCCCCTTSCCHHHHHHHHHHHHHTSTTCCCCCCCCCCCCCCCCCCCCCCCCCCCCCCCCCCCCCCCCCCCCCCCCCEEEECCCCCCCCCCC\n"
          ]
        }
      ]
    },
    {
      "cell_type": "code",
      "source": [
        "print( reco_0_v2[0,0:68] )"
      ],
      "metadata": {
        "colab": {
          "base_uri": "https://localhost:8080/"
        },
        "id": "VBq9OcPpWMHg",
        "outputId": "9723ff22-7193-46a6-ee9b-604bf1426f41"
      },
      "execution_count": 22,
      "outputs": [
        {
          "output_type": "stream",
          "name": "stdout",
          "text": [
            "[  0.           0.           0.           0.           0.\n",
            "   0.           0.           0.           0.           0.\n",
            "   1.           0.           0.           0.           0.\n",
            "   0.           0.           0.           0.           0.\n",
            "   0.           0.           0.           0.           0.\n",
            "   0.           0.           0.           0.           0.\n",
            "   1.           0.           0.           0.           0.\n",
            "   0.           0.           0.           0.           0.\n",
            "   1.           0.           0.           0.           0.\n",
            "   0.           0.           0.39338122   1.           1.\n",
            "   1.           0.           1.           0.           0.\n",
            "   0.           0.           0.           0.           0.\n",
            "   0.           0.           0.           0.           1.\n",
            "   0.           0.         200.1       ]\n"
          ]
        }
      ]
    },
    {
      "cell_type": "code",
      "source": [
        ""
      ],
      "metadata": {
        "id": "SMR2LoWBXtBv"
      },
      "execution_count": 9,
      "outputs": []
    }
  ]
}