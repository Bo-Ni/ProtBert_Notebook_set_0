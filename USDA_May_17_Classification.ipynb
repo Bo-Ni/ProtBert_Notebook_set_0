{
  "nbformat": 4,
  "nbformat_minor": 0,
  "metadata": {
    "colab": {
      "name": "USDA_May_17_Classification.ipynb",
      "provenance": [],
      "machine_shape": "hm",
      "authorship_tag": "ABX9TyNBouexrWzt4USG3WQAiLaG",
      "include_colab_link": true
    },
    "kernelspec": {
      "name": "python3",
      "display_name": "Python 3"
    },
    "language_info": {
      "name": "python"
    },
    "accelerator": "GPU",
    "widgets": {
      "application/vnd.jupyter.widget-state+json": {
        "b78f4f6dbd2742abb80d901cf4ab67fe": {
          "model_module": "@jupyter-widgets/controls",
          "model_name": "HBoxModel",
          "model_module_version": "1.5.0",
          "state": {
            "_dom_classes": [],
            "_model_module": "@jupyter-widgets/controls",
            "_model_module_version": "1.5.0",
            "_model_name": "HBoxModel",
            "_view_count": null,
            "_view_module": "@jupyter-widgets/controls",
            "_view_module_version": "1.5.0",
            "_view_name": "HBoxView",
            "box_style": "",
            "children": [
              "IPY_MODEL_f630cb2f2aec48b2bb52a68a91c9ede7",
              "IPY_MODEL_918d8c100fc4428b86ca07e42cdffc4c",
              "IPY_MODEL_fa1db651836644a88ffe1082e9d560d4"
            ],
            "layout": "IPY_MODEL_3f787649bcdc40bcb9fe6e2581721084"
          }
        },
        "f630cb2f2aec48b2bb52a68a91c9ede7": {
          "model_module": "@jupyter-widgets/controls",
          "model_name": "HTMLModel",
          "model_module_version": "1.5.0",
          "state": {
            "_dom_classes": [],
            "_model_module": "@jupyter-widgets/controls",
            "_model_module_version": "1.5.0",
            "_model_name": "HTMLModel",
            "_view_count": null,
            "_view_module": "@jupyter-widgets/controls",
            "_view_module_version": "1.5.0",
            "_view_name": "HTMLView",
            "description": "",
            "description_tooltip": null,
            "layout": "IPY_MODEL_fc38fcd3488f4e44bfc29e80f21184ba",
            "placeholder": "​",
            "style": "IPY_MODEL_c704a9a2e80d4959911be3fbfdc14f0d",
            "value": "Downloading: 100%"
          }
        },
        "918d8c100fc4428b86ca07e42cdffc4c": {
          "model_module": "@jupyter-widgets/controls",
          "model_name": "FloatProgressModel",
          "model_module_version": "1.5.0",
          "state": {
            "_dom_classes": [],
            "_model_module": "@jupyter-widgets/controls",
            "_model_module_version": "1.5.0",
            "_model_name": "FloatProgressModel",
            "_view_count": null,
            "_view_module": "@jupyter-widgets/controls",
            "_view_module_version": "1.5.0",
            "_view_name": "ProgressView",
            "bar_style": "success",
            "description": "",
            "description_tooltip": null,
            "layout": "IPY_MODEL_9edbd8bc06d24b49a617f7af1141f7ce",
            "max": 86,
            "min": 0,
            "orientation": "horizontal",
            "style": "IPY_MODEL_6f0cad849bdd4a7295d4aa24e0aa42d8",
            "value": 86
          }
        },
        "fa1db651836644a88ffe1082e9d560d4": {
          "model_module": "@jupyter-widgets/controls",
          "model_name": "HTMLModel",
          "model_module_version": "1.5.0",
          "state": {
            "_dom_classes": [],
            "_model_module": "@jupyter-widgets/controls",
            "_model_module_version": "1.5.0",
            "_model_name": "HTMLModel",
            "_view_count": null,
            "_view_module": "@jupyter-widgets/controls",
            "_view_module_version": "1.5.0",
            "_view_name": "HTMLView",
            "description": "",
            "description_tooltip": null,
            "layout": "IPY_MODEL_dcd635304ff64e5d8c43fe1bdecf3570",
            "placeholder": "​",
            "style": "IPY_MODEL_ae78c201d2894a03ba93174b7b8a8b69",
            "value": " 86.0/86.0 [00:00&lt;00:00, 1.81kB/s]"
          }
        },
        "3f787649bcdc40bcb9fe6e2581721084": {
          "model_module": "@jupyter-widgets/base",
          "model_name": "LayoutModel",
          "model_module_version": "1.2.0",
          "state": {
            "_model_module": "@jupyter-widgets/base",
            "_model_module_version": "1.2.0",
            "_model_name": "LayoutModel",
            "_view_count": null,
            "_view_module": "@jupyter-widgets/base",
            "_view_module_version": "1.2.0",
            "_view_name": "LayoutView",
            "align_content": null,
            "align_items": null,
            "align_self": null,
            "border": null,
            "bottom": null,
            "display": null,
            "flex": null,
            "flex_flow": null,
            "grid_area": null,
            "grid_auto_columns": null,
            "grid_auto_flow": null,
            "grid_auto_rows": null,
            "grid_column": null,
            "grid_gap": null,
            "grid_row": null,
            "grid_template_areas": null,
            "grid_template_columns": null,
            "grid_template_rows": null,
            "height": null,
            "justify_content": null,
            "justify_items": null,
            "left": null,
            "margin": null,
            "max_height": null,
            "max_width": null,
            "min_height": null,
            "min_width": null,
            "object_fit": null,
            "object_position": null,
            "order": null,
            "overflow": null,
            "overflow_x": null,
            "overflow_y": null,
            "padding": null,
            "right": null,
            "top": null,
            "visibility": null,
            "width": null
          }
        },
        "fc38fcd3488f4e44bfc29e80f21184ba": {
          "model_module": "@jupyter-widgets/base",
          "model_name": "LayoutModel",
          "model_module_version": "1.2.0",
          "state": {
            "_model_module": "@jupyter-widgets/base",
            "_model_module_version": "1.2.0",
            "_model_name": "LayoutModel",
            "_view_count": null,
            "_view_module": "@jupyter-widgets/base",
            "_view_module_version": "1.2.0",
            "_view_name": "LayoutView",
            "align_content": null,
            "align_items": null,
            "align_self": null,
            "border": null,
            "bottom": null,
            "display": null,
            "flex": null,
            "flex_flow": null,
            "grid_area": null,
            "grid_auto_columns": null,
            "grid_auto_flow": null,
            "grid_auto_rows": null,
            "grid_column": null,
            "grid_gap": null,
            "grid_row": null,
            "grid_template_areas": null,
            "grid_template_columns": null,
            "grid_template_rows": null,
            "height": null,
            "justify_content": null,
            "justify_items": null,
            "left": null,
            "margin": null,
            "max_height": null,
            "max_width": null,
            "min_height": null,
            "min_width": null,
            "object_fit": null,
            "object_position": null,
            "order": null,
            "overflow": null,
            "overflow_x": null,
            "overflow_y": null,
            "padding": null,
            "right": null,
            "top": null,
            "visibility": null,
            "width": null
          }
        },
        "c704a9a2e80d4959911be3fbfdc14f0d": {
          "model_module": "@jupyter-widgets/controls",
          "model_name": "DescriptionStyleModel",
          "model_module_version": "1.5.0",
          "state": {
            "_model_module": "@jupyter-widgets/controls",
            "_model_module_version": "1.5.0",
            "_model_name": "DescriptionStyleModel",
            "_view_count": null,
            "_view_module": "@jupyter-widgets/base",
            "_view_module_version": "1.2.0",
            "_view_name": "StyleView",
            "description_width": ""
          }
        },
        "9edbd8bc06d24b49a617f7af1141f7ce": {
          "model_module": "@jupyter-widgets/base",
          "model_name": "LayoutModel",
          "model_module_version": "1.2.0",
          "state": {
            "_model_module": "@jupyter-widgets/base",
            "_model_module_version": "1.2.0",
            "_model_name": "LayoutModel",
            "_view_count": null,
            "_view_module": "@jupyter-widgets/base",
            "_view_module_version": "1.2.0",
            "_view_name": "LayoutView",
            "align_content": null,
            "align_items": null,
            "align_self": null,
            "border": null,
            "bottom": null,
            "display": null,
            "flex": null,
            "flex_flow": null,
            "grid_area": null,
            "grid_auto_columns": null,
            "grid_auto_flow": null,
            "grid_auto_rows": null,
            "grid_column": null,
            "grid_gap": null,
            "grid_row": null,
            "grid_template_areas": null,
            "grid_template_columns": null,
            "grid_template_rows": null,
            "height": null,
            "justify_content": null,
            "justify_items": null,
            "left": null,
            "margin": null,
            "max_height": null,
            "max_width": null,
            "min_height": null,
            "min_width": null,
            "object_fit": null,
            "object_position": null,
            "order": null,
            "overflow": null,
            "overflow_x": null,
            "overflow_y": null,
            "padding": null,
            "right": null,
            "top": null,
            "visibility": null,
            "width": null
          }
        },
        "6f0cad849bdd4a7295d4aa24e0aa42d8": {
          "model_module": "@jupyter-widgets/controls",
          "model_name": "ProgressStyleModel",
          "model_module_version": "1.5.0",
          "state": {
            "_model_module": "@jupyter-widgets/controls",
            "_model_module_version": "1.5.0",
            "_model_name": "ProgressStyleModel",
            "_view_count": null,
            "_view_module": "@jupyter-widgets/base",
            "_view_module_version": "1.2.0",
            "_view_name": "StyleView",
            "bar_color": null,
            "description_width": ""
          }
        },
        "dcd635304ff64e5d8c43fe1bdecf3570": {
          "model_module": "@jupyter-widgets/base",
          "model_name": "LayoutModel",
          "model_module_version": "1.2.0",
          "state": {
            "_model_module": "@jupyter-widgets/base",
            "_model_module_version": "1.2.0",
            "_model_name": "LayoutModel",
            "_view_count": null,
            "_view_module": "@jupyter-widgets/base",
            "_view_module_version": "1.2.0",
            "_view_name": "LayoutView",
            "align_content": null,
            "align_items": null,
            "align_self": null,
            "border": null,
            "bottom": null,
            "display": null,
            "flex": null,
            "flex_flow": null,
            "grid_area": null,
            "grid_auto_columns": null,
            "grid_auto_flow": null,
            "grid_auto_rows": null,
            "grid_column": null,
            "grid_gap": null,
            "grid_row": null,
            "grid_template_areas": null,
            "grid_template_columns": null,
            "grid_template_rows": null,
            "height": null,
            "justify_content": null,
            "justify_items": null,
            "left": null,
            "margin": null,
            "max_height": null,
            "max_width": null,
            "min_height": null,
            "min_width": null,
            "object_fit": null,
            "object_position": null,
            "order": null,
            "overflow": null,
            "overflow_x": null,
            "overflow_y": null,
            "padding": null,
            "right": null,
            "top": null,
            "visibility": null,
            "width": null
          }
        },
        "ae78c201d2894a03ba93174b7b8a8b69": {
          "model_module": "@jupyter-widgets/controls",
          "model_name": "DescriptionStyleModel",
          "model_module_version": "1.5.0",
          "state": {
            "_model_module": "@jupyter-widgets/controls",
            "_model_module_version": "1.5.0",
            "_model_name": "DescriptionStyleModel",
            "_view_count": null,
            "_view_module": "@jupyter-widgets/base",
            "_view_module_version": "1.2.0",
            "_view_name": "StyleView",
            "description_width": ""
          }
        },
        "7af8898061aa4632a7b43a251cf27c37": {
          "model_module": "@jupyter-widgets/controls",
          "model_name": "HBoxModel",
          "model_module_version": "1.5.0",
          "state": {
            "_dom_classes": [],
            "_model_module": "@jupyter-widgets/controls",
            "_model_module_version": "1.5.0",
            "_model_name": "HBoxModel",
            "_view_count": null,
            "_view_module": "@jupyter-widgets/controls",
            "_view_module_version": "1.5.0",
            "_view_name": "HBoxView",
            "box_style": "",
            "children": [
              "IPY_MODEL_359007b43e69405c859d529ec4aa36ab",
              "IPY_MODEL_31cfc06f775d4e279dd53f5e30e80644",
              "IPY_MODEL_57d372318a714b88ad375c591517fc4a"
            ],
            "layout": "IPY_MODEL_0236a67a634c4a2691d19476876819e4"
          }
        },
        "359007b43e69405c859d529ec4aa36ab": {
          "model_module": "@jupyter-widgets/controls",
          "model_name": "HTMLModel",
          "model_module_version": "1.5.0",
          "state": {
            "_dom_classes": [],
            "_model_module": "@jupyter-widgets/controls",
            "_model_module_version": "1.5.0",
            "_model_name": "HTMLModel",
            "_view_count": null,
            "_view_module": "@jupyter-widgets/controls",
            "_view_module_version": "1.5.0",
            "_view_name": "HTMLView",
            "description": "",
            "description_tooltip": null,
            "layout": "IPY_MODEL_11bae49521a74cb6a96ee61a2a334df6",
            "placeholder": "​",
            "style": "IPY_MODEL_bb50643a6e7f42e28f37f5a6c8e833cd",
            "value": "Downloading: 100%"
          }
        },
        "31cfc06f775d4e279dd53f5e30e80644": {
          "model_module": "@jupyter-widgets/controls",
          "model_name": "FloatProgressModel",
          "model_module_version": "1.5.0",
          "state": {
            "_dom_classes": [],
            "_model_module": "@jupyter-widgets/controls",
            "_model_module_version": "1.5.0",
            "_model_name": "FloatProgressModel",
            "_view_count": null,
            "_view_module": "@jupyter-widgets/controls",
            "_view_module_version": "1.5.0",
            "_view_name": "ProgressView",
            "bar_style": "success",
            "description": "",
            "description_tooltip": null,
            "layout": "IPY_MODEL_55a517cc99414e15a4df2ba5f994ea80",
            "max": 361,
            "min": 0,
            "orientation": "horizontal",
            "style": "IPY_MODEL_e5529736a1634c80927bc4dc192de1be",
            "value": 361
          }
        },
        "57d372318a714b88ad375c591517fc4a": {
          "model_module": "@jupyter-widgets/controls",
          "model_name": "HTMLModel",
          "model_module_version": "1.5.0",
          "state": {
            "_dom_classes": [],
            "_model_module": "@jupyter-widgets/controls",
            "_model_module_version": "1.5.0",
            "_model_name": "HTMLModel",
            "_view_count": null,
            "_view_module": "@jupyter-widgets/controls",
            "_view_module_version": "1.5.0",
            "_view_name": "HTMLView",
            "description": "",
            "description_tooltip": null,
            "layout": "IPY_MODEL_a993e246105744c987ec6cbce2397dab",
            "placeholder": "​",
            "style": "IPY_MODEL_3880bf823aaa470f9a9fd1e8ba9ab9a7",
            "value": " 361/361 [00:00&lt;00:00, 15.3kB/s]"
          }
        },
        "0236a67a634c4a2691d19476876819e4": {
          "model_module": "@jupyter-widgets/base",
          "model_name": "LayoutModel",
          "model_module_version": "1.2.0",
          "state": {
            "_model_module": "@jupyter-widgets/base",
            "_model_module_version": "1.2.0",
            "_model_name": "LayoutModel",
            "_view_count": null,
            "_view_module": "@jupyter-widgets/base",
            "_view_module_version": "1.2.0",
            "_view_name": "LayoutView",
            "align_content": null,
            "align_items": null,
            "align_self": null,
            "border": null,
            "bottom": null,
            "display": null,
            "flex": null,
            "flex_flow": null,
            "grid_area": null,
            "grid_auto_columns": null,
            "grid_auto_flow": null,
            "grid_auto_rows": null,
            "grid_column": null,
            "grid_gap": null,
            "grid_row": null,
            "grid_template_areas": null,
            "grid_template_columns": null,
            "grid_template_rows": null,
            "height": null,
            "justify_content": null,
            "justify_items": null,
            "left": null,
            "margin": null,
            "max_height": null,
            "max_width": null,
            "min_height": null,
            "min_width": null,
            "object_fit": null,
            "object_position": null,
            "order": null,
            "overflow": null,
            "overflow_x": null,
            "overflow_y": null,
            "padding": null,
            "right": null,
            "top": null,
            "visibility": null,
            "width": null
          }
        },
        "11bae49521a74cb6a96ee61a2a334df6": {
          "model_module": "@jupyter-widgets/base",
          "model_name": "LayoutModel",
          "model_module_version": "1.2.0",
          "state": {
            "_model_module": "@jupyter-widgets/base",
            "_model_module_version": "1.2.0",
            "_model_name": "LayoutModel",
            "_view_count": null,
            "_view_module": "@jupyter-widgets/base",
            "_view_module_version": "1.2.0",
            "_view_name": "LayoutView",
            "align_content": null,
            "align_items": null,
            "align_self": null,
            "border": null,
            "bottom": null,
            "display": null,
            "flex": null,
            "flex_flow": null,
            "grid_area": null,
            "grid_auto_columns": null,
            "grid_auto_flow": null,
            "grid_auto_rows": null,
            "grid_column": null,
            "grid_gap": null,
            "grid_row": null,
            "grid_template_areas": null,
            "grid_template_columns": null,
            "grid_template_rows": null,
            "height": null,
            "justify_content": null,
            "justify_items": null,
            "left": null,
            "margin": null,
            "max_height": null,
            "max_width": null,
            "min_height": null,
            "min_width": null,
            "object_fit": null,
            "object_position": null,
            "order": null,
            "overflow": null,
            "overflow_x": null,
            "overflow_y": null,
            "padding": null,
            "right": null,
            "top": null,
            "visibility": null,
            "width": null
          }
        },
        "bb50643a6e7f42e28f37f5a6c8e833cd": {
          "model_module": "@jupyter-widgets/controls",
          "model_name": "DescriptionStyleModel",
          "model_module_version": "1.5.0",
          "state": {
            "_model_module": "@jupyter-widgets/controls",
            "_model_module_version": "1.5.0",
            "_model_name": "DescriptionStyleModel",
            "_view_count": null,
            "_view_module": "@jupyter-widgets/base",
            "_view_module_version": "1.2.0",
            "_view_name": "StyleView",
            "description_width": ""
          }
        },
        "55a517cc99414e15a4df2ba5f994ea80": {
          "model_module": "@jupyter-widgets/base",
          "model_name": "LayoutModel",
          "model_module_version": "1.2.0",
          "state": {
            "_model_module": "@jupyter-widgets/base",
            "_model_module_version": "1.2.0",
            "_model_name": "LayoutModel",
            "_view_count": null,
            "_view_module": "@jupyter-widgets/base",
            "_view_module_version": "1.2.0",
            "_view_name": "LayoutView",
            "align_content": null,
            "align_items": null,
            "align_self": null,
            "border": null,
            "bottom": null,
            "display": null,
            "flex": null,
            "flex_flow": null,
            "grid_area": null,
            "grid_auto_columns": null,
            "grid_auto_flow": null,
            "grid_auto_rows": null,
            "grid_column": null,
            "grid_gap": null,
            "grid_row": null,
            "grid_template_areas": null,
            "grid_template_columns": null,
            "grid_template_rows": null,
            "height": null,
            "justify_content": null,
            "justify_items": null,
            "left": null,
            "margin": null,
            "max_height": null,
            "max_width": null,
            "min_height": null,
            "min_width": null,
            "object_fit": null,
            "object_position": null,
            "order": null,
            "overflow": null,
            "overflow_x": null,
            "overflow_y": null,
            "padding": null,
            "right": null,
            "top": null,
            "visibility": null,
            "width": null
          }
        },
        "e5529736a1634c80927bc4dc192de1be": {
          "model_module": "@jupyter-widgets/controls",
          "model_name": "ProgressStyleModel",
          "model_module_version": "1.5.0",
          "state": {
            "_model_module": "@jupyter-widgets/controls",
            "_model_module_version": "1.5.0",
            "_model_name": "ProgressStyleModel",
            "_view_count": null,
            "_view_module": "@jupyter-widgets/base",
            "_view_module_version": "1.2.0",
            "_view_name": "StyleView",
            "bar_color": null,
            "description_width": ""
          }
        },
        "a993e246105744c987ec6cbce2397dab": {
          "model_module": "@jupyter-widgets/base",
          "model_name": "LayoutModel",
          "model_module_version": "1.2.0",
          "state": {
            "_model_module": "@jupyter-widgets/base",
            "_model_module_version": "1.2.0",
            "_model_name": "LayoutModel",
            "_view_count": null,
            "_view_module": "@jupyter-widgets/base",
            "_view_module_version": "1.2.0",
            "_view_name": "LayoutView",
            "align_content": null,
            "align_items": null,
            "align_self": null,
            "border": null,
            "bottom": null,
            "display": null,
            "flex": null,
            "flex_flow": null,
            "grid_area": null,
            "grid_auto_columns": null,
            "grid_auto_flow": null,
            "grid_auto_rows": null,
            "grid_column": null,
            "grid_gap": null,
            "grid_row": null,
            "grid_template_areas": null,
            "grid_template_columns": null,
            "grid_template_rows": null,
            "height": null,
            "justify_content": null,
            "justify_items": null,
            "left": null,
            "margin": null,
            "max_height": null,
            "max_width": null,
            "min_height": null,
            "min_width": null,
            "object_fit": null,
            "object_position": null,
            "order": null,
            "overflow": null,
            "overflow_x": null,
            "overflow_y": null,
            "padding": null,
            "right": null,
            "top": null,
            "visibility": null,
            "width": null
          }
        },
        "3880bf823aaa470f9a9fd1e8ba9ab9a7": {
          "model_module": "@jupyter-widgets/controls",
          "model_name": "DescriptionStyleModel",
          "model_module_version": "1.5.0",
          "state": {
            "_model_module": "@jupyter-widgets/controls",
            "_model_module_version": "1.5.0",
            "_model_name": "DescriptionStyleModel",
            "_view_count": null,
            "_view_module": "@jupyter-widgets/base",
            "_view_module_version": "1.2.0",
            "_view_name": "StyleView",
            "description_width": ""
          }
        },
        "126c8c472a1f4eeca5fd6fec3dbe8a5a": {
          "model_module": "@jupyter-widgets/controls",
          "model_name": "HBoxModel",
          "model_module_version": "1.5.0",
          "state": {
            "_dom_classes": [],
            "_model_module": "@jupyter-widgets/controls",
            "_model_module_version": "1.5.0",
            "_model_name": "HBoxModel",
            "_view_count": null,
            "_view_module": "@jupyter-widgets/controls",
            "_view_module_version": "1.5.0",
            "_view_name": "HBoxView",
            "box_style": "",
            "children": [
              "IPY_MODEL_bd30fd652fd84f3eaeafa2c4d4f79630",
              "IPY_MODEL_7f8fff4ed5bf4410bb8d854de6d197bd",
              "IPY_MODEL_bc06946acbde46bb9621328c3377cc56"
            ],
            "layout": "IPY_MODEL_0ed77f7060bf4706a3aea139bd19a34e"
          }
        },
        "bd30fd652fd84f3eaeafa2c4d4f79630": {
          "model_module": "@jupyter-widgets/controls",
          "model_name": "HTMLModel",
          "model_module_version": "1.5.0",
          "state": {
            "_dom_classes": [],
            "_model_module": "@jupyter-widgets/controls",
            "_model_module_version": "1.5.0",
            "_model_name": "HTMLModel",
            "_view_count": null,
            "_view_module": "@jupyter-widgets/controls",
            "_view_module_version": "1.5.0",
            "_view_name": "HTMLView",
            "description": "",
            "description_tooltip": null,
            "layout": "IPY_MODEL_df049675c37f4c2d9887f42ff70669b1",
            "placeholder": "​",
            "style": "IPY_MODEL_1cd6722d77294a3cbf2b43ba4cc47e9b",
            "value": "Downloading: 100%"
          }
        },
        "7f8fff4ed5bf4410bb8d854de6d197bd": {
          "model_module": "@jupyter-widgets/controls",
          "model_name": "FloatProgressModel",
          "model_module_version": "1.5.0",
          "state": {
            "_dom_classes": [],
            "_model_module": "@jupyter-widgets/controls",
            "_model_module_version": "1.5.0",
            "_model_name": "FloatProgressModel",
            "_view_count": null,
            "_view_module": "@jupyter-widgets/controls",
            "_view_module_version": "1.5.0",
            "_view_name": "ProgressView",
            "bar_style": "success",
            "description": "",
            "description_tooltip": null,
            "layout": "IPY_MODEL_63aa4f18c0f24839838db53f998b28e1",
            "max": 81,
            "min": 0,
            "orientation": "horizontal",
            "style": "IPY_MODEL_ac637e1055594090aec29e07604fee4e",
            "value": 81
          }
        },
        "bc06946acbde46bb9621328c3377cc56": {
          "model_module": "@jupyter-widgets/controls",
          "model_name": "HTMLModel",
          "model_module_version": "1.5.0",
          "state": {
            "_dom_classes": [],
            "_model_module": "@jupyter-widgets/controls",
            "_model_module_version": "1.5.0",
            "_model_name": "HTMLModel",
            "_view_count": null,
            "_view_module": "@jupyter-widgets/controls",
            "_view_module_version": "1.5.0",
            "_view_name": "HTMLView",
            "description": "",
            "description_tooltip": null,
            "layout": "IPY_MODEL_56ec80e366ea4cdb9b32bfe901a73230",
            "placeholder": "​",
            "style": "IPY_MODEL_afe0f9b1ae194acc85abc4a3b35dd9a6",
            "value": " 81.0/81.0 [00:00&lt;00:00, 3.47kB/s]"
          }
        },
        "0ed77f7060bf4706a3aea139bd19a34e": {
          "model_module": "@jupyter-widgets/base",
          "model_name": "LayoutModel",
          "model_module_version": "1.2.0",
          "state": {
            "_model_module": "@jupyter-widgets/base",
            "_model_module_version": "1.2.0",
            "_model_name": "LayoutModel",
            "_view_count": null,
            "_view_module": "@jupyter-widgets/base",
            "_view_module_version": "1.2.0",
            "_view_name": "LayoutView",
            "align_content": null,
            "align_items": null,
            "align_self": null,
            "border": null,
            "bottom": null,
            "display": null,
            "flex": null,
            "flex_flow": null,
            "grid_area": null,
            "grid_auto_columns": null,
            "grid_auto_flow": null,
            "grid_auto_rows": null,
            "grid_column": null,
            "grid_gap": null,
            "grid_row": null,
            "grid_template_areas": null,
            "grid_template_columns": null,
            "grid_template_rows": null,
            "height": null,
            "justify_content": null,
            "justify_items": null,
            "left": null,
            "margin": null,
            "max_height": null,
            "max_width": null,
            "min_height": null,
            "min_width": null,
            "object_fit": null,
            "object_position": null,
            "order": null,
            "overflow": null,
            "overflow_x": null,
            "overflow_y": null,
            "padding": null,
            "right": null,
            "top": null,
            "visibility": null,
            "width": null
          }
        },
        "df049675c37f4c2d9887f42ff70669b1": {
          "model_module": "@jupyter-widgets/base",
          "model_name": "LayoutModel",
          "model_module_version": "1.2.0",
          "state": {
            "_model_module": "@jupyter-widgets/base",
            "_model_module_version": "1.2.0",
            "_model_name": "LayoutModel",
            "_view_count": null,
            "_view_module": "@jupyter-widgets/base",
            "_view_module_version": "1.2.0",
            "_view_name": "LayoutView",
            "align_content": null,
            "align_items": null,
            "align_self": null,
            "border": null,
            "bottom": null,
            "display": null,
            "flex": null,
            "flex_flow": null,
            "grid_area": null,
            "grid_auto_columns": null,
            "grid_auto_flow": null,
            "grid_auto_rows": null,
            "grid_column": null,
            "grid_gap": null,
            "grid_row": null,
            "grid_template_areas": null,
            "grid_template_columns": null,
            "grid_template_rows": null,
            "height": null,
            "justify_content": null,
            "justify_items": null,
            "left": null,
            "margin": null,
            "max_height": null,
            "max_width": null,
            "min_height": null,
            "min_width": null,
            "object_fit": null,
            "object_position": null,
            "order": null,
            "overflow": null,
            "overflow_x": null,
            "overflow_y": null,
            "padding": null,
            "right": null,
            "top": null,
            "visibility": null,
            "width": null
          }
        },
        "1cd6722d77294a3cbf2b43ba4cc47e9b": {
          "model_module": "@jupyter-widgets/controls",
          "model_name": "DescriptionStyleModel",
          "model_module_version": "1.5.0",
          "state": {
            "_model_module": "@jupyter-widgets/controls",
            "_model_module_version": "1.5.0",
            "_model_name": "DescriptionStyleModel",
            "_view_count": null,
            "_view_module": "@jupyter-widgets/base",
            "_view_module_version": "1.2.0",
            "_view_name": "StyleView",
            "description_width": ""
          }
        },
        "63aa4f18c0f24839838db53f998b28e1": {
          "model_module": "@jupyter-widgets/base",
          "model_name": "LayoutModel",
          "model_module_version": "1.2.0",
          "state": {
            "_model_module": "@jupyter-widgets/base",
            "_model_module_version": "1.2.0",
            "_model_name": "LayoutModel",
            "_view_count": null,
            "_view_module": "@jupyter-widgets/base",
            "_view_module_version": "1.2.0",
            "_view_name": "LayoutView",
            "align_content": null,
            "align_items": null,
            "align_self": null,
            "border": null,
            "bottom": null,
            "display": null,
            "flex": null,
            "flex_flow": null,
            "grid_area": null,
            "grid_auto_columns": null,
            "grid_auto_flow": null,
            "grid_auto_rows": null,
            "grid_column": null,
            "grid_gap": null,
            "grid_row": null,
            "grid_template_areas": null,
            "grid_template_columns": null,
            "grid_template_rows": null,
            "height": null,
            "justify_content": null,
            "justify_items": null,
            "left": null,
            "margin": null,
            "max_height": null,
            "max_width": null,
            "min_height": null,
            "min_width": null,
            "object_fit": null,
            "object_position": null,
            "order": null,
            "overflow": null,
            "overflow_x": null,
            "overflow_y": null,
            "padding": null,
            "right": null,
            "top": null,
            "visibility": null,
            "width": null
          }
        },
        "ac637e1055594090aec29e07604fee4e": {
          "model_module": "@jupyter-widgets/controls",
          "model_name": "ProgressStyleModel",
          "model_module_version": "1.5.0",
          "state": {
            "_model_module": "@jupyter-widgets/controls",
            "_model_module_version": "1.5.0",
            "_model_name": "ProgressStyleModel",
            "_view_count": null,
            "_view_module": "@jupyter-widgets/base",
            "_view_module_version": "1.2.0",
            "_view_name": "StyleView",
            "bar_color": null,
            "description_width": ""
          }
        },
        "56ec80e366ea4cdb9b32bfe901a73230": {
          "model_module": "@jupyter-widgets/base",
          "model_name": "LayoutModel",
          "model_module_version": "1.2.0",
          "state": {
            "_model_module": "@jupyter-widgets/base",
            "_model_module_version": "1.2.0",
            "_model_name": "LayoutModel",
            "_view_count": null,
            "_view_module": "@jupyter-widgets/base",
            "_view_module_version": "1.2.0",
            "_view_name": "LayoutView",
            "align_content": null,
            "align_items": null,
            "align_self": null,
            "border": null,
            "bottom": null,
            "display": null,
            "flex": null,
            "flex_flow": null,
            "grid_area": null,
            "grid_auto_columns": null,
            "grid_auto_flow": null,
            "grid_auto_rows": null,
            "grid_column": null,
            "grid_gap": null,
            "grid_row": null,
            "grid_template_areas": null,
            "grid_template_columns": null,
            "grid_template_rows": null,
            "height": null,
            "justify_content": null,
            "justify_items": null,
            "left": null,
            "margin": null,
            "max_height": null,
            "max_width": null,
            "min_height": null,
            "min_width": null,
            "object_fit": null,
            "object_position": null,
            "order": null,
            "overflow": null,
            "overflow_x": null,
            "overflow_y": null,
            "padding": null,
            "right": null,
            "top": null,
            "visibility": null,
            "width": null
          }
        },
        "afe0f9b1ae194acc85abc4a3b35dd9a6": {
          "model_module": "@jupyter-widgets/controls",
          "model_name": "DescriptionStyleModel",
          "model_module_version": "1.5.0",
          "state": {
            "_model_module": "@jupyter-widgets/controls",
            "_model_module_version": "1.5.0",
            "_model_name": "DescriptionStyleModel",
            "_view_count": null,
            "_view_module": "@jupyter-widgets/base",
            "_view_module_version": "1.2.0",
            "_view_name": "StyleView",
            "description_width": ""
          }
        },
        "06fcf968ed22413ebea2f1fc84f33eed": {
          "model_module": "@jupyter-widgets/controls",
          "model_name": "HBoxModel",
          "model_module_version": "1.5.0",
          "state": {
            "_dom_classes": [],
            "_model_module": "@jupyter-widgets/controls",
            "_model_module_version": "1.5.0",
            "_model_name": "HBoxModel",
            "_view_count": null,
            "_view_module": "@jupyter-widgets/controls",
            "_view_module_version": "1.5.0",
            "_view_name": "HBoxView",
            "box_style": "",
            "children": [
              "IPY_MODEL_c3fc4a826ad84dbf93d5ccbbdbb0aceb",
              "IPY_MODEL_69e0afe41c6840168906d4df692bf3b6",
              "IPY_MODEL_8ce1521abd514943b01383d80c5ec635"
            ],
            "layout": "IPY_MODEL_84ee14b9391d4d61bd2f5bf41a89b310"
          }
        },
        "c3fc4a826ad84dbf93d5ccbbdbb0aceb": {
          "model_module": "@jupyter-widgets/controls",
          "model_name": "HTMLModel",
          "model_module_version": "1.5.0",
          "state": {
            "_dom_classes": [],
            "_model_module": "@jupyter-widgets/controls",
            "_model_module_version": "1.5.0",
            "_model_name": "HTMLModel",
            "_view_count": null,
            "_view_module": "@jupyter-widgets/controls",
            "_view_module_version": "1.5.0",
            "_view_name": "HTMLView",
            "description": "",
            "description_tooltip": null,
            "layout": "IPY_MODEL_263bc95a9945400bae55988d425c9b76",
            "placeholder": "​",
            "style": "IPY_MODEL_9c4c8305e94440f38782a364b659ed9f",
            "value": "Downloading: 100%"
          }
        },
        "69e0afe41c6840168906d4df692bf3b6": {
          "model_module": "@jupyter-widgets/controls",
          "model_name": "FloatProgressModel",
          "model_module_version": "1.5.0",
          "state": {
            "_dom_classes": [],
            "_model_module": "@jupyter-widgets/controls",
            "_model_module_version": "1.5.0",
            "_model_name": "FloatProgressModel",
            "_view_count": null,
            "_view_module": "@jupyter-widgets/controls",
            "_view_module_version": "1.5.0",
            "_view_name": "ProgressView",
            "bar_style": "success",
            "description": "",
            "description_tooltip": null,
            "layout": "IPY_MODEL_00cc3927e7d848508d7dfad8dde416fb",
            "max": 112,
            "min": 0,
            "orientation": "horizontal",
            "style": "IPY_MODEL_1ca5fe1862e94ad0baeeede8b22dedae",
            "value": 112
          }
        },
        "8ce1521abd514943b01383d80c5ec635": {
          "model_module": "@jupyter-widgets/controls",
          "model_name": "HTMLModel",
          "model_module_version": "1.5.0",
          "state": {
            "_dom_classes": [],
            "_model_module": "@jupyter-widgets/controls",
            "_model_module_version": "1.5.0",
            "_model_name": "HTMLModel",
            "_view_count": null,
            "_view_module": "@jupyter-widgets/controls",
            "_view_module_version": "1.5.0",
            "_view_name": "HTMLView",
            "description": "",
            "description_tooltip": null,
            "layout": "IPY_MODEL_cc2df426f5ed40248ef5a99204ebb6cf",
            "placeholder": "​",
            "style": "IPY_MODEL_331dbaae3ef3441eb8ebf60f5d716715",
            "value": " 112/112 [00:00&lt;00:00, 4.61kB/s]"
          }
        },
        "84ee14b9391d4d61bd2f5bf41a89b310": {
          "model_module": "@jupyter-widgets/base",
          "model_name": "LayoutModel",
          "model_module_version": "1.2.0",
          "state": {
            "_model_module": "@jupyter-widgets/base",
            "_model_module_version": "1.2.0",
            "_model_name": "LayoutModel",
            "_view_count": null,
            "_view_module": "@jupyter-widgets/base",
            "_view_module_version": "1.2.0",
            "_view_name": "LayoutView",
            "align_content": null,
            "align_items": null,
            "align_self": null,
            "border": null,
            "bottom": null,
            "display": null,
            "flex": null,
            "flex_flow": null,
            "grid_area": null,
            "grid_auto_columns": null,
            "grid_auto_flow": null,
            "grid_auto_rows": null,
            "grid_column": null,
            "grid_gap": null,
            "grid_row": null,
            "grid_template_areas": null,
            "grid_template_columns": null,
            "grid_template_rows": null,
            "height": null,
            "justify_content": null,
            "justify_items": null,
            "left": null,
            "margin": null,
            "max_height": null,
            "max_width": null,
            "min_height": null,
            "min_width": null,
            "object_fit": null,
            "object_position": null,
            "order": null,
            "overflow": null,
            "overflow_x": null,
            "overflow_y": null,
            "padding": null,
            "right": null,
            "top": null,
            "visibility": null,
            "width": null
          }
        },
        "263bc95a9945400bae55988d425c9b76": {
          "model_module": "@jupyter-widgets/base",
          "model_name": "LayoutModel",
          "model_module_version": "1.2.0",
          "state": {
            "_model_module": "@jupyter-widgets/base",
            "_model_module_version": "1.2.0",
            "_model_name": "LayoutModel",
            "_view_count": null,
            "_view_module": "@jupyter-widgets/base",
            "_view_module_version": "1.2.0",
            "_view_name": "LayoutView",
            "align_content": null,
            "align_items": null,
            "align_self": null,
            "border": null,
            "bottom": null,
            "display": null,
            "flex": null,
            "flex_flow": null,
            "grid_area": null,
            "grid_auto_columns": null,
            "grid_auto_flow": null,
            "grid_auto_rows": null,
            "grid_column": null,
            "grid_gap": null,
            "grid_row": null,
            "grid_template_areas": null,
            "grid_template_columns": null,
            "grid_template_rows": null,
            "height": null,
            "justify_content": null,
            "justify_items": null,
            "left": null,
            "margin": null,
            "max_height": null,
            "max_width": null,
            "min_height": null,
            "min_width": null,
            "object_fit": null,
            "object_position": null,
            "order": null,
            "overflow": null,
            "overflow_x": null,
            "overflow_y": null,
            "padding": null,
            "right": null,
            "top": null,
            "visibility": null,
            "width": null
          }
        },
        "9c4c8305e94440f38782a364b659ed9f": {
          "model_module": "@jupyter-widgets/controls",
          "model_name": "DescriptionStyleModel",
          "model_module_version": "1.5.0",
          "state": {
            "_model_module": "@jupyter-widgets/controls",
            "_model_module_version": "1.5.0",
            "_model_name": "DescriptionStyleModel",
            "_view_count": null,
            "_view_module": "@jupyter-widgets/base",
            "_view_module_version": "1.2.0",
            "_view_name": "StyleView",
            "description_width": ""
          }
        },
        "00cc3927e7d848508d7dfad8dde416fb": {
          "model_module": "@jupyter-widgets/base",
          "model_name": "LayoutModel",
          "model_module_version": "1.2.0",
          "state": {
            "_model_module": "@jupyter-widgets/base",
            "_model_module_version": "1.2.0",
            "_model_name": "LayoutModel",
            "_view_count": null,
            "_view_module": "@jupyter-widgets/base",
            "_view_module_version": "1.2.0",
            "_view_name": "LayoutView",
            "align_content": null,
            "align_items": null,
            "align_self": null,
            "border": null,
            "bottom": null,
            "display": null,
            "flex": null,
            "flex_flow": null,
            "grid_area": null,
            "grid_auto_columns": null,
            "grid_auto_flow": null,
            "grid_auto_rows": null,
            "grid_column": null,
            "grid_gap": null,
            "grid_row": null,
            "grid_template_areas": null,
            "grid_template_columns": null,
            "grid_template_rows": null,
            "height": null,
            "justify_content": null,
            "justify_items": null,
            "left": null,
            "margin": null,
            "max_height": null,
            "max_width": null,
            "min_height": null,
            "min_width": null,
            "object_fit": null,
            "object_position": null,
            "order": null,
            "overflow": null,
            "overflow_x": null,
            "overflow_y": null,
            "padding": null,
            "right": null,
            "top": null,
            "visibility": null,
            "width": null
          }
        },
        "1ca5fe1862e94ad0baeeede8b22dedae": {
          "model_module": "@jupyter-widgets/controls",
          "model_name": "ProgressStyleModel",
          "model_module_version": "1.5.0",
          "state": {
            "_model_module": "@jupyter-widgets/controls",
            "_model_module_version": "1.5.0",
            "_model_name": "ProgressStyleModel",
            "_view_count": null,
            "_view_module": "@jupyter-widgets/base",
            "_view_module_version": "1.2.0",
            "_view_name": "StyleView",
            "bar_color": null,
            "description_width": ""
          }
        },
        "cc2df426f5ed40248ef5a99204ebb6cf": {
          "model_module": "@jupyter-widgets/base",
          "model_name": "LayoutModel",
          "model_module_version": "1.2.0",
          "state": {
            "_model_module": "@jupyter-widgets/base",
            "_model_module_version": "1.2.0",
            "_model_name": "LayoutModel",
            "_view_count": null,
            "_view_module": "@jupyter-widgets/base",
            "_view_module_version": "1.2.0",
            "_view_name": "LayoutView",
            "align_content": null,
            "align_items": null,
            "align_self": null,
            "border": null,
            "bottom": null,
            "display": null,
            "flex": null,
            "flex_flow": null,
            "grid_area": null,
            "grid_auto_columns": null,
            "grid_auto_flow": null,
            "grid_auto_rows": null,
            "grid_column": null,
            "grid_gap": null,
            "grid_row": null,
            "grid_template_areas": null,
            "grid_template_columns": null,
            "grid_template_rows": null,
            "height": null,
            "justify_content": null,
            "justify_items": null,
            "left": null,
            "margin": null,
            "max_height": null,
            "max_width": null,
            "min_height": null,
            "min_width": null,
            "object_fit": null,
            "object_position": null,
            "order": null,
            "overflow": null,
            "overflow_x": null,
            "overflow_y": null,
            "padding": null,
            "right": null,
            "top": null,
            "visibility": null,
            "width": null
          }
        },
        "331dbaae3ef3441eb8ebf60f5d716715": {
          "model_module": "@jupyter-widgets/controls",
          "model_name": "DescriptionStyleModel",
          "model_module_version": "1.5.0",
          "state": {
            "_model_module": "@jupyter-widgets/controls",
            "_model_module_version": "1.5.0",
            "_model_name": "DescriptionStyleModel",
            "_view_count": null,
            "_view_module": "@jupyter-widgets/base",
            "_view_module_version": "1.2.0",
            "_view_name": "StyleView",
            "description_width": ""
          }
        },
        "5d99c8ef89024006aed5cf26aa80dc2d": {
          "model_module": "@jupyter-widgets/controls",
          "model_name": "HBoxModel",
          "model_module_version": "1.5.0",
          "state": {
            "_dom_classes": [],
            "_model_module": "@jupyter-widgets/controls",
            "_model_module_version": "1.5.0",
            "_model_name": "HBoxModel",
            "_view_count": null,
            "_view_module": "@jupyter-widgets/controls",
            "_view_module_version": "1.5.0",
            "_view_name": "HBoxView",
            "box_style": "",
            "children": [
              "IPY_MODEL_76a39f71df2644848e62500725f46776",
              "IPY_MODEL_7c9e05d4703f4639b8d4e251fca120b0",
              "IPY_MODEL_b95b33ce9b0c43ec8da17b4a2a66b493"
            ],
            "layout": "IPY_MODEL_f1e232b50bc5473fa00f281b1fe8db48"
          }
        },
        "76a39f71df2644848e62500725f46776": {
          "model_module": "@jupyter-widgets/controls",
          "model_name": "HTMLModel",
          "model_module_version": "1.5.0",
          "state": {
            "_dom_classes": [],
            "_model_module": "@jupyter-widgets/controls",
            "_model_module_version": "1.5.0",
            "_model_name": "HTMLModel",
            "_view_count": null,
            "_view_module": "@jupyter-widgets/controls",
            "_view_module_version": "1.5.0",
            "_view_name": "HTMLView",
            "description": "",
            "description_tooltip": null,
            "layout": "IPY_MODEL_6d1ce856072e4efca5e83bbb142d12b5",
            "placeholder": "​",
            "style": "IPY_MODEL_47953008903a41a4908c7d592d476455",
            "value": "Downloading: 100%"
          }
        },
        "7c9e05d4703f4639b8d4e251fca120b0": {
          "model_module": "@jupyter-widgets/controls",
          "model_name": "FloatProgressModel",
          "model_module_version": "1.5.0",
          "state": {
            "_dom_classes": [],
            "_model_module": "@jupyter-widgets/controls",
            "_model_module_version": "1.5.0",
            "_model_name": "FloatProgressModel",
            "_view_count": null,
            "_view_module": "@jupyter-widgets/controls",
            "_view_module_version": "1.5.0",
            "_view_name": "ProgressView",
            "bar_style": "success",
            "description": "",
            "description_tooltip": null,
            "layout": "IPY_MODEL_2efb95a40aa741e69aa6da63def15886",
            "max": 1684058277,
            "min": 0,
            "orientation": "horizontal",
            "style": "IPY_MODEL_c9fa7082273b48ee938bdb8b9f601160",
            "value": 1684058277
          }
        },
        "b95b33ce9b0c43ec8da17b4a2a66b493": {
          "model_module": "@jupyter-widgets/controls",
          "model_name": "HTMLModel",
          "model_module_version": "1.5.0",
          "state": {
            "_dom_classes": [],
            "_model_module": "@jupyter-widgets/controls",
            "_model_module_version": "1.5.0",
            "_model_name": "HTMLModel",
            "_view_count": null,
            "_view_module": "@jupyter-widgets/controls",
            "_view_module_version": "1.5.0",
            "_view_name": "HTMLView",
            "description": "",
            "description_tooltip": null,
            "layout": "IPY_MODEL_71a1eccacc7c4a22b264c108c14c745b",
            "placeholder": "​",
            "style": "IPY_MODEL_cb97f01068624f579013872ae08b7440",
            "value": " 1.57G/1.57G [01:13&lt;00:00, 24.5MB/s]"
          }
        },
        "f1e232b50bc5473fa00f281b1fe8db48": {
          "model_module": "@jupyter-widgets/base",
          "model_name": "LayoutModel",
          "model_module_version": "1.2.0",
          "state": {
            "_model_module": "@jupyter-widgets/base",
            "_model_module_version": "1.2.0",
            "_model_name": "LayoutModel",
            "_view_count": null,
            "_view_module": "@jupyter-widgets/base",
            "_view_module_version": "1.2.0",
            "_view_name": "LayoutView",
            "align_content": null,
            "align_items": null,
            "align_self": null,
            "border": null,
            "bottom": null,
            "display": null,
            "flex": null,
            "flex_flow": null,
            "grid_area": null,
            "grid_auto_columns": null,
            "grid_auto_flow": null,
            "grid_auto_rows": null,
            "grid_column": null,
            "grid_gap": null,
            "grid_row": null,
            "grid_template_areas": null,
            "grid_template_columns": null,
            "grid_template_rows": null,
            "height": null,
            "justify_content": null,
            "justify_items": null,
            "left": null,
            "margin": null,
            "max_height": null,
            "max_width": null,
            "min_height": null,
            "min_width": null,
            "object_fit": null,
            "object_position": null,
            "order": null,
            "overflow": null,
            "overflow_x": null,
            "overflow_y": null,
            "padding": null,
            "right": null,
            "top": null,
            "visibility": null,
            "width": null
          }
        },
        "6d1ce856072e4efca5e83bbb142d12b5": {
          "model_module": "@jupyter-widgets/base",
          "model_name": "LayoutModel",
          "model_module_version": "1.2.0",
          "state": {
            "_model_module": "@jupyter-widgets/base",
            "_model_module_version": "1.2.0",
            "_model_name": "LayoutModel",
            "_view_count": null,
            "_view_module": "@jupyter-widgets/base",
            "_view_module_version": "1.2.0",
            "_view_name": "LayoutView",
            "align_content": null,
            "align_items": null,
            "align_self": null,
            "border": null,
            "bottom": null,
            "display": null,
            "flex": null,
            "flex_flow": null,
            "grid_area": null,
            "grid_auto_columns": null,
            "grid_auto_flow": null,
            "grid_auto_rows": null,
            "grid_column": null,
            "grid_gap": null,
            "grid_row": null,
            "grid_template_areas": null,
            "grid_template_columns": null,
            "grid_template_rows": null,
            "height": null,
            "justify_content": null,
            "justify_items": null,
            "left": null,
            "margin": null,
            "max_height": null,
            "max_width": null,
            "min_height": null,
            "min_width": null,
            "object_fit": null,
            "object_position": null,
            "order": null,
            "overflow": null,
            "overflow_x": null,
            "overflow_y": null,
            "padding": null,
            "right": null,
            "top": null,
            "visibility": null,
            "width": null
          }
        },
        "47953008903a41a4908c7d592d476455": {
          "model_module": "@jupyter-widgets/controls",
          "model_name": "DescriptionStyleModel",
          "model_module_version": "1.5.0",
          "state": {
            "_model_module": "@jupyter-widgets/controls",
            "_model_module_version": "1.5.0",
            "_model_name": "DescriptionStyleModel",
            "_view_count": null,
            "_view_module": "@jupyter-widgets/base",
            "_view_module_version": "1.2.0",
            "_view_name": "StyleView",
            "description_width": ""
          }
        },
        "2efb95a40aa741e69aa6da63def15886": {
          "model_module": "@jupyter-widgets/base",
          "model_name": "LayoutModel",
          "model_module_version": "1.2.0",
          "state": {
            "_model_module": "@jupyter-widgets/base",
            "_model_module_version": "1.2.0",
            "_model_name": "LayoutModel",
            "_view_count": null,
            "_view_module": "@jupyter-widgets/base",
            "_view_module_version": "1.2.0",
            "_view_name": "LayoutView",
            "align_content": null,
            "align_items": null,
            "align_self": null,
            "border": null,
            "bottom": null,
            "display": null,
            "flex": null,
            "flex_flow": null,
            "grid_area": null,
            "grid_auto_columns": null,
            "grid_auto_flow": null,
            "grid_auto_rows": null,
            "grid_column": null,
            "grid_gap": null,
            "grid_row": null,
            "grid_template_areas": null,
            "grid_template_columns": null,
            "grid_template_rows": null,
            "height": null,
            "justify_content": null,
            "justify_items": null,
            "left": null,
            "margin": null,
            "max_height": null,
            "max_width": null,
            "min_height": null,
            "min_width": null,
            "object_fit": null,
            "object_position": null,
            "order": null,
            "overflow": null,
            "overflow_x": null,
            "overflow_y": null,
            "padding": null,
            "right": null,
            "top": null,
            "visibility": null,
            "width": null
          }
        },
        "c9fa7082273b48ee938bdb8b9f601160": {
          "model_module": "@jupyter-widgets/controls",
          "model_name": "ProgressStyleModel",
          "model_module_version": "1.5.0",
          "state": {
            "_model_module": "@jupyter-widgets/controls",
            "_model_module_version": "1.5.0",
            "_model_name": "ProgressStyleModel",
            "_view_count": null,
            "_view_module": "@jupyter-widgets/base",
            "_view_module_version": "1.2.0",
            "_view_name": "StyleView",
            "bar_color": null,
            "description_width": ""
          }
        },
        "71a1eccacc7c4a22b264c108c14c745b": {
          "model_module": "@jupyter-widgets/base",
          "model_name": "LayoutModel",
          "model_module_version": "1.2.0",
          "state": {
            "_model_module": "@jupyter-widgets/base",
            "_model_module_version": "1.2.0",
            "_model_name": "LayoutModel",
            "_view_count": null,
            "_view_module": "@jupyter-widgets/base",
            "_view_module_version": "1.2.0",
            "_view_name": "LayoutView",
            "align_content": null,
            "align_items": null,
            "align_self": null,
            "border": null,
            "bottom": null,
            "display": null,
            "flex": null,
            "flex_flow": null,
            "grid_area": null,
            "grid_auto_columns": null,
            "grid_auto_flow": null,
            "grid_auto_rows": null,
            "grid_column": null,
            "grid_gap": null,
            "grid_row": null,
            "grid_template_areas": null,
            "grid_template_columns": null,
            "grid_template_rows": null,
            "height": null,
            "justify_content": null,
            "justify_items": null,
            "left": null,
            "margin": null,
            "max_height": null,
            "max_width": null,
            "min_height": null,
            "min_width": null,
            "object_fit": null,
            "object_position": null,
            "order": null,
            "overflow": null,
            "overflow_x": null,
            "overflow_y": null,
            "padding": null,
            "right": null,
            "top": null,
            "visibility": null,
            "width": null
          }
        },
        "cb97f01068624f579013872ae08b7440": {
          "model_module": "@jupyter-widgets/controls",
          "model_name": "DescriptionStyleModel",
          "model_module_version": "1.5.0",
          "state": {
            "_model_module": "@jupyter-widgets/controls",
            "_model_module_version": "1.5.0",
            "_model_name": "DescriptionStyleModel",
            "_view_count": null,
            "_view_module": "@jupyter-widgets/base",
            "_view_module_version": "1.2.0",
            "_view_name": "StyleView",
            "description_width": ""
          }
        }
      }
    }
  },
  "cells": [
    {
      "cell_type": "markdown",
      "metadata": {
        "id": "view-in-github",
        "colab_type": "text"
      },
      "source": [
        "<a href=\"https://colab.research.google.com/github/Bo-Ni/ProtBert_Notebook_set_0/blob/main/USDA_May_17_Classification.ipynb\" target=\"_parent\"><img src=\"https://colab.research.google.com/assets/colab-badge.svg\" alt=\"Open In Colab\"/></a>"
      ]
    },
    {
      "cell_type": "code",
      "execution_count": null,
      "metadata": {
        "id": "NybqaYimPbB3"
      },
      "outputs": [],
      "source": [
        "# debug or cluster run\n",
        "IF_Google = 1\n",
        "IF_Debug = 1"
      ]
    },
    {
      "cell_type": "code",
      "source": [
        "# prepare the backages for the environment\n",
        "import os\n",
        "import sys"
      ],
      "metadata": {
        "id": "WagTPNmDPoDV"
      },
      "execution_count": null,
      "outputs": []
    },
    {
      "cell_type": "code",
      "source": [
        "if IF_Google == 1:\n",
        "  print(os.popen('nvidia-smi').read())"
      ],
      "metadata": {
        "colab": {
          "base_uri": "https://localhost:8080/"
        },
        "id": "epIGNidnPpy4",
        "outputId": "c6937556-51ec-43dc-fe1a-9688e9ce0063"
      },
      "execution_count": null,
      "outputs": [
        {
          "output_type": "stream",
          "name": "stdout",
          "text": [
            "Wed May 18 23:12:12 2022       \n",
            "+-----------------------------------------------------------------------------+\n",
            "| NVIDIA-SMI 460.32.03    Driver Version: 460.32.03    CUDA Version: 11.2     |\n",
            "|-------------------------------+----------------------+----------------------+\n",
            "| GPU  Name        Persistence-M| Bus-Id        Disp.A | Volatile Uncorr. ECC |\n",
            "| Fan  Temp  Perf  Pwr:Usage/Cap|         Memory-Usage | GPU-Util  Compute M. |\n",
            "|                               |                      |               MIG M. |\n",
            "|===============================+======================+======================|\n",
            "|   0  Tesla P100-PCIE...  Off  | 00000000:00:04.0 Off |                    0 |\n",
            "| N/A   36C    P0    28W / 250W |      0MiB / 16280MiB |      0%      Default |\n",
            "|                               |                      |                  N/A |\n",
            "+-------------------------------+----------------------+----------------------+\n",
            "                                                                               \n",
            "+-----------------------------------------------------------------------------+\n",
            "| Processes:                                                                  |\n",
            "|  GPU   GI   CI        PID   Type   Process name                  GPU Memory |\n",
            "|        ID   ID                                                   Usage      |\n",
            "|=============================================================================|\n",
            "|  No running processes found                                                 |\n",
            "+-----------------------------------------------------------------------------+\n",
            "\n"
          ]
        }
      ]
    },
    {
      "cell_type": "code",
      "source": [
        "# 1. transformers\n",
        "\n",
        "if IF_Google == 1:\n",
        "  try:\n",
        "    import transformers\n",
        "  except ImportError as e:\n",
        "    print(os.popen('pip install transformers').read())"
      ],
      "metadata": {
        "colab": {
          "base_uri": "https://localhost:8080/"
        },
        "id": "shs0W61jPrWI",
        "outputId": "20fd7b0b-002d-4664-ad9c-2af89d00310e"
      },
      "execution_count": null,
      "outputs": [
        {
          "output_type": "stream",
          "name": "stdout",
          "text": [
            "Collecting transformers\n",
            "  Downloading transformers-4.19.2-py3-none-any.whl (4.2 MB)\n",
            "Requirement already satisfied: importlib-metadata in /usr/local/lib/python3.7/dist-packages (from transformers) (4.11.3)\n",
            "Collecting huggingface-hub<1.0,>=0.1.0\n",
            "  Downloading huggingface_hub-0.6.0-py3-none-any.whl (84 kB)\n",
            "Requirement already satisfied: tqdm>=4.27 in /usr/local/lib/python3.7/dist-packages (from transformers) (4.64.0)\n",
            "Collecting tokenizers!=0.11.3,<0.13,>=0.11.1\n",
            "  Downloading tokenizers-0.12.1-cp37-cp37m-manylinux_2_12_x86_64.manylinux2010_x86_64.whl (6.6 MB)\n",
            "Requirement already satisfied: regex!=2019.12.17 in /usr/local/lib/python3.7/dist-packages (from transformers) (2019.12.20)\n",
            "Collecting pyyaml>=5.1\n",
            "  Downloading PyYAML-6.0-cp37-cp37m-manylinux_2_5_x86_64.manylinux1_x86_64.manylinux_2_12_x86_64.manylinux2010_x86_64.whl (596 kB)\n",
            "Requirement already satisfied: requests in /usr/local/lib/python3.7/dist-packages (from transformers) (2.23.0)\n",
            "Requirement already satisfied: numpy>=1.17 in /usr/local/lib/python3.7/dist-packages (from transformers) (1.21.6)\n",
            "Requirement already satisfied: filelock in /usr/local/lib/python3.7/dist-packages (from transformers) (3.7.0)\n",
            "Requirement already satisfied: packaging>=20.0 in /usr/local/lib/python3.7/dist-packages (from transformers) (21.3)\n",
            "Requirement already satisfied: typing-extensions>=3.7.4.3 in /usr/local/lib/python3.7/dist-packages (from huggingface-hub<1.0,>=0.1.0->transformers) (4.2.0)\n",
            "Requirement already satisfied: pyparsing!=3.0.5,>=2.0.2 in /usr/local/lib/python3.7/dist-packages (from packaging>=20.0->transformers) (3.0.9)\n",
            "Requirement already satisfied: zipp>=0.5 in /usr/local/lib/python3.7/dist-packages (from importlib-metadata->transformers) (3.8.0)\n",
            "Requirement already satisfied: urllib3!=1.25.0,!=1.25.1,<1.26,>=1.21.1 in /usr/local/lib/python3.7/dist-packages (from requests->transformers) (1.24.3)\n",
            "Requirement already satisfied: idna<3,>=2.5 in /usr/local/lib/python3.7/dist-packages (from requests->transformers) (2.10)\n",
            "Requirement already satisfied: chardet<4,>=3.0.2 in /usr/local/lib/python3.7/dist-packages (from requests->transformers) (3.0.4)\n",
            "Requirement already satisfied: certifi>=2017.4.17 in /usr/local/lib/python3.7/dist-packages (from requests->transformers) (2021.10.8)\n",
            "Installing collected packages: pyyaml, tokenizers, huggingface-hub, transformers\n",
            "  Attempting uninstall: pyyaml\n",
            "    Found existing installation: PyYAML 3.13\n",
            "    Uninstalling PyYAML-3.13:\n",
            "      Successfully uninstalled PyYAML-3.13\n",
            "Successfully installed huggingface-hub-0.6.0 pyyaml-6.0 tokenizers-0.12.1 transformers-4.19.2\n",
            "\n"
          ]
        }
      ]
    },
    {
      "cell_type": "code",
      "source": [
        "# 2. accelerate\n",
        "\n",
        "if IF_Google == 1:\n",
        "  try:\n",
        "    import accelerate\n",
        "  except ImportError as e:\n",
        "    print(os.popen('pip install accelerate').read())"
      ],
      "metadata": {
        "colab": {
          "base_uri": "https://localhost:8080/"
        },
        "id": "NgtW4nszPxi8",
        "outputId": "d85561cf-4d49-41a1-dd8b-636ac7d6ff91"
      },
      "execution_count": null,
      "outputs": [
        {
          "output_type": "stream",
          "name": "stdout",
          "text": [
            "Collecting accelerate\n",
            "  Downloading accelerate-0.8.0-py3-none-any.whl (114 kB)\n",
            "Requirement already satisfied: torch>=1.4.0 in /usr/local/lib/python3.7/dist-packages (from accelerate) (1.11.0+cu113)\n",
            "Requirement already satisfied: pyyaml in /usr/local/lib/python3.7/dist-packages (from accelerate) (6.0)\n",
            "Requirement already satisfied: numpy>=1.17 in /usr/local/lib/python3.7/dist-packages (from accelerate) (1.21.6)\n",
            "Requirement already satisfied: typing-extensions in /usr/local/lib/python3.7/dist-packages (from torch>=1.4.0->accelerate) (4.2.0)\n",
            "Installing collected packages: accelerate\n",
            "Successfully installed accelerate-0.8.0\n",
            "\n"
          ]
        }
      ]
    },
    {
      "cell_type": "code",
      "source": [
        "# 3. datasets (for metrics)\n",
        "\n",
        "if IF_Google == 1:\n",
        "  try:\n",
        "    import datasets\n",
        "  except ImportError as e:\n",
        "    print(os.popen('pip install datasets').read())"
      ],
      "metadata": {
        "colab": {
          "base_uri": "https://localhost:8080/"
        },
        "id": "pwNiF3wJP0yM",
        "outputId": "61b95361-839f-4e94-917f-a9f40e398470"
      },
      "execution_count": null,
      "outputs": [
        {
          "output_type": "stream",
          "name": "stdout",
          "text": [
            "Collecting datasets\n",
            "  Downloading datasets-2.2.1-py3-none-any.whl (342 kB)\n",
            "Requirement already satisfied: tqdm>=4.62.1 in /usr/local/lib/python3.7/dist-packages (from datasets) (4.64.0)\n",
            "Requirement already satisfied: packaging in /usr/local/lib/python3.7/dist-packages (from datasets) (21.3)\n",
            "Collecting responses<0.19\n",
            "  Downloading responses-0.18.0-py3-none-any.whl (38 kB)\n",
            "Requirement already satisfied: pandas in /usr/local/lib/python3.7/dist-packages (from datasets) (1.3.5)\n",
            "Collecting xxhash\n",
            "  Downloading xxhash-3.0.0-cp37-cp37m-manylinux_2_17_x86_64.manylinux2014_x86_64.whl (212 kB)\n",
            "Collecting fsspec[http]>=2021.05.0\n",
            "  Downloading fsspec-2022.3.0-py3-none-any.whl (136 kB)\n",
            "Collecting aiohttp\n",
            "  Downloading aiohttp-3.8.1-cp37-cp37m-manylinux_2_5_x86_64.manylinux1_x86_64.manylinux_2_12_x86_64.manylinux2010_x86_64.whl (1.1 MB)\n",
            "Requirement already satisfied: huggingface-hub<1.0.0,>=0.1.0 in /usr/local/lib/python3.7/dist-packages (from datasets) (0.6.0)\n",
            "Requirement already satisfied: importlib-metadata in /usr/local/lib/python3.7/dist-packages (from datasets) (4.11.3)\n",
            "Requirement already satisfied: multiprocess in /usr/local/lib/python3.7/dist-packages (from datasets) (0.70.12.2)\n",
            "Requirement already satisfied: pyarrow>=6.0.0 in /usr/local/lib/python3.7/dist-packages (from datasets) (6.0.1)\n",
            "Requirement already satisfied: dill in /usr/local/lib/python3.7/dist-packages (from datasets) (0.3.4)\n",
            "Requirement already satisfied: numpy>=1.17 in /usr/local/lib/python3.7/dist-packages (from datasets) (1.21.6)\n",
            "Requirement already satisfied: requests>=2.19.0 in /usr/local/lib/python3.7/dist-packages (from datasets) (2.23.0)\n",
            "Requirement already satisfied: pyyaml in /usr/local/lib/python3.7/dist-packages (from huggingface-hub<1.0.0,>=0.1.0->datasets) (6.0)\n",
            "Requirement already satisfied: typing-extensions>=3.7.4.3 in /usr/local/lib/python3.7/dist-packages (from huggingface-hub<1.0.0,>=0.1.0->datasets) (4.2.0)\n",
            "Requirement already satisfied: filelock in /usr/local/lib/python3.7/dist-packages (from huggingface-hub<1.0.0,>=0.1.0->datasets) (3.7.0)\n",
            "Requirement already satisfied: pyparsing!=3.0.5,>=2.0.2 in /usr/local/lib/python3.7/dist-packages (from packaging->datasets) (3.0.9)\n",
            "Requirement already satisfied: idna<3,>=2.5 in /usr/local/lib/python3.7/dist-packages (from requests>=2.19.0->datasets) (2.10)\n",
            "Requirement already satisfied: chardet<4,>=3.0.2 in /usr/local/lib/python3.7/dist-packages (from requests>=2.19.0->datasets) (3.0.4)\n",
            "Requirement already satisfied: certifi>=2017.4.17 in /usr/local/lib/python3.7/dist-packages (from requests>=2.19.0->datasets) (2021.10.8)\n",
            "Requirement already satisfied: urllib3!=1.25.0,!=1.25.1,<1.26,>=1.21.1 in /usr/local/lib/python3.7/dist-packages (from requests>=2.19.0->datasets) (1.24.3)\n",
            "Collecting urllib3!=1.25.0,!=1.25.1,<1.26,>=1.21.1\n",
            "  Downloading urllib3-1.25.11-py2.py3-none-any.whl (127 kB)\n",
            "Requirement already satisfied: charset-normalizer<3.0,>=2.0 in /usr/local/lib/python3.7/dist-packages (from aiohttp->datasets) (2.0.12)\n",
            "Collecting asynctest==0.13.0\n",
            "  Downloading asynctest-0.13.0-py3-none-any.whl (26 kB)\n",
            "Collecting multidict<7.0,>=4.5\n",
            "  Downloading multidict-6.0.2-cp37-cp37m-manylinux_2_17_x86_64.manylinux2014_x86_64.whl (94 kB)\n",
            "Collecting async-timeout<5.0,>=4.0.0a3\n",
            "  Downloading async_timeout-4.0.2-py3-none-any.whl (5.8 kB)\n",
            "Collecting yarl<2.0,>=1.0\n",
            "  Downloading yarl-1.7.2-cp37-cp37m-manylinux_2_5_x86_64.manylinux1_x86_64.manylinux_2_12_x86_64.manylinux2010_x86_64.whl (271 kB)\n",
            "Collecting aiosignal>=1.1.2\n",
            "  Downloading aiosignal-1.2.0-py3-none-any.whl (8.2 kB)\n",
            "Requirement already satisfied: attrs>=17.3.0 in /usr/local/lib/python3.7/dist-packages (from aiohttp->datasets) (21.4.0)\n",
            "Collecting frozenlist>=1.1.1\n",
            "  Downloading frozenlist-1.3.0-cp37-cp37m-manylinux_2_5_x86_64.manylinux1_x86_64.manylinux_2_17_x86_64.manylinux2014_x86_64.whl (144 kB)\n",
            "Requirement already satisfied: zipp>=0.5 in /usr/local/lib/python3.7/dist-packages (from importlib-metadata->datasets) (3.8.0)\n",
            "Requirement already satisfied: python-dateutil>=2.7.3 in /usr/local/lib/python3.7/dist-packages (from pandas->datasets) (2.8.2)\n",
            "Requirement already satisfied: pytz>=2017.3 in /usr/local/lib/python3.7/dist-packages (from pandas->datasets) (2022.1)\n",
            "Requirement already satisfied: six>=1.5 in /usr/local/lib/python3.7/dist-packages (from python-dateutil>=2.7.3->pandas->datasets) (1.15.0)\n",
            "Installing collected packages: multidict, frozenlist, yarl, urllib3, asynctest, async-timeout, aiosignal, fsspec, aiohttp, xxhash, responses, datasets\n",
            "  Attempting uninstall: urllib3\n",
            "    Found existing installation: urllib3 1.24.3\n",
            "    Uninstalling urllib3-1.24.3:\n",
            "      Successfully uninstalled urllib3-1.24.3\n",
            "Successfully installed aiohttp-3.8.1 aiosignal-1.2.0 async-timeout-4.0.2 asynctest-0.13.0 datasets-2.2.1 frozenlist-1.3.0 fsspec-2022.3.0 multidict-6.0.2 responses-0.18.0 urllib3-1.25.11 xxhash-3.0.0 yarl-1.7.2\n",
            "\n"
          ]
        }
      ]
    },
    {
      "cell_type": "code",
      "source": [
        "# 4. load in the packages\n",
        "import transformers\n",
        "from transformers import BertModel, BertTokenizer, AdamW, get_linear_schedule_with_warmup\n",
        "import torch\n",
        "\n",
        "import numpy as np\n",
        "import pandas as pd\n",
        "import seaborn as sns\n",
        "from pylab import rcParams\n",
        "#\n",
        "if IF_Google!=1:\n",
        "  import matplotlib \n",
        "  matplotlib.use('Agg')\n",
        "#\n",
        "import matplotlib.pyplot as plt\n",
        "from matplotlib import rc\n",
        "from sklearn.model_selection import train_test_split\n",
        "from sklearn.metrics import confusion_matrix, classification_report\n",
        "from collections import defaultdict\n",
        "from textwrap import wrap\n",
        "\n",
        "from torch import nn, optim\n",
        "from torch.utils.data import Dataset, DataLoader\n",
        "import torch.nn.functional as F\n",
        "\n",
        "import re\n",
        "\n",
        "import pickle\n",
        "\n",
        "import datasets"
      ],
      "metadata": {
        "id": "NvfphafcP3Zb"
      },
      "execution_count": null,
      "outputs": []
    },
    {
      "cell_type": "code",
      "source": [
        "from transformers import AutoTokenizer, AutoModel\n",
        "from accelerate import Accelerator\n",
        "# import accelerate"
      ],
      "metadata": {
        "id": "jmKYR9imP65w"
      },
      "execution_count": null,
      "outputs": []
    },
    {
      "cell_type": "code",
      "source": [
        "%matplotlib inline\n",
        "%config InlineBackend.figure_format='retina'\n",
        "\n",
        "sns.set(style='whitegrid', palette='muted', font_scale=1.2)\n",
        "\n",
        "HAPPY_COLORS_PALETTE = [\"#01BEFE\", \"#FFDD00\", \"#FF7D00\", \"#FF006D\", \"#ADFF02\", \"#8F00FF\"]\n",
        "\n",
        "sns.set_palette(sns.color_palette(HAPPY_COLORS_PALETTE))\n",
        "\n",
        "rcParams['figure.figsize'] = 12, 8\n",
        "\n",
        "RANDOM_SEED = 42\n",
        "np.random.seed(RANDOM_SEED)\n",
        "torch.manual_seed(RANDOM_SEED)"
      ],
      "metadata": {
        "colab": {
          "base_uri": "https://localhost:8080/"
        },
        "id": "qm1ec2HBP-HV",
        "outputId": "2c11e51b-8cb9-4f3c-cca2-5b9e04f3b050"
      },
      "execution_count": null,
      "outputs": [
        {
          "output_type": "execute_result",
          "data": {
            "text/plain": [
              "<torch._C.Generator at 0x7f43a5050810>"
            ]
          },
          "metadata": {},
          "execution_count": 9
        }
      ]
    },
    {
      "cell_type": "code",
      "source": [
        "# 5. test some packages\n",
        "\n",
        "accelerator = Accelerator(mixed_precision='fp16')\n",
        "device = accelerator.device"
      ],
      "metadata": {
        "id": "ANtsa4TaQAT4"
      },
      "execution_count": null,
      "outputs": []
    },
    {
      "cell_type": "code",
      "source": [
        "if IF_Debug==1:\n",
        "  print(device)"
      ],
      "metadata": {
        "colab": {
          "base_uri": "https://localhost:8080/"
        },
        "id": "ZSt67-wHQC5l",
        "outputId": "63f54afa-2c7e-4340-917b-cbf6b6d42a05"
      },
      "execution_count": null,
      "outputs": [
        {
          "output_type": "stream",
          "name": "stdout",
          "text": [
            "cuda\n"
          ]
        }
      ]
    },
    {
      "cell_type": "code",
      "source": [
        "# UnSolved: this one works in google colab, \n",
        "# but not in the cluster. \n",
        "# To avoid this, \n",
        "# the source code, \"accelerator.py\": Line 481\n",
        "# is modified. \n",
        "# dict: /home/bo_ni/ondemand/group_data/bo_ni/HomeVirEnvi/0_Pytorch/lib/python3.9/site-packages/accelerate\n",
        "# if self.native_amp and self.state.use_fp16:\n",
        "# >>  if self.native_amp and (self.state.mixed_precision=='fp16'):\n",
        "if IF_Google == 1:\n",
        "  print(accelerator.state.use_fp16)\n",
        "  print()\n",
        "  print(accelerator.state)"
      ],
      "metadata": {
        "colab": {
          "base_uri": "https://localhost:8080/"
        },
        "id": "NvfAzLfjQEbb",
        "outputId": "a137c629-09f3-4b02-ddcb-36eef9086b39"
      },
      "execution_count": null,
      "outputs": [
        {
          "output_type": "stream",
          "name": "stdout",
          "text": [
            "True\n",
            "\n",
            "Distributed environment: NO\n",
            "Num processes: 1\n",
            "Process index: 0\n",
            "Local process index: 0\n",
            "Device: cuda\n",
            "Mixed precision type: fp16\n",
            "\n"
          ]
        }
      ]
    },
    {
      "cell_type": "code",
      "source": [
        "# 6. introduce the pretrained model\n",
        "model_name = 'Rostlab/prot_bert_bfd'"
      ],
      "metadata": {
        "id": "c4AT1E64QIiv"
      },
      "execution_count": null,
      "outputs": []
    },
    {
      "cell_type": "code",
      "source": [
        "# 7. paths in the image\n",
        "if IF_Google == 1:\n",
        "  DB_path_inImag = './'\n",
        "  Working_Path_inImag = './'\n",
        "else:\n",
        "  # for singularity image\n",
        "  DB_path_inImag = '/Share_Data/'\n",
        "  Working_Path_inImag = '/data/'\n",
        "  # for virtual environment case: set these from the .sh file\n",
        "  DB_path_inImag = str( sys.argv[1] )\n",
        "  Working_Path_inImag = str( sys.argv[2] )"
      ],
      "metadata": {
        "id": "6w8TdsezQLAF"
      },
      "execution_count": null,
      "outputs": []
    },
    {
      "cell_type": "code",
      "source": [
        "# for cluster\n",
        "# ref: https://stackoverflow.com/questions/62691279/how-to-disable-tokenizers-parallelism-true-false-warning\n",
        "if IF_Google != 1:\n",
        "  os.environ[\"TOKENIZERS_PARALLELISM\"] = \"false\""
      ],
      "metadata": {
        "id": "58Hdc_l7QN42"
      },
      "execution_count": null,
      "outputs": []
    },
    {
      "cell_type": "code",
      "source": [
        "# 8. download the necessary files for google\n",
        "if IF_Google == 1:\n",
        "  file_exists = os.path.exists('./homemade_metric_classification_accuracy/homemade_metric_classification_accuracy.py')\n",
        "  if not (file_exists):\n",
        "    # download files\n",
        "    print(os.popen('wget https://www.dropbox.com/s/7pf0ffrqwk1ndh4/ecoli_pair_Pick_test.csv').read())\n",
        "    print(os.popen('wget https://www.dropbox.com/s/dv1mp3n1z9xs7vs/ecoli_pair_Pick_trai.csv').read())\n",
        "    print(os.popen('wget https://www.dropbox.com/s/fnnf2w94k50wh12/ecoli_pair_Pick_vali.csv').read())\n",
        "\n",
        "    # print(os.popen('wget https://www.dropbox.com/s/gbegysaiby8lc0t/fgf_fgfr_UnRe_test.csv').read())\n",
        "    # print(os.popen('wget https://www.dropbox.com/s/oxgy6c84yftl57f/fgf_fgfr_UnRe_trai.csv').read())\n",
        "    # print(os.popen('wget https://www.dropbox.com/s/msrn0hqfm56mveh/fgf_fgfr_UnRe_vali.csv').read())\n",
        "\n",
        "    print(os.popen('wget https://www.dropbox.com/s/lc99jlhq6sbntxq/homemade_metric_classification_accuracy.py').read())\n",
        "    # move the file\n",
        "    print(os.popen('mkdir homemade_metric_classification_accuracy').read())\n",
        "    print(os.popen('mv homemade_metric_classification_accuracy.py ./homemade_metric_classification_accuracy').read())"
      ],
      "metadata": {
        "colab": {
          "base_uri": "https://localhost:8080/"
        },
        "id": "HLGIMGFBQQJf",
        "outputId": "0de7c475-e2a2-41e2-9322-38f71ddada93"
      },
      "execution_count": null,
      "outputs": [
        {
          "output_type": "stream",
          "name": "stdout",
          "text": [
            "\n",
            "\n",
            "\n",
            "\n",
            "\n",
            "\n"
          ]
        }
      ]
    },
    {
      "cell_type": "code",
      "source": [
        "metric_trai = datasets.load_metric(DB_path_inImag+'homemade_metric_classification_accuracy')\n",
        "metric_vali = datasets.load_metric(DB_path_inImag+'homemade_metric_classification_accuracy')\n",
        "metric_test = datasets.load_metric(DB_path_inImag+'homemade_metric_classification_accuracy')\n",
        "\n",
        "# # df_trai_full = pd.read_csv(DB_path_inImag+'Freq_Posi_sub_Training.csv')\n",
        "# df_trai = pd.read_csv(DB_path_inImag+'fgf_fgfr_Revi_trai.csv')\n",
        "# df_vali = pd.read_csv(DB_path_inImag+'fgf_fgfr_Revi_vali.csv')\n",
        "# df_test = pd.read_csv(DB_path_inImag+'fgf_fgfr_Revi_test.csv')\n",
        "\n",
        "df_trai = pd.read_csv(DB_path_inImag+'ecoli_pair_Pick_trai.csv')\n",
        "df_vali = pd.read_csv(DB_path_inImag+'ecoli_pair_Pick_vali.csv')\n",
        "df_test = pd.read_csv(DB_path_inImag+'ecoli_pair_Pick_test.csv')"
      ],
      "metadata": {
        "id": "6n0hzWlMQnlI"
      },
      "execution_count": null,
      "outputs": []
    },
    {
      "cell_type": "code",
      "source": [
        "accelerator.print(df_trai.shape)\n",
        "accelerator.print(df_vali.shape)\n",
        "accelerator.print(df_test.shape)"
      ],
      "metadata": {
        "colab": {
          "base_uri": "https://localhost:8080/"
        },
        "id": "RLj5382mQ3pC",
        "outputId": "54ebd448-75bf-446b-9898-4d50f4e58afc"
      },
      "execution_count": null,
      "outputs": [
        {
          "output_type": "stream",
          "name": "stdout",
          "text": [
            "(356, 8)\n",
            "(76, 8)\n",
            "(76, 8)\n"
          ]
        }
      ]
    },
    {
      "cell_type": "code",
      "source": [
        "# take a look at the distributions\n",
        "if accelerator.is_main_process:\n",
        "  # for seq_len\n",
        "  plt.figure()\n",
        "  sns.histplot(df_trai.Seq_1_Len.values, \n",
        "              bins=40, kde=True, stat='density', color=\"red\", \n",
        "               label=\"SeqLen, Training\");\n",
        "  sns.histplot(df_vali.Seq_1_Len.values, \n",
        "              bins=40, kde=True, stat='density', color=\"blue\", \n",
        "               label=\"SeqLen, Validation\");\n",
        "  sns.histplot(df_test.Seq_1_Len.values, \n",
        "              bins=40, kde=True, stat='density', color=\"yellow\", \n",
        "               label=\"SeqLen, Testing\");\n",
        "  # sns.histplot(df_trai.Seq_Len.values, \n",
        "  #             bins=40, kde=True, stat='density', color=\"red\", \n",
        "  #              label=\"SeqLen, Training\");\n",
        "  # sns.histplot(df_vali.Seq_Len.values, \n",
        "  #             bins=40, kde=True, stat='density', color=\"blue\", \n",
        "  #              label=\"SeqLen, Validation\", alpha  = 0.2);\n",
        "  # sns.histplot(df_test.Seq_Len.values, \n",
        "  #             bins=40, kde=True, stat='density', color=\"yellow\", \n",
        "  #              label=\"SeqLen, Testing\",alpha  = 0.2);\n",
        "\n",
        "  plt.grid()\n",
        "  plt.legend()\n",
        "  # if IF_Google==1:\n",
        "  #   plt.show() \n",
        "  # plt.savefig(Working_Path_inImag+'Three_Sets_Seq_Len.png')"
      ],
      "metadata": {
        "colab": {
          "base_uri": "https://localhost:8080/",
          "height": 488
        },
        "id": "OJ2NqZO9Q6Pw",
        "outputId": "31329770-9354-4a2b-a503-c7480a1da8f1"
      },
      "execution_count": null,
      "outputs": [
        {
          "output_type": "display_data",
          "data": {
            "text/plain": [
              "<Figure size 864x576 with 1 Axes>"
            ],
            "image/png": "[encoded data removed]"
          },
          "metadata": {
            "image/png": {
              "width": 749,
              "height": 471
            }
          }
        }
      ]
    },
    {
      "cell_type": "code",
      "source": [
        "# take a look at the distributions\n",
        "if accelerator.is_main_process:\n",
        "  # for seq_len\n",
        "  plt.figure()\n",
        "  sns.histplot(df_trai.Seq_2_Len.values, \n",
        "              bins=40, kde=True, stat='density', color=\"red\", \n",
        "               label=\"SeqLen, Training\");\n",
        "  sns.histplot(df_vali.Seq_2_Len.values, \n",
        "              bins=40, kde=True, stat='density', color=\"blue\", \n",
        "               label=\"SeqLen, Validation\");\n",
        "  sns.histplot(df_test.Seq_2_Len.values, \n",
        "              bins=40, kde=True, stat='density', color=\"yellow\", \n",
        "               label=\"SeqLen, Testing\");\n",
        "  # sns.histplot(df_trai.Seq_Len.values, \n",
        "  #             bins=40, kde=True, stat='density', color=\"red\", \n",
        "  #              label=\"SeqLen, Training\");\n",
        "  # sns.histplot(df_vali.Seq_Len.values, \n",
        "  #             bins=40, kde=True, stat='density', color=\"blue\", \n",
        "  #              label=\"SeqLen, Validation\", alpha  = 0.2);\n",
        "  # sns.histplot(df_test.Seq_Len.values, \n",
        "  #             bins=40, kde=True, stat='density', color=\"yellow\", \n",
        "  #              label=\"SeqLen, Testing\",alpha  = 0.2);\n",
        "\n",
        "  plt.grid()\n",
        "  plt.legend()\n",
        "  # if IF_Google==1:\n",
        "  #   plt.show() \n",
        "  # plt.savefig(Working_Path_inImag+'Three_Sets_Seq_Len.png')"
      ],
      "metadata": {
        "colab": {
          "base_uri": "https://localhost:8080/",
          "height": 488
        },
        "id": "pJI466jPRJQ4",
        "outputId": "32b08051-e366-4a5c-b4bc-cddc62c884ac"
      },
      "execution_count": null,
      "outputs": [
        {
          "output_type": "display_data",
          "data": {
            "text/plain": [
              "<Figure size 864x576 with 1 Axes>"
            ],
            "image/png": "[encoded data removed]"
          },
          "metadata": {
            "image/png": {
              "width": 749,
              "height": 471
            }
          }
        }
      ]
    },
    {
      "cell_type": "code",
      "source": [
        "# Base what we see before, here we choose the sequence length\n",
        "MAX_LEN = 1800\n",
        "MAX_LEN = 1500\n",
        "MAX_LEN = 1000\n",
        "MAX_LEN = 200"
      ],
      "metadata": {
        "id": "I0o7vmKuRPxf"
      },
      "execution_count": null,
      "outputs": []
    },
    {
      "cell_type": "code",
      "source": [
        "# 2.1 load the tokenizer\n",
        "tokenizer = AutoTokenizer.from_pretrained(model_name, \n",
        "                                          do_lower_case=False)"
      ],
      "metadata": {
        "colab": {
          "base_uri": "https://localhost:8080/",
          "height": 145,
          "referenced_widgets": [
            "b78f4f6dbd2742abb80d901cf4ab67fe",
            "f630cb2f2aec48b2bb52a68a91c9ede7",
            "918d8c100fc4428b86ca07e42cdffc4c",
            "fa1db651836644a88ffe1082e9d560d4",
            "3f787649bcdc40bcb9fe6e2581721084",
            "fc38fcd3488f4e44bfc29e80f21184ba",
            "c704a9a2e80d4959911be3fbfdc14f0d",
            "9edbd8bc06d24b49a617f7af1141f7ce",
            "6f0cad849bdd4a7295d4aa24e0aa42d8",
            "dcd635304ff64e5d8c43fe1bdecf3570",
            "ae78c201d2894a03ba93174b7b8a8b69",
            "7af8898061aa4632a7b43a251cf27c37",
            "359007b43e69405c859d529ec4aa36ab",
            "31cfc06f775d4e279dd53f5e30e80644",
            "57d372318a714b88ad375c591517fc4a",
            "0236a67a634c4a2691d19476876819e4",
            "11bae49521a74cb6a96ee61a2a334df6",
            "bb50643a6e7f42e28f37f5a6c8e833cd",
            "55a517cc99414e15a4df2ba5f994ea80",
            "e5529736a1634c80927bc4dc192de1be",
            "a993e246105744c987ec6cbce2397dab",
            "3880bf823aaa470f9a9fd1e8ba9ab9a7",
            "126c8c472a1f4eeca5fd6fec3dbe8a5a",
            "bd30fd652fd84f3eaeafa2c4d4f79630",
            "7f8fff4ed5bf4410bb8d854de6d197bd",
            "bc06946acbde46bb9621328c3377cc56",
            "0ed77f7060bf4706a3aea139bd19a34e",
            "df049675c37f4c2d9887f42ff70669b1",
            "1cd6722d77294a3cbf2b43ba4cc47e9b",
            "63aa4f18c0f24839838db53f998b28e1",
            "ac637e1055594090aec29e07604fee4e",
            "56ec80e366ea4cdb9b32bfe901a73230",
            "afe0f9b1ae194acc85abc4a3b35dd9a6",
            "06fcf968ed22413ebea2f1fc84f33eed",
            "c3fc4a826ad84dbf93d5ccbbdbb0aceb",
            "69e0afe41c6840168906d4df692bf3b6",
            "8ce1521abd514943b01383d80c5ec635",
            "84ee14b9391d4d61bd2f5bf41a89b310",
            "263bc95a9945400bae55988d425c9b76",
            "9c4c8305e94440f38782a364b659ed9f",
            "00cc3927e7d848508d7dfad8dde416fb",
            "1ca5fe1862e94ad0baeeede8b22dedae",
            "cc2df426f5ed40248ef5a99204ebb6cf",
            "331dbaae3ef3441eb8ebf60f5d716715"
          ]
        },
        "id": "67V-BnnvRgv4",
        "outputId": "9ddc660a-a0fd-49f7-b009-84408e711ad7"
      },
      "execution_count": null,
      "outputs": [
        {
          "output_type": "display_data",
          "data": {
            "text/plain": [
              "Downloading:   0%|          | 0.00/86.0 [00:00<?, ?B/s]"
            ],
            "application/vnd.jupyter.widget-view+json": {
              "version_major": 2,
              "version_minor": 0,
              "model_id": "b78f4f6dbd2742abb80d901cf4ab67fe"
            }
          },
          "metadata": {}
        },
        {
          "output_type": "display_data",
          "data": {
            "text/plain": [
              "Downloading:   0%|          | 0.00/361 [00:00<?, ?B/s]"
            ],
            "application/vnd.jupyter.widget-view+json": {
              "version_major": 2,
              "version_minor": 0,
              "model_id": "7af8898061aa4632a7b43a251cf27c37"
            }
          },
          "metadata": {}
        },
        {
          "output_type": "display_data",
          "data": {
            "text/plain": [
              "Downloading:   0%|          | 0.00/81.0 [00:00<?, ?B/s]"
            ],
            "application/vnd.jupyter.widget-view+json": {
              "version_major": 2,
              "version_minor": 0,
              "model_id": "126c8c472a1f4eeca5fd6fec3dbe8a5a"
            }
          },
          "metadata": {}
        },
        {
          "output_type": "display_data",
          "data": {
            "text/plain": [
              "Downloading:   0%|          | 0.00/112 [00:00<?, ?B/s]"
            ],
            "application/vnd.jupyter.widget-view+json": {
              "version_major": 2,
              "version_minor": 0,
              "model_id": "06fcf968ed22413ebea2f1fc84f33eed"
            }
          },
          "metadata": {}
        }
      ]
    },
    {
      "cell_type": "code",
      "source": [
        "# wash the raw sequences\n",
        "def format_seq_for_datasets(example):\n",
        "    seq = example[\"Seq\"]\n",
        "    # on the format\n",
        "    seq = \" \".join(\"\".join(seq.split()))\n",
        "    # on the uncommon AA\n",
        "    example[\"Seq\"] = re.sub(r\"[UZOB]\", \"X\", seq)\n",
        "#     # for test\n",
        "#     example[\"Seq\"] = 'AAA'\n",
        "    return example\n",
        "\n",
        "# =============================================\n",
        "def format_seq_for_dataframe(seq):\n",
        "    # on the format\n",
        "    seq1 = \" \".join(\"\".join(seq.split()))\n",
        "    # on the uncommon AA\n",
        "    seq1 = re.sub(r\"[UZOB]\", \"X\", seq1)\n",
        "#     # for test\n",
        "#     example[\"Seq\"] = 'AAA'\n",
        "    return seq1\n",
        "\n",
        "# # ============================================\n",
        "# def to_labels(KnotType):\n",
        "#   if KnotType == '3_1':\n",
        "#     return 1\n",
        "#   elif KnotType == '0_1':\n",
        "#     return 0\n",
        "#   else:\n",
        "#     return -1\n"
      ],
      "metadata": {
        "id": "D3F_SaOuRowZ"
      },
      "execution_count": null,
      "outputs": []
    },
    {
      "cell_type": "code",
      "source": [
        "df_trai.head(1)"
      ],
      "metadata": {
        "colab": {
          "base_uri": "https://localhost:8080/",
          "height": 145
        },
        "id": "X5W52eTcRypl",
        "outputId": "eca3dc46-0f65-4593-cafb-3bd955e603e8"
      },
      "execution_count": null,
      "outputs": [
        {
          "output_type": "execute_result",
          "data": {
            "text/plain": [
              "  Protein1 Protein2  Interaction  Probability  \\\n",
              "0   P64545   P37596            0     0.995834   \n",
              "\n",
              "                                               Seq_1  \\\n",
              "0  MSQATSMRKRHRFNSRMTRIVLLISFIFFFGRFIYSSVGAWQHHQS...   \n",
              "\n",
              "                                               Seq_2  Seq_1_Len  Seq_2_Len  \n",
              "0  MSNGIVIIGSGFAARQLVKNIRKQDATIPLTLIAADSMDEYNKPDL...         63        377  "
            ],
            "text/html": [
              "\n",
              "  <div id=\"df-d421fe05-e3ea-498a-8e4f-8cbf9e2324c9\">\n",
              "    <div class=\"colab-df-container\">\n",
              "      <div>\n",
              "<style scoped>\n",
              "    .dataframe tbody tr th:only-of-type {\n",
              "        vertical-align: middle;\n",
              "    }\n",
              "\n",
              "    .dataframe tbody tr th {\n",
              "        vertical-align: top;\n",
              "    }\n",
              "\n",
              "    .dataframe thead th {\n",
              "        text-align: right;\n",
              "    }\n",
              "</style>\n",
              "<table border=\"1\" class=\"dataframe\">\n",
              "  <thead>\n",
              "    <tr style=\"text-align: right;\">\n",
              "      <th></th>\n",
              "      <th>Protein1</th>\n",
              "      <th>Protein2</th>\n",
              "      <th>Interaction</th>\n",
              "      <th>Probability</th>\n",
              "      <th>Seq_1</th>\n",
              "      <th>Seq_2</th>\n",
              "      <th>Seq_1_Len</th>\n",
              "      <th>Seq_2_Len</th>\n",
              "    </tr>\n",
              "  </thead>\n",
              "  <tbody>\n",
              "    <tr>\n",
              "      <th>0</th>\n",
              "      <td>P64545</td>\n",
              "      <td>P37596</td>\n",
              "      <td>0</td>\n",
              "      <td>0.995834</td>\n",
              "      <td>MSQATSMRKRHRFNSRMTRIVLLISFIFFFGRFIYSSVGAWQHHQS...</td>\n",
              "      <td>MSNGIVIIGSGFAARQLVKNIRKQDATIPLTLIAADSMDEYNKPDL...</td>\n",
              "      <td>63</td>\n",
              "      <td>377</td>\n",
              "    </tr>\n",
              "  </tbody>\n",
              "</table>\n",
              "</div>\n",
              "      <button class=\"colab-df-convert\" onclick=\"convertToInteractive('df-d421fe05-e3ea-498a-8e4f-8cbf9e2324c9')\"\n",
              "              title=\"Convert this dataframe to an interactive table.\"\n",
              "              style=\"display:none;\">\n",
              "        \n",
              "  <svg xmlns=\"http://www.w3.org/2000/svg\" height=\"24px\"viewBox=\"0 0 24 24\"\n",
              "       width=\"24px\">\n",
              "    <path d=\"M0 0h24v24H0V0z\" fill=\"none\"/>\n",
              "    <path d=\"M18.56 5.44l.94 2.06.94-2.06 2.06-.94-2.06-.94-.94-2.06-.94 2.06-2.06.94zm-11 1L8.5 8.5l.94-2.06 2.06-.94-2.06-.94L8.5 2.5l-.94 2.06-2.06.94zm10 10l.94 2.06.94-2.06 2.06-.94-2.06-.94-.94-2.06-.94 2.06-2.06.94z\"/><path d=\"M17.41 7.96l-1.37-1.37c-.4-.4-.92-.59-1.43-.59-.52 0-1.04.2-1.43.59L10.3 9.45l-7.72 7.72c-.78.78-.78 2.05 0 2.83L4 21.41c.39.39.9.59 1.41.59.51 0 1.02-.2 1.41-.59l7.78-7.78 2.81-2.81c.8-.78.8-2.07 0-2.86zM5.41 20L4 18.59l7.72-7.72 1.47 1.35L5.41 20z\"/>\n",
              "  </svg>\n",
              "      </button>\n",
              "      \n",
              "  <style>\n",
              "    .colab-df-container {\n",
              "      display:flex;\n",
              "      flex-wrap:wrap;\n",
              "      gap: 12px;\n",
              "    }\n",
              "\n",
              "    .colab-df-convert {\n",
              "      background-color: #E8F0FE;\n",
              "      border: none;\n",
              "      border-radius: 50%;\n",
              "      cursor: pointer;\n",
              "      display: none;\n",
              "      fill: #1967D2;\n",
              "      height: 32px;\n",
              "      padding: 0 0 0 0;\n",
              "      width: 32px;\n",
              "    }\n",
              "\n",
              "    .colab-df-convert:hover {\n",
              "      background-color: #E2EBFA;\n",
              "      box-shadow: 0px 1px 2px rgba(60, 64, 67, 0.3), 0px 1px 3px 1px rgba(60, 64, 67, 0.15);\n",
              "      fill: #174EA6;\n",
              "    }\n",
              "\n",
              "    [theme=dark] .colab-df-convert {\n",
              "      background-color: #3B4455;\n",
              "      fill: #D2E3FC;\n",
              "    }\n",
              "\n",
              "    [theme=dark] .colab-df-convert:hover {\n",
              "      background-color: #434B5C;\n",
              "      box-shadow: 0px 1px 3px 1px rgba(0, 0, 0, 0.15);\n",
              "      filter: drop-shadow(0px 1px 2px rgba(0, 0, 0, 0.3));\n",
              "      fill: #FFFFFF;\n",
              "    }\n",
              "  </style>\n",
              "\n",
              "      <script>\n",
              "        const buttonEl =\n",
              "          document.querySelector('#df-d421fe05-e3ea-498a-8e4f-8cbf9e2324c9 button.colab-df-convert');\n",
              "        buttonEl.style.display =\n",
              "          google.colab.kernel.accessAllowed ? 'block' : 'none';\n",
              "\n",
              "        async function convertToInteractive(key) {\n",
              "          const element = document.querySelector('#df-d421fe05-e3ea-498a-8e4f-8cbf9e2324c9');\n",
              "          const dataTable =\n",
              "            await google.colab.kernel.invokeFunction('convertToInteractive',\n",
              "                                                     [key], {});\n",
              "          if (!dataTable) return;\n",
              "\n",
              "          const docLinkHtml = 'Like what you see? Visit the ' +\n",
              "            '<a target=\"_blank\" href=https://colab.research.google.com/notebooks/data_table.ipynb>data table notebook</a>'\n",
              "            + ' to learn more about interactive tables.';\n",
              "          element.innerHTML = '';\n",
              "          dataTable['output_type'] = 'display_data';\n",
              "          await google.colab.output.renderOutput(dataTable, element);\n",
              "          const docLink = document.createElement('div');\n",
              "          docLink.innerHTML = docLinkHtml;\n",
              "          element.appendChild(docLink);\n",
              "        }\n",
              "      </script>\n",
              "    </div>\n",
              "  </div>\n",
              "  "
            ]
          },
          "metadata": {},
          "execution_count": 24
        }
      ]
    },
    {
      "cell_type": "code",
      "source": [
        "# update the format of sequences for Bert model\n",
        "# \n",
        "df_trai[\"Seq_1\"] = df_trai[\"Seq_1\"].apply(format_seq_for_dataframe)\n",
        "df_vali[\"Seq_1\"] = df_vali[\"Seq_1\"].apply(format_seq_for_dataframe)\n",
        "df_test[\"Seq_1\"] = df_test[\"Seq_1\"].apply(format_seq_for_dataframe)\n"
      ],
      "metadata": {
        "id": "kGjuOr1XR0bB"
      },
      "execution_count": null,
      "outputs": []
    },
    {
      "cell_type": "code",
      "source": [
        "# \n",
        "df_trai[\"Seq_2\"] = df_trai[\"Seq_2\"].apply(format_seq_for_dataframe)\n",
        "df_vali[\"Seq_2\"] = df_vali[\"Seq_2\"].apply(format_seq_for_dataframe)\n",
        "df_test[\"Seq_2\"] = df_test[\"Seq_2\"].apply(format_seq_for_dataframe)"
      ],
      "metadata": {
        "id": "IbiWgG43SCno"
      },
      "execution_count": null,
      "outputs": []
    },
    {
      "cell_type": "code",
      "source": [
        "# \n",
        "df_trai[\"Label\"] = df_trai[\"Interaction\"]# .apply(to_labels)\n",
        "df_vali[\"Label\"] = df_vali[\"Interaction\"]# .apply(to_labels)\n",
        "df_test[\"Label\"] = df_test[\"Interaction\"]# .apply(to_labels)\n"
      ],
      "metadata": {
        "id": "Pvz48czRSKqy"
      },
      "execution_count": null,
      "outputs": []
    },
    {
      "cell_type": "code",
      "source": [
        "if IF_Debug == 1:\n",
        "  print(df_trai.describe())"
      ],
      "metadata": {
        "colab": {
          "base_uri": "https://localhost:8080/"
        },
        "id": "tlnIzQSiSU2u",
        "outputId": "4c764591-8840-4110-bad3-d8065d33972d"
      },
      "execution_count": null,
      "outputs": [
        {
          "output_type": "stream",
          "name": "stdout",
          "text": [
            "       Interaction  Probability   Seq_1_Len    Seq_2_Len       Label\n",
            "count   356.000000   356.000000  356.000000   356.000000  356.000000\n",
            "mean      0.500000     0.997486  318.337079   320.087079    0.500000\n",
            "std       0.500704     0.001772  134.582835   154.497772    0.500704\n",
            "min       0.000000     0.994817   49.000000    50.000000    0.000000\n",
            "25%       0.000000     0.995828  257.000000   253.000000    0.000000\n",
            "50%       0.500000     0.997402  302.000000   305.000000    0.500000\n",
            "75%       1.000000     0.999374  388.250000   356.000000    1.000000\n",
            "max       1.000000     0.999977  807.000000  1520.000000    1.000000\n"
          ]
        }
      ]
    },
    {
      "cell_type": "code",
      "source": [
        "# in debug mode, collect useful info and tests\n",
        "if IF_Debug == 1:\n",
        "  sample_seq_1 = df_trai.Seq_1[1]\n",
        "  print( sample_seq_1 )\n",
        "  print(df_trai.Seq_1_Len[1])\n",
        "  sample_seq_2 = df_trai.Seq_2[1]\n",
        "  print( sample_seq_2 )\n",
        "  print(df_trai.Seq_2_Len[1])"
      ],
      "metadata": {
        "colab": {
          "base_uri": "https://localhost:8080/"
        },
        "id": "G-aHrEJhSWnd",
        "outputId": "92d6121a-f2ee-45e6-c105-8b18ab2c12ba"
      },
      "execution_count": null,
      "outputs": [
        {
          "output_type": "stream",
          "name": "stdout",
          "text": [
            "M Y Q R C F D N A S E T L F V A G K T P R L S R F A F S D D P K W E S G H H V H D N E T E L I Y V K K G V A R F T I D S S L Y V A H A D D I V V I E R G R L H A V A S D V N D P A T T C T C A L Y G F Q F Q G A E E N Q L L Q P H S C P V I A A G Q G K E V I K T L F N E L S V I L P Q S K N S Q T S S L W D A F A Y T L A I L Y Y E N F K N A Y R S E Q G Y I K K D V L I K D I L F Y L N N N Y R E K I T L E Q L S K K F R A S V S Y I C H E F T K E Y R I S P I N Y V I Q R R M T E A K W S L T N T E L S Q A E I S W R V G Y E N V D H F A K L F L R H V G C S P S D Y R R Q F K N C F A E Q E I L S E F P Q P V S L V G\n",
            "303\n",
            "M T H V C S V I L I R R S F D I Y H E Q Q K I S L H N E S I L L L E K N L A D D F A F C S P D T R R L D I D E L T V C H Y L Q N I R Q L P R N L G L H S K D R L L I N Q S P P M P L V T A I F D S F N E S G V N S P I L S N M L Y L S C L S M F S H K K E L I P L L F N S I S T V S G K V E R L I S F D I A K R W Y L R D I A E R M Y T S E S L I K K K L Q D E N T C F S K I L L A S R M S M A R R L L E L R Q I P L H T I A E K C G Y S S T S Y F I N T F R Q Y Y G V T P H Q F A Q H S P G T F S\n",
            "242\n"
          ]
        }
      ]
    },
    {
      "cell_type": "code",
      "source": [
        "# create a shoter sequence just for testing.\n",
        "if IF_Debug == 1:\n",
        "  sample_seq_1 = 'M Y Q R C F D N A S E T L F V'\n",
        "  print( sample_seq_1 )\n",
        "  sample_seq_2 = 'M T H V C S V I L I R R S F D I Y H E Q'\n",
        "  print( sample_seq_2 )\n"
      ],
      "metadata": {
        "colab": {
          "base_uri": "https://localhost:8080/"
        },
        "id": "ONGuoznrEG3X",
        "outputId": "387f3473-265c-4af9-f10f-a5b1b643b8e2"
      },
      "execution_count": null,
      "outputs": [
        {
          "output_type": "stream",
          "name": "stdout",
          "text": [
            "M Y Q R C F D N A S E T L F V\n",
            "M T H V C S V I L I R R S F D I Y H E Q\n"
          ]
        }
      ]
    },
    {
      "cell_type": "code",
      "source": [
        "if IF_Debug == 1:\n",
        "  sample_seq_12_tokens = tokenizer(sample_seq_1, sample_seq_2, \\\n",
        "                                     padding=\"max_length\", truncation=True)\n",
        "  print( sample_seq_12_tokens )\n",
        "  print( len(sample_seq_12_tokens) )"
      ],
      "metadata": {
        "colab": {
          "base_uri": "https://localhost:8080/"
        },
        "id": "_YgOmUtrC2xk",
        "outputId": "e144ba8d-e2f4-4957-f4b7-e3f4c75967a5"
      },
      "execution_count": null,
      "outputs": [
        {
          "output_type": "stream",
          "name": "stderr",
          "text": [
            "Asking to pad to max_length but no maximum length is provided and the model has no predefined maximum length. Default to no padding.\n",
            "Asking to truncate to max_length but no maximum length is provided and the model has no predefined maximum length. Default to no truncation.\n"
          ]
        },
        {
          "output_type": "stream",
          "name": "stdout",
          "text": [
            "{'input_ids': [2, 21, 20, 18, 13, 23, 19, 14, 17, 6, 10, 9, 15, 5, 19, 8, 3, 21, 15, 22, 8, 23, 10, 8, 11, 5, 11, 13, 13, 10, 19, 14, 11, 20, 22, 9, 18, 3], 'token_type_ids': [0, 0, 0, 0, 0, 0, 0, 0, 0, 0, 0, 0, 0, 0, 0, 0, 0, 1, 1, 1, 1, 1, 1, 1, 1, 1, 1, 1, 1, 1, 1, 1, 1, 1, 1, 1, 1, 1], 'attention_mask': [1, 1, 1, 1, 1, 1, 1, 1, 1, 1, 1, 1, 1, 1, 1, 1, 1, 1, 1, 1, 1, 1, 1, 1, 1, 1, 1, 1, 1, 1, 1, 1, 1, 1, 1, 1, 1, 1]}\n",
            "3\n"
          ]
        }
      ]
    },
    {
      "cell_type": "code",
      "source": [
        "if IF_Debug == 1:\n",
        "  sample_tokens_seq_1 = tokenizer.tokenize(sample_seq_1)\n",
        "  print(sample_tokens_seq_1)\n",
        "  print(len(sample_tokens_seq_1))"
      ],
      "metadata": {
        "colab": {
          "base_uri": "https://localhost:8080/"
        },
        "id": "aM_J23wIhCs8",
        "outputId": "8a9c09e5-7957-4b2d-b6d0-8bdc0600c30c"
      },
      "execution_count": null,
      "outputs": [
        {
          "output_type": "stream",
          "name": "stdout",
          "text": [
            "['M', 'Y', 'Q', 'R', 'C', 'F', 'D', 'N', 'A', 'S', 'E', 'T', 'L', 'F', 'V']\n",
            "15\n"
          ]
        }
      ]
    },
    {
      "cell_type": "code",
      "source": [
        "if IF_Debug == 1:\n",
        "  sample_token_ids_seq_1 = tokenizer.convert_tokens_to_ids(sample_tokens_seq_1)\n",
        "  print( sample_token_ids_seq_1 )"
      ],
      "metadata": {
        "colab": {
          "base_uri": "https://localhost:8080/"
        },
        "id": "t4-rDFlkhc_B",
        "outputId": "dcbe61ae-187b-49ab-ed91-448ea11e92fb"
      },
      "execution_count": null,
      "outputs": [
        {
          "output_type": "stream",
          "name": "stdout",
          "text": [
            "[21, 20, 18, 13, 23, 19, 14, 17, 6, 10, 9, 15, 5, 19, 8]\n"
          ]
        }
      ]
    },
    {
      "cell_type": "code",
      "source": [
        "if IF_Debug == 1:\n",
        "  # some special tokens\n",
        "  # [SEP]: marker for ending of a sentence\n",
        "  print(tokenizer.sep_token, tokenizer.sep_token_id)\n",
        "  # [CLS] - we must add this token to the start of each sentence, so BERT knows we're doing classification\n",
        "  print(tokenizer.cls_token, tokenizer.cls_token_id)\n",
        "  # There is also a special token for padding:\n",
        "  print(tokenizer.pad_token, tokenizer.pad_token_id)\n",
        "  # Everything else can be encoded using the [UNK] (unknown) token:\n",
        "  print(tokenizer.unk_token, tokenizer.unk_token_id)"
      ],
      "metadata": {
        "colab": {
          "base_uri": "https://localhost:8080/"
        },
        "id": "8zcx_DzYhmWv",
        "outputId": "34e4ffd7-64f7-48af-85df-6f17f517e193"
      },
      "execution_count": null,
      "outputs": [
        {
          "output_type": "stream",
          "name": "stdout",
          "text": [
            "[SEP] 3\n",
            "[CLS] 2\n",
            "[PAD] 0\n",
            "[UNK] 1\n"
          ]
        }
      ]
    },
    {
      "cell_type": "code",
      "source": [
        "if IF_Debug == 1:\n",
        "  print( tokenizer.encode_plus(sample_seq_1) )\n",
        "  # the ending of the sequence is added.\n",
        "  print( tokenizer.encode_plus(sample_seq_1).input_ids )\n",
        "  print( tokenizer.encode_plus(sample_seq_1).token_type_ids )\n",
        "  print( tokenizer.encode_plus(sample_seq_1).attention_mask )\n",
        "  #\n",
        "  print(len( tokenizer.encode_plus(sample_seq_1).attention_mask ))"
      ],
      "metadata": {
        "colab": {
          "base_uri": "https://localhost:8080/"
        },
        "id": "S6Qw6uxlh09t",
        "outputId": "4ad7b12a-1c90-4374-d20b-0556f769ee89"
      },
      "execution_count": null,
      "outputs": [
        {
          "output_type": "stream",
          "name": "stdout",
          "text": [
            "{'input_ids': [2, 21, 20, 18, 13, 23, 19, 14, 17, 6, 10, 9, 15, 5, 19, 8, 3], 'token_type_ids': [0, 0, 0, 0, 0, 0, 0, 0, 0, 0, 0, 0, 0, 0, 0, 0, 0], 'attention_mask': [1, 1, 1, 1, 1, 1, 1, 1, 1, 1, 1, 1, 1, 1, 1, 1, 1]}\n",
            "[2, 21, 20, 18, 13, 23, 19, 14, 17, 6, 10, 9, 15, 5, 19, 8, 3]\n",
            "[0, 0, 0, 0, 0, 0, 0, 0, 0, 0, 0, 0, 0, 0, 0, 0, 0]\n",
            "[1, 1, 1, 1, 1, 1, 1, 1, 1, 1, 1, 1, 1, 1, 1, 1, 1]\n",
            "17\n"
          ]
        }
      ]
    },
    {
      "cell_type": "code",
      "source": [
        "# try to extend to two-sentences: using token_type_ids\n",
        "if IF_Debug == 1:\n",
        "  print( tokenizer.encode_plus(sample_seq_1, sample_seq_2) )\n",
        "  # the ending of the sequence is added.\n",
        "  print( tokenizer.encode_plus(sample_seq_1, sample_seq_2).input_ids )\n",
        "  print( tokenizer.encode_plus(sample_seq_1, sample_seq_2).token_type_ids )\n",
        "  print( tokenizer.encode_plus(sample_seq_1, sample_seq_2).attention_mask )"
      ],
      "metadata": {
        "colab": {
          "base_uri": "https://localhost:8080/"
        },
        "id": "POW3n6tamSPi",
        "outputId": "8e0611d1-01ed-4f8d-e5d2-e385b28f728f"
      },
      "execution_count": null,
      "outputs": [
        {
          "output_type": "stream",
          "name": "stdout",
          "text": [
            "{'input_ids': [2, 21, 20, 18, 13, 23, 19, 14, 17, 6, 10, 9, 15, 5, 19, 8, 3, 21, 15, 22, 8, 23, 10, 8, 11, 5, 11, 13, 13, 10, 19, 14, 11, 20, 22, 9, 18, 3], 'token_type_ids': [0, 0, 0, 0, 0, 0, 0, 0, 0, 0, 0, 0, 0, 0, 0, 0, 0, 1, 1, 1, 1, 1, 1, 1, 1, 1, 1, 1, 1, 1, 1, 1, 1, 1, 1, 1, 1, 1], 'attention_mask': [1, 1, 1, 1, 1, 1, 1, 1, 1, 1, 1, 1, 1, 1, 1, 1, 1, 1, 1, 1, 1, 1, 1, 1, 1, 1, 1, 1, 1, 1, 1, 1, 1, 1, 1, 1, 1, 1]}\n",
            "[2, 21, 20, 18, 13, 23, 19, 14, 17, 6, 10, 9, 15, 5, 19, 8, 3, 21, 15, 22, 8, 23, 10, 8, 11, 5, 11, 13, 13, 10, 19, 14, 11, 20, 22, 9, 18, 3]\n",
            "[0, 0, 0, 0, 0, 0, 0, 0, 0, 0, 0, 0, 0, 0, 0, 0, 0, 1, 1, 1, 1, 1, 1, 1, 1, 1, 1, 1, 1, 1, 1, 1, 1, 1, 1, 1, 1, 1]\n",
            "[1, 1, 1, 1, 1, 1, 1, 1, 1, 1, 1, 1, 1, 1, 1, 1, 1, 1, 1, 1, 1, 1, 1, 1, 1, 1, 1, 1, 1, 1, 1, 1, 1, 1, 1, 1, 1, 1]\n"
          ]
        }
      ]
    },
    {
      "cell_type": "code",
      "source": [
        "if IF_Debug == 1:\n",
        "  sample_encoding = tokenizer.encode_plus(\n",
        "      sample_seq_1,\n",
        "      sample_seq_2,\n",
        "      max_length=MAX_LEN,\n",
        "      add_special_tokens=True,\n",
        "      return_token_type_ids=False,\n",
        "      padding='max_length',\n",
        "      truncation=True,\n",
        "      return_attention_mask=True,\n",
        "      return_tensors='pt',\n",
        "  )\n",
        "  print(sample_encoding)"
      ],
      "metadata": {
        "id": "TJ6mTZfHnrqq",
        "colab": {
          "base_uri": "https://localhost:8080/"
        },
        "outputId": "7746dc67-99e1-487d-cc70-4f130bf1553a"
      },
      "execution_count": 44,
      "outputs": [
        {
          "output_type": "stream",
          "name": "stdout",
          "text": [
            "{'input_ids': tensor([[ 2, 21, 20, 18, 13, 23, 19, 14, 17,  6, 10,  9, 15,  5, 19,  8,  3, 21,\n",
            "         15, 22,  8, 23, 10,  8, 11,  5, 11, 13, 13, 10, 19, 14, 11, 20, 22,  9,\n",
            "         18,  3,  0,  0,  0,  0,  0,  0,  0,  0,  0,  0,  0,  0,  0,  0,  0,  0,\n",
            "          0,  0,  0,  0,  0,  0,  0,  0,  0,  0,  0,  0,  0,  0,  0,  0,  0,  0,\n",
            "          0,  0,  0,  0,  0,  0,  0,  0,  0,  0,  0,  0,  0,  0,  0,  0,  0,  0,\n",
            "          0,  0,  0,  0,  0,  0,  0,  0,  0,  0,  0,  0,  0,  0,  0,  0,  0,  0,\n",
            "          0,  0,  0,  0,  0,  0,  0,  0,  0,  0,  0,  0,  0,  0,  0,  0,  0,  0,\n",
            "          0,  0,  0,  0,  0,  0,  0,  0,  0,  0,  0,  0,  0,  0,  0,  0,  0,  0,\n",
            "          0,  0,  0,  0,  0,  0,  0,  0,  0,  0,  0,  0,  0,  0,  0,  0,  0,  0,\n",
            "          0,  0,  0,  0,  0,  0,  0,  0,  0,  0,  0,  0,  0,  0,  0,  0,  0,  0,\n",
            "          0,  0,  0,  0,  0,  0,  0,  0,  0,  0,  0,  0,  0,  0,  0,  0,  0,  0,\n",
            "          0,  0]]), 'attention_mask': tensor([[1, 1, 1, 1, 1, 1, 1, 1, 1, 1, 1, 1, 1, 1, 1, 1, 1, 1, 1, 1, 1, 1, 1, 1,\n",
            "         1, 1, 1, 1, 1, 1, 1, 1, 1, 1, 1, 1, 1, 1, 0, 0, 0, 0, 0, 0, 0, 0, 0, 0,\n",
            "         0, 0, 0, 0, 0, 0, 0, 0, 0, 0, 0, 0, 0, 0, 0, 0, 0, 0, 0, 0, 0, 0, 0, 0,\n",
            "         0, 0, 0, 0, 0, 0, 0, 0, 0, 0, 0, 0, 0, 0, 0, 0, 0, 0, 0, 0, 0, 0, 0, 0,\n",
            "         0, 0, 0, 0, 0, 0, 0, 0, 0, 0, 0, 0, 0, 0, 0, 0, 0, 0, 0, 0, 0, 0, 0, 0,\n",
            "         0, 0, 0, 0, 0, 0, 0, 0, 0, 0, 0, 0, 0, 0, 0, 0, 0, 0, 0, 0, 0, 0, 0, 0,\n",
            "         0, 0, 0, 0, 0, 0, 0, 0, 0, 0, 0, 0, 0, 0, 0, 0, 0, 0, 0, 0, 0, 0, 0, 0,\n",
            "         0, 0, 0, 0, 0, 0, 0, 0, 0, 0, 0, 0, 0, 0, 0, 0, 0, 0, 0, 0, 0, 0, 0, 0,\n",
            "         0, 0, 0, 0, 0, 0, 0, 0]])}\n"
          ]
        }
      ]
    },
    {
      "cell_type": "code",
      "source": [
        "if IF_Debug == 1:\n",
        "  sample_encoding = tokenizer.encode_plus(\n",
        "      sample_seq_1,\n",
        "      sample_seq_2,\n",
        "      max_length=MAX_LEN,\n",
        "      add_special_tokens=True,\n",
        "      return_token_type_ids=True,\n",
        "      padding='max_length',\n",
        "      truncation=True,\n",
        "      return_attention_mask=True,\n",
        "      return_tensors='pt',\n",
        "  )\n",
        "  print(sample_encoding)"
      ],
      "metadata": {
        "colab": {
          "base_uri": "https://localhost:8080/"
        },
        "id": "XveyPuehn5FQ",
        "outputId": "4661ffba-7ba4-4e7d-ae25-37dd7ebb0b07"
      },
      "execution_count": 52,
      "outputs": [
        {
          "output_type": "stream",
          "name": "stdout",
          "text": [
            "{'input_ids': tensor([[ 2, 21, 20, 18, 13, 23, 19, 14, 17,  6, 10,  9, 15,  5, 19,  8,  3, 21,\n",
            "         15, 22,  8, 23, 10,  8, 11,  5, 11, 13, 13, 10, 19, 14, 11, 20, 22,  9,\n",
            "         18,  3,  0,  0,  0,  0,  0,  0,  0,  0,  0,  0,  0,  0,  0,  0,  0,  0,\n",
            "          0,  0,  0,  0,  0,  0,  0,  0,  0,  0,  0,  0,  0,  0,  0,  0,  0,  0,\n",
            "          0,  0,  0,  0,  0,  0,  0,  0,  0,  0,  0,  0,  0,  0,  0,  0,  0,  0,\n",
            "          0,  0,  0,  0,  0,  0,  0,  0,  0,  0,  0,  0,  0,  0,  0,  0,  0,  0,\n",
            "          0,  0,  0,  0,  0,  0,  0,  0,  0,  0,  0,  0,  0,  0,  0,  0,  0,  0,\n",
            "          0,  0,  0,  0,  0,  0,  0,  0,  0,  0,  0,  0,  0,  0,  0,  0,  0,  0,\n",
            "          0,  0,  0,  0,  0,  0,  0,  0,  0,  0,  0,  0,  0,  0,  0,  0,  0,  0,\n",
            "          0,  0,  0,  0,  0,  0,  0,  0,  0,  0,  0,  0,  0,  0,  0,  0,  0,  0,\n",
            "          0,  0,  0,  0,  0,  0,  0,  0,  0,  0,  0,  0,  0,  0,  0,  0,  0,  0,\n",
            "          0,  0]]), 'token_type_ids': tensor([[0, 0, 0, 0, 0, 0, 0, 0, 0, 0, 0, 0, 0, 0, 0, 0, 0, 1, 1, 1, 1, 1, 1, 1,\n",
            "         1, 1, 1, 1, 1, 1, 1, 1, 1, 1, 1, 1, 1, 1, 0, 0, 0, 0, 0, 0, 0, 0, 0, 0,\n",
            "         0, 0, 0, 0, 0, 0, 0, 0, 0, 0, 0, 0, 0, 0, 0, 0, 0, 0, 0, 0, 0, 0, 0, 0,\n",
            "         0, 0, 0, 0, 0, 0, 0, 0, 0, 0, 0, 0, 0, 0, 0, 0, 0, 0, 0, 0, 0, 0, 0, 0,\n",
            "         0, 0, 0, 0, 0, 0, 0, 0, 0, 0, 0, 0, 0, 0, 0, 0, 0, 0, 0, 0, 0, 0, 0, 0,\n",
            "         0, 0, 0, 0, 0, 0, 0, 0, 0, 0, 0, 0, 0, 0, 0, 0, 0, 0, 0, 0, 0, 0, 0, 0,\n",
            "         0, 0, 0, 0, 0, 0, 0, 0, 0, 0, 0, 0, 0, 0, 0, 0, 0, 0, 0, 0, 0, 0, 0, 0,\n",
            "         0, 0, 0, 0, 0, 0, 0, 0, 0, 0, 0, 0, 0, 0, 0, 0, 0, 0, 0, 0, 0, 0, 0, 0,\n",
            "         0, 0, 0, 0, 0, 0, 0, 0]]), 'attention_mask': tensor([[1, 1, 1, 1, 1, 1, 1, 1, 1, 1, 1, 1, 1, 1, 1, 1, 1, 1, 1, 1, 1, 1, 1, 1,\n",
            "         1, 1, 1, 1, 1, 1, 1, 1, 1, 1, 1, 1, 1, 1, 0, 0, 0, 0, 0, 0, 0, 0, 0, 0,\n",
            "         0, 0, 0, 0, 0, 0, 0, 0, 0, 0, 0, 0, 0, 0, 0, 0, 0, 0, 0, 0, 0, 0, 0, 0,\n",
            "         0, 0, 0, 0, 0, 0, 0, 0, 0, 0, 0, 0, 0, 0, 0, 0, 0, 0, 0, 0, 0, 0, 0, 0,\n",
            "         0, 0, 0, 0, 0, 0, 0, 0, 0, 0, 0, 0, 0, 0, 0, 0, 0, 0, 0, 0, 0, 0, 0, 0,\n",
            "         0, 0, 0, 0, 0, 0, 0, 0, 0, 0, 0, 0, 0, 0, 0, 0, 0, 0, 0, 0, 0, 0, 0, 0,\n",
            "         0, 0, 0, 0, 0, 0, 0, 0, 0, 0, 0, 0, 0, 0, 0, 0, 0, 0, 0, 0, 0, 0, 0, 0,\n",
            "         0, 0, 0, 0, 0, 0, 0, 0, 0, 0, 0, 0, 0, 0, 0, 0, 0, 0, 0, 0, 0, 0, 0, 0,\n",
            "         0, 0, 0, 0, 0, 0, 0, 0]])}\n"
          ]
        }
      ]
    },
    {
      "cell_type": "code",
      "source": [
        "# use the basic Bert model\n",
        "# try to find the format of the output of the Bert model\n",
        "if IF_Debug == 1:\n",
        "  bert_model = BertModel.from_pretrained(model_name)"
      ],
      "metadata": {
        "colab": {
          "base_uri": "https://localhost:8080/",
          "height": 149,
          "referenced_widgets": [
            "5d99c8ef89024006aed5cf26aa80dc2d",
            "76a39f71df2644848e62500725f46776",
            "7c9e05d4703f4639b8d4e251fca120b0",
            "b95b33ce9b0c43ec8da17b4a2a66b493",
            "f1e232b50bc5473fa00f281b1fe8db48",
            "6d1ce856072e4efca5e83bbb142d12b5",
            "47953008903a41a4908c7d592d476455",
            "2efb95a40aa741e69aa6da63def15886",
            "c9fa7082273b48ee938bdb8b9f601160",
            "71a1eccacc7c4a22b264c108c14c745b",
            "cb97f01068624f579013872ae08b7440"
          ]
        },
        "id": "T-M2VIQbsP_x",
        "outputId": "820a5f06-1020-4f97-baac-fc07864ddb89"
      },
      "execution_count": 47,
      "outputs": [
        {
          "output_type": "display_data",
          "data": {
            "text/plain": [
              "Downloading:   0%|          | 0.00/1.57G [00:00<?, ?B/s]"
            ],
            "application/vnd.jupyter.widget-view+json": {
              "version_major": 2,
              "version_minor": 0,
              "model_id": "5d99c8ef89024006aed5cf26aa80dc2d"
            }
          },
          "metadata": {}
        },
        {
          "output_type": "stream",
          "name": "stderr",
          "text": [
            "Some weights of the model checkpoint at Rostlab/prot_bert_bfd were not used when initializing BertModel: ['cls.predictions.transform.LayerNorm.bias', 'cls.seq_relationship.bias', 'cls.predictions.decoder.weight', 'cls.seq_relationship.weight', 'cls.predictions.decoder.bias', 'cls.predictions.transform.LayerNorm.weight', 'cls.predictions.transform.dense.bias', 'cls.predictions.transform.dense.weight', 'cls.predictions.bias']\n",
            "- This IS expected if you are initializing BertModel from the checkpoint of a model trained on another task or with another architecture (e.g. initializing a BertForSequenceClassification model from a BertForPreTraining model).\n",
            "- This IS NOT expected if you are initializing BertModel from the checkpoint of a model that you expect to be exactly identical (initializing a BertForSequenceClassification model from a BertForSequenceClassification model).\n"
          ]
        }
      ]
    },
    {
      "cell_type": "code",
      "source": [
        "# test it on one sample\n",
        "if IF_Debug == 1:\n",
        "  sample_output = bert_model(\n",
        "    input_ids=sample_encoding['input_ids'], \n",
        "    attention_mask=sample_encoding['attention_mask'],\n",
        "    token_type_ids=sample_encoding['token_type_ids']\n",
        "  )"
      ],
      "metadata": {
        "id": "F9PVjlt0spQx"
      },
      "execution_count": 48,
      "outputs": []
    },
    {
      "cell_type": "code",
      "source": [
        "if IF_Debug == 1:\n",
        "  print( sample_output )\n",
        "  print()\n",
        "  # last hidden state: Sequence of hidden-states at the output of the last layer of the model\n",
        "  print( sample_output.last_hidden_state )\n",
        "  print()\n",
        "  print( sample_output.last_hidden_state.shape )"
      ],
      "metadata": {
        "colab": {
          "base_uri": "https://localhost:8080/"
        },
        "id": "c1_ZyNustFC8",
        "outputId": "60dbdb0a-a78d-4530-8f69-5b52ebb9b6a3"
      },
      "execution_count": 49,
      "outputs": [
        {
          "output_type": "stream",
          "name": "stdout",
          "text": [
            "BaseModelOutputWithPoolingAndCrossAttentions(last_hidden_state=tensor([[[ 0.0807,  0.0170,  0.0958,  ..., -0.0619, -0.0186, -0.0452],\n",
            "         [ 0.1866, -0.0362, -0.0159,  ..., -0.0344,  0.0072, -0.0278],\n",
            "         [ 0.1550, -0.0741, -0.0065,  ...,  0.0578, -0.0147,  0.1418],\n",
            "         ...,\n",
            "         [ 0.0734, -0.0480, -0.0335,  ...,  0.0195,  0.0138,  0.0285],\n",
            "         [ 0.0305, -0.0556, -0.0036,  ...,  0.1035, -0.0019,  0.0755],\n",
            "         [ 0.0590, -0.0688, -0.0363,  ...,  0.0184, -0.0068,  0.0635]]],\n",
            "       grad_fn=<NativeLayerNormBackward0>), pooler_output=tensor([[-0.3160, -0.2660,  0.3128,  ..., -0.3126, -0.3191,  0.3137]],\n",
            "       grad_fn=<TanhBackward0>), hidden_states=None, past_key_values=None, attentions=None, cross_attentions=None)\n",
            "\n",
            "tensor([[[ 0.0807,  0.0170,  0.0958,  ..., -0.0619, -0.0186, -0.0452],\n",
            "         [ 0.1866, -0.0362, -0.0159,  ..., -0.0344,  0.0072, -0.0278],\n",
            "         [ 0.1550, -0.0741, -0.0065,  ...,  0.0578, -0.0147,  0.1418],\n",
            "         ...,\n",
            "         [ 0.0734, -0.0480, -0.0335,  ...,  0.0195,  0.0138,  0.0285],\n",
            "         [ 0.0305, -0.0556, -0.0036,  ...,  0.1035, -0.0019,  0.0755],\n",
            "         [ 0.0590, -0.0688, -0.0363,  ...,  0.0184, -0.0068,  0.0635]]],\n",
            "       grad_fn=<NativeLayerNormBackward0>)\n",
            "\n",
            "torch.Size([1, 200, 1024])\n"
          ]
        }
      ]
    },
    {
      "cell_type": "code",
      "source": [
        "# We have the hidden state for each of our 1800 tokens \n",
        "# (the length of our example sequence). But why 1024? \n",
        "# This is the number of hidden units in the feedforward-networks. \n",
        "# We can verify that by checking the config:\n",
        "if IF_Debug == 1:\n",
        "  print( bert_model.config.hidden_size )"
      ],
      "metadata": {
        "colab": {
          "base_uri": "https://localhost:8080/"
        },
        "id": "jrIcnr8ytmWc",
        "outputId": "3593a76d-bbe4-452b-e0bb-0c8d06692f32"
      },
      "execution_count": 50,
      "outputs": [
        {
          "output_type": "stream",
          "name": "stdout",
          "text": [
            "1024\n"
          ]
        }
      ]
    },
    {
      "cell_type": "code",
      "source": [
        "if IF_Debug == 1:\n",
        "  # the output of the pretrained model\n",
        "  # may only used for per-seq predictions\n",
        "  print( sample_output.pooler_output )\n",
        "  print()\n",
        "  print( sample_output.pooler_output.shape )"
      ],
      "metadata": {
        "colab": {
          "base_uri": "https://localhost:8080/"
        },
        "id": "ggvbOI5ItrZl",
        "outputId": "670ef777-62b0-485a-9f49-189d58b33c5f"
      },
      "execution_count": 51,
      "outputs": [
        {
          "output_type": "stream",
          "name": "stdout",
          "text": [
            "tensor([[-0.3160, -0.2660,  0.3128,  ..., -0.3126, -0.3191,  0.3137]],\n",
            "       grad_fn=<TanhBackward0>)\n",
            "\n",
            "torch.Size([1, 1024])\n"
          ]
        }
      ]
    },
    {
      "cell_type": "code",
      "source": [
        "if IF_Debug==1:\n",
        "  print(df_test.Seq_1_Len)"
      ],
      "metadata": {
        "colab": {
          "base_uri": "https://localhost:8080/"
        },
        "id": "g5bmCS_jTFJm",
        "outputId": "cc28f5dc-93bf-4fd4-bd6c-29e02c196f7b"
      },
      "execution_count": 95,
      "outputs": [
        {
          "output_type": "stream",
          "name": "stdout",
          "text": [
            "0     296\n",
            "1     293\n",
            "2     536\n",
            "3     434\n",
            "4     344\n",
            "     ... \n",
            "71    156\n",
            "72    310\n",
            "73    392\n",
            "74    152\n",
            "75    312\n",
            "Name: Seq_1_Len, Length: 76, dtype: int64\n"
          ]
        }
      ]
    },
    {
      "cell_type": "code",
      "source": [
        "# Now, define some help functions\n",
        "# We also need to create a couple of data loaders\n",
        "def create_data_loader(df, tokenizer, max_len, batch_size):\n",
        "  ds = ProtKnotTypeDataset(\n",
        "    seq_1=df.Seq_1.to_numpy(),\n",
        "    seq_len_1=df.Seq_1_Len.to_numpy(),\n",
        "    seq_2=df.Seq_2.to_numpy(),\n",
        "    seq_len_2=df.Seq_2_Len.to_numpy(),\n",
        "    targets=df.Label.to_numpy(),\n",
        "    tokenizer=tokenizer,\n",
        "    max_len=max_len\n",
        "  )\n",
        "  # ToDo: may need to adjust num_workers\n",
        "  return DataLoader(\n",
        "    ds,\n",
        "    batch_size=batch_size,\n",
        "    num_workers=4\n",
        "  )\n",
        "\n",
        "# group the results\n",
        "# We have all building blocks required to create a PyTorch dataset. \n",
        "class ProtKnotTypeDataset(Dataset):\n",
        "\n",
        "  def __init__(self, seq_1, seq_2, seq_len_1, seq_len_2, targets, tokenizer, max_len):\n",
        "    self.seq_1 = seq_1\n",
        "    self.seq_2 = seq_2\n",
        "    self.seq_len_1 = seq_len_1\n",
        "    self.seq_len_2 = seq_len_2\n",
        "    self.targets = targets\n",
        "    self.tokenizer = tokenizer\n",
        "    self.max_len = max_len\n",
        "  \n",
        "  def __len__(self):\n",
        "    return len(self.seq_1)\n",
        "  \n",
        "  def __getitem__(self, item):\n",
        "    seq_1 = str(self.seq_1[item])\n",
        "    seq_2 = str(self.seq_2[item])\n",
        "    target = self.targets[item]\n",
        "\n",
        "    encoding = self.tokenizer.encode_plus(\n",
        "      seq_1,\n",
        "      seq_2,\n",
        "      add_special_tokens=True,\n",
        "      max_length=self.max_len,\n",
        "      return_token_type_ids=True,\n",
        "      padding='max_length',\n",
        "      # pad_to_max_length=True,\n",
        "      truncation=True,\n",
        "      return_attention_mask=True,\n",
        "      return_tensors='pt',\n",
        "    )\n",
        "\n",
        "    return {\n",
        "      'protein_seq_1': seq_1,\n",
        "      'protein_seq_2': seq_2,\n",
        "      'input_ids': encoding['input_ids'].flatten(),\n",
        "      'attention_mask': encoding['attention_mask'].flatten(),\n",
        "      'token_type_ids': encoding['token_type_ids'].flatten(),\n",
        "      'targets': torch.tensor(target, dtype=torch.long)\n",
        "    }"
      ],
      "metadata": {
        "id": "N4PBv1gQtxCJ"
      },
      "execution_count": 96,
      "outputs": []
    },
    {
      "cell_type": "code",
      "source": [
        "# create data loaders\n",
        "BATCH_SIZE = 16\n",
        "BATCH_SIZE = 2\n",
        "\n",
        "trai_data_loader = create_data_loader(df_trai, tokenizer, \n",
        "                                      MAX_LEN, BATCH_SIZE)\n",
        "vali_data_loader = create_data_loader(df_vali, tokenizer, \n",
        "                                      MAX_LEN, BATCH_SIZE)\n",
        "test_data_loader = create_data_loader(df_test, tokenizer, \n",
        "                                      MAX_LEN, BATCH_SIZE)"
      ],
      "metadata": {
        "id": "xDHvvcWd7mpH"
      },
      "execution_count": 97,
      "outputs": []
    },
    {
      "cell_type": "code",
      "source": [
        "if IF_Debug==1:\n",
        "  print(df_trai.shape)"
      ],
      "metadata": {
        "colab": {
          "base_uri": "https://localhost:8080/"
        },
        "id": "0u2kW2y-SVu5",
        "outputId": "e8e21687-a4e7-4229-fc74-f7a19cc6a047"
      },
      "execution_count": 91,
      "outputs": [
        {
          "output_type": "stream",
          "name": "stdout",
          "text": [
            "(356, 9)\n"
          ]
        }
      ]
    },
    {
      "cell_type": "code",
      "source": [
        "accelerator.print(\n",
        "    '# of batchs in three sets:',\n",
        "    len(trai_data_loader),len(vali_data_loader),len(test_data_loader)\n",
        ")"
      ],
      "metadata": {
        "colab": {
          "base_uri": "https://localhost:8080/"
        },
        "id": "uCoIr6Ka7zsa",
        "outputId": "84b86c0a-7d0b-4382-ce02-4d2ab6149a6c"
      },
      "execution_count": 93,
      "outputs": [
        {
          "output_type": "stream",
          "name": "stdout",
          "text": [
            "# of batchs in three sets: 356 76 76\n"
          ]
        }
      ]
    },
    {
      "cell_type": "code",
      "source": [
        "# test on one batch\n",
        "# another debug mode to go over batch data and model\n",
        "if IF_Debug == 1:\n",
        "  # have a look at an example batch from our training data loader\n",
        "  one_batch_data = next(iter(trai_data_loader))\n",
        "  print( one_batch_data.keys() )"
      ],
      "metadata": {
        "colab": {
          "base_uri": "https://localhost:8080/"
        },
        "id": "546Pk51P8ACL",
        "outputId": "19b13810-e899-4028-f578-c42569fb2d91"
      },
      "execution_count": 56,
      "outputs": [
        {
          "output_type": "stream",
          "name": "stdout",
          "text": [
            "dict_keys(['protein_seq_1', 'protein_seq_2', 'input_ids', 'attention_mask', 'token_type_ids', 'targets'])\n"
          ]
        }
      ]
    },
    {
      "cell_type": "code",
      "source": [
        "if IF_Debug == 1:\n",
        "  # print(one_batch_data['protein_seq'].shape)\n",
        "  print(one_batch_data['input_ids'].shape)\n",
        "  print(one_batch_data['attention_mask'].shape)\n",
        "  print(one_batch_data['token_type_ids'].shape)\n",
        "  print(one_batch_data['targets'].shape)\n",
        "  # should be [Batch_len, Max_Length]"
      ],
      "metadata": {
        "colab": {
          "base_uri": "https://localhost:8080/"
        },
        "id": "VBHlqL1M8JQl",
        "outputId": "d5aff34e-2677-455a-c836-6d84427e2586"
      },
      "execution_count": 57,
      "outputs": [
        {
          "output_type": "stream",
          "name": "stdout",
          "text": [
            "torch.Size([2, 200])\n",
            "torch.Size([2, 200])\n",
            "torch.Size([2, 200])\n",
            "torch.Size([2])\n"
          ]
        }
      ]
    },
    {
      "cell_type": "code",
      "source": [
        "if IF_Debug==1:\n",
        "  print(one_batch_data['targets'])"
      ],
      "metadata": {
        "colab": {
          "base_uri": "https://localhost:8080/"
        },
        "id": "1MWlC6bD8an2",
        "outputId": "7f0accb4-45b3-4f04-c904-2a834f443935"
      },
      "execution_count": 58,
      "outputs": [
        {
          "output_type": "stream",
          "name": "stdout",
          "text": [
            "tensor([0, 1])\n"
          ]
        }
      ]
    },
    {
      "cell_type": "code",
      "source": [
        "# We have the hidden state for each of our 1800 tokens \n",
        "# (the length of our example sequence). But why 1024? \n",
        "# This is the number of hidden units in the feedforward-networks. \n",
        "# We can verify that by checking the config:\n",
        "if IF_Debug == 1:\n",
        "  print( bert_model.config.hidden_size )"
      ],
      "metadata": {
        "colab": {
          "base_uri": "https://localhost:8080/"
        },
        "id": "1Ufzn4i-8v-P",
        "outputId": "e5f1f93a-0a70-419d-ae82-7d9f43c16048"
      },
      "execution_count": 59,
      "outputs": [
        {
          "output_type": "stream",
          "name": "stdout",
          "text": [
            "1024\n"
          ]
        }
      ]
    },
    {
      "cell_type": "code",
      "source": [
        "if IF_Debug == 1:\n",
        "  # the output of the pretrained model\n",
        "  # may only used for per-seq predictions\n",
        "  print( sample_output.pooler_output )\n",
        "  print()\n",
        "  print( sample_output.pooler_output.shape )"
      ],
      "metadata": {
        "colab": {
          "base_uri": "https://localhost:8080/"
        },
        "id": "KCrg94b_9Gbf",
        "outputId": "1edde0b9-c3ef-4e8f-81b2-b370bb671706"
      },
      "execution_count": 60,
      "outputs": [
        {
          "output_type": "stream",
          "name": "stdout",
          "text": [
            "tensor([[-0.3160, -0.2660,  0.3128,  ..., -0.3126, -0.3191,  0.3137]],\n",
            "       grad_fn=<TanhBackward0>)\n",
            "\n",
            "torch.Size([1, 1024])\n"
          ]
        }
      ]
    },
    {
      "cell_type": "code",
      "source": [
        "# use all of this knowledge \n",
        "# to create a regresser that uses the BERT model\n",
        "\n",
        "# # one parameter: n_freqs\n",
        "\n",
        "# class ProteinBERTRegresserNonNeg(nn.Module):\n",
        "\n",
        "#   def __init__(self, n_freqs):\n",
        "#     super(ProteinBERTRegresserNonNeg, self).__init__()\n",
        "#     self.bert = BertModel.from_pretrained(model_name)\n",
        "#     self.drop = nn.Dropout(p=0.3)\n",
        "#     self.lin = nn.Linear(self.bert.config.hidden_size, n_freqs)\n",
        "#     # to make a non-negative prediction\n",
        "#     # self.out = nn.functional.relu()\n",
        "#     self.out = nn.ReLU()\n",
        "  \n",
        "#   def forward(self, input_ids, attention_mask):\n",
        "# #     _, pooled_output = self.bert(\n",
        "# #       input_ids=input_ids,\n",
        "# #       attention_mask=attention_mask\n",
        "# #     )\n",
        "#     result = self.bert(\n",
        "#       input_ids=input_ids,\n",
        "#       attention_mask=attention_mask\n",
        "#     )\n",
        "#     pooled_output = result.pooler_output\n",
        "#     outdrop = self.drop(pooled_output)\n",
        "#     output = self.lin(outdrop)\n",
        "#     return self.out(output)\n",
        "\n",
        "# without ReLU\n",
        "class ProteinBERTClassifier(nn.Module):\n",
        "\n",
        "  def __init__(self, n_class):\n",
        "    super(ProteinBERTClassifier, self).__init__()\n",
        "    self.bert = BertModel.from_pretrained(model_name)\n",
        "    self.drop = nn.Dropout(p=0.3)\n",
        "    self.lin = nn.Linear(self.bert.config.hidden_size, n_class)\n",
        "    # to make a non-negative prediction\n",
        "    # self.out = nn.functional.relu()\n",
        "    # self.out = nn.ReLU()\n",
        "  \n",
        "  def forward(self, input_ids, attention_mask,token_type_ids):\n",
        "#     _, pooled_output = self.bert(\n",
        "#       input_ids=input_ids,\n",
        "#       attention_mask=attention_mask\n",
        "#     )\n",
        "    result = self.bert(\n",
        "      input_ids=input_ids,\n",
        "      attention_mask=attention_mask,\n",
        "      token_type_ids=token_type_ids\n",
        "    )\n",
        "    pooled_output = result.pooler_output\n",
        "    outdrop = self.drop(pooled_output)\n",
        "    # output = self.lin(outdrop)\n",
        "    return self.lin(outdrop)\n",
        "\n",
        "# Our classifier delegates most of the heavy lifting to the BertModel. \n",
        "# We use a dropout layer for some regularization and a fully-connected \n",
        "# layer for our output. \n",
        "# Note that we're returning the raw output of the last layer since that \n",
        "# is required for the cross-entropy loss function in PyTorch to work."
      ],
      "metadata": {
        "id": "tuOJqdlP9IF6"
      },
      "execution_count": 61,
      "outputs": []
    },
    {
      "cell_type": "code",
      "source": [
        "# # of frequences\n",
        "N_CLASS = 2"
      ],
      "metadata": {
        "id": "SczOlPH4ECD_"
      },
      "execution_count": 62,
      "outputs": []
    },
    {
      "cell_type": "code",
      "source": [
        "# activate the model\n",
        "model = ProteinBERTClassifier(n_class=N_CLASS)\n",
        "model = model.to(device)"
      ],
      "metadata": {
        "colab": {
          "base_uri": "https://localhost:8080/"
        },
        "id": "esU6MXSwECM7",
        "outputId": "2678f35d-06c7-458b-ddf0-7e37bf7a4b22"
      },
      "execution_count": 63,
      "outputs": [
        {
          "output_type": "stream",
          "name": "stderr",
          "text": [
            "Some weights of the model checkpoint at Rostlab/prot_bert_bfd were not used when initializing BertModel: ['cls.predictions.transform.LayerNorm.bias', 'cls.seq_relationship.bias', 'cls.predictions.decoder.weight', 'cls.seq_relationship.weight', 'cls.predictions.decoder.bias', 'cls.predictions.transform.LayerNorm.weight', 'cls.predictions.transform.dense.bias', 'cls.predictions.transform.dense.weight', 'cls.predictions.bias']\n",
            "- This IS expected if you are initializing BertModel from the checkpoint of a model trained on another task or with another architecture (e.g. initializing a BertForSequenceClassification model from a BertForPreTraining model).\n",
            "- This IS NOT expected if you are initializing BertModel from the checkpoint of a model that you expect to be exactly identical (initializing a BertForSequenceClassification model from a BertForSequenceClassification model).\n"
          ]
        }
      ]
    },
    {
      "cell_type": "code",
      "source": [
        "# test this model on a batch of data\n",
        "if IF_Debug == 1:\n",
        "  print( one_batch_data['input_ids'].shape )\n",
        "  print( one_batch_data['attention_mask'].shape )\n",
        "  print( one_batch_data['token_type_ids'].shape )\n",
        "  print( one_batch_data )"
      ],
      "metadata": {
        "colab": {
          "base_uri": "https://localhost:8080/"
        },
        "id": "Zugz6AxhENvk",
        "outputId": "93800d47-19ad-4d63-cf8e-050625c40232"
      },
      "execution_count": 65,
      "outputs": [
        {
          "output_type": "stream",
          "name": "stdout",
          "text": [
            "torch.Size([2, 200])\n",
            "torch.Size([2, 200])\n",
            "torch.Size([2, 200])\n",
            "{'protein_seq_1': ['M S Q A T S M R K R H R F N S R M T R I V L L I S F I F F F G R F I Y S S V G A W Q H H Q S K K E A Q Q S T L S V E S P V Q R', 'M Y Q R C F D N A S E T L F V A G K T P R L S R F A F S D D P K W E S G H H V H D N E T E L I Y V K K G V A R F T I D S S L Y V A H A D D I V V I E R G R L H A V A S D V N D P A T T C T C A L Y G F Q F Q G A E E N Q L L Q P H S C P V I A A G Q G K E V I K T L F N E L S V I L P Q S K N S Q T S S L W D A F A Y T L A I L Y Y E N F K N A Y R S E Q G Y I K K D V L I K D I L F Y L N N N Y R E K I T L E Q L S K K F R A S V S Y I C H E F T K E Y R I S P I N Y V I Q R R M T E A K W S L T N T E L S Q A E I S W R V G Y E N V D H F A K L F L R H V G C S P S D Y R R Q F K N C F A E Q E I L S E F P Q P V S L V G'], 'protein_seq_2': ['M S N G I V I I G S G F A A R Q L V K N I R K Q D A T I P L T L I A A D S M D E Y N K P D L S H V I S Q G Q R A D D L T R Q T A G E F A E Q F N L H L F P Q T W V T D I D A E A R V V K S Q N N Q W Q Y D K L V L A T G A S A F V P P V P G R E L M L T L N S Q Q E Y R A C E T Q L R D A R R V L I V G G G L I G S E L A M D F C R A G K A V T L I D N A A S I L A S L M P P E V S S R L Q H R L T E M G V H L L L K S Q L Q G L E K T D S G I Q A T L D R Q R N I E V D A V I A A T G L R P E T A L A R R A G L T I N R G V C V D S Y L Q T S N T D I Y A L G D C A E I N G Q V L P F L Q P I Q L S A M V L A K N L L G N N T P L K L P A M L V K I K T P E L P L H L A G E T Q R Q D L R W Q I N T E R Q G M V A R G V D D A D Q L R A F V V S E D R M K E A F G L L K T L P M', 'M T H V C S V I L I R R S F D I Y H E Q Q K I S L H N E S I L L L E K N L A D D F A F C S P D T R R L D I D E L T V C H Y L Q N I R Q L P R N L G L H S K D R L L I N Q S P P M P L V T A I F D S F N E S G V N S P I L S N M L Y L S C L S M F S H K K E L I P L L F N S I S T V S G K V E R L I S F D I A K R W Y L R D I A E R M Y T S E S L I K K K L Q D E N T C F S K I L L A S R M S M A R R L L E L R Q I P L H T I A E K C G Y S S T S Y F I N T F R Q Y Y G V T P H Q F A Q H S P G T F S'], 'input_ids': tensor([[ 2, 21, 10, 18,  6, 15, 10, 21, 13, 12, 13, 22, 13, 19, 17, 10, 13, 21,\n",
            "         15, 13, 11,  8,  5,  5, 11, 10, 19, 11, 19, 19, 19,  7, 13, 19, 11, 20,\n",
            "         10, 10,  8,  7,  6, 24, 18, 22, 22, 18, 10, 12, 12,  9,  6, 18, 18, 10,\n",
            "         15,  5, 10,  8,  9, 10, 16,  8, 18, 13,  3, 21, 10, 17,  7, 11,  8, 11,\n",
            "         11,  7, 10,  7, 19,  6,  6, 13, 18,  5,  8, 12, 17, 11, 13, 12, 18, 14,\n",
            "          6, 15, 11, 16,  5, 15,  5, 11,  6,  6, 14, 10, 21, 14,  9, 20, 17, 12,\n",
            "         16, 14,  5, 10, 22,  8, 11, 10, 18,  7, 18, 13,  6, 14, 14,  5, 15, 13,\n",
            "         18, 15,  6,  7,  9, 19,  6,  9, 18, 19, 17,  5, 22,  5, 19, 16, 18, 15,\n",
            "         24,  8, 15, 14, 11, 14,  6,  9,  6, 13,  8,  8, 12, 10, 18, 17, 17, 18,\n",
            "         24, 18, 20, 14, 12,  5,  8,  5,  6, 15,  7,  6, 10,  6, 19,  8, 16, 16,\n",
            "          8, 16,  7, 13,  9,  5, 21,  5, 15,  5, 17, 10, 18, 18,  9, 20, 13,  6,\n",
            "         23,  3],\n",
            "        [ 2, 21, 20, 18, 13, 23, 19, 14, 17,  6, 10,  9, 15,  5, 19,  8,  6,  7,\n",
            "         12, 15, 16, 13,  5, 10, 13, 19,  6, 19, 10, 14, 14, 16, 12, 24,  9, 10,\n",
            "          7, 22, 22,  8, 22, 14, 17,  9, 15,  9,  5, 11, 20,  8, 12, 12,  7,  8,\n",
            "          6, 13, 19, 15, 11, 14, 10, 10,  5, 20,  8,  6, 22,  6, 14, 14, 11,  8,\n",
            "          8, 11,  9, 13,  7, 13,  5, 22,  6,  8,  6, 10, 14,  8, 17, 14, 16,  6,\n",
            "         15, 15, 23, 15, 23,  6,  5, 20,  7, 19,  3, 21, 15, 22,  8, 23, 10,  8,\n",
            "         11,  5, 11, 13, 13, 10, 19, 14, 11, 20, 22,  9, 18, 18, 12, 11, 10,  5,\n",
            "         22, 17,  9, 10, 11,  5,  5,  5,  9, 12, 17,  5,  6, 14, 14, 19,  6, 19,\n",
            "         23, 10, 16, 14, 15, 13, 13,  5, 14, 11, 14,  9,  5, 15,  8, 23, 22, 20,\n",
            "          5, 18, 17, 11, 13, 18,  5, 16, 13, 17,  5,  7,  5, 22, 10, 12, 14, 13,\n",
            "          5,  5, 11, 17, 18, 10, 16, 16, 21, 16,  5,  8, 15,  6, 11, 19, 14, 10,\n",
            "         19,  3]]), 'attention_mask': tensor([[1, 1, 1, 1, 1, 1, 1, 1, 1, 1, 1, 1, 1, 1, 1, 1, 1, 1, 1, 1, 1, 1, 1, 1,\n",
            "         1, 1, 1, 1, 1, 1, 1, 1, 1, 1, 1, 1, 1, 1, 1, 1, 1, 1, 1, 1, 1, 1, 1, 1,\n",
            "         1, 1, 1, 1, 1, 1, 1, 1, 1, 1, 1, 1, 1, 1, 1, 1, 1, 1, 1, 1, 1, 1, 1, 1,\n",
            "         1, 1, 1, 1, 1, 1, 1, 1, 1, 1, 1, 1, 1, 1, 1, 1, 1, 1, 1, 1, 1, 1, 1, 1,\n",
            "         1, 1, 1, 1, 1, 1, 1, 1, 1, 1, 1, 1, 1, 1, 1, 1, 1, 1, 1, 1, 1, 1, 1, 1,\n",
            "         1, 1, 1, 1, 1, 1, 1, 1, 1, 1, 1, 1, 1, 1, 1, 1, 1, 1, 1, 1, 1, 1, 1, 1,\n",
            "         1, 1, 1, 1, 1, 1, 1, 1, 1, 1, 1, 1, 1, 1, 1, 1, 1, 1, 1, 1, 1, 1, 1, 1,\n",
            "         1, 1, 1, 1, 1, 1, 1, 1, 1, 1, 1, 1, 1, 1, 1, 1, 1, 1, 1, 1, 1, 1, 1, 1,\n",
            "         1, 1, 1, 1, 1, 1, 1, 1],\n",
            "        [1, 1, 1, 1, 1, 1, 1, 1, 1, 1, 1, 1, 1, 1, 1, 1, 1, 1, 1, 1, 1, 1, 1, 1,\n",
            "         1, 1, 1, 1, 1, 1, 1, 1, 1, 1, 1, 1, 1, 1, 1, 1, 1, 1, 1, 1, 1, 1, 1, 1,\n",
            "         1, 1, 1, 1, 1, 1, 1, 1, 1, 1, 1, 1, 1, 1, 1, 1, 1, 1, 1, 1, 1, 1, 1, 1,\n",
            "         1, 1, 1, 1, 1, 1, 1, 1, 1, 1, 1, 1, 1, 1, 1, 1, 1, 1, 1, 1, 1, 1, 1, 1,\n",
            "         1, 1, 1, 1, 1, 1, 1, 1, 1, 1, 1, 1, 1, 1, 1, 1, 1, 1, 1, 1, 1, 1, 1, 1,\n",
            "         1, 1, 1, 1, 1, 1, 1, 1, 1, 1, 1, 1, 1, 1, 1, 1, 1, 1, 1, 1, 1, 1, 1, 1,\n",
            "         1, 1, 1, 1, 1, 1, 1, 1, 1, 1, 1, 1, 1, 1, 1, 1, 1, 1, 1, 1, 1, 1, 1, 1,\n",
            "         1, 1, 1, 1, 1, 1, 1, 1, 1, 1, 1, 1, 1, 1, 1, 1, 1, 1, 1, 1, 1, 1, 1, 1,\n",
            "         1, 1, 1, 1, 1, 1, 1, 1]]), 'token_type_ids': tensor([[0, 0, 0, 0, 0, 0, 0, 0, 0, 0, 0, 0, 0, 0, 0, 0, 0, 0, 0, 0, 0, 0, 0, 0,\n",
            "         0, 0, 0, 0, 0, 0, 0, 0, 0, 0, 0, 0, 0, 0, 0, 0, 0, 0, 0, 0, 0, 0, 0, 0,\n",
            "         0, 0, 0, 0, 0, 0, 0, 0, 0, 0, 0, 0, 0, 0, 0, 0, 0, 1, 1, 1, 1, 1, 1, 1,\n",
            "         1, 1, 1, 1, 1, 1, 1, 1, 1, 1, 1, 1, 1, 1, 1, 1, 1, 1, 1, 1, 1, 1, 1, 1,\n",
            "         1, 1, 1, 1, 1, 1, 1, 1, 1, 1, 1, 1, 1, 1, 1, 1, 1, 1, 1, 1, 1, 1, 1, 1,\n",
            "         1, 1, 1, 1, 1, 1, 1, 1, 1, 1, 1, 1, 1, 1, 1, 1, 1, 1, 1, 1, 1, 1, 1, 1,\n",
            "         1, 1, 1, 1, 1, 1, 1, 1, 1, 1, 1, 1, 1, 1, 1, 1, 1, 1, 1, 1, 1, 1, 1, 1,\n",
            "         1, 1, 1, 1, 1, 1, 1, 1, 1, 1, 1, 1, 1, 1, 1, 1, 1, 1, 1, 1, 1, 1, 1, 1,\n",
            "         1, 1, 1, 1, 1, 1, 1, 1],\n",
            "        [0, 0, 0, 0, 0, 0, 0, 0, 0, 0, 0, 0, 0, 0, 0, 0, 0, 0, 0, 0, 0, 0, 0, 0,\n",
            "         0, 0, 0, 0, 0, 0, 0, 0, 0, 0, 0, 0, 0, 0, 0, 0, 0, 0, 0, 0, 0, 0, 0, 0,\n",
            "         0, 0, 0, 0, 0, 0, 0, 0, 0, 0, 0, 0, 0, 0, 0, 0, 0, 0, 0, 0, 0, 0, 0, 0,\n",
            "         0, 0, 0, 0, 0, 0, 0, 0, 0, 0, 0, 0, 0, 0, 0, 0, 0, 0, 0, 0, 0, 0, 0, 0,\n",
            "         0, 0, 0, 0, 0, 1, 1, 1, 1, 1, 1, 1, 1, 1, 1, 1, 1, 1, 1, 1, 1, 1, 1, 1,\n",
            "         1, 1, 1, 1, 1, 1, 1, 1, 1, 1, 1, 1, 1, 1, 1, 1, 1, 1, 1, 1, 1, 1, 1, 1,\n",
            "         1, 1, 1, 1, 1, 1, 1, 1, 1, 1, 1, 1, 1, 1, 1, 1, 1, 1, 1, 1, 1, 1, 1, 1,\n",
            "         1, 1, 1, 1, 1, 1, 1, 1, 1, 1, 1, 1, 1, 1, 1, 1, 1, 1, 1, 1, 1, 1, 1, 1,\n",
            "         1, 1, 1, 1, 1, 1, 1, 1]]), 'targets': tensor([0, 1])}\n"
          ]
        }
      ]
    },
    {
      "cell_type": "code",
      "source": [
        "# We'll move the example BATCH of our training data to the GPU:\n",
        "if IF_Debug == 1:\n",
        "  one_batch_input_ids = one_batch_data['input_ids'].to(device)\n",
        "  one_batch_attention_mask = one_batch_data['attention_mask'].to(device)\n",
        "  one_batch_token_type_ids = one_batch_data['token_type_ids'].to(device)\n",
        "\n",
        "  print(one_batch_input_ids.shape) # batch size x seq length\n",
        "  print(one_batch_attention_mask.shape) # batch size x seq length\n",
        "  print(one_batch_token_type_ids.shape) # batch size x seq length"
      ],
      "metadata": {
        "colab": {
          "base_uri": "https://localhost:8080/"
        },
        "id": "OMQjy4rFEo7T",
        "outputId": "5b5e0a76-e530-47e9-c799-64aab61cbb12"
      },
      "execution_count": 66,
      "outputs": [
        {
          "output_type": "stream",
          "name": "stdout",
          "text": [
            "torch.Size([2, 200])\n",
            "torch.Size([2, 200])\n",
            "torch.Size([2, 200])\n"
          ]
        }
      ]
    },
    {
      "cell_type": "code",
      "source": [
        "# test the outputs\n",
        "if IF_Debug == 1:\n",
        "  one_batch_output = model(one_batch_input_ids, \\\n",
        "                           one_batch_attention_mask, \\\n",
        "                           one_batch_token_type_ids)\n"
      ],
      "metadata": {
        "id": "0WLxWDf0E7Rm"
      },
      "execution_count": 67,
      "outputs": []
    },
    {
      "cell_type": "code",
      "source": [
        "if IF_Debug == 1:\n",
        "  print(one_batch_output)\n",
        "  print('Probability output for the  classifier after softmax')\n",
        "  print(F.softmax(one_batch_output,dim=1))"
      ],
      "metadata": {
        "colab": {
          "base_uri": "https://localhost:8080/"
        },
        "id": "L3lI5d_XFDtq",
        "outputId": "b431fbfd-e414-4533-dee0-6b03f1d3308a"
      },
      "execution_count": 68,
      "outputs": [
        {
          "output_type": "stream",
          "name": "stdout",
          "text": [
            "tensor([[-0.3354, -0.1920],\n",
            "        [-0.4356, -0.2346]], device='cuda:0', grad_fn=<AddmmBackward0>)\n",
            "Probability output for the  classifier after softmax\n",
            "tensor([[0.4642, 0.5358],\n",
            "        [0.4499, 0.5501]], device='cuda:0', grad_fn=<SoftmaxBackward0>)\n"
          ]
        }
      ]
    },
    {
      "cell_type": "code",
      "source": [
        "# here, we minic what huggingface does and put the softmax layer out the of the model\n",
        "\n",
        "# in the real model, the code doesn't use softmax\n",
        "# check the definition of loss: \n",
        "# https://github.com/TalSchuster/pytorch-transformers/blob/64fff2a53977ac1caac32c960d2b01f16b7eb913/pytorch_transformers/modeling_bert.py#L851\n",
        "# Softmax operation keep the order of the probabilities\n",
        "if IF_Debug == 1:\n",
        "  print( torch.max(one_batch_output, dim=1) )\n",
        "  print('So, there are two outputs, we used the second')\n",
        "  _, one_batch_output_preds = torch.max(one_batch_output, dim=1)\n",
        "  print('In the real model, prediction is this:')\n",
        "  print( one_batch_output_preds)"
      ],
      "metadata": {
        "colab": {
          "base_uri": "https://localhost:8080/"
        },
        "id": "JZTFjqeLFN4b",
        "outputId": "d60f5d6a-56fa-4a13-b66a-216a6d516c26"
      },
      "execution_count": 69,
      "outputs": [
        {
          "output_type": "stream",
          "name": "stdout",
          "text": [
            "torch.return_types.max(\n",
            "values=tensor([-0.1920, -0.2346], device='cuda:0', grad_fn=<MaxBackward0>),\n",
            "indices=tensor([1, 1], device='cuda:0'))\n",
            "So, there are two outputs, we used the second\n",
            "In the real model, prediction is this:\n",
            "tensor([1, 1], device='cuda:0')\n"
          ]
        }
      ]
    },
    {
      "cell_type": "markdown",
      "source": [
        "## 3. Training"
      ],
      "metadata": {
        "id": "U-u7j8SYHtPt"
      }
    },
    {
      "cell_type": "code",
      "source": [
        "# To reproduce the training procedure from the BERT paper, \n",
        "# we'll use the AdamW optimizer provided by Hugging Face. \n",
        "# It corrects weight decay, so it's similar to the original paper. \n",
        "# We'll also use a linear scheduler with no warmup steps"
      ],
      "metadata": {
        "id": "pNXxf56qFOLT"
      },
      "execution_count": 70,
      "outputs": []
    },
    {
      "cell_type": "code",
      "source": [
        "# recall\n",
        "accelerator.print(\n",
        "    '# of batchs in three sets:',\n",
        "    len(trai_data_loader),len(vali_data_loader),len(test_data_loader)\n",
        ")"
      ],
      "metadata": {
        "colab": {
          "base_uri": "https://localhost:8080/"
        },
        "id": "7ECD9fgEH0g4",
        "outputId": "3801bf32-a638-4a68-cdbd-495a5422f4ed"
      },
      "execution_count": 71,
      "outputs": [
        {
          "output_type": "stream",
          "name": "stdout",
          "text": [
            "# of batchs in three sets: 356 76 76\n"
          ]
        }
      ]
    },
    {
      "cell_type": "code",
      "source": [
        "EPOCHS = 3\n",
        "# EPOCHS = 50"
      ],
      "metadata": {
        "id": "y7-sm0GdH1Ra"
      },
      "execution_count": 72,
      "outputs": []
    },
    {
      "cell_type": "code",
      "source": [
        "optimizer = AdamW(model.parameters(), lr=2e-5, correct_bias=False)"
      ],
      "metadata": {
        "colab": {
          "base_uri": "https://localhost:8080/"
        },
        "id": "wpWrg6XZH792",
        "outputId": "9e961e53-e262-49a5-af11-0ca0418fc37c"
      },
      "execution_count": 73,
      "outputs": [
        {
          "output_type": "stream",
          "name": "stderr",
          "text": [
            "/usr/local/lib/python3.7/dist-packages/transformers/optimization.py:309: FutureWarning: This implementation of AdamW is deprecated and will be removed in a future version. Use the PyTorch implementation torch.optim.AdamW instead, or set `no_deprecation_warning=True` to disable this warning\n",
            "  FutureWarning,\n"
          ]
        }
      ]
    },
    {
      "cell_type": "code",
      "source": [
        "# move all things to the accelerator\n",
        "# ++++++++++++++++++++++++++++++++++++++++++++++++++++++++++++\n",
        "model, optimizer, \\\n",
        "trai_data_loader, \\\n",
        "vali_data_loader, \\\n",
        "test_data_loader = accelerator.prepare(model, optimizer, \\\n",
        "                                       trai_data_loader, vali_data_loader, \\\n",
        "                                       test_data_loader)\n"
      ],
      "metadata": {
        "id": "Ji35v8tfH-nj"
      },
      "execution_count": 74,
      "outputs": []
    },
    {
      "cell_type": "code",
      "source": [
        "# define scheduler\n",
        "\n",
        "total_steps = len(trai_data_loader) * EPOCHS\n",
        "\n",
        "scheduler = get_linear_schedule_with_warmup(\n",
        "  optimizer,\n",
        "  num_warmup_steps=0,\n",
        "  num_training_steps=total_steps\n",
        ")"
      ],
      "metadata": {
        "id": "pCkT6uj6IX1N"
      },
      "execution_count": 75,
      "outputs": []
    },
    {
      "cell_type": "code",
      "source": [
        "\"\"\"How do we come up with all hyperparameters? The BERT authors have some recommendations for fine-tuning:\n",
        "\n",
        "Batch size: 16, 32\n",
        "\n",
        "Learning rate (Adam): 5e-5, 3e-5, 2e-5\n",
        "\n",
        "Number of epochs: 2, 3, 4\n",
        "\n",
        "We're going to ignore the number of epochs recommendation but stick with the rest. Note that increasing the batch size reduces the training time significantly, but gives you lower accuracy.\n",
        "\n",
        "\"\"\""
      ],
      "metadata": {
        "colab": {
          "base_uri": "https://localhost:8080/",
          "height": 122
        },
        "id": "iKUKco_cIcQd",
        "outputId": "17c7e3f6-7d41-4827-e350-639ac2c754ad"
      },
      "execution_count": 76,
      "outputs": [
        {
          "output_type": "execute_result",
          "data": {
            "text/plain": [
              "\"How do we come up with all hyperparameters? The BERT authors have some recommendations for fine-tuning:\\n\\nBatch size: 16, 32\\n\\nLearning rate (Adam): 5e-5, 3e-5, 2e-5\\n\\nNumber of epochs: 2, 3, 4\\n\\nWe're going to ignore the number of epochs recommendation but stick with the rest. Note that increasing the batch size reduces the training time significantly, but gives you lower accuracy.\\n\\n\""
            ],
            "application/vnd.google.colaboratory.intrinsic+json": {
              "type": "string"
            }
          },
          "metadata": {},
          "execution_count": 76
        }
      ]
    },
    {
      "cell_type": "code",
      "source": [
        "# define loss functions\n",
        "# --------------------------------------------------\n",
        "# for regressioner\n",
        "# use MSE as the loss\n",
        "# loss_fn = nn.MSELoss().to(device)\n",
        "# --------------------------------------------------\n",
        "# for classifer\n",
        "# use crossentropyloss\n",
        "loss_fn = nn.CrossEntropyLoss().to(device)\n",
        "\n",
        "# other functions for loss\n",
        "# not used\n",
        "def r2_loss(output, target):\n",
        "    target_mean = torch.mean(target)\n",
        "    ss_tot = torch.sum((target - target_mean) ** 2)\n",
        "    ss_res = torch.sum((target - output) ** 2)\n",
        "    r2 = 1 - ss_res / ss_tot\n",
        "    return r2\n",
        "# ++++++++++++++++++++++++++++++++++++++++++\n",
        "def APELoss(output, target):\n",
        "  return torch.sum(torch.abs((target - output) / target))"
      ],
      "metadata": {
        "id": "_QZrssGWIi3P"
      },
      "execution_count": 77,
      "outputs": []
    },
    {
      "cell_type": "code",
      "source": [
        "# plot the results\n",
        "def plot_all_predictions_for_regression(outputs_test, pic_name):\n",
        "  plt.figure()\n",
        "  plt.scatter(outputs_test[\"refe\"], outputs_test[\"pred\"], c='crimson')\n",
        "  # plt.yscale('log')\n",
        "  # plt.xscale('log')\n",
        "\n",
        "  p1 = max(max(outputs_test[\"pred\"]), max(outputs_test[\"refe\"]))\n",
        "  # put a limit here as 10\n",
        "  p1 = min(p1, 10.)\n",
        "  p2 = min(min(outputs_test[\"pred\"]), min(outputs_test[\"refe\"]))\n",
        "  plt.plot([p1, p2], [p1, p2], 'b-')\n",
        "  plt.xlabel('True Values', fontsize=15)\n",
        "  plt.ylabel('Predictions', fontsize=15)\n",
        "  plt.axis('equal')\n",
        "  plt.savefig(Working_Path_inImag+pic_name)"
      ],
      "metadata": {
        "id": "Vv6Ly8B3Ie7b"
      },
      "execution_count": 78,
      "outputs": []
    },
    {
      "cell_type": "code",
      "source": [
        "# TBA: create another one for classification\n",
        "def show_confusion_matrix(y_test, y_pred, class_names, pic_name):\n",
        "  cm = confusion_matrix(y_test, y_pred)\n",
        "  df_cm = pd.DataFrame(cm, index=class_names, columns=class_names)\n",
        "  # show_confusion_matrix(df_cm)\n",
        "\n",
        "  plt.figure()\n",
        "  hmap = sns.heatmap(df_cm, annot=True, fmt=\"d\", cmap=\"Blues\")\n",
        "  hmap.yaxis.set_ticklabels(hmap.yaxis.get_ticklabels(), rotation=0, ha='right')\n",
        "  hmap.xaxis.set_ticklabels(hmap.xaxis.get_ticklabels(), rotation=30, ha='right')\n",
        "  plt.ylabel('True sentiment')\n",
        "  plt.xlabel('Predicted sentiment');\n",
        "  plt.savefig(Working_Path_inImag+pic_name)\n",
        "  plt.close()"
      ],
      "metadata": {
        "id": "xLTUseSTIsF5"
      },
      "execution_count": 79,
      "outputs": []
    },
    {
      "cell_type": "code",
      "source": [
        "# define training function\n",
        "# writing a helping function for training\n",
        "# return accuracy (1-MAPE) and MSE loss\n",
        "def train_epoch(\n",
        "  model, \n",
        "  data_loader, \n",
        "  loss_fn, \n",
        "  optimizer, \n",
        "  device, \n",
        "  scheduler, \n",
        "  n_examples,\n",
        "  epoch\n",
        "):\n",
        "  model = model.train()\n",
        "\n",
        "  # ------------------------------------\n",
        "  losses = []\n",
        "  correct_predictions = 0\n",
        "  # ++++++++++++++++++++++++++++++++++++\n",
        "  # square_loss_tot = 0.\n",
        "  # calculate percentage error\n",
        "  # APE_tot = 0.\n",
        "  i_batch = 0\n",
        "\n",
        "  \n",
        "  for d in data_loader:\n",
        "    # for debug only:\n",
        "    i_batch += 1\n",
        "    # print(\"New batch:\", i_batch)\n",
        "    input_ids = d[\"input_ids\"].to(device)\n",
        "    attention_mask = d[\"attention_mask\"].to(device)\n",
        "    token_type_ids = d[\"token_type_ids\"].to(device)\n",
        "    # -----------------------------------------\n",
        "    targets = d[\"targets\"].to(device)\n",
        "    # +++++++++++++++++++++++++++++++++++++++++\n",
        "    # targets = d[\"protein_freq1\"].to(device)\n",
        "\n",
        "    outputs = model(\n",
        "      input_ids=input_ids,\n",
        "      attention_mask=attention_mask,\n",
        "      token_type_ids=token_type_ids\n",
        "    )\n",
        "\n",
        "    # ----------------------------------------\n",
        "    # this is for classification\n",
        "    # outputs: raw outputs\n",
        "    # preds: label predictions\n",
        "    _, preds = torch.max(outputs, dim=1)\n",
        "    # # normalized probabilities if needed\n",
        "    # probs = F.softmax(outputs, dim=1)\n",
        "    # ++++++++++++++++++++++++++++++++++++++++\n",
        "    # targets = torch.reshape(targets, outputs.shape)\n",
        "    # targets = torch.reshape(targets,(BATCH_SIZE,N_FREQS))\n",
        "    \n",
        "    loss = loss_fn(outputs, targets)\n",
        "    # square_loss_one_batch = loss_fn(outputs, targets)\n",
        "    # square_loss_tot += square_loss_one_batch\n",
        "    # APE_one_batch = APELoss(outputs, targets)\n",
        "    # APE_tot += APE_one_batch\n",
        "\n",
        "    # here, we store the raw outputs\n",
        "    metric_trai.add_batch(\n",
        "          predictions=accelerator.gather(preds),\n",
        "          references=accelerator.gather(targets),\n",
        "      )\n",
        "\n",
        "    # ----------------------------------------\n",
        "    # correct_predictions += torch.sum(preds == targets)\n",
        "    # losses.append(loss.item())\n",
        "\n",
        "    # ----------------------------------------\n",
        "    # square_loss_one_batch.backward()\n",
        "    # ++++++++++++++++++++++++++++++++++++++++\n",
        "    # accelerator.backward(square_loss_one_batch)\n",
        "    accelerator.backward(loss)\n",
        "\n",
        "    # ----------------------------------------\n",
        "    # nn.utils.clip_grad_norm_(model.parameters(), max_norm=1.0)\n",
        "    # ++++++++++++++++++++++++++++++++++++++++\n",
        "    # print(accelerator.stat.use_fp16)\n",
        "    accelerator.clip_grad_norm_(model.parameters(), max_norm=1.0)\n",
        "\n",
        "    optimizer.step()\n",
        "    scheduler.step()\n",
        "    optimizer.zero_grad()\n",
        "\n",
        "  # when this is called, the metric is reset.\n",
        "  eval_metric_trai = metric_trai.compute()\n",
        "\n",
        "  accu_trai = eval_metric_trai[\"accuracy\"]\n",
        "  # only consider label = 1\n",
        "  prec_trai = eval_metric_trai[\"precision\"][1]\n",
        "  reca_trai = eval_metric_trai[\"recall\"][1]\n",
        "  fsco_trai = eval_metric_trai[\"fscore\"][1]\n",
        "\n",
        "  # plot the predictions\n",
        "  if accelerator.is_main_process:\n",
        "    pic_name='pred_hist/Trai_epoch_'+str(epoch)+'.png'\n",
        "    show_confusion_matrix(eval_metric_trai[\"refe\"], eval_metric_trai[\"lab_pred\"], ['0_1','3_1'], pic_name)\n",
        "    # plot_all_predictions(eval_metric_trai, pic_name)\n",
        "\n",
        "  return  ( \n",
        "      accu_trai, prec_trai, reca_trai, fsco_trai\n",
        "  )\n",
        "\n",
        "# Training the model should look familiar, \n",
        "# except for two things. \n",
        "# The scheduler gets called every time a batch is fed to the model. \n",
        "# We're avoiding exploding gradients \n",
        "# by clipping the gradients of the model using clip_gradnorm."
      ],
      "metadata": {
        "id": "oqm0PP1LIwKn"
      },
      "execution_count": 80,
      "outputs": []
    },
    {
      "cell_type": "code",
      "source": [
        "# another one that helps us evaluate the model on a given data loade\n",
        "def eval_model(model, data_loader, loss_fn, device, n_examples, epoch):\n",
        "  model = model.eval()\n",
        "\n",
        "  # -----------------------------------------\n",
        "  # losses = []\n",
        "  # correct_predictions = 0\n",
        "  # +++++++++++++++++++++++++++++++++++++++++\n",
        "  # square_loss_tot = 0.\n",
        "  # calculate percentage error\n",
        "  # APE_tot = 0.\n",
        "\n",
        "  with torch.no_grad():\n",
        "    for d in data_loader:\n",
        "      input_ids = d[\"input_ids\"].to(device)\n",
        "      attention_mask = d[\"attention_mask\"].to(device)\n",
        "      token_type_ids = d[\"token_type_ids\"].to(device)\n",
        "      # -----------------------------------------\n",
        "      targets = d[\"targets\"].to(device)\n",
        "      # +++++++++++++++++++++++++++++++++++++++++\n",
        "      # targets = d[\"protein_freq1\"].to(device)\n",
        "\n",
        "      outputs = model(\n",
        "        input_ids=input_ids,\n",
        "        attention_mask=attention_mask,\n",
        "        token_type_ids=token_type_ids\n",
        "      )\n",
        "      # -----------------------------------------\n",
        "      _, preds = torch.max(outputs, dim=1)\n",
        "\n",
        "      # loss = loss_fn(outputs, targets)\n",
        "\n",
        "      # correct_predictions += torch.sum(preds == targets)\n",
        "      # losses.append(loss.item())\n",
        "      # ++++++++++++++++++++++++++++++++++++++++++\n",
        "      # print(outputs)\n",
        "      # targets = torch.reshape(targets, outputs.shape)\n",
        "      # targets = torch.reshape(targets,(BATCH_SIZE,N_FREQS))\n",
        "      # print(targets)\n",
        "\n",
        "      # square_loss_one_batch = loss_fn(outputs, targets)\n",
        "      # print(square_loss_one_batch)\n",
        "      # square_loss_tot += square_loss_one_batch\n",
        "      # APE_one_batch = APELoss(outputs, targets)\n",
        "      # print(APE_one_batch)\n",
        "      # APE_tot += APE_one_batch\n",
        "\n",
        "      # +++++++++++++++++++++++++++++++++++++++++++\n",
        "      metric_vali.add_batch(\n",
        "          predictions=accelerator.gather(preds),\n",
        "          references=accelerator.gather(targets),\n",
        "      )\n",
        "\n",
        "  eval_metric_vali = metric_vali.compute()\n",
        "\n",
        "  accu = eval_metric_vali[\"accuracy\"]\n",
        "  # only for label = 1\n",
        "  prec = eval_metric_vali[\"precision\"][1]\n",
        "  reca = eval_metric_vali[\"recall\"][1]\n",
        "  fsco = eval_metric_vali[\"fscore\"][1]\n",
        "\n",
        "  # plot the predictions\n",
        "  if accelerator.is_main_process:\n",
        "    pic_name='pred_hist/Vali_epoch_'+str(epoch)+'.png'\n",
        "    show_confusion_matrix(eval_metric_vali[\"refe\"], eval_metric_vali[\"lab_pred\"], ['0_1','3_1'], pic_name)\n",
        "    # plot_all_predictions(eval_metric_vali, pic_name)\n",
        "\n",
        "  # if accelerator.is_main_process:\n",
        "  #   accelerator.print(f\"epoch {epoch} validation MSE: {mse_vali} r2: {r2_vali} MAE: {mae_vali}\")\n",
        "\n",
        "  return (\n",
        "      accu, prec, reca, fsco\n",
        "  )"
      ],
      "metadata": {
        "id": "WFMmWoMYIsJP"
      },
      "execution_count": 81,
      "outputs": []
    },
    {
      "cell_type": "code",
      "source": [
        "# +++++++++++++++++++++++++++++++++++++++++++++++++++++++++++++++++++++\n",
        "  # another one that helps us evaluate the model on a given data loade\n",
        "def test_model(model, data_loader, loss_fn, device, n_examples):\n",
        "  model = model.eval()\n",
        "\n",
        "  # -----------------------------------------\n",
        "  # losses = []\n",
        "  # correct_predictions = 0\n",
        "  # +++++++++++++++++++++++++++++++++++++++++\n",
        "  # square_loss_tot = 0.\n",
        "  # calculate percentage error\n",
        "  # APE_tot = 0.\n",
        "\n",
        "  with torch.no_grad():\n",
        "    for d in data_loader:\n",
        "      input_ids = d[\"input_ids\"].to(device)\n",
        "      attention_mask = d[\"attention_mask\"].to(device)\n",
        "      token_type_ids = d[\"token_type_ids\"].to(device)\n",
        "      # -----------------------------------------\n",
        "      targets = d[\"targets\"].to(device)\n",
        "      # targets = torch.reshape(targets,(BATCH_SIZE,1))\n",
        "      # print(targets)\n",
        "      # +++++++++++++++++++++++++++++++++++++++++\n",
        "      # targets = d[\"protein_freq1\"].to(device)\n",
        "\n",
        "      outputs = model(\n",
        "        input_ids=input_ids,\n",
        "        attention_mask=attention_mask,\n",
        "        token_type_ids=token_type_ids\n",
        "      )\n",
        "      # print(outputs)\n",
        "      probs = F.softmax(outputs, dim=1)\n",
        "      # print(probs)\n",
        "      # -----------------------------------------\n",
        "      _, preds = torch.max(outputs, dim=1)\n",
        "      # print(preds)\n",
        "\n",
        "      # loss = loss_fn(outputs, targets)\n",
        "\n",
        "      # correct_predictions += torch.sum(preds == targets)\n",
        "      # losses.append(loss.item())\n",
        "      # ++++++++++++++++++++++++++++++++++++++++++\n",
        "      # print(outputs)\n",
        "      # print(targets)\n",
        "      # targets = torch.reshape(targets, outputs.shape)\n",
        "      # targets = torch.reshape(targets,(BATCH_SIZE,N_FREQS))\n",
        "      # print(targets)\n",
        "\n",
        "      # square_loss_one_batch = loss_fn(outputs, targets)\n",
        "      # print(square_loss_one_batch)\n",
        "      # square_loss_tot += square_loss_one_batch\n",
        "      # APE_one_batch = APELoss(outputs, targets)\n",
        "      # print(APE_one_batch)\n",
        "      # APE_tot += APE_one_batch\n",
        "\n",
        "      # +++++++++++++++++++++++++++++++++++++++++++\n",
        "      metric_test.add_batch(\n",
        "          predictions=accelerator.gather(preds),\n",
        "          references=accelerator.gather(targets),\n",
        "      )\n",
        "\n",
        "  eval_metric_test = metric_test.compute()\n",
        "\n",
        "  accu = eval_metric_test[\"accuracy\"]\n",
        "  prec = eval_metric_test[\"precision\"]\n",
        "  reca = eval_metric_test[\"recall\"]\n",
        "  fsco = eval_metric_test[\"fscore\"]\n",
        "\n",
        "  # if accelerator.is_main_process:\n",
        "  #   accelerator.print(f\"Test MSE: {mse_test} r2: {r2_test} MAE: {mae_test}\")\n",
        "\n",
        "  return eval_metric_test\n",
        "  # {\n",
        "  #     \"mse\": mse_test, \"r2_scores\": r2_test, \"mae\": mae_test,\n",
        "  #     \"predictions\": eval_metric_test[\"pred\"], \n",
        "  #     \"references\": eval_metric_test[\"refe\"]\n",
        "  # }"
      ],
      "metadata": {
        "id": "iz9MT6xEPFEB"
      },
      "execution_count": 82,
      "outputs": []
    },
    {
      "cell_type": "code",
      "source": [
        "# some help functions for the training process\n",
        "\n",
        "def append_on_line(line, filename):\n",
        "    with open(filename, 'a') as redf:\n",
        "        redf.write(line)\n",
        "\n",
        "def touch_file(fname):\n",
        "    if os.path.exists(fname):\n",
        "        os.utime(fname, None)\n",
        "    else:\n",
        "        open(fname, 'a').close()"
      ],
      "metadata": {
        "id": "svr9Jt21PTww"
      },
      "execution_count": 83,
      "outputs": []
    },
    {
      "cell_type": "markdown",
      "source": [
        "## The training block"
      ],
      "metadata": {
        "id": "DLR0Ham3PX1M"
      }
    },
    {
      "cell_type": "code",
      "source": [
        "# Using those two, we can write our training loop. \n",
        "# We'll also store the training history:\n",
        "\n",
        "# %%time\n",
        "if accelerator.is_main_process:\n",
        "  history = defaultdict(list)\n",
        "\n",
        "best_vali_accu = 0\n",
        "# best_vali_mse = 1000000."
      ],
      "metadata": {
        "id": "a6s8cw5KPJZw"
      },
      "execution_count": 84,
      "outputs": []
    },
    {
      "cell_type": "code",
      "source": [
        "if accelerator.is_main_process:\n",
        "  # create the folder\n",
        "  folder_exists = os.path.isdir('./pred_hist/')\n",
        "  if not (folder_exists):\n",
        "    os.mkdir('pred_hist')\n",
        "  else:\n",
        "    os.system('rm ./pred_hist/*')\n",
        "\n",
        "  # prepare the training record in real time and \n",
        "  # prepare for the stopping\n",
        "  trai_hist_log = 'training_hist.csv'\n",
        "  # clean the slate\n",
        "  if os.path.isfile(trai_hist_log):\n",
        "    os.remove(trai_hist_log)\n",
        "  # create the record file\n",
        "  touch_file(trai_hist_log)\n",
        "  # write top line\n",
        "  line='Epoch,trai_accu,trai_precision,trai_recall,trai_f,vali_accu,vali_precision,vali_recall,vali_f\\n'\n",
        "  append_on_line(line, trai_hist_log)"
      ],
      "metadata": {
        "id": "M8SiQCjNPfhx"
      },
      "execution_count": 85,
      "outputs": []
    },
    {
      "cell_type": "code",
      "source": [
        "for epoch in range(EPOCHS):\n",
        "\n",
        "  accelerator.print(f'Epoch {epoch + 1}/{EPOCHS}')\n",
        "  accelerator.print('-' * 20)\n",
        "\n",
        "  accu_trai, prec_trai, reca_trai, fsco_trai = train_epoch(\n",
        "    model,\n",
        "    trai_data_loader,    \n",
        "    loss_fn, \n",
        "    optimizer, \n",
        "    device, \n",
        "    scheduler, \n",
        "    len(df_trai),\n",
        "    epoch,\n",
        "  )\n",
        "\n",
        "  # this for per-processor printing:\n",
        "  # print(f'Train MSE loss {train_loss} (1-MAPE) accuracy {train_acc} MSE: {mse_trai}')\n",
        "  # head processor printing only:\n",
        "  accelerator.print(f\"epoch {epoch} training accu: {accu_trai} precision: {prec_trai} recall: {reca_trai} fscore: {fsco_trai}\")\n",
        "\n",
        "  accu_vali, prec_vali, reca_vali, fsco_vali = eval_model(\n",
        "    model,\n",
        "    vali_data_loader,\n",
        "    loss_fn, \n",
        "    device, \n",
        "    len(df_vali),\n",
        "    epoch\n",
        "  )\n",
        "\n",
        "  # this for per-processor printing:\n",
        "  # print(f'Val   loss {val_loss} accuracy {val_acc} MSE: {mse_vali}')\n",
        "  accelerator.print(f\"epoch {epoch} validation accu: {accu_vali} precision: {prec_vali} recall: {reca_vali} fscore: {fsco_vali}\")\n",
        "  accelerator.print()\n",
        "\n",
        "  if accelerator.is_main_process:\n",
        "    # we will do this, however the epoches may not be finished within the job time\n",
        "    history['epoch'].append(epoch)\n",
        "    history['train_accu'].append(accu_trai)\n",
        "    history['train_prec'].append(prec_trai)\n",
        "    history['train_reca'].append(reca_trai)\n",
        "    history['train_fsco'].append(fsco_trai)\n",
        "    history['vali_accu'].append(accu_vali)\n",
        "    history['vali_prec'].append(prec_vali)\n",
        "    history['vali_reca'].append(reca_vali)\n",
        "    history['vali_fsco'].append(fsco_vali)\n",
        "    # in-time writing\n",
        "    line1=str(epoch)+','+str(accu_trai)+','+str(prec_trai)+','+str(reca_trai)+','+str(fsco_trai)+','+str(accu_vali)+','+str(prec_vali)+','+str(reca_vali)+','+str(fsco_vali)+'\\n'\n",
        "    append_on_line(line1, trai_hist_log)\n",
        "\n",
        "  # if val_acc > best_accuracy:\n",
        "  #   torch.save(model.state_dict(), 'best_model_state.bin')\n",
        "  #   best_accuracy = val_acc\n",
        "\n",
        "\t# plot training history\n",
        "  if accelerator.is_main_process:\n",
        "    plt.figure()\n",
        "    plt.plot(history['train_accu'], label='train accuracy')\n",
        "    plt.plot(history['vali_accu'], label='validation accuracy')\n",
        "    plt.title('Training history')\n",
        "    plt.ylabel('Accuracy')\n",
        "    plt.xlabel('Epoch')\n",
        "    plt.legend()\n",
        "    plt.ylim([0, 1]);\n",
        "    plt.savefig(Working_Path_inImag+'accu_hirstory.png')\n",
        "    plt.close()\n",
        "\n",
        "  accelerator.wait_for_everyone()\n",
        "  \n",
        "  if accu_vali > best_vali_accu:\n",
        "    # -----------------------------------------------------\n",
        "    # torch.save(model.state_dict(), 'best_model_state.bin')\n",
        "    # +++++++++++++++++++++++++++++++++++++++++++++++++++++\n",
        "    unwrapped_model = accelerator.unwrap_model(model)\n",
        "    accelerator.save(unwrapped_model.state_dict(), './best_model_state.bin')\n",
        "    # accelerator.save(\n",
        "        # {\n",
        "            # \"model\": unwrapped_model.state_dict(),\n",
        "            # \"optimizer\": optimizer.optimizer.state_dict() # optimizer is an AcceleratedOptimizer object         \n",
        "        # }, './best_model_state.bin'\n",
        "    # )\n",
        "    accelerator.print(f\"save model now!\")\n",
        "\n",
        "    best_vali_accu = accu_vali"
      ],
      "metadata": {
        "colab": {
          "base_uri": "https://localhost:8080/"
        },
        "id": "EHmyGofePpgD",
        "outputId": "7c5e345b-4c69-4f5e-b21e-faf259555d6c"
      },
      "execution_count": 98,
      "outputs": [
        {
          "output_type": "stream",
          "name": "stdout",
          "text": [
            "Epoch 1/3\n",
            "--------------------\n",
            "epoch 0 training accu: 0.9157303370786517 precision: 0.9204545454545454 recall: 0.9101123595505618 fscore: 0.9152542372881356\n",
            "epoch 0 validation accu: 0.9605263157894737 precision: 0.972972972972973 recall: 0.9473684210526315 fscore: 0.9599999999999999\n",
            "\n",
            "save model now!\n",
            "Epoch 2/3\n",
            "--------------------\n",
            "epoch 1 training accu: 0.9803370786516854 precision: 0.9942196531791907 recall: 0.9662921348314607 fscore: 0.9800569800569802\n",
            "epoch 1 validation accu: 0.9736842105263158 precision: 1.0 recall: 0.9473684210526315 fscore: 0.972972972972973\n",
            "\n",
            "save model now!\n",
            "Epoch 3/3\n",
            "--------------------\n",
            "epoch 2 training accu: 0.9831460674157303 precision: 1.0 recall: 0.9662921348314607 fscore: 0.9828571428571428\n",
            "epoch 2 validation accu: 0.9736842105263158 precision: 1.0 recall: 0.9473684210526315 fscore: 0.972972972972973\n",
            "\n"
          ]
        }
      ]
    },
    {
      "cell_type": "code",
      "source": [
        "if accelerator.is_main_process:\n",
        "  file_training_hist = Working_Path_inImag+\"training_hist.pickle\"\n",
        "  with open(file_training_hist, 'wb') as handle:\n",
        "      pickle.dump(history, handle, protocol=pickle.HIGHEST_PROTOCOL)"
      ],
      "metadata": {
        "id": "bNApHk5PXQdK"
      },
      "execution_count": 101,
      "outputs": []
    },
    {
      "cell_type": "code",
      "source": [
        "# plot training history\n",
        "if accelerator.is_main_process:\n",
        "  plt.figure()\n",
        "  plt.plot(history['train_accu'], label='train accuracy')\n",
        "  plt.plot(history['vali_accu'], label='validation accuracy')\n",
        "\n",
        "  plt.title('Training history')\n",
        "  plt.ylabel('Accuracy')\n",
        "  plt.xlabel('Epoch')\n",
        "  plt.legend()\n",
        "  plt.ylim([0, 1]);\n",
        "  plt.savefig(Working_Path_inImag+'accu_hirstory_final.png')\n",
        "  plt.close()"
      ],
      "metadata": {
        "id": "EZDnOVk8XpKD"
      },
      "execution_count": 102,
      "outputs": []
    },
    {
      "cell_type": "markdown",
      "source": [
        "## Evaluation"
      ],
      "metadata": {
        "id": "2uwAze-PXsym"
      }
    },
    {
      "cell_type": "code",
      "source": [
        "print(len(df_test))\n",
        "\n",
        "outputs_test = test_model(\n",
        "  model,\n",
        "  test_data_loader,\n",
        "  loss_fn,\n",
        "  device,\n",
        "  len(df_test)\n",
        ")"
      ],
      "metadata": {
        "colab": {
          "base_uri": "https://localhost:8080/"
        },
        "id": "gHXSFKTzPlCt",
        "outputId": "cbce3f27-3883-4b88-b6e3-1c79b4ae8403"
      },
      "execution_count": 103,
      "outputs": [
        {
          "output_type": "stream",
          "name": "stdout",
          "text": [
            "76\n"
          ]
        }
      ]
    },
    {
      "cell_type": "code",
      "source": [
        "accelerator.print(\n",
        "    outputs_test[\"accuracy\"], \n",
        "    outputs_test[\"precision\"],\n",
        "    outputs_test[\"recall\"],\n",
        "    outputs_test[\"fscore\"] \n",
        ")"
      ],
      "metadata": {
        "colab": {
          "base_uri": "https://localhost:8080/"
        },
        "id": "0_jFa2TvXz9x",
        "outputId": "0571a3e8-4e2e-4009-e59f-ec9cd0c0ae3c"
      },
      "execution_count": 104,
      "outputs": [
        {
          "output_type": "stream",
          "name": "stdout",
          "text": [
            "0.9736842105263158 [0.95 1.  ] [1.         0.94736842] [0.97435897 0.97297297]\n"
          ]
        }
      ]
    },
    {
      "cell_type": "code",
      "source": [
        "pic_name='prediction_on_test_set.png'\n",
        "show_confusion_matrix(outputs_test[\"refe\"], outputs_test[\"lab_pred\"], ['FGF','FGFR'], pic_name)"
      ],
      "metadata": {
        "id": "p-dn_u-BX5rr"
      },
      "execution_count": 106,
      "outputs": []
    },
    {
      "cell_type": "code",
      "source": [
        ""
      ],
      "metadata": {
        "id": "YXju2NKeX0U3"
      },
      "execution_count": null,
      "outputs": []
    },
    {
      "cell_type": "code",
      "source": [
        "if IF_Debug == 1:\n",
        "  sample_seq_12_tokens = tokenizer.tokenize(sample_seq_1, sample_seq_2, \\\n",
        "                                     padding=\"max_length\", truncation=True)\n",
        "  print( sample_seq_12_tokens )\n",
        "  print( len(sample_seq_12_tokens) )"
      ],
      "metadata": {
        "colab": {
          "base_uri": "https://localhost:8080/"
        },
        "id": "dgl9zouLSpi-",
        "outputId": "f64031ff-6976-428d-c0c2-6f1f6d2f0a30"
      },
      "execution_count": null,
      "outputs": [
        {
          "output_type": "stream",
          "name": "stdout",
          "text": [
            "['M', 'Y', 'Q', 'R', 'C', 'F', 'D', 'N', 'A', 'S', 'E', 'T', 'L', 'F', 'V', 'M', 'T', 'H', 'V', 'C', 'S', 'V', 'I', 'L', 'I', 'R', 'R', 'S', 'F', 'D', 'I', 'Y', 'H', 'E', 'Q']\n",
            "35\n"
          ]
        }
      ]
    },
    {
      "cell_type": "code",
      "source": [
        "sample_seq_12_tokens.input_ids\n",
        "sample_seq_12_tokens.token_type_ids\n",
        "sample_seq_12_tokens.attention_mask"
      ],
      "metadata": {
        "colab": {
          "base_uri": "https://localhost:8080/"
        },
        "id": "faCCbipADJ9-",
        "outputId": "e2e0957f-f58c-48fc-e18c-a43178de399e"
      },
      "execution_count": null,
      "outputs": [
        {
          "output_type": "execute_result",
          "data": {
            "text/plain": [
              "[1,\n",
              " 1,\n",
              " 1,\n",
              " 1,\n",
              " 1,\n",
              " 1,\n",
              " 1,\n",
              " 1,\n",
              " 1,\n",
              " 1,\n",
              " 1,\n",
              " 1,\n",
              " 1,\n",
              " 1,\n",
              " 1,\n",
              " 1,\n",
              " 1,\n",
              " 1,\n",
              " 1,\n",
              " 1,\n",
              " 1,\n",
              " 1,\n",
              " 1,\n",
              " 1,\n",
              " 1,\n",
              " 1,\n",
              " 1,\n",
              " 1,\n",
              " 1,\n",
              " 1,\n",
              " 1,\n",
              " 1,\n",
              " 1,\n",
              " 1,\n",
              " 1,\n",
              " 1,\n",
              " 1,\n",
              " 1,\n",
              " 1,\n",
              " 1,\n",
              " 1,\n",
              " 1,\n",
              " 1,\n",
              " 1,\n",
              " 1,\n",
              " 1,\n",
              " 1,\n",
              " 1,\n",
              " 1,\n",
              " 1,\n",
              " 1,\n",
              " 1,\n",
              " 1,\n",
              " 1,\n",
              " 1,\n",
              " 1,\n",
              " 1,\n",
              " 1,\n",
              " 1,\n",
              " 1,\n",
              " 1,\n",
              " 1,\n",
              " 1,\n",
              " 1,\n",
              " 1,\n",
              " 1,\n",
              " 1,\n",
              " 1,\n",
              " 1,\n",
              " 1,\n",
              " 1,\n",
              " 1,\n",
              " 1,\n",
              " 1,\n",
              " 1,\n",
              " 1,\n",
              " 1,\n",
              " 1,\n",
              " 1,\n",
              " 1,\n",
              " 1,\n",
              " 1,\n",
              " 1,\n",
              " 1,\n",
              " 1,\n",
              " 1,\n",
              " 1,\n",
              " 1,\n",
              " 1,\n",
              " 1,\n",
              " 1,\n",
              " 1,\n",
              " 1,\n",
              " 1,\n",
              " 1,\n",
              " 1,\n",
              " 1,\n",
              " 1,\n",
              " 1,\n",
              " 1,\n",
              " 1,\n",
              " 1,\n",
              " 1,\n",
              " 1,\n",
              " 1,\n",
              " 1,\n",
              " 1,\n",
              " 1,\n",
              " 1,\n",
              " 1,\n",
              " 1,\n",
              " 1,\n",
              " 1,\n",
              " 1,\n",
              " 1,\n",
              " 1,\n",
              " 1,\n",
              " 1,\n",
              " 1,\n",
              " 1,\n",
              " 1,\n",
              " 1,\n",
              " 1,\n",
              " 1,\n",
              " 1,\n",
              " 1,\n",
              " 1,\n",
              " 1,\n",
              " 1,\n",
              " 1,\n",
              " 1,\n",
              " 1,\n",
              " 1,\n",
              " 1,\n",
              " 1,\n",
              " 1,\n",
              " 1,\n",
              " 1,\n",
              " 1,\n",
              " 1,\n",
              " 1,\n",
              " 1,\n",
              " 1,\n",
              " 1,\n",
              " 1,\n",
              " 1,\n",
              " 1,\n",
              " 1,\n",
              " 1,\n",
              " 1,\n",
              " 1,\n",
              " 1,\n",
              " 1,\n",
              " 1,\n",
              " 1,\n",
              " 1,\n",
              " 1,\n",
              " 1,\n",
              " 1,\n",
              " 1,\n",
              " 1,\n",
              " 1,\n",
              " 1,\n",
              " 1,\n",
              " 1,\n",
              " 1,\n",
              " 1,\n",
              " 1,\n",
              " 1,\n",
              " 1,\n",
              " 1,\n",
              " 1,\n",
              " 1,\n",
              " 1,\n",
              " 1,\n",
              " 1,\n",
              " 1,\n",
              " 1,\n",
              " 1,\n",
              " 1,\n",
              " 1,\n",
              " 1,\n",
              " 1,\n",
              " 1,\n",
              " 1,\n",
              " 1,\n",
              " 1,\n",
              " 1,\n",
              " 1,\n",
              " 1,\n",
              " 1,\n",
              " 1,\n",
              " 1,\n",
              " 1,\n",
              " 1,\n",
              " 1,\n",
              " 1,\n",
              " 1,\n",
              " 1,\n",
              " 1,\n",
              " 1,\n",
              " 1,\n",
              " 1,\n",
              " 1,\n",
              " 1,\n",
              " 1,\n",
              " 1,\n",
              " 1,\n",
              " 1,\n",
              " 1,\n",
              " 1,\n",
              " 1,\n",
              " 1,\n",
              " 1,\n",
              " 1,\n",
              " 1,\n",
              " 1,\n",
              " 1,\n",
              " 1,\n",
              " 1,\n",
              " 1,\n",
              " 1,\n",
              " 1,\n",
              " 1,\n",
              " 1,\n",
              " 1,\n",
              " 1,\n",
              " 1,\n",
              " 1,\n",
              " 1,\n",
              " 1,\n",
              " 1,\n",
              " 1,\n",
              " 1,\n",
              " 1,\n",
              " 1,\n",
              " 1,\n",
              " 1,\n",
              " 1,\n",
              " 1,\n",
              " 1,\n",
              " 1,\n",
              " 1,\n",
              " 1,\n",
              " 1,\n",
              " 1,\n",
              " 1,\n",
              " 1,\n",
              " 1,\n",
              " 1,\n",
              " 1,\n",
              " 1,\n",
              " 1,\n",
              " 1,\n",
              " 1,\n",
              " 1,\n",
              " 1,\n",
              " 1,\n",
              " 1,\n",
              " 1,\n",
              " 1,\n",
              " 1,\n",
              " 1,\n",
              " 1,\n",
              " 1,\n",
              " 1,\n",
              " 1,\n",
              " 1,\n",
              " 1,\n",
              " 1,\n",
              " 1,\n",
              " 1,\n",
              " 1,\n",
              " 1,\n",
              " 1,\n",
              " 1,\n",
              " 1,\n",
              " 1,\n",
              " 1,\n",
              " 1,\n",
              " 1,\n",
              " 1,\n",
              " 1,\n",
              " 1,\n",
              " 1,\n",
              " 1,\n",
              " 1,\n",
              " 1,\n",
              " 1,\n",
              " 1,\n",
              " 1,\n",
              " 1,\n",
              " 1,\n",
              " 1,\n",
              " 1,\n",
              " 1,\n",
              " 1,\n",
              " 1,\n",
              " 1,\n",
              " 1,\n",
              " 1,\n",
              " 1,\n",
              " 1,\n",
              " 1,\n",
              " 1,\n",
              " 1,\n",
              " 1,\n",
              " 1,\n",
              " 1,\n",
              " 1,\n",
              " 1,\n",
              " 1,\n",
              " 1,\n",
              " 1,\n",
              " 1,\n",
              " 1,\n",
              " 1,\n",
              " 1,\n",
              " 1,\n",
              " 1,\n",
              " 1,\n",
              " 1,\n",
              " 1,\n",
              " 1,\n",
              " 1,\n",
              " 1,\n",
              " 1,\n",
              " 1,\n",
              " 1,\n",
              " 1,\n",
              " 1,\n",
              " 1,\n",
              " 1,\n",
              " 1,\n",
              " 1,\n",
              " 1,\n",
              " 1,\n",
              " 1,\n",
              " 1,\n",
              " 1,\n",
              " 1,\n",
              " 1,\n",
              " 1,\n",
              " 1,\n",
              " 1,\n",
              " 1,\n",
              " 1,\n",
              " 1,\n",
              " 1,\n",
              " 1,\n",
              " 1,\n",
              " 1,\n",
              " 1,\n",
              " 1,\n",
              " 1,\n",
              " 1,\n",
              " 1,\n",
              " 1,\n",
              " 1,\n",
              " 1,\n",
              " 1,\n",
              " 1,\n",
              " 1,\n",
              " 1,\n",
              " 1,\n",
              " 1,\n",
              " 1,\n",
              " 1,\n",
              " 1,\n",
              " 1,\n",
              " 1,\n",
              " 1,\n",
              " 1,\n",
              " 1,\n",
              " 1,\n",
              " 1,\n",
              " 1,\n",
              " 1,\n",
              " 1,\n",
              " 1,\n",
              " 1,\n",
              " 1,\n",
              " 1,\n",
              " 1,\n",
              " 1,\n",
              " 1,\n",
              " 1,\n",
              " 1,\n",
              " 1,\n",
              " 1,\n",
              " 1,\n",
              " 1,\n",
              " 1,\n",
              " 1,\n",
              " 1,\n",
              " 1,\n",
              " 1,\n",
              " 1,\n",
              " 1,\n",
              " 1,\n",
              " 1,\n",
              " 1,\n",
              " 1,\n",
              " 1,\n",
              " 1,\n",
              " 1,\n",
              " 1,\n",
              " 1,\n",
              " 1,\n",
              " 1,\n",
              " 1,\n",
              " 1,\n",
              " 1,\n",
              " 1,\n",
              " 1,\n",
              " 1,\n",
              " 1,\n",
              " 1,\n",
              " 1,\n",
              " 1,\n",
              " 1,\n",
              " 1,\n",
              " 1,\n",
              " 1,\n",
              " 1,\n",
              " 1,\n",
              " 1,\n",
              " 1,\n",
              " 1,\n",
              " 1,\n",
              " 1,\n",
              " 1,\n",
              " 1,\n",
              " 1,\n",
              " 1,\n",
              " 1,\n",
              " 1,\n",
              " 1,\n",
              " 1,\n",
              " 1,\n",
              " 1,\n",
              " 1,\n",
              " 1,\n",
              " 1,\n",
              " 1,\n",
              " 1,\n",
              " 1,\n",
              " 1,\n",
              " 1,\n",
              " 1,\n",
              " 1,\n",
              " 1,\n",
              " 1,\n",
              " 1,\n",
              " 1,\n",
              " 1,\n",
              " 1,\n",
              " 1,\n",
              " 1,\n",
              " 1,\n",
              " 1,\n",
              " 1,\n",
              " 1,\n",
              " 1,\n",
              " 1,\n",
              " 1,\n",
              " 1,\n",
              " 1,\n",
              " 1,\n",
              " 1,\n",
              " 1,\n",
              " 1,\n",
              " 1,\n",
              " 1,\n",
              " 1,\n",
              " 1,\n",
              " 1,\n",
              " 1,\n",
              " 1,\n",
              " 1,\n",
              " 1,\n",
              " 1,\n",
              " 1,\n",
              " 1,\n",
              " 1,\n",
              " 1,\n",
              " 1,\n",
              " 1,\n",
              " 1,\n",
              " 1,\n",
              " 1,\n",
              " 1,\n",
              " 1,\n",
              " 1,\n",
              " 1,\n",
              " 1,\n",
              " 1,\n",
              " 1,\n",
              " 1,\n",
              " 1,\n",
              " 1,\n",
              " 1,\n",
              " 1,\n",
              " 1,\n",
              " 1,\n",
              " 1,\n",
              " 1,\n",
              " 1,\n",
              " 1,\n",
              " 1,\n",
              " 1,\n",
              " 1,\n",
              " 1,\n",
              " 1,\n",
              " 1,\n",
              " 1,\n",
              " 1,\n",
              " 1,\n",
              " 1,\n",
              " 1,\n",
              " 1,\n",
              " 1,\n",
              " 1,\n",
              " 1,\n",
              " 1,\n",
              " 1,\n",
              " 1,\n",
              " 1,\n",
              " 1,\n",
              " 1,\n",
              " 1,\n",
              " 1,\n",
              " 1,\n",
              " 1,\n",
              " 1,\n",
              " 1,\n",
              " 1,\n",
              " 1,\n",
              " 1,\n",
              " 1,\n",
              " 1,\n",
              " 1,\n",
              " 1,\n",
              " 1,\n",
              " 1,\n",
              " 1,\n",
              " 1,\n",
              " 1]"
            ]
          },
          "metadata": {},
          "execution_count": 38
        }
      ]
    },
    {
      "cell_type": "code",
      "source": [
        "if IF_Debug == 1:\n",
        "  print( tokenizer.encode_plus(sample_seq_12_tokens) )\n",
        "  print(len( tokenizer.encode_plus(sample_seq_12_tokens).attention_mask ))\n"
      ],
      "metadata": {
        "id": "9gu0cI9STMAX"
      },
      "execution_count": null,
      "outputs": []
    }
  ]
}