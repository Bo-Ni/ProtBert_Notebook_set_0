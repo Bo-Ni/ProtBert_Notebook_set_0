{
  "nbformat": 4,
  "nbformat_minor": 0,
  "metadata": {
    "colab": {
      "name": "1_FGF_FGFR_classification.ipynb",
      "provenance": [],
      "collapsed_sections": [],
      "machine_shape": "hm",
      "authorship_tag": "ABX9TyNHsaguu2QKqjbntsMyoDPV",
      "include_colab_link": true
    },
    "kernelspec": {
      "name": "python3",
      "display_name": "Python 3"
    },
    "language_info": {
      "name": "python"
    },
    "accelerator": "GPU"
  },
  "cells": [
    {
      "cell_type": "markdown",
      "metadata": {
        "id": "view-in-github",
        "colab_type": "text"
      },
      "source": [
        "<a href=\"https://colab.research.google.com/github/Bo-Ni/ProtBert_Notebook_set_0/blob/main/1_FGF_FGFR_classification.ipynb\" target=\"_parent\"><img src=\"https://colab.research.google.com/assets/colab-badge.svg\" alt=\"Open In Colab\"/></a>"
      ]
    },
    {
      "cell_type": "markdown",
      "source": [
        "# FGF and FGFR classificaiton using ProtBert\n",
        "## dataset source: Sebrina \n",
        "## Code: Bo Ni @ cambridge, Apr 2022"
      ],
      "metadata": {
        "id": "Ou0X33U_SN9V"
      }
    },
    {
      "cell_type": "code",
      "execution_count": 1,
      "metadata": {
        "id": "R-w1cQyJQbOB"
      },
      "outputs": [],
      "source": [
        "# debug or cluster run\n",
        "IF_Google = 1\n",
        "IF_Debug = 1\n"
      ]
    },
    {
      "cell_type": "code",
      "source": [
        "# prepare the backages for the environment\n",
        "import os\n",
        "import sys"
      ],
      "metadata": {
        "id": "Z0ZAwqeKStv2"
      },
      "execution_count": 2,
      "outputs": []
    },
    {
      "cell_type": "code",
      "source": [
        "if IF_Google == 1:\n",
        "  print(os.popen('nvidia-smi').read())"
      ],
      "metadata": {
        "colab": {
          "base_uri": "https://localhost:8080/"
        },
        "id": "slAiDFTJTB6O",
        "outputId": "6c366271-a64b-4318-dfd1-41f0d9f1f5f5"
      },
      "execution_count": 3,
      "outputs": [
        {
          "output_type": "stream",
          "name": "stdout",
          "text": [
            "Thu Apr 14 05:51:50 2022       \n",
            "+-----------------------------------------------------------------------------+\n",
            "| NVIDIA-SMI 460.32.03    Driver Version: 460.32.03    CUDA Version: 11.2     |\n",
            "|-------------------------------+----------------------+----------------------+\n",
            "| GPU  Name        Persistence-M| Bus-Id        Disp.A | Volatile Uncorr. ECC |\n",
            "| Fan  Temp  Perf  Pwr:Usage/Cap|         Memory-Usage | GPU-Util  Compute M. |\n",
            "|                               |                      |               MIG M. |\n",
            "|===============================+======================+======================|\n",
            "|   0  Tesla P100-PCIE...  Off  | 00000000:00:04.0 Off |                    0 |\n",
            "| N/A   46C    P0    42W / 250W |      0MiB / 16280MiB |      0%      Default |\n",
            "|                               |                      |                  N/A |\n",
            "+-------------------------------+----------------------+----------------------+\n",
            "                                                                               \n",
            "+-----------------------------------------------------------------------------+\n",
            "| Processes:                                                                  |\n",
            "|  GPU   GI   CI        PID   Type   Process name                  GPU Memory |\n",
            "|        ID   ID                                                   Usage      |\n",
            "|=============================================================================|\n",
            "|  No running processes found                                                 |\n",
            "+-----------------------------------------------------------------------------+\n",
            "\n"
          ]
        }
      ]
    },
    {
      "cell_type": "code",
      "source": [
        "# 1. transformers\n",
        "\n",
        "if IF_Google == 1:\n",
        "  try:\n",
        "    import transformers\n",
        "  except ImportError as e:\n",
        "    print(os.popen('pip install transformers').read())"
      ],
      "metadata": {
        "id": "FoJHg60dTEdR"
      },
      "execution_count": 4,
      "outputs": []
    },
    {
      "cell_type": "code",
      "source": [
        "# 2. accelerate\n",
        "\n",
        "if IF_Google == 1:\n",
        "  try:\n",
        "    import accelerate\n",
        "  except ImportError as e:\n",
        "    print(os.popen('pip install accelerate').read())"
      ],
      "metadata": {
        "id": "EjFyPzq9TIrw"
      },
      "execution_count": 5,
      "outputs": []
    },
    {
      "cell_type": "code",
      "source": [
        "# 3. datasets (for metrics)\n",
        "\n",
        "if IF_Google == 1:\n",
        "  try:\n",
        "    import datasets\n",
        "  except ImportError as e:\n",
        "    print(os.popen('pip install datasets').read())"
      ],
      "metadata": {
        "id": "VNfzuboPTOYF"
      },
      "execution_count": 6,
      "outputs": []
    },
    {
      "cell_type": "code",
      "source": [
        "# 4. load in the packages\n",
        "import transformers\n",
        "from transformers import BertModel, BertTokenizer, AdamW, get_linear_schedule_with_warmup\n",
        "import torch\n",
        "\n",
        "import numpy as np\n",
        "import pandas as pd\n",
        "import seaborn as sns\n",
        "from pylab import rcParams\n",
        "#\n",
        "if IF_Google!=1:\n",
        "  import matplotlib \n",
        "  matplotlib.use('Agg')\n",
        "#\n",
        "import matplotlib.pyplot as plt\n",
        "from matplotlib import rc\n",
        "from sklearn.model_selection import train_test_split\n",
        "from sklearn.metrics import confusion_matrix, classification_report\n",
        "from collections import defaultdict\n",
        "from textwrap import wrap\n",
        "\n",
        "from torch import nn, optim\n",
        "from torch.utils.data import Dataset, DataLoader\n",
        "import torch.nn.functional as F\n",
        "\n",
        "import re\n",
        "\n",
        "import pickle\n",
        "\n",
        "import datasets"
      ],
      "metadata": {
        "id": "v2WzydB-TSsh"
      },
      "execution_count": 7,
      "outputs": []
    },
    {
      "cell_type": "code",
      "source": [
        "from transformers import AutoTokenizer, AutoModel\n",
        "from accelerate import Accelerator\n",
        "# import accelerate"
      ],
      "metadata": {
        "id": "Kid8tTQvTlBO"
      },
      "execution_count": 8,
      "outputs": []
    },
    {
      "cell_type": "code",
      "source": [
        "\n",
        "%matplotlib inline\n",
        "%config InlineBackend.figure_format='retina'\n",
        "\n",
        "sns.set(style='whitegrid', palette='muted', font_scale=1.2)\n",
        "\n",
        "HAPPY_COLORS_PALETTE = [\"#01BEFE\", \"#FFDD00\", \"#FF7D00\", \"#FF006D\", \"#ADFF02\", \"#8F00FF\"]\n",
        "\n",
        "sns.set_palette(sns.color_palette(HAPPY_COLORS_PALETTE))\n",
        "\n",
        "rcParams['figure.figsize'] = 12, 8\n",
        "\n",
        "RANDOM_SEED = 42\n",
        "np.random.seed(RANDOM_SEED)\n",
        "torch.manual_seed(RANDOM_SEED)"
      ],
      "metadata": {
        "colab": {
          "base_uri": "https://localhost:8080/"
        },
        "id": "8O5vP88VTsvj",
        "outputId": "d8c48603-30bd-43b2-bd0a-0438b037ada9"
      },
      "execution_count": 9,
      "outputs": [
        {
          "output_type": "execute_result",
          "data": {
            "text/plain": [
              "<torch._C.Generator at 0x7f8823b2e2f0>"
            ]
          },
          "metadata": {},
          "execution_count": 9
        }
      ]
    },
    {
      "cell_type": "code",
      "source": [
        "# 5. test some packages\n",
        "\n",
        "accelerator = Accelerator(mixed_precision='fp16')\n",
        "device = accelerator.device"
      ],
      "metadata": {
        "id": "nzga5h9aTvEi"
      },
      "execution_count": 10,
      "outputs": []
    },
    {
      "cell_type": "code",
      "source": [
        "if IF_Debug==1:\n",
        "  print(device)"
      ],
      "metadata": {
        "colab": {
          "base_uri": "https://localhost:8080/"
        },
        "id": "Pp85_OsRT4fT",
        "outputId": "836e666b-2ade-47ad-9911-1c34d69331db"
      },
      "execution_count": 11,
      "outputs": [
        {
          "output_type": "stream",
          "name": "stdout",
          "text": [
            "cuda\n"
          ]
        }
      ]
    },
    {
      "cell_type": "code",
      "source": [
        "# UnSolved: this one works in google colab, \n",
        "# but not in the cluster. \n",
        "# To avoid this, \n",
        "# the source code, \"accelerator.py\": Line 481\n",
        "# is modified. \n",
        "# dict: /home/bo_ni/ondemand/group_data/bo_ni/HomeVirEnvi/0_Pytorch/lib/python3.9/site-packages/accelerate\n",
        "# if self.native_amp and self.state.use_fp16:\n",
        "# >>  if self.native_amp and (self.state.mixed_precision=='fp16'):\n",
        "if IF_Google == 1:\n",
        "  print(accelerator.state.use_fp16)\n",
        "  print()\n",
        "  print(accelerator.state)"
      ],
      "metadata": {
        "colab": {
          "base_uri": "https://localhost:8080/"
        },
        "id": "etxMR94XT9Wi",
        "outputId": "e1f03397-f972-4ac0-b960-61ce9774421c"
      },
      "execution_count": 12,
      "outputs": [
        {
          "output_type": "stream",
          "name": "stdout",
          "text": [
            "True\n",
            "\n",
            "Distributed environment: NO\n",
            "Num processes: 1\n",
            "Process index: 0\n",
            "Local process index: 0\n",
            "Device: cuda\n",
            "Mixed precision type: fp16\n",
            "\n"
          ]
        }
      ]
    },
    {
      "cell_type": "code",
      "source": [
        "\n",
        "# 6. introduce the pretrained model\n",
        "model_name = 'Rostlab/prot_bert_bfd'"
      ],
      "metadata": {
        "id": "Qod1XBZVVzZO"
      },
      "execution_count": 13,
      "outputs": []
    },
    {
      "cell_type": "code",
      "source": [
        "# 7. paths in the image\n",
        "if IF_Google == 1:\n",
        "  DB_path_inImag = './'\n",
        "  Working_Path_inImag = './'\n",
        "else:\n",
        "  # for singularity image\n",
        "  DB_path_inImag = '/Share_Data/'\n",
        "  Working_Path_inImag = '/data/'\n",
        "  # for virtual environment case: set these from the .sh file\n",
        "  DB_path_inImag = str( sys.argv[1] )\n",
        "  Working_Path_inImag = str( sys.argv[2] )"
      ],
      "metadata": {
        "id": "5C-pBpbnV3iw"
      },
      "execution_count": 14,
      "outputs": []
    },
    {
      "cell_type": "code",
      "source": [
        "# for cluster\n",
        "# ref: https://stackoverflow.com/questions/62691279/how-to-disable-tokenizers-parallelism-true-false-warning\n",
        "if IF_Google != 1:\n",
        "  os.environ[\"TOKENIZERS_PARALLELISM\"] = \"false\""
      ],
      "metadata": {
        "id": "csAEi2BTWUXF"
      },
      "execution_count": 15,
      "outputs": []
    },
    {
      "cell_type": "code",
      "source": [
        "# 8. download the necessary files for google\n",
        "if IF_Google == 1:\n",
        "  file_exists = os.path.exists('./homemade_metric_classification_accuracy/homemade_metric_classification_accuracy.py')\n",
        "  if not (file_exists):\n",
        "    # download files\n",
        "    print(os.popen('wget https://www.dropbox.com/s/p5otp5pwapltx9c/fgf_fgfr_Revi_test.csv').read())\n",
        "    print(os.popen('wget https://www.dropbox.com/s/t2ke3eu27m498gq/fgf_fgfr_Revi_trai.csv').read())\n",
        "    print(os.popen('wget https://www.dropbox.com/s/5jv9fu45lxv86aa/fgf_fgfr_Revi_vali.csv').read())\n",
        "\n",
        "    print(os.popen('wget https://www.dropbox.com/s/gbegysaiby8lc0t/fgf_fgfr_UnRe_test.csv').read())\n",
        "    print(os.popen('wget https://www.dropbox.com/s/oxgy6c84yftl57f/fgf_fgfr_UnRe_trai.csv').read())\n",
        "    print(os.popen('wget https://www.dropbox.com/s/msrn0hqfm56mveh/fgf_fgfr_UnRe_vali.csv').read())\n",
        "\n",
        "    print(os.popen('wget https://www.dropbox.com/s/lc99jlhq6sbntxq/homemade_metric_classification_accuracy.py').read())\n",
        "    # move the file\n",
        "    print(os.popen('mkdir homemade_metric_classification_accuracy').read())\n",
        "    print(os.popen('mv homemade_metric_classification_accuracy.py ./homemade_metric_classification_accuracy').read())\n"
      ],
      "metadata": {
        "id": "nHJpnl62Wd4P"
      },
      "execution_count": 16,
      "outputs": []
    },
    {
      "cell_type": "markdown",
      "source": [
        "## 1. Loading the data"
      ],
      "metadata": {
        "id": "8c5CtHe6Ykdz"
      }
    },
    {
      "cell_type": "code",
      "source": [
        "metric_trai = datasets.load_metric(DB_path_inImag+'homemade_metric_classification_accuracy')\n",
        "metric_vali = datasets.load_metric(DB_path_inImag+'homemade_metric_classification_accuracy')\n",
        "metric_test = datasets.load_metric(DB_path_inImag+'homemade_metric_classification_accuracy')\n",
        "\n",
        "# # df_trai_full = pd.read_csv(DB_path_inImag+'Freq_Posi_sub_Training.csv')\n",
        "# df_trai = pd.read_csv(DB_path_inImag+'fgf_fgfr_Revi_trai.csv')\n",
        "# df_vali = pd.read_csv(DB_path_inImag+'fgf_fgfr_Revi_vali.csv')\n",
        "# df_test = pd.read_csv(DB_path_inImag+'fgf_fgfr_Revi_test.csv')\n",
        "\n",
        "df_trai = pd.read_csv(DB_path_inImag+'fgf_fgfr_UnRe_trai.csv')\n",
        "df_vali = pd.read_csv(DB_path_inImag+'fgf_fgfr_UnRe_vali.csv')\n",
        "df_test = pd.read_csv(DB_path_inImag+'fgf_fgfr_UnRe_test.csv')"
      ],
      "metadata": {
        "id": "DKRixQ72YahC"
      },
      "execution_count": 17,
      "outputs": []
    },
    {
      "cell_type": "code",
      "source": [
        "accelerator.print(df_trai.shape)\n",
        "accelerator.print(df_vali.shape)\n",
        "accelerator.print(df_test.shape)"
      ],
      "metadata": {
        "colab": {
          "base_uri": "https://localhost:8080/"
        },
        "id": "7W-iRpmcY9GS",
        "outputId": "e5f8e020-9417-47b3-9474-441c6bb1d887"
      },
      "execution_count": 18,
      "outputs": [
        {
          "output_type": "stream",
          "name": "stdout",
          "text": [
            "(8410, 10)\n",
            "(1802, 10)\n",
            "(1803, 10)\n"
          ]
        }
      ]
    },
    {
      "cell_type": "code",
      "source": [
        "# take a look at the distributions\n",
        "if accelerator.is_main_process:\n",
        "  # for seq_len\n",
        "  plt.figure()\n",
        "  sns.histplot(df_trai.Length.values, \n",
        "              bins=40, kde=True, stat='density', color=\"red\", \n",
        "               label=\"SeqLen, Training\");\n",
        "  sns.histplot(df_vali.Length.values, \n",
        "              bins=40, kde=True, stat='density', color=\"blue\", \n",
        "               label=\"SeqLen, Validation\");\n",
        "  sns.histplot(df_test.Length.values, \n",
        "              bins=40, kde=True, stat='density', color=\"yellow\", \n",
        "               label=\"SeqLen, Testing\");\n",
        "  # sns.histplot(df_trai.Seq_Len.values, \n",
        "  #             bins=40, kde=True, stat='density', color=\"red\", \n",
        "  #              label=\"SeqLen, Training\");\n",
        "  # sns.histplot(df_vali.Seq_Len.values, \n",
        "  #             bins=40, kde=True, stat='density', color=\"blue\", \n",
        "  #              label=\"SeqLen, Validation\", alpha  = 0.2);\n",
        "  # sns.histplot(df_test.Seq_Len.values, \n",
        "  #             bins=40, kde=True, stat='density', color=\"yellow\", \n",
        "  #              label=\"SeqLen, Testing\",alpha  = 0.2);\n",
        "\n",
        "  plt.grid()\n",
        "  plt.legend()\n",
        "  # if IF_Google==1:\n",
        "  #   plt.show() \n",
        "  # plt.savefig(Working_Path_inImag+'Three_Sets_Seq_Len.png')\n"
      ],
      "metadata": {
        "colab": {
          "base_uri": "https://localhost:8080/",
          "height": 489
        },
        "id": "NBYAGaiXZQrE",
        "outputId": "b3afe409-daac-4761-8432-304a36b6bcae"
      },
      "execution_count": 19,
      "outputs": [
        {
          "output_type": "display_data",
          "data": {
            "text/plain": [
              "<Figure size 864x576 with 1 Axes>"
            ],
            "image/png": "[encoded data removed]"
          },
          "metadata": {
            "image/png": {
              "width": 749,
              "height": 472
            }
          }
        }
      ]
    },
    {
      "cell_type": "code",
      "source": [
        "# Base what we see before, here we choose the sequence length\n",
        "MAX_LEN = 1800\n",
        "MAX_LEN = 1500\n",
        "MAX_LEN = 1000\n",
        "MAX_LEN = 200\n"
      ],
      "metadata": {
        "id": "NxhjQ8g2ZcGA"
      },
      "execution_count": 20,
      "outputs": []
    },
    {
      "cell_type": "markdown",
      "source": [
        "## 2. Loading the model"
      ],
      "metadata": {
        "id": "_HGK3uxnaXx3"
      }
    },
    {
      "cell_type": "code",
      "source": [
        "# 2.1 load the tokenizer\n",
        "tokenizer = AutoTokenizer.from_pretrained(model_name, \n",
        "                                          do_lower_case=False)\n"
      ],
      "metadata": {
        "id": "xTgHfVz1Z_Bj"
      },
      "execution_count": 21,
      "outputs": []
    },
    {
      "cell_type": "code",
      "source": [
        "\n",
        "# wash the raw sequences\n",
        "def format_seq_for_datasets(example):\n",
        "    seq = example[\"Seq\"]\n",
        "    # on the format\n",
        "    seq = \" \".join(\"\".join(seq.split()))\n",
        "    # on the uncommon AA\n",
        "    example[\"Seq\"] = re.sub(r\"[UZOB]\", \"X\", seq)\n",
        "#     # for test\n",
        "#     example[\"Seq\"] = 'AAA'\n",
        "    return example\n",
        "\n",
        "# =============================================\n",
        "def format_seq_for_dataframe(seq):\n",
        "    # on the format\n",
        "    seq1 = \" \".join(\"\".join(seq.split()))\n",
        "    # on the uncommon AA\n",
        "    seq1 = re.sub(r\"[UZOB]\", \"X\", seq1)\n",
        "#     # for test\n",
        "#     example[\"Seq\"] = 'AAA'\n",
        "    return seq1\n",
        "\n",
        "# ============================================\n",
        "def to_labels(KnotType):\n",
        "  if KnotType == '3_1':\n",
        "    return 1\n",
        "  elif KnotType == '0_1':\n",
        "    return 0\n",
        "  else:\n",
        "    return -1"
      ],
      "metadata": {
        "id": "si5-9wv0afyj"
      },
      "execution_count": 22,
      "outputs": []
    },
    {
      "cell_type": "code",
      "source": [
        "df_trai.head(1)"
      ],
      "metadata": {
        "colab": {
          "base_uri": "https://localhost:8080/",
          "height": 159
        },
        "id": "UyjxauWSa0iw",
        "outputId": "4ad3b225-f878-4c68-f54b-7f8f103dcb10"
      },
      "execution_count": 23,
      "outputs": [
        {
          "output_type": "execute_result",
          "data": {
            "text/plain": [
              "    Entry    Entry name Gene names      Status  \\\n",
              "0  U6D5N0  U6D5N0_NEOVI     E9PNM3  unreviewed   \n",
              "\n",
              "                                    Protein names  \\\n",
              "0  Fibroblast growth factor receptor 1 (Fragment)   \n",
              "\n",
              "                                         Organism  Length  Fragment  \\\n",
              "0  Neovison vison (American mink) (Mustela vison)     103  fragment   \n",
              "\n",
              "                                            Sequence  GForGFR  \n",
              "0  APTLPEQAQPWGAPVEVESFLVHPGDPLQLRCRLRDDVQSINWLRD...        1  "
            ],
            "text/html": [
              "\n",
              "  <div id=\"df-6502442c-a828-45f7-a59a-d8f114a845ea\">\n",
              "    <div class=\"colab-df-container\">\n",
              "      <div>\n",
              "<style scoped>\n",
              "    .dataframe tbody tr th:only-of-type {\n",
              "        vertical-align: middle;\n",
              "    }\n",
              "\n",
              "    .dataframe tbody tr th {\n",
              "        vertical-align: top;\n",
              "    }\n",
              "\n",
              "    .dataframe thead th {\n",
              "        text-align: right;\n",
              "    }\n",
              "</style>\n",
              "<table border=\"1\" class=\"dataframe\">\n",
              "  <thead>\n",
              "    <tr style=\"text-align: right;\">\n",
              "      <th></th>\n",
              "      <th>Entry</th>\n",
              "      <th>Entry name</th>\n",
              "      <th>Gene names</th>\n",
              "      <th>Status</th>\n",
              "      <th>Protein names</th>\n",
              "      <th>Organism</th>\n",
              "      <th>Length</th>\n",
              "      <th>Fragment</th>\n",
              "      <th>Sequence</th>\n",
              "      <th>GForGFR</th>\n",
              "    </tr>\n",
              "  </thead>\n",
              "  <tbody>\n",
              "    <tr>\n",
              "      <th>0</th>\n",
              "      <td>U6D5N0</td>\n",
              "      <td>U6D5N0_NEOVI</td>\n",
              "      <td>E9PNM3</td>\n",
              "      <td>unreviewed</td>\n",
              "      <td>Fibroblast growth factor receptor 1 (Fragment)</td>\n",
              "      <td>Neovison vison (American mink) (Mustela vison)</td>\n",
              "      <td>103</td>\n",
              "      <td>fragment</td>\n",
              "      <td>APTLPEQAQPWGAPVEVESFLVHPGDPLQLRCRLRDDVQSINWLRD...</td>\n",
              "      <td>1</td>\n",
              "    </tr>\n",
              "  </tbody>\n",
              "</table>\n",
              "</div>\n",
              "      <button class=\"colab-df-convert\" onclick=\"convertToInteractive('df-6502442c-a828-45f7-a59a-d8f114a845ea')\"\n",
              "              title=\"Convert this dataframe to an interactive table.\"\n",
              "              style=\"display:none;\">\n",
              "        \n",
              "  <svg xmlns=\"http://www.w3.org/2000/svg\" height=\"24px\"viewBox=\"0 0 24 24\"\n",
              "       width=\"24px\">\n",
              "    <path d=\"M0 0h24v24H0V0z\" fill=\"none\"/>\n",
              "    <path d=\"M18.56 5.44l.94 2.06.94-2.06 2.06-.94-2.06-.94-.94-2.06-.94 2.06-2.06.94zm-11 1L8.5 8.5l.94-2.06 2.06-.94-2.06-.94L8.5 2.5l-.94 2.06-2.06.94zm10 10l.94 2.06.94-2.06 2.06-.94-2.06-.94-.94-2.06-.94 2.06-2.06.94z\"/><path d=\"M17.41 7.96l-1.37-1.37c-.4-.4-.92-.59-1.43-.59-.52 0-1.04.2-1.43.59L10.3 9.45l-7.72 7.72c-.78.78-.78 2.05 0 2.83L4 21.41c.39.39.9.59 1.41.59.51 0 1.02-.2 1.41-.59l7.78-7.78 2.81-2.81c.8-.78.8-2.07 0-2.86zM5.41 20L4 18.59l7.72-7.72 1.47 1.35L5.41 20z\"/>\n",
              "  </svg>\n",
              "      </button>\n",
              "      \n",
              "  <style>\n",
              "    .colab-df-container {\n",
              "      display:flex;\n",
              "      flex-wrap:wrap;\n",
              "      gap: 12px;\n",
              "    }\n",
              "\n",
              "    .colab-df-convert {\n",
              "      background-color: #E8F0FE;\n",
              "      border: none;\n",
              "      border-radius: 50%;\n",
              "      cursor: pointer;\n",
              "      display: none;\n",
              "      fill: #1967D2;\n",
              "      height: 32px;\n",
              "      padding: 0 0 0 0;\n",
              "      width: 32px;\n",
              "    }\n",
              "\n",
              "    .colab-df-convert:hover {\n",
              "      background-color: #E2EBFA;\n",
              "      box-shadow: 0px 1px 2px rgba(60, 64, 67, 0.3), 0px 1px 3px 1px rgba(60, 64, 67, 0.15);\n",
              "      fill: #174EA6;\n",
              "    }\n",
              "\n",
              "    [theme=dark] .colab-df-convert {\n",
              "      background-color: #3B4455;\n",
              "      fill: #D2E3FC;\n",
              "    }\n",
              "\n",
              "    [theme=dark] .colab-df-convert:hover {\n",
              "      background-color: #434B5C;\n",
              "      box-shadow: 0px 1px 3px 1px rgba(0, 0, 0, 0.15);\n",
              "      filter: drop-shadow(0px 1px 2px rgba(0, 0, 0, 0.3));\n",
              "      fill: #FFFFFF;\n",
              "    }\n",
              "  </style>\n",
              "\n",
              "      <script>\n",
              "        const buttonEl =\n",
              "          document.querySelector('#df-6502442c-a828-45f7-a59a-d8f114a845ea button.colab-df-convert');\n",
              "        buttonEl.style.display =\n",
              "          google.colab.kernel.accessAllowed ? 'block' : 'none';\n",
              "\n",
              "        async function convertToInteractive(key) {\n",
              "          const element = document.querySelector('#df-6502442c-a828-45f7-a59a-d8f114a845ea');\n",
              "          const dataTable =\n",
              "            await google.colab.kernel.invokeFunction('convertToInteractive',\n",
              "                                                     [key], {});\n",
              "          if (!dataTable) return;\n",
              "\n",
              "          const docLinkHtml = 'Like what you see? Visit the ' +\n",
              "            '<a target=\"_blank\" href=https://colab.research.google.com/notebooks/data_table.ipynb>data table notebook</a>'\n",
              "            + ' to learn more about interactive tables.';\n",
              "          element.innerHTML = '';\n",
              "          dataTable['output_type'] = 'display_data';\n",
              "          await google.colab.output.renderOutput(dataTable, element);\n",
              "          const docLink = document.createElement('div');\n",
              "          docLink.innerHTML = docLinkHtml;\n",
              "          element.appendChild(docLink);\n",
              "        }\n",
              "      </script>\n",
              "    </div>\n",
              "  </div>\n",
              "  "
            ]
          },
          "metadata": {},
          "execution_count": 23
        }
      ]
    },
    {
      "cell_type": "code",
      "source": [
        "# update the format of sequences for Bert model\n",
        "# \n",
        "df_trai[\"Seq\"] = df_trai[\"Sequence\"].apply(format_seq_for_dataframe)\n",
        "df_vali[\"Seq\"] = df_vali[\"Sequence\"].apply(format_seq_for_dataframe)\n",
        "df_test[\"Seq\"] = df_test[\"Sequence\"].apply(format_seq_for_dataframe)\n"
      ],
      "metadata": {
        "id": "o7YXrPWaapn_"
      },
      "execution_count": 24,
      "outputs": []
    },
    {
      "cell_type": "code",
      "source": [
        "# \n",
        "df_trai[\"Label\"] = df_trai[\"GForGFR\"]# .apply(to_labels)\n",
        "df_vali[\"Label\"] = df_vali[\"GForGFR\"]# .apply(to_labels)\n",
        "df_test[\"Label\"] = df_test[\"GForGFR\"]# .apply(to_labels)"
      ],
      "metadata": {
        "id": "sgeZ0gLGbHSF"
      },
      "execution_count": 25,
      "outputs": []
    },
    {
      "cell_type": "code",
      "source": [
        "if IF_Debug == 1:\n",
        "  print(df_trai.describe())"
      ],
      "metadata": {
        "colab": {
          "base_uri": "https://localhost:8080/"
        },
        "id": "wP07ItJJbj-0",
        "outputId": "7e1682a8-ff3f-4f07-bc50-8200d8dc176d"
      },
      "execution_count": 26,
      "outputs": [
        {
          "output_type": "stream",
          "name": "stdout",
          "text": [
            "            Length      GForGFR        Label\n",
            "count  8410.000000  8410.000000  8410.000000\n",
            "mean    536.445541     0.706778     0.706778\n",
            "std     282.532464     0.455267     0.455267\n",
            "min      10.000000     0.000000     0.000000\n",
            "25%     220.000000     0.000000     0.000000\n",
            "50%     644.000000     1.000000     1.000000\n",
            "75%     802.000000     1.000000     1.000000\n",
            "max    2311.000000     1.000000     1.000000\n"
          ]
        }
      ]
    },
    {
      "cell_type": "code",
      "source": [
        "# in debug mode, collect useful info and tests\n",
        "if IF_Debug == 1:\n",
        "  sample_seq = df_trai.Seq[1]\n",
        "  print( sample_seq )\n"
      ],
      "metadata": {
        "colab": {
          "base_uri": "https://localhost:8080/"
        },
        "id": "Ou2uJ62gbmYA",
        "outputId": "f0c9b57a-a19e-4362-a4a7-d3f986b94ecf"
      },
      "execution_count": 27,
      "outputs": [
        {
          "output_type": "stream",
          "name": "stdout",
          "text": [
            "M L M I P L L V L L S L L D P V C P Q A R C A P G Q A C D P R H R R D A G G R G G V Y E H L G G A P R R R K L Y C A T K Y H L Q I H P N G K I D G S L E E N N P F S I M E I T A V D V G V V A I K G L F S G R Y L A M N D K G R L Y A S E V F N K E C E F V E R I H E L G Y N T Y A S R H H S T E Q P L P P G G G S N S K R R A S A K R Q W Y I S I N G K G R P R R G F K T R S T D K A S L F L P R V L G N K D H E M V R R L R D S P G S H H H T H H H G R R G E R R S R R H R A R K G Q V R Q L D D S V D F\n"
          ]
        }
      ]
    },
    {
      "cell_type": "code",
      "source": [
        "if IF_Debug == 1:\n",
        "  sample_tokens = tokenizer.tokenize(sample_seq)\n",
        "  print( sample_tokens )\n",
        "  print( len(sample_tokens) )\n"
      ],
      "metadata": {
        "colab": {
          "base_uri": "https://localhost:8080/"
        },
        "id": "jvHw-5FGb_qS",
        "outputId": "f2328f3a-bfd1-4500-deab-270ed2eb389d"
      },
      "execution_count": 28,
      "outputs": [
        {
          "output_type": "stream",
          "name": "stdout",
          "text": [
            "['M', 'L', 'M', 'I', 'P', 'L', 'L', 'V', 'L', 'L', 'S', 'L', 'L', 'D', 'P', 'V', 'C', 'P', 'Q', 'A', 'R', 'C', 'A', 'P', 'G', 'Q', 'A', 'C', 'D', 'P', 'R', 'H', 'R', 'R', 'D', 'A', 'G', 'G', 'R', 'G', 'G', 'V', 'Y', 'E', 'H', 'L', 'G', 'G', 'A', 'P', 'R', 'R', 'R', 'K', 'L', 'Y', 'C', 'A', 'T', 'K', 'Y', 'H', 'L', 'Q', 'I', 'H', 'P', 'N', 'G', 'K', 'I', 'D', 'G', 'S', 'L', 'E', 'E', 'N', 'N', 'P', 'F', 'S', 'I', 'M', 'E', 'I', 'T', 'A', 'V', 'D', 'V', 'G', 'V', 'V', 'A', 'I', 'K', 'G', 'L', 'F', 'S', 'G', 'R', 'Y', 'L', 'A', 'M', 'N', 'D', 'K', 'G', 'R', 'L', 'Y', 'A', 'S', 'E', 'V', 'F', 'N', 'K', 'E', 'C', 'E', 'F', 'V', 'E', 'R', 'I', 'H', 'E', 'L', 'G', 'Y', 'N', 'T', 'Y', 'A', 'S', 'R', 'H', 'H', 'S', 'T', 'E', 'Q', 'P', 'L', 'P', 'P', 'G', 'G', 'G', 'S', 'N', 'S', 'K', 'R', 'R', 'A', 'S', 'A', 'K', 'R', 'Q', 'W', 'Y', 'I', 'S', 'I', 'N', 'G', 'K', 'G', 'R', 'P', 'R', 'R', 'G', 'F', 'K', 'T', 'R', 'S', 'T', 'D', 'K', 'A', 'S', 'L', 'F', 'L', 'P', 'R', 'V', 'L', 'G', 'N', 'K', 'D', 'H', 'E', 'M', 'V', 'R', 'R', 'L', 'R', 'D', 'S', 'P', 'G', 'S', 'H', 'H', 'H', 'T', 'H', 'H', 'H', 'G', 'R', 'R', 'G', 'E', 'R', 'R', 'S', 'R', 'R', 'H', 'R', 'A', 'R', 'K', 'G', 'Q', 'V', 'R', 'Q', 'L', 'D', 'D', 'S', 'V', 'D', 'F']\n",
            "247\n"
          ]
        }
      ]
    },
    {
      "cell_type": "code",
      "source": [
        "if IF_Debug == 1:\n",
        "  sample_token_ids = tokenizer.convert_tokens_to_ids(sample_tokens)\n",
        "  print( sample_token_ids )"
      ],
      "metadata": {
        "colab": {
          "base_uri": "https://localhost:8080/"
        },
        "id": "Jukg9M1JcGHr",
        "outputId": "5b9983ac-9b03-4e71-9dc6-37491bc82af6"
      },
      "execution_count": 29,
      "outputs": [
        {
          "output_type": "stream",
          "name": "stdout",
          "text": [
            "[21, 5, 21, 11, 16, 5, 5, 8, 5, 5, 10, 5, 5, 14, 16, 8, 23, 16, 18, 6, 13, 23, 6, 16, 7, 18, 6, 23, 14, 16, 13, 22, 13, 13, 14, 6, 7, 7, 13, 7, 7, 8, 20, 9, 22, 5, 7, 7, 6, 16, 13, 13, 13, 12, 5, 20, 23, 6, 15, 12, 20, 22, 5, 18, 11, 22, 16, 17, 7, 12, 11, 14, 7, 10, 5, 9, 9, 17, 17, 16, 19, 10, 11, 21, 9, 11, 15, 6, 8, 14, 8, 7, 8, 8, 6, 11, 12, 7, 5, 19, 10, 7, 13, 20, 5, 6, 21, 17, 14, 12, 7, 13, 5, 20, 6, 10, 9, 8, 19, 17, 12, 9, 23, 9, 19, 8, 9, 13, 11, 22, 9, 5, 7, 20, 17, 15, 20, 6, 10, 13, 22, 22, 10, 15, 9, 18, 16, 5, 16, 16, 7, 7, 7, 10, 17, 10, 12, 13, 13, 6, 10, 6, 12, 13, 18, 24, 20, 11, 10, 11, 17, 7, 12, 7, 13, 16, 13, 13, 7, 19, 12, 15, 13, 10, 15, 14, 12, 6, 10, 5, 19, 5, 16, 13, 8, 5, 7, 17, 12, 14, 22, 9, 21, 8, 13, 13, 5, 13, 14, 10, 16, 7, 10, 22, 22, 22, 15, 22, 22, 22, 7, 13, 13, 7, 9, 13, 13, 10, 13, 13, 22, 13, 6, 13, 12, 7, 18, 8, 13, 18, 5, 14, 14, 10, 8, 14, 19]\n"
          ]
        }
      ]
    },
    {
      "cell_type": "code",
      "source": [
        "\n",
        "if IF_Debug == 1:\n",
        "  # some special tokens\n",
        "  # [SEP]: marker for ending of a sentence\n",
        "  print(tokenizer.sep_token, tokenizer.sep_token_id)\n",
        "  # [CLS] - we must add this token to the start of each sentence, so BERT knows we're doing classification\n",
        "  print(tokenizer.cls_token, tokenizer.cls_token_id)\n",
        "  # There is also a special token for padding:\n",
        "  print(tokenizer.pad_token, tokenizer.pad_token_id)\n",
        "  # Everything else can be encoded using the [UNK] (unknown) token:\n",
        "  print(tokenizer.unk_token, tokenizer.unk_token_id)"
      ],
      "metadata": {
        "colab": {
          "base_uri": "https://localhost:8080/"
        },
        "id": "mvhKegwVcIiq",
        "outputId": "553a9b23-5aa3-4e25-9a6c-03e1461173a5"
      },
      "execution_count": 30,
      "outputs": [
        {
          "output_type": "stream",
          "name": "stdout",
          "text": [
            "[SEP] 3\n",
            "[CLS] 2\n",
            "[PAD] 0\n",
            "[UNK] 1\n"
          ]
        }
      ]
    },
    {
      "cell_type": "code",
      "source": [
        "if IF_Debug == 1:\n",
        "  print( tokenizer.encode_plus(sample_seq) )\n",
        "  print(len( tokenizer.encode_plus(sample_seq).attention_mask ))"
      ],
      "metadata": {
        "colab": {
          "base_uri": "https://localhost:8080/"
        },
        "id": "9Fe0nFBqcKyh",
        "outputId": "8f00e3a6-30a0-44f4-cd4f-f46f0015b847"
      },
      "execution_count": 31,
      "outputs": [
        {
          "output_type": "stream",
          "name": "stdout",
          "text": [
            "{'input_ids': [2, 21, 5, 21, 11, 16, 5, 5, 8, 5, 5, 10, 5, 5, 14, 16, 8, 23, 16, 18, 6, 13, 23, 6, 16, 7, 18, 6, 23, 14, 16, 13, 22, 13, 13, 14, 6, 7, 7, 13, 7, 7, 8, 20, 9, 22, 5, 7, 7, 6, 16, 13, 13, 13, 12, 5, 20, 23, 6, 15, 12, 20, 22, 5, 18, 11, 22, 16, 17, 7, 12, 11, 14, 7, 10, 5, 9, 9, 17, 17, 16, 19, 10, 11, 21, 9, 11, 15, 6, 8, 14, 8, 7, 8, 8, 6, 11, 12, 7, 5, 19, 10, 7, 13, 20, 5, 6, 21, 17, 14, 12, 7, 13, 5, 20, 6, 10, 9, 8, 19, 17, 12, 9, 23, 9, 19, 8, 9, 13, 11, 22, 9, 5, 7, 20, 17, 15, 20, 6, 10, 13, 22, 22, 10, 15, 9, 18, 16, 5, 16, 16, 7, 7, 7, 10, 17, 10, 12, 13, 13, 6, 10, 6, 12, 13, 18, 24, 20, 11, 10, 11, 17, 7, 12, 7, 13, 16, 13, 13, 7, 19, 12, 15, 13, 10, 15, 14, 12, 6, 10, 5, 19, 5, 16, 13, 8, 5, 7, 17, 12, 14, 22, 9, 21, 8, 13, 13, 5, 13, 14, 10, 16, 7, 10, 22, 22, 22, 15, 22, 22, 22, 7, 13, 13, 7, 9, 13, 13, 10, 13, 13, 22, 13, 6, 13, 12, 7, 18, 8, 13, 18, 5, 14, 14, 10, 8, 14, 19, 3], 'token_type_ids': [0, 0, 0, 0, 0, 0, 0, 0, 0, 0, 0, 0, 0, 0, 0, 0, 0, 0, 0, 0, 0, 0, 0, 0, 0, 0, 0, 0, 0, 0, 0, 0, 0, 0, 0, 0, 0, 0, 0, 0, 0, 0, 0, 0, 0, 0, 0, 0, 0, 0, 0, 0, 0, 0, 0, 0, 0, 0, 0, 0, 0, 0, 0, 0, 0, 0, 0, 0, 0, 0, 0, 0, 0, 0, 0, 0, 0, 0, 0, 0, 0, 0, 0, 0, 0, 0, 0, 0, 0, 0, 0, 0, 0, 0, 0, 0, 0, 0, 0, 0, 0, 0, 0, 0, 0, 0, 0, 0, 0, 0, 0, 0, 0, 0, 0, 0, 0, 0, 0, 0, 0, 0, 0, 0, 0, 0, 0, 0, 0, 0, 0, 0, 0, 0, 0, 0, 0, 0, 0, 0, 0, 0, 0, 0, 0, 0, 0, 0, 0, 0, 0, 0, 0, 0, 0, 0, 0, 0, 0, 0, 0, 0, 0, 0, 0, 0, 0, 0, 0, 0, 0, 0, 0, 0, 0, 0, 0, 0, 0, 0, 0, 0, 0, 0, 0, 0, 0, 0, 0, 0, 0, 0, 0, 0, 0, 0, 0, 0, 0, 0, 0, 0, 0, 0, 0, 0, 0, 0, 0, 0, 0, 0, 0, 0, 0, 0, 0, 0, 0, 0, 0, 0, 0, 0, 0, 0, 0, 0, 0, 0, 0, 0, 0, 0, 0, 0, 0, 0, 0, 0, 0, 0, 0, 0, 0, 0, 0, 0, 0], 'attention_mask': [1, 1, 1, 1, 1, 1, 1, 1, 1, 1, 1, 1, 1, 1, 1, 1, 1, 1, 1, 1, 1, 1, 1, 1, 1, 1, 1, 1, 1, 1, 1, 1, 1, 1, 1, 1, 1, 1, 1, 1, 1, 1, 1, 1, 1, 1, 1, 1, 1, 1, 1, 1, 1, 1, 1, 1, 1, 1, 1, 1, 1, 1, 1, 1, 1, 1, 1, 1, 1, 1, 1, 1, 1, 1, 1, 1, 1, 1, 1, 1, 1, 1, 1, 1, 1, 1, 1, 1, 1, 1, 1, 1, 1, 1, 1, 1, 1, 1, 1, 1, 1, 1, 1, 1, 1, 1, 1, 1, 1, 1, 1, 1, 1, 1, 1, 1, 1, 1, 1, 1, 1, 1, 1, 1, 1, 1, 1, 1, 1, 1, 1, 1, 1, 1, 1, 1, 1, 1, 1, 1, 1, 1, 1, 1, 1, 1, 1, 1, 1, 1, 1, 1, 1, 1, 1, 1, 1, 1, 1, 1, 1, 1, 1, 1, 1, 1, 1, 1, 1, 1, 1, 1, 1, 1, 1, 1, 1, 1, 1, 1, 1, 1, 1, 1, 1, 1, 1, 1, 1, 1, 1, 1, 1, 1, 1, 1, 1, 1, 1, 1, 1, 1, 1, 1, 1, 1, 1, 1, 1, 1, 1, 1, 1, 1, 1, 1, 1, 1, 1, 1, 1, 1, 1, 1, 1, 1, 1, 1, 1, 1, 1, 1, 1, 1, 1, 1, 1, 1, 1, 1, 1, 1, 1, 1, 1, 1, 1, 1, 1]}\n",
            "249\n"
          ]
        }
      ]
    },
    {
      "cell_type": "code",
      "source": [
        "if IF_Debug == 1:\n",
        "  sample_encoding = tokenizer.encode_plus(\n",
        "      sample_seq,\n",
        "      max_length=MAX_LEN,\n",
        "      add_special_tokens=True,\n",
        "      return_token_type_ids=False,\n",
        "      padding='max_length',\n",
        "      truncation=True,\n",
        "      return_attention_mask=True,\n",
        "      return_tensors='pt',\n",
        "  )"
      ],
      "metadata": {
        "id": "nyaen6dAcNx_"
      },
      "execution_count": 32,
      "outputs": []
    },
    {
      "cell_type": "code",
      "source": [
        "if IF_Debug == 1:\n",
        "  print( sample_encoding.keys() )\n",
        "  print(len(sample_encoding['input_ids'][0])) # show that it is padded\n",
        "  print(sample_encoding['input_ids'].shape)"
      ],
      "metadata": {
        "colab": {
          "base_uri": "https://localhost:8080/"
        },
        "id": "geBqKmZXcYUQ",
        "outputId": "a9dc0b7d-330e-48f4-9dbe-a22da9c5c890"
      },
      "execution_count": 33,
      "outputs": [
        {
          "output_type": "stream",
          "name": "stdout",
          "text": [
            "dict_keys(['input_ids', 'attention_mask'])\n",
            "200\n",
            "torch.Size([1, 200])\n"
          ]
        }
      ]
    },
    {
      "cell_type": "code",
      "source": [
        "if IF_Debug == 1:\n",
        "  print(sample_encoding['input_ids'][0])\n",
        "  # inverse the tokenization to have a look at the special tokens:\n",
        "  print(tokenizer.convert_ids_to_tokens(sample_encoding['input_ids'][0]))"
      ],
      "metadata": {
        "colab": {
          "base_uri": "https://localhost:8080/"
        },
        "id": "ofZ5prSBcfah",
        "outputId": "704c01e9-0dee-410b-cae4-bbee29251fe0"
      },
      "execution_count": 34,
      "outputs": [
        {
          "output_type": "stream",
          "name": "stdout",
          "text": [
            "tensor([ 2, 21,  5, 21, 11, 16,  5,  5,  8,  5,  5, 10,  5,  5, 14, 16,  8, 23,\n",
            "        16, 18,  6, 13, 23,  6, 16,  7, 18,  6, 23, 14, 16, 13, 22, 13, 13, 14,\n",
            "         6,  7,  7, 13,  7,  7,  8, 20,  9, 22,  5,  7,  7,  6, 16, 13, 13, 13,\n",
            "        12,  5, 20, 23,  6, 15, 12, 20, 22,  5, 18, 11, 22, 16, 17,  7, 12, 11,\n",
            "        14,  7, 10,  5,  9,  9, 17, 17, 16, 19, 10, 11, 21,  9, 11, 15,  6,  8,\n",
            "        14,  8,  7,  8,  8,  6, 11, 12,  7,  5, 19, 10,  7, 13, 20,  5,  6, 21,\n",
            "        17, 14, 12,  7, 13,  5, 20,  6, 10,  9,  8, 19, 17, 12,  9, 23,  9, 19,\n",
            "         8,  9, 13, 11, 22,  9,  5,  7, 20, 17, 15, 20,  6, 10, 13, 22, 22, 10,\n",
            "        15,  9, 18, 16,  5, 16, 16,  7,  7,  7, 10, 17, 10, 12, 13, 13,  6, 10,\n",
            "         6, 12, 13, 18, 24, 20, 11, 10, 11, 17,  7, 12,  7, 13, 16, 13, 13,  7,\n",
            "        19, 12, 15, 13, 10, 15, 14, 12,  6, 10,  5, 19,  5, 16, 13,  8,  5,  7,\n",
            "        17,  3])\n",
            "['[CLS]', 'M', 'L', 'M', 'I', 'P', 'L', 'L', 'V', 'L', 'L', 'S', 'L', 'L', 'D', 'P', 'V', 'C', 'P', 'Q', 'A', 'R', 'C', 'A', 'P', 'G', 'Q', 'A', 'C', 'D', 'P', 'R', 'H', 'R', 'R', 'D', 'A', 'G', 'G', 'R', 'G', 'G', 'V', 'Y', 'E', 'H', 'L', 'G', 'G', 'A', 'P', 'R', 'R', 'R', 'K', 'L', 'Y', 'C', 'A', 'T', 'K', 'Y', 'H', 'L', 'Q', 'I', 'H', 'P', 'N', 'G', 'K', 'I', 'D', 'G', 'S', 'L', 'E', 'E', 'N', 'N', 'P', 'F', 'S', 'I', 'M', 'E', 'I', 'T', 'A', 'V', 'D', 'V', 'G', 'V', 'V', 'A', 'I', 'K', 'G', 'L', 'F', 'S', 'G', 'R', 'Y', 'L', 'A', 'M', 'N', 'D', 'K', 'G', 'R', 'L', 'Y', 'A', 'S', 'E', 'V', 'F', 'N', 'K', 'E', 'C', 'E', 'F', 'V', 'E', 'R', 'I', 'H', 'E', 'L', 'G', 'Y', 'N', 'T', 'Y', 'A', 'S', 'R', 'H', 'H', 'S', 'T', 'E', 'Q', 'P', 'L', 'P', 'P', 'G', 'G', 'G', 'S', 'N', 'S', 'K', 'R', 'R', 'A', 'S', 'A', 'K', 'R', 'Q', 'W', 'Y', 'I', 'S', 'I', 'N', 'G', 'K', 'G', 'R', 'P', 'R', 'R', 'G', 'F', 'K', 'T', 'R', 'S', 'T', 'D', 'K', 'A', 'S', 'L', 'F', 'L', 'P', 'R', 'V', 'L', 'G', 'N', '[SEP]']\n"
          ]
        }
      ]
    },
    {
      "cell_type": "code",
      "source": [
        "df_vali.head(1)"
      ],
      "metadata": {
        "colab": {
          "base_uri": "https://localhost:8080/",
          "height": 176
        },
        "id": "RqdI9H3fdFVL",
        "outputId": "49c39051-a2e7-466a-8fc0-f461dfbc3ed8"
      },
      "execution_count": 35,
      "outputs": [
        {
          "output_type": "execute_result",
          "data": {
            "text/plain": [
              "        Entry        Entry name Gene names      Status  \\\n",
              "0  A0A3Q3N4J8  A0A3Q3N4J8_9LABR     FGFRL1  unreviewed   \n",
              "\n",
              "                              Protein names                         Organism  \\\n",
              "0  Fibroblast growth factor receptor like 1  Labrus bergylta (ballan wrasse)   \n",
              "\n",
              "   Length Fragment                                           Sequence  \\\n",
              "0     473      NaN  VIFEVCLLLHGLLSLHRPPRVSEKVAQRQTARLGSAIKLLCPVEGD...   \n",
              "\n",
              "   GForGFR                                                Seq  Label  \n",
              "0        1  V I F E V C L L L H G L L S L H R P P R V S E ...      1  "
            ],
            "text/html": [
              "\n",
              "  <div id=\"df-10bd6c6b-2927-4076-8780-1ed8f9ef74f1\">\n",
              "    <div class=\"colab-df-container\">\n",
              "      <div>\n",
              "<style scoped>\n",
              "    .dataframe tbody tr th:only-of-type {\n",
              "        vertical-align: middle;\n",
              "    }\n",
              "\n",
              "    .dataframe tbody tr th {\n",
              "        vertical-align: top;\n",
              "    }\n",
              "\n",
              "    .dataframe thead th {\n",
              "        text-align: right;\n",
              "    }\n",
              "</style>\n",
              "<table border=\"1\" class=\"dataframe\">\n",
              "  <thead>\n",
              "    <tr style=\"text-align: right;\">\n",
              "      <th></th>\n",
              "      <th>Entry</th>\n",
              "      <th>Entry name</th>\n",
              "      <th>Gene names</th>\n",
              "      <th>Status</th>\n",
              "      <th>Protein names</th>\n",
              "      <th>Organism</th>\n",
              "      <th>Length</th>\n",
              "      <th>Fragment</th>\n",
              "      <th>Sequence</th>\n",
              "      <th>GForGFR</th>\n",
              "      <th>Seq</th>\n",
              "      <th>Label</th>\n",
              "    </tr>\n",
              "  </thead>\n",
              "  <tbody>\n",
              "    <tr>\n",
              "      <th>0</th>\n",
              "      <td>A0A3Q3N4J8</td>\n",
              "      <td>A0A3Q3N4J8_9LABR</td>\n",
              "      <td>FGFRL1</td>\n",
              "      <td>unreviewed</td>\n",
              "      <td>Fibroblast growth factor receptor like 1</td>\n",
              "      <td>Labrus bergylta (ballan wrasse)</td>\n",
              "      <td>473</td>\n",
              "      <td>NaN</td>\n",
              "      <td>VIFEVCLLLHGLLSLHRPPRVSEKVAQRQTARLGSAIKLLCPVEGD...</td>\n",
              "      <td>1</td>\n",
              "      <td>V I F E V C L L L H G L L S L H R P P R V S E ...</td>\n",
              "      <td>1</td>\n",
              "    </tr>\n",
              "  </tbody>\n",
              "</table>\n",
              "</div>\n",
              "      <button class=\"colab-df-convert\" onclick=\"convertToInteractive('df-10bd6c6b-2927-4076-8780-1ed8f9ef74f1')\"\n",
              "              title=\"Convert this dataframe to an interactive table.\"\n",
              "              style=\"display:none;\">\n",
              "        \n",
              "  <svg xmlns=\"http://www.w3.org/2000/svg\" height=\"24px\"viewBox=\"0 0 24 24\"\n",
              "       width=\"24px\">\n",
              "    <path d=\"M0 0h24v24H0V0z\" fill=\"none\"/>\n",
              "    <path d=\"M18.56 5.44l.94 2.06.94-2.06 2.06-.94-2.06-.94-.94-2.06-.94 2.06-2.06.94zm-11 1L8.5 8.5l.94-2.06 2.06-.94-2.06-.94L8.5 2.5l-.94 2.06-2.06.94zm10 10l.94 2.06.94-2.06 2.06-.94-2.06-.94-.94-2.06-.94 2.06-2.06.94z\"/><path d=\"M17.41 7.96l-1.37-1.37c-.4-.4-.92-.59-1.43-.59-.52 0-1.04.2-1.43.59L10.3 9.45l-7.72 7.72c-.78.78-.78 2.05 0 2.83L4 21.41c.39.39.9.59 1.41.59.51 0 1.02-.2 1.41-.59l7.78-7.78 2.81-2.81c.8-.78.8-2.07 0-2.86zM5.41 20L4 18.59l7.72-7.72 1.47 1.35L5.41 20z\"/>\n",
              "  </svg>\n",
              "      </button>\n",
              "      \n",
              "  <style>\n",
              "    .colab-df-container {\n",
              "      display:flex;\n",
              "      flex-wrap:wrap;\n",
              "      gap: 12px;\n",
              "    }\n",
              "\n",
              "    .colab-df-convert {\n",
              "      background-color: #E8F0FE;\n",
              "      border: none;\n",
              "      border-radius: 50%;\n",
              "      cursor: pointer;\n",
              "      display: none;\n",
              "      fill: #1967D2;\n",
              "      height: 32px;\n",
              "      padding: 0 0 0 0;\n",
              "      width: 32px;\n",
              "    }\n",
              "\n",
              "    .colab-df-convert:hover {\n",
              "      background-color: #E2EBFA;\n",
              "      box-shadow: 0px 1px 2px rgba(60, 64, 67, 0.3), 0px 1px 3px 1px rgba(60, 64, 67, 0.15);\n",
              "      fill: #174EA6;\n",
              "    }\n",
              "\n",
              "    [theme=dark] .colab-df-convert {\n",
              "      background-color: #3B4455;\n",
              "      fill: #D2E3FC;\n",
              "    }\n",
              "\n",
              "    [theme=dark] .colab-df-convert:hover {\n",
              "      background-color: #434B5C;\n",
              "      box-shadow: 0px 1px 3px 1px rgba(0, 0, 0, 0.15);\n",
              "      filter: drop-shadow(0px 1px 2px rgba(0, 0, 0, 0.3));\n",
              "      fill: #FFFFFF;\n",
              "    }\n",
              "  </style>\n",
              "\n",
              "      <script>\n",
              "        const buttonEl =\n",
              "          document.querySelector('#df-10bd6c6b-2927-4076-8780-1ed8f9ef74f1 button.colab-df-convert');\n",
              "        buttonEl.style.display =\n",
              "          google.colab.kernel.accessAllowed ? 'block' : 'none';\n",
              "\n",
              "        async function convertToInteractive(key) {\n",
              "          const element = document.querySelector('#df-10bd6c6b-2927-4076-8780-1ed8f9ef74f1');\n",
              "          const dataTable =\n",
              "            await google.colab.kernel.invokeFunction('convertToInteractive',\n",
              "                                                     [key], {});\n",
              "          if (!dataTable) return;\n",
              "\n",
              "          const docLinkHtml = 'Like what you see? Visit the ' +\n",
              "            '<a target=\"_blank\" href=https://colab.research.google.com/notebooks/data_table.ipynb>data table notebook</a>'\n",
              "            + ' to learn more about interactive tables.';\n",
              "          element.innerHTML = '';\n",
              "          dataTable['output_type'] = 'display_data';\n",
              "          await google.colab.output.renderOutput(dataTable, element);\n",
              "          const docLink = document.createElement('div');\n",
              "          docLink.innerHTML = docLinkHtml;\n",
              "          element.appendChild(docLink);\n",
              "        }\n",
              "      </script>\n",
              "    </div>\n",
              "  </div>\n",
              "  "
            ]
          },
          "metadata": {},
          "execution_count": 35
        }
      ]
    },
    {
      "cell_type": "code",
      "source": [
        "# We also need to create a couple of data loaders\n",
        "def create_data_loader(df, tokenizer, max_len, batch_size):\n",
        "  ds = ProtKnotTypeDataset(\n",
        "    seq=df.Seq.to_numpy(),\n",
        "    seq_len=df.Length.to_numpy(),\n",
        "    targets=df.Label.to_numpy(),\n",
        "    tokenizer=tokenizer,\n",
        "    max_len=max_len\n",
        "  )\n",
        "  # ToDo: may need to adjust num_workers\n",
        "  return DataLoader(\n",
        "    ds,\n",
        "    batch_size=batch_size,\n",
        "    num_workers=4\n",
        "  )\n",
        "\n",
        "# group the results\n",
        "# We have all building blocks required to create a PyTorch dataset. \n",
        "class ProtKnotTypeDataset(Dataset):\n",
        "\n",
        "  def __init__(self, seq, seq_len, targets, tokenizer, max_len):\n",
        "    self.seq = seq\n",
        "    self.seq_len = seq_len\n",
        "    self.targets = targets\n",
        "    self.tokenizer = tokenizer\n",
        "    self.max_len = max_len\n",
        "  \n",
        "  def __len__(self):\n",
        "    return len(self.seq)\n",
        "  \n",
        "  def __getitem__(self, item):\n",
        "    seq = str(self.seq[item])\n",
        "    target = self.targets[item]\n",
        "\n",
        "    encoding = self.tokenizer.encode_plus(\n",
        "      seq,\n",
        "      add_special_tokens=True,\n",
        "      max_length=self.max_len,\n",
        "      return_token_type_ids=False,\n",
        "      padding='max_length',\n",
        "      # pad_to_max_length=True,\n",
        "      truncation=True,\n",
        "      return_attention_mask=True,\n",
        "      return_tensors='pt',\n",
        "    )\n",
        "\n",
        "    return {\n",
        "      'protein_seq': seq,\n",
        "      'input_ids': encoding['input_ids'].flatten(),\n",
        "      'attention_mask': encoding['attention_mask'].flatten(),\n",
        "      'targets': torch.tensor(target, dtype=torch.long)\n",
        "    }"
      ],
      "metadata": {
        "id": "BrQxIXeuch41"
      },
      "execution_count": 36,
      "outputs": []
    },
    {
      "cell_type": "code",
      "source": [
        "# create data loaders\n",
        "BATCH_SIZE = 16\n",
        "BATCH_SIZE = 2\n",
        "\n",
        "trai_data_loader = create_data_loader(df_trai, tokenizer, \n",
        "                                      MAX_LEN, BATCH_SIZE)\n",
        "vali_data_loader = create_data_loader(df_vali, tokenizer, \n",
        "                                      MAX_LEN, BATCH_SIZE)\n",
        "test_data_loader = create_data_loader(df_test, tokenizer, \n",
        "                                      MAX_LEN, BATCH_SIZE)"
      ],
      "metadata": {
        "id": "acLSqRRzda6v"
      },
      "execution_count": 37,
      "outputs": []
    },
    {
      "cell_type": "code",
      "source": [
        "accelerator.print(\n",
        "    '# of batchs in three sets:',\n",
        "    len(trai_data_loader),len(vali_data_loader),len(test_data_loader)\n",
        ")"
      ],
      "metadata": {
        "colab": {
          "base_uri": "https://localhost:8080/"
        },
        "id": "GuPPtsVrdgF1",
        "outputId": "91f2cada-5f6c-4430-cb88-38ab78056011"
      },
      "execution_count": 38,
      "outputs": [
        {
          "output_type": "stream",
          "name": "stdout",
          "text": [
            "# of batchs in three sets: 4205 901 902\n"
          ]
        }
      ]
    },
    {
      "cell_type": "code",
      "source": [
        "# another debug mode to go over batch data and model\n",
        "if IF_Debug == 1:\n",
        "  # have a look at an example batch from our training data loader\n",
        "  one_batch_data = next(iter(trai_data_loader))\n",
        "  print( one_batch_data.keys() )"
      ],
      "metadata": {
        "colab": {
          "base_uri": "https://localhost:8080/"
        },
        "id": "gBuHEjzqdizU",
        "outputId": "aa2ba64b-a57d-409e-a277-527b84ffe8c7"
      },
      "execution_count": 39,
      "outputs": [
        {
          "output_type": "stream",
          "name": "stdout",
          "text": [
            "dict_keys(['protein_seq', 'input_ids', 'attention_mask', 'targets'])\n"
          ]
        }
      ]
    },
    {
      "cell_type": "code",
      "source": [
        "if IF_Debug == 1:\n",
        "  # print(one_batch_data['protein_seq'].shape)\n",
        "  print(one_batch_data['input_ids'].shape)\n",
        "  print(one_batch_data['attention_mask'].shape)\n",
        "  print(one_batch_data['targets'].shape)\n",
        "  # should be [Batch_len, Max_Length]"
      ],
      "metadata": {
        "colab": {
          "base_uri": "https://localhost:8080/"
        },
        "id": "sJ0bevB9dmGn",
        "outputId": "f049751d-500a-4679-893b-1765b255a688"
      },
      "execution_count": 40,
      "outputs": [
        {
          "output_type": "stream",
          "name": "stdout",
          "text": [
            "torch.Size([2, 200])\n",
            "torch.Size([2, 200])\n",
            "torch.Size([2])\n"
          ]
        }
      ]
    },
    {
      "cell_type": "code",
      "source": [
        "if IF_Debug==1:\n",
        "  print(one_batch_data['targets'])"
      ],
      "metadata": {
        "colab": {
          "base_uri": "https://localhost:8080/"
        },
        "id": "E6z1letgdpH_",
        "outputId": "23ca43e8-f583-41e3-aa46-0445969ad190"
      },
      "execution_count": 41,
      "outputs": [
        {
          "output_type": "stream",
          "name": "stdout",
          "text": [
            "tensor([1, 0])\n"
          ]
        }
      ]
    },
    {
      "cell_type": "code",
      "source": [
        "# use the basic Bert model\n",
        "# try to find the format of the output of the Bert model\n",
        "if IF_Debug == 1:\n",
        "  bert_model = BertModel.from_pretrained(model_name)"
      ],
      "metadata": {
        "colab": {
          "base_uri": "https://localhost:8080/"
        },
        "id": "w9DQiJYzdsUL",
        "outputId": "53a1f33c-09c4-41ce-cfd4-7ce0695c6f21"
      },
      "execution_count": 42,
      "outputs": [
        {
          "output_type": "stream",
          "name": "stderr",
          "text": [
            "Some weights of the model checkpoint at Rostlab/prot_bert_bfd were not used when initializing BertModel: ['cls.predictions.bias', 'cls.predictions.transform.LayerNorm.bias', 'cls.predictions.transform.LayerNorm.weight', 'cls.predictions.transform.dense.bias', 'cls.predictions.decoder.weight', 'cls.seq_relationship.bias', 'cls.seq_relationship.weight', 'cls.predictions.decoder.bias', 'cls.predictions.transform.dense.weight']\n",
            "- This IS expected if you are initializing BertModel from the checkpoint of a model trained on another task or with another architecture (e.g. initializing a BertForSequenceClassification model from a BertForPreTraining model).\n",
            "- This IS NOT expected if you are initializing BertModel from the checkpoint of a model that you expect to be exactly identical (initializing a BertForSequenceClassification model from a BertForSequenceClassification model).\n"
          ]
        }
      ]
    },
    {
      "cell_type": "code",
      "source": [
        "# test this model on ONE datapoint\n",
        "if IF_Debug == 1:\n",
        "  print(sample_encoding.keys())\n",
        "  print(sample_encoding['input_ids'])\n",
        "  print(sample_encoding['attention_mask'])\n",
        "  print(sample_encoding['attention_mask'].shape)"
      ],
      "metadata": {
        "colab": {
          "base_uri": "https://localhost:8080/"
        },
        "id": "tNg8L8SJdvGZ",
        "outputId": "66b0f18b-2548-4d6f-9b81-140b160804ab"
      },
      "execution_count": 43,
      "outputs": [
        {
          "output_type": "stream",
          "name": "stdout",
          "text": [
            "dict_keys(['input_ids', 'attention_mask'])\n",
            "tensor([[ 2, 21,  5, 21, 11, 16,  5,  5,  8,  5,  5, 10,  5,  5, 14, 16,  8, 23,\n",
            "         16, 18,  6, 13, 23,  6, 16,  7, 18,  6, 23, 14, 16, 13, 22, 13, 13, 14,\n",
            "          6,  7,  7, 13,  7,  7,  8, 20,  9, 22,  5,  7,  7,  6, 16, 13, 13, 13,\n",
            "         12,  5, 20, 23,  6, 15, 12, 20, 22,  5, 18, 11, 22, 16, 17,  7, 12, 11,\n",
            "         14,  7, 10,  5,  9,  9, 17, 17, 16, 19, 10, 11, 21,  9, 11, 15,  6,  8,\n",
            "         14,  8,  7,  8,  8,  6, 11, 12,  7,  5, 19, 10,  7, 13, 20,  5,  6, 21,\n",
            "         17, 14, 12,  7, 13,  5, 20,  6, 10,  9,  8, 19, 17, 12,  9, 23,  9, 19,\n",
            "          8,  9, 13, 11, 22,  9,  5,  7, 20, 17, 15, 20,  6, 10, 13, 22, 22, 10,\n",
            "         15,  9, 18, 16,  5, 16, 16,  7,  7,  7, 10, 17, 10, 12, 13, 13,  6, 10,\n",
            "          6, 12, 13, 18, 24, 20, 11, 10, 11, 17,  7, 12,  7, 13, 16, 13, 13,  7,\n",
            "         19, 12, 15, 13, 10, 15, 14, 12,  6, 10,  5, 19,  5, 16, 13,  8,  5,  7,\n",
            "         17,  3]])\n",
            "tensor([[1, 1, 1, 1, 1, 1, 1, 1, 1, 1, 1, 1, 1, 1, 1, 1, 1, 1, 1, 1, 1, 1, 1, 1,\n",
            "         1, 1, 1, 1, 1, 1, 1, 1, 1, 1, 1, 1, 1, 1, 1, 1, 1, 1, 1, 1, 1, 1, 1, 1,\n",
            "         1, 1, 1, 1, 1, 1, 1, 1, 1, 1, 1, 1, 1, 1, 1, 1, 1, 1, 1, 1, 1, 1, 1, 1,\n",
            "         1, 1, 1, 1, 1, 1, 1, 1, 1, 1, 1, 1, 1, 1, 1, 1, 1, 1, 1, 1, 1, 1, 1, 1,\n",
            "         1, 1, 1, 1, 1, 1, 1, 1, 1, 1, 1, 1, 1, 1, 1, 1, 1, 1, 1, 1, 1, 1, 1, 1,\n",
            "         1, 1, 1, 1, 1, 1, 1, 1, 1, 1, 1, 1, 1, 1, 1, 1, 1, 1, 1, 1, 1, 1, 1, 1,\n",
            "         1, 1, 1, 1, 1, 1, 1, 1, 1, 1, 1, 1, 1, 1, 1, 1, 1, 1, 1, 1, 1, 1, 1, 1,\n",
            "         1, 1, 1, 1, 1, 1, 1, 1, 1, 1, 1, 1, 1, 1, 1, 1, 1, 1, 1, 1, 1, 1, 1, 1,\n",
            "         1, 1, 1, 1, 1, 1, 1, 1]])\n",
            "torch.Size([1, 200])\n"
          ]
        }
      ]
    },
    {
      "cell_type": "code",
      "source": [
        "if IF_Debug == 1:\n",
        "  sample_output = bert_model(\n",
        "    input_ids=sample_encoding['input_ids'], \n",
        "    attention_mask=sample_encoding['attention_mask']\n",
        "  )"
      ],
      "metadata": {
        "id": "GoMt5AB_d8Mi"
      },
      "execution_count": 44,
      "outputs": []
    },
    {
      "cell_type": "code",
      "source": [
        "if IF_Debug == 1:\n",
        "  print( sample_output )\n",
        "  print()\n",
        "  # last hidden state: Sequence of hidden-states at the output of the last layer of the model\n",
        "  print( sample_output.last_hidden_state )\n",
        "  print()\n",
        "  print( sample_output.last_hidden_state.shape )"
      ],
      "metadata": {
        "colab": {
          "base_uri": "https://localhost:8080/"
        },
        "id": "tMQgb8nUd_mG",
        "outputId": "96d923dc-5e40-4850-f3ea-8215816cd588"
      },
      "execution_count": 45,
      "outputs": [
        {
          "output_type": "stream",
          "name": "stdout",
          "text": [
            "BaseModelOutputWithPoolingAndCrossAttentions(last_hidden_state=tensor([[[ 0.0497, -0.0145,  0.0861,  ..., -0.0714, -0.0304, -0.0320],\n",
            "         [ 0.1408,  0.0047,  0.0655,  ...,  0.0358,  0.0168, -0.0085],\n",
            "         [-0.0073,  0.0554,  0.0395,  ..., -0.0523,  0.0699, -0.0647],\n",
            "         ...,\n",
            "         [ 0.0381,  0.0685,  0.0760,  ..., -0.0295, -0.0611,  0.0607],\n",
            "         [-0.0679,  0.0278,  0.0492,  ...,  0.0247, -0.0717,  0.1118],\n",
            "         [ 0.0476, -0.0116,  0.0854,  ..., -0.0698, -0.0285, -0.0320]]],\n",
            "       grad_fn=<NativeLayerNormBackward0>), pooler_output=tensor([[-0.3223, -0.2717,  0.3192,  ..., -0.3189, -0.3255,  0.3201]],\n",
            "       grad_fn=<TanhBackward0>), hidden_states=None, past_key_values=None, attentions=None, cross_attentions=None)\n",
            "\n",
            "tensor([[[ 0.0497, -0.0145,  0.0861,  ..., -0.0714, -0.0304, -0.0320],\n",
            "         [ 0.1408,  0.0047,  0.0655,  ...,  0.0358,  0.0168, -0.0085],\n",
            "         [-0.0073,  0.0554,  0.0395,  ..., -0.0523,  0.0699, -0.0647],\n",
            "         ...,\n",
            "         [ 0.0381,  0.0685,  0.0760,  ..., -0.0295, -0.0611,  0.0607],\n",
            "         [-0.0679,  0.0278,  0.0492,  ...,  0.0247, -0.0717,  0.1118],\n",
            "         [ 0.0476, -0.0116,  0.0854,  ..., -0.0698, -0.0285, -0.0320]]],\n",
            "       grad_fn=<NativeLayerNormBackward0>)\n",
            "\n",
            "torch.Size([1, 200, 1024])\n"
          ]
        }
      ]
    },
    {
      "cell_type": "code",
      "source": [
        "# We have the hidden state for each of our 1800 tokens \n",
        "# (the length of our example sequence). But why 1024? \n",
        "# This is the number of hidden units in the feedforward-networks. \n",
        "# We can verify that by checking the config:\n",
        "if IF_Debug == 1:\n",
        "  print( bert_model.config.hidden_size )"
      ],
      "metadata": {
        "colab": {
          "base_uri": "https://localhost:8080/"
        },
        "id": "NbyB9hkLeCrQ",
        "outputId": "5177a52f-dcda-4291-ded2-a28c49921555"
      },
      "execution_count": 46,
      "outputs": [
        {
          "output_type": "stream",
          "name": "stdout",
          "text": [
            "1024\n"
          ]
        }
      ]
    },
    {
      "cell_type": "code",
      "source": [
        "if IF_Debug == 1:\n",
        "  # the output of the pretrained model\n",
        "  # may only used for per-seq predictions\n",
        "  print( sample_output.pooler_output )\n",
        "  print()\n",
        "  print( sample_output.pooler_output.shape )"
      ],
      "metadata": {
        "colab": {
          "base_uri": "https://localhost:8080/"
        },
        "id": "KMHMxvjHeNW1",
        "outputId": "ab593d84-9123-4462-d7cf-014d5d7f16ae"
      },
      "execution_count": 47,
      "outputs": [
        {
          "output_type": "stream",
          "name": "stdout",
          "text": [
            "tensor([[-0.3223, -0.2717,  0.3192,  ..., -0.3189, -0.3255,  0.3201]],\n",
            "       grad_fn=<TanhBackward0>)\n",
            "\n",
            "torch.Size([1, 1024])\n"
          ]
        }
      ]
    },
    {
      "cell_type": "code",
      "source": [
        "# use all of this knowledge \n",
        "# to create a regresser that uses the BERT model\n",
        "\n",
        "# one parameter: n_freqs\n",
        "\n",
        "class ProteinBERTRegresserNonNeg(nn.Module):\n",
        "\n",
        "  def __init__(self, n_freqs):\n",
        "    super(ProteinBERTRegresserNonNeg, self).__init__()\n",
        "    self.bert = BertModel.from_pretrained(model_name)\n",
        "    self.drop = nn.Dropout(p=0.3)\n",
        "    self.lin = nn.Linear(self.bert.config.hidden_size, n_freqs)\n",
        "    # to make a non-negative prediction\n",
        "    # self.out = nn.functional.relu()\n",
        "    self.out = nn.ReLU()\n",
        "  \n",
        "  def forward(self, input_ids, attention_mask):\n",
        "#     _, pooled_output = self.bert(\n",
        "#       input_ids=input_ids,\n",
        "#       attention_mask=attention_mask\n",
        "#     )\n",
        "    result = self.bert(\n",
        "      input_ids=input_ids,\n",
        "      attention_mask=attention_mask\n",
        "    )\n",
        "    pooled_output = result.pooler_output\n",
        "    outdrop = self.drop(pooled_output)\n",
        "    output = self.lin(outdrop)\n",
        "    return self.out(output)\n",
        "\n",
        "# without ReLU\n",
        "class ProteinBERTClassifier(nn.Module):\n",
        "\n",
        "  def __init__(self, n_class):\n",
        "    super(ProteinBERTClassifier, self).__init__()\n",
        "    self.bert = BertModel.from_pretrained(model_name)\n",
        "    self.drop = nn.Dropout(p=0.3)\n",
        "    self.lin = nn.Linear(self.bert.config.hidden_size, n_class)\n",
        "    # to make a non-negative prediction\n",
        "    # self.out = nn.functional.relu()\n",
        "    # self.out = nn.ReLU()\n",
        "  \n",
        "  def forward(self, input_ids, attention_mask):\n",
        "#     _, pooled_output = self.bert(\n",
        "#       input_ids=input_ids,\n",
        "#       attention_mask=attention_mask\n",
        "#     )\n",
        "    result = self.bert(\n",
        "      input_ids=input_ids,\n",
        "      attention_mask=attention_mask\n",
        "    )\n",
        "    pooled_output = result.pooler_output\n",
        "    outdrop = self.drop(pooled_output)\n",
        "    # output = self.lin(outdrop)\n",
        "    return self.lin(outdrop)\n",
        "\n",
        "# Our classifier delegates most of the heavy lifting to the BertModel. \n",
        "# We use a dropout layer for some regularization and a fully-connected \n",
        "# layer for our output. \n",
        "# Note that we're returning the raw output of the last layer since that \n",
        "# is required for the cross-entropy loss function in PyTorch to work."
      ],
      "metadata": {
        "id": "7-pE-w3xePYd"
      },
      "execution_count": 48,
      "outputs": []
    },
    {
      "cell_type": "code",
      "source": [
        "# # of frequences\n",
        "N_CLASS = 2"
      ],
      "metadata": {
        "id": "jd1WC3eFeYnX"
      },
      "execution_count": 49,
      "outputs": []
    },
    {
      "cell_type": "code",
      "source": [
        "# activate the model\n",
        "model = ProteinBERTClassifier(n_class=N_CLASS)\n",
        "model = model.to(device)\n"
      ],
      "metadata": {
        "colab": {
          "base_uri": "https://localhost:8080/"
        },
        "id": "FkTMVQenearn",
        "outputId": "86115012-a5b4-4c51-e96a-b03234c53e3f"
      },
      "execution_count": 50,
      "outputs": [
        {
          "output_type": "stream",
          "name": "stderr",
          "text": [
            "Some weights of the model checkpoint at Rostlab/prot_bert_bfd were not used when initializing BertModel: ['cls.predictions.bias', 'cls.predictions.transform.LayerNorm.bias', 'cls.predictions.transform.LayerNorm.weight', 'cls.predictions.transform.dense.bias', 'cls.predictions.decoder.weight', 'cls.seq_relationship.bias', 'cls.seq_relationship.weight', 'cls.predictions.decoder.bias', 'cls.predictions.transform.dense.weight']\n",
            "- This IS expected if you are initializing BertModel from the checkpoint of a model trained on another task or with another architecture (e.g. initializing a BertForSequenceClassification model from a BertForPreTraining model).\n",
            "- This IS NOT expected if you are initializing BertModel from the checkpoint of a model that you expect to be exactly identical (initializing a BertForSequenceClassification model from a BertForSequenceClassification model).\n"
          ]
        }
      ]
    },
    {
      "cell_type": "code",
      "source": [
        "# test this model on a batch of data\n",
        "if IF_Debug == 1:\n",
        "  print( one_batch_data['input_ids'].shape )\n",
        "  print( one_batch_data['attention_mask'].shape )\n",
        "  print( one_batch_data )\n"
      ],
      "metadata": {
        "colab": {
          "base_uri": "https://localhost:8080/"
        },
        "id": "2VO8Hz3qec5E",
        "outputId": "90d324a2-2a0b-4abf-b344-5235329b2037"
      },
      "execution_count": 51,
      "outputs": [
        {
          "output_type": "stream",
          "name": "stdout",
          "text": [
            "torch.Size([2, 200])\n",
            "torch.Size([2, 200])\n",
            "{'protein_seq': ['A P T L P E Q A Q P W G A P V E V E S F L V H P G D P L Q L R C R L R D D V Q S I N W L R D G V Q L V E S N R T R I T G E E V E V R D S V P A D S G L Y A C V T S S P S G S D T T Y F S V N V S D A L P S S E', 'M L M I P L L V L L S L L D P V C P Q A R C A P G Q A C D P R H R R D A G G R G G V Y E H L G G A P R R R K L Y C A T K Y H L Q I H P N G K I D G S L E E N N P F S I M E I T A V D V G V V A I K G L F S G R Y L A M N D K G R L Y A S E V F N K E C E F V E R I H E L G Y N T Y A S R H H S T E Q P L P P G G G S N S K R R A S A K R Q W Y I S I N G K G R P R R G F K T R S T D K A S L F L P R V L G N K D H E M V R R L R D S P G S H H H T H H H G R R G E R R S R R H R A R K G Q V R Q L D D S V D F'], 'input_ids': tensor([[ 2,  6, 16, 15,  5, 16,  9, 18,  6, 18, 16, 24,  7,  6, 16,  8,  9,  8,\n",
            "          9, 10, 19,  5,  8, 22, 16,  7, 14, 16,  5, 18,  5, 13, 23, 13,  5, 13,\n",
            "         14, 14,  8, 18, 10, 11, 17, 24,  5, 13, 14,  7,  8, 18,  5,  8,  9, 10,\n",
            "         17, 13, 15, 13, 11, 15,  7,  9,  9,  8,  9,  8, 13, 14, 10,  8, 16,  6,\n",
            "         14, 10,  7,  5, 20,  6, 23,  8, 15, 10, 10, 16, 10,  7, 10, 14, 15, 15,\n",
            "         20, 19, 10,  8, 17,  8, 10, 14,  6,  5, 16, 10, 10,  9,  3,  0,  0,  0,\n",
            "          0,  0,  0,  0,  0,  0,  0,  0,  0,  0,  0,  0,  0,  0,  0,  0,  0,  0,\n",
            "          0,  0,  0,  0,  0,  0,  0,  0,  0,  0,  0,  0,  0,  0,  0,  0,  0,  0,\n",
            "          0,  0,  0,  0,  0,  0,  0,  0,  0,  0,  0,  0,  0,  0,  0,  0,  0,  0,\n",
            "          0,  0,  0,  0,  0,  0,  0,  0,  0,  0,  0,  0,  0,  0,  0,  0,  0,  0,\n",
            "          0,  0,  0,  0,  0,  0,  0,  0,  0,  0,  0,  0,  0,  0,  0,  0,  0,  0,\n",
            "          0,  0],\n",
            "        [ 2, 21,  5, 21, 11, 16,  5,  5,  8,  5,  5, 10,  5,  5, 14, 16,  8, 23,\n",
            "         16, 18,  6, 13, 23,  6, 16,  7, 18,  6, 23, 14, 16, 13, 22, 13, 13, 14,\n",
            "          6,  7,  7, 13,  7,  7,  8, 20,  9, 22,  5,  7,  7,  6, 16, 13, 13, 13,\n",
            "         12,  5, 20, 23,  6, 15, 12, 20, 22,  5, 18, 11, 22, 16, 17,  7, 12, 11,\n",
            "         14,  7, 10,  5,  9,  9, 17, 17, 16, 19, 10, 11, 21,  9, 11, 15,  6,  8,\n",
            "         14,  8,  7,  8,  8,  6, 11, 12,  7,  5, 19, 10,  7, 13, 20,  5,  6, 21,\n",
            "         17, 14, 12,  7, 13,  5, 20,  6, 10,  9,  8, 19, 17, 12,  9, 23,  9, 19,\n",
            "          8,  9, 13, 11, 22,  9,  5,  7, 20, 17, 15, 20,  6, 10, 13, 22, 22, 10,\n",
            "         15,  9, 18, 16,  5, 16, 16,  7,  7,  7, 10, 17, 10, 12, 13, 13,  6, 10,\n",
            "          6, 12, 13, 18, 24, 20, 11, 10, 11, 17,  7, 12,  7, 13, 16, 13, 13,  7,\n",
            "         19, 12, 15, 13, 10, 15, 14, 12,  6, 10,  5, 19,  5, 16, 13,  8,  5,  7,\n",
            "         17,  3]]), 'attention_mask': tensor([[1, 1, 1, 1, 1, 1, 1, 1, 1, 1, 1, 1, 1, 1, 1, 1, 1, 1, 1, 1, 1, 1, 1, 1,\n",
            "         1, 1, 1, 1, 1, 1, 1, 1, 1, 1, 1, 1, 1, 1, 1, 1, 1, 1, 1, 1, 1, 1, 1, 1,\n",
            "         1, 1, 1, 1, 1, 1, 1, 1, 1, 1, 1, 1, 1, 1, 1, 1, 1, 1, 1, 1, 1, 1, 1, 1,\n",
            "         1, 1, 1, 1, 1, 1, 1, 1, 1, 1, 1, 1, 1, 1, 1, 1, 1, 1, 1, 1, 1, 1, 1, 1,\n",
            "         1, 1, 1, 1, 1, 1, 1, 1, 1, 0, 0, 0, 0, 0, 0, 0, 0, 0, 0, 0, 0, 0, 0, 0,\n",
            "         0, 0, 0, 0, 0, 0, 0, 0, 0, 0, 0, 0, 0, 0, 0, 0, 0, 0, 0, 0, 0, 0, 0, 0,\n",
            "         0, 0, 0, 0, 0, 0, 0, 0, 0, 0, 0, 0, 0, 0, 0, 0, 0, 0, 0, 0, 0, 0, 0, 0,\n",
            "         0, 0, 0, 0, 0, 0, 0, 0, 0, 0, 0, 0, 0, 0, 0, 0, 0, 0, 0, 0, 0, 0, 0, 0,\n",
            "         0, 0, 0, 0, 0, 0, 0, 0],\n",
            "        [1, 1, 1, 1, 1, 1, 1, 1, 1, 1, 1, 1, 1, 1, 1, 1, 1, 1, 1, 1, 1, 1, 1, 1,\n",
            "         1, 1, 1, 1, 1, 1, 1, 1, 1, 1, 1, 1, 1, 1, 1, 1, 1, 1, 1, 1, 1, 1, 1, 1,\n",
            "         1, 1, 1, 1, 1, 1, 1, 1, 1, 1, 1, 1, 1, 1, 1, 1, 1, 1, 1, 1, 1, 1, 1, 1,\n",
            "         1, 1, 1, 1, 1, 1, 1, 1, 1, 1, 1, 1, 1, 1, 1, 1, 1, 1, 1, 1, 1, 1, 1, 1,\n",
            "         1, 1, 1, 1, 1, 1, 1, 1, 1, 1, 1, 1, 1, 1, 1, 1, 1, 1, 1, 1, 1, 1, 1, 1,\n",
            "         1, 1, 1, 1, 1, 1, 1, 1, 1, 1, 1, 1, 1, 1, 1, 1, 1, 1, 1, 1, 1, 1, 1, 1,\n",
            "         1, 1, 1, 1, 1, 1, 1, 1, 1, 1, 1, 1, 1, 1, 1, 1, 1, 1, 1, 1, 1, 1, 1, 1,\n",
            "         1, 1, 1, 1, 1, 1, 1, 1, 1, 1, 1, 1, 1, 1, 1, 1, 1, 1, 1, 1, 1, 1, 1, 1,\n",
            "         1, 1, 1, 1, 1, 1, 1, 1]]), 'targets': tensor([1, 0])}\n"
          ]
        }
      ]
    },
    {
      "cell_type": "code",
      "source": [
        "# We'll move the example BATCH of our training data to the GPU:\n",
        "if IF_Debug == 1:\n",
        "  one_batch_input_ids = one_batch_data['input_ids'].to(device)\n",
        "  one_batch_attention_mask = one_batch_data['attention_mask'].to(device)\n",
        "\n",
        "  print(one_batch_input_ids.shape) # batch size x seq length\n",
        "  print(one_batch_attention_mask.shape) # batch size x seq length\n"
      ],
      "metadata": {
        "colab": {
          "base_uri": "https://localhost:8080/"
        },
        "id": "ZmKcsriVeo9I",
        "outputId": "f3a0a333-235b-4dbb-ed9e-ac6420b236dc"
      },
      "execution_count": 52,
      "outputs": [
        {
          "output_type": "stream",
          "name": "stdout",
          "text": [
            "torch.Size([2, 200])\n",
            "torch.Size([2, 200])\n"
          ]
        }
      ]
    },
    {
      "cell_type": "code",
      "source": [
        "# test the outputs\n",
        "if IF_Debug == 1:\n",
        "  one_batch_output = model(one_batch_input_ids, one_batch_attention_mask)\n"
      ],
      "metadata": {
        "id": "g2syTCn5eqbE"
      },
      "execution_count": 53,
      "outputs": []
    },
    {
      "cell_type": "code",
      "source": [
        "if IF_Debug == 1:\n",
        "  print(one_batch_output)\n",
        "  print('Probability output for the  classifier after softmax')\n",
        "  print(F.softmax(one_batch_output,dim=1))"
      ],
      "metadata": {
        "colab": {
          "base_uri": "https://localhost:8080/"
        },
        "id": "Mn7g7riCeswf",
        "outputId": "1064ceca-c212-409e-cbc1-e4b64acbe48e"
      },
      "execution_count": 54,
      "outputs": [
        {
          "output_type": "stream",
          "name": "stdout",
          "text": [
            "tensor([[-0.3315, -0.1899],\n",
            "        [-0.4350, -0.2344]], device='cuda:0', grad_fn=<AddmmBackward0>)\n",
            "Probability output for the  classifier after softmax\n",
            "tensor([[0.4647, 0.5353],\n",
            "        [0.4500, 0.5500]], device='cuda:0', grad_fn=<SoftmaxBackward0>)\n"
          ]
        }
      ]
    },
    {
      "cell_type": "code",
      "source": [
        "# here, we minic what huggingface does and put the softmax layer out the of the model\n",
        "\n",
        "# in the real model, the code doesn't use softmax\n",
        "# check the definition of loss: \n",
        "# https://github.com/TalSchuster/pytorch-transformers/blob/64fff2a53977ac1caac32c960d2b01f16b7eb913/pytorch_transformers/modeling_bert.py#L851\n",
        "# Softmax operation keep the order of the probabilities\n",
        "if IF_Debug == 1:\n",
        "  print( torch.max(one_batch_output, dim=1) )\n",
        "  print('So, there are two outputs, we used the second')\n",
        "  _, one_batch_output_preds = torch.max(one_batch_output, dim=1)\n",
        "  print('In the real model, prediction is this:')\n",
        "  print( one_batch_output_preds)"
      ],
      "metadata": {
        "colab": {
          "base_uri": "https://localhost:8080/"
        },
        "id": "NFx8MtrcevEC",
        "outputId": "fa762b50-ed69-4fa6-9d96-60835f45d6e0"
      },
      "execution_count": 55,
      "outputs": [
        {
          "output_type": "stream",
          "name": "stdout",
          "text": [
            "torch.return_types.max(\n",
            "values=tensor([-0.1899, -0.2344], device='cuda:0', grad_fn=<MaxBackward0>),\n",
            "indices=tensor([1, 1], device='cuda:0'))\n",
            "So, there are two outputs, we used the second\n",
            "In the real model, prediction is this:\n",
            "tensor([1, 1], device='cuda:0')\n"
          ]
        }
      ]
    },
    {
      "cell_type": "markdown",
      "source": [
        "## 3. Training"
      ],
      "metadata": {
        "id": "7eN7NVSKe9sW"
      }
    },
    {
      "cell_type": "code",
      "source": [
        "# To reproduce the training procedure from the BERT paper, \n",
        "# we'll use the AdamW optimizer provided by Hugging Face. \n",
        "# It corrects weight decay, so it's similar to the original paper. \n",
        "# We'll also use a linear scheduler with no warmup steps\n"
      ],
      "metadata": {
        "id": "UjMhSHEhe1G1"
      },
      "execution_count": 56,
      "outputs": []
    },
    {
      "cell_type": "code",
      "source": [
        "# recall\n",
        "accelerator.print(\n",
        "    '# of batchs in three sets:',\n",
        "    len(trai_data_loader),len(vali_data_loader),len(test_data_loader)\n",
        ")"
      ],
      "metadata": {
        "colab": {
          "base_uri": "https://localhost:8080/"
        },
        "id": "avLKB3J7fJiM",
        "outputId": "31500f11-7e02-478f-8256-15f663eeba7f"
      },
      "execution_count": 57,
      "outputs": [
        {
          "output_type": "stream",
          "name": "stdout",
          "text": [
            "# of batchs in three sets: 4205 901 902\n"
          ]
        }
      ]
    },
    {
      "cell_type": "code",
      "source": [
        "EPOCHS = 3\n",
        "# EPOCHS = 50"
      ],
      "metadata": {
        "id": "wM3Ys72QfLys"
      },
      "execution_count": 58,
      "outputs": []
    },
    {
      "cell_type": "code",
      "source": [
        "optimizer = AdamW(model.parameters(), lr=2e-5, correct_bias=False)"
      ],
      "metadata": {
        "colab": {
          "base_uri": "https://localhost:8080/"
        },
        "id": "lDsoPbmkfPiC",
        "outputId": "5f5a09aa-c672-4c86-8ee9-2a67af7896f4"
      },
      "execution_count": 59,
      "outputs": [
        {
          "output_type": "stream",
          "name": "stderr",
          "text": [
            "/usr/local/lib/python3.7/dist-packages/transformers/optimization.py:309: FutureWarning: This implementation of AdamW is deprecated and will be removed in a future version. Use the PyTorch implementation torch.optim.AdamW instead, or set `no_deprecation_warning=True` to disable this warning\n",
            "  FutureWarning,\n"
          ]
        }
      ]
    },
    {
      "cell_type": "code",
      "source": [
        "# move all things to the accelerator\n",
        "# ++++++++++++++++++++++++++++++++++++++++++++++++++++++++++++\n",
        "model, optimizer, trai_data_loader, vali_data_loader, test_data_loader = accelerator.prepare(model,\n",
        "                                                                           optimizer,\n",
        "                                                                           trai_data_loader,\n",
        "                                                                           vali_data_loader,\n",
        "                                                                           test_data_loader)"
      ],
      "metadata": {
        "id": "PN_EN3t1fRds"
      },
      "execution_count": 60,
      "outputs": []
    },
    {
      "cell_type": "code",
      "source": [
        "# define scheduler\n",
        "\n",
        "total_steps = len(trai_data_loader) * EPOCHS\n",
        "\n",
        "scheduler = get_linear_schedule_with_warmup(\n",
        "  optimizer,\n",
        "  num_warmup_steps=0,\n",
        "  num_training_steps=total_steps\n",
        ")"
      ],
      "metadata": {
        "id": "GQnl8dFgfUi_"
      },
      "execution_count": 61,
      "outputs": []
    },
    {
      "cell_type": "code",
      "source": [
        "\"\"\"How do we come up with all hyperparameters? The BERT authors have some recommendations for fine-tuning:\n",
        "\n",
        "Batch size: 16, 32\n",
        "\n",
        "Learning rate (Adam): 5e-5, 3e-5, 2e-5\n",
        "\n",
        "Number of epochs: 2, 3, 4\n",
        "\n",
        "We're going to ignore the number of epochs recommendation but stick with the rest. Note that increasing the batch size reduces the training time significantly, but gives you lower accuracy.\n",
        "\n",
        "\"\"\""
      ],
      "metadata": {
        "colab": {
          "base_uri": "https://localhost:8080/",
          "height": 72
        },
        "id": "E53-F4kCfYmS",
        "outputId": "bbc0525d-458c-4d46-bd42-1b36ce29d080"
      },
      "execution_count": 62,
      "outputs": [
        {
          "output_type": "execute_result",
          "data": {
            "text/plain": [
              "\"How do we come up with all hyperparameters? The BERT authors have some recommendations for fine-tuning:\\n\\nBatch size: 16, 32\\n\\nLearning rate (Adam): 5e-5, 3e-5, 2e-5\\n\\nNumber of epochs: 2, 3, 4\\n\\nWe're going to ignore the number of epochs recommendation but stick with the rest. Note that increasing the batch size reduces the training time significantly, but gives you lower accuracy.\\n\\n\""
            ],
            "application/vnd.google.colaboratory.intrinsic+json": {
              "type": "string"
            }
          },
          "metadata": {},
          "execution_count": 62
        }
      ]
    },
    {
      "cell_type": "code",
      "source": [
        "# define loss functions\n",
        "# --------------------------------------------------\n",
        "# for regressioner\n",
        "# use MSE as the loss\n",
        "# loss_fn = nn.MSELoss().to(device)\n",
        "# --------------------------------------------------\n",
        "# for classifer\n",
        "# use crossentropyloss\n",
        "loss_fn = nn.CrossEntropyLoss().to(device)\n",
        "\n",
        "# other functions for loss\n",
        "# not used\n",
        "def r2_loss(output, target):\n",
        "    target_mean = torch.mean(target)\n",
        "    ss_tot = torch.sum((target - target_mean) ** 2)\n",
        "    ss_res = torch.sum((target - output) ** 2)\n",
        "    r2 = 1 - ss_res / ss_tot\n",
        "    return r2\n",
        "# ++++++++++++++++++++++++++++++++++++++++++\n",
        "def APELoss(output, target):\n",
        "  return torch.sum(torch.abs((target - output) / target))"
      ],
      "metadata": {
        "id": "Q-W4lQ0cfbRt"
      },
      "execution_count": 63,
      "outputs": []
    },
    {
      "cell_type": "code",
      "source": [
        "# plot the results\n",
        "def plot_all_predictions_for_regression(outputs_test, pic_name):\n",
        "  plt.figure()\n",
        "  plt.scatter(outputs_test[\"refe\"], outputs_test[\"pred\"], c='crimson')\n",
        "  # plt.yscale('log')\n",
        "  # plt.xscale('log')\n",
        "\n",
        "  p1 = max(max(outputs_test[\"pred\"]), max(outputs_test[\"refe\"]))\n",
        "  # put a limit here as 10\n",
        "  p1 = min(p1, 10.)\n",
        "  p2 = min(min(outputs_test[\"pred\"]), min(outputs_test[\"refe\"]))\n",
        "  plt.plot([p1, p2], [p1, p2], 'b-')\n",
        "  plt.xlabel('True Values', fontsize=15)\n",
        "  plt.ylabel('Predictions', fontsize=15)\n",
        "  plt.axis('equal')\n",
        "  plt.savefig(Working_Path_inImag+pic_name)"
      ],
      "metadata": {
        "id": "76Kp8qMrfhqA"
      },
      "execution_count": 64,
      "outputs": []
    },
    {
      "cell_type": "code",
      "source": [
        "# TBA: create another one for classification\n",
        "def show_confusion_matrix(y_test, y_pred, class_names, pic_name):\n",
        "  cm = confusion_matrix(y_test, y_pred)\n",
        "  df_cm = pd.DataFrame(cm, index=class_names, columns=class_names)\n",
        "  # show_confusion_matrix(df_cm)\n",
        "\n",
        "  plt.figure()\n",
        "  hmap = sns.heatmap(df_cm, annot=True, fmt=\"d\", cmap=\"Blues\")\n",
        "  hmap.yaxis.set_ticklabels(hmap.yaxis.get_ticklabels(), rotation=0, ha='right')\n",
        "  hmap.xaxis.set_ticklabels(hmap.xaxis.get_ticklabels(), rotation=30, ha='right')\n",
        "  plt.ylabel('True sentiment')\n",
        "  plt.xlabel('Predicted sentiment');\n",
        "  plt.savefig(Working_Path_inImag+pic_name)\n",
        "  plt.close()\n"
      ],
      "metadata": {
        "id": "KM3p2vb2fmfE"
      },
      "execution_count": 65,
      "outputs": []
    },
    {
      "cell_type": "code",
      "source": [
        "# define training function\n",
        "# writing a helping function for training\n",
        "# return accuracy (1-MAPE) and MSE loss\n",
        "def train_epoch(\n",
        "  model, \n",
        "  data_loader, \n",
        "  loss_fn, \n",
        "  optimizer, \n",
        "  device, \n",
        "  scheduler, \n",
        "  n_examples,\n",
        "  epoch\n",
        "):\n",
        "  model = model.train()\n",
        "\n",
        "  # ------------------------------------\n",
        "  losses = []\n",
        "  correct_predictions = 0\n",
        "  # ++++++++++++++++++++++++++++++++++++\n",
        "  # square_loss_tot = 0.\n",
        "  # calculate percentage error\n",
        "  # APE_tot = 0.\n",
        "  i_batch = 0\n",
        "\n",
        "  \n",
        "  for d in data_loader:\n",
        "    # for debug only:\n",
        "    i_batch += 1\n",
        "    # print(\"New batch:\", i_batch)\n",
        "    input_ids = d[\"input_ids\"].to(device)\n",
        "    attention_mask = d[\"attention_mask\"].to(device)\n",
        "    # -----------------------------------------\n",
        "    targets = d[\"targets\"].to(device)\n",
        "    # +++++++++++++++++++++++++++++++++++++++++\n",
        "    # targets = d[\"protein_freq1\"].to(device)\n",
        "\n",
        "    outputs = model(\n",
        "      input_ids=input_ids,\n",
        "      attention_mask=attention_mask\n",
        "    )\n",
        "\n",
        "    # ----------------------------------------\n",
        "    # this is for classification\n",
        "    # outputs: raw outputs\n",
        "    # preds: label predictions\n",
        "    _, preds = torch.max(outputs, dim=1)\n",
        "    # # normalized probabilities if needed\n",
        "    # probs = F.softmax(outputs, dim=1)\n",
        "    # ++++++++++++++++++++++++++++++++++++++++\n",
        "    # targets = torch.reshape(targets, outputs.shape)\n",
        "    # targets = torch.reshape(targets,(BATCH_SIZE,N_FREQS))\n",
        "    \n",
        "    loss = loss_fn(outputs, targets)\n",
        "    # square_loss_one_batch = loss_fn(outputs, targets)\n",
        "    # square_loss_tot += square_loss_one_batch\n",
        "    # APE_one_batch = APELoss(outputs, targets)\n",
        "    # APE_tot += APE_one_batch\n",
        "\n",
        "    # here, we store the raw outputs\n",
        "    metric_trai.add_batch(\n",
        "          predictions=accelerator.gather(preds),\n",
        "          references=accelerator.gather(targets),\n",
        "      )\n",
        "\n",
        "    # ----------------------------------------\n",
        "    # correct_predictions += torch.sum(preds == targets)\n",
        "    # losses.append(loss.item())\n",
        "\n",
        "    # ----------------------------------------\n",
        "    # square_loss_one_batch.backward()\n",
        "    # ++++++++++++++++++++++++++++++++++++++++\n",
        "    # accelerator.backward(square_loss_one_batch)\n",
        "    accelerator.backward(loss)\n",
        "\n",
        "    # ----------------------------------------\n",
        "    # nn.utils.clip_grad_norm_(model.parameters(), max_norm=1.0)\n",
        "    # ++++++++++++++++++++++++++++++++++++++++\n",
        "    # print(accelerator.stat.use_fp16)\n",
        "    accelerator.clip_grad_norm_(model.parameters(), max_norm=1.0)\n",
        "\n",
        "    optimizer.step()\n",
        "    scheduler.step()\n",
        "    optimizer.zero_grad()\n",
        "\n",
        "  # when this is called, the metric is reset.\n",
        "  eval_metric_trai = metric_trai.compute()\n",
        "\n",
        "  accu_trai = eval_metric_trai[\"accuracy\"]\n",
        "  # only consider label = 1\n",
        "  prec_trai = eval_metric_trai[\"precision\"][1]\n",
        "  reca_trai = eval_metric_trai[\"recall\"][1]\n",
        "  fsco_trai = eval_metric_trai[\"fscore\"][1]\n",
        "\n",
        "  # plot the predictions\n",
        "  if accelerator.is_main_process:\n",
        "    pic_name='pred_hist/Trai_epoch_'+str(epoch)+'.png'\n",
        "    show_confusion_matrix(eval_metric_trai[\"refe\"], eval_metric_trai[\"lab_pred\"], ['0_1','3_1'], pic_name)\n",
        "    # plot_all_predictions(eval_metric_trai, pic_name)\n",
        "\n",
        "  return  ( \n",
        "      accu_trai, prec_trai, reca_trai, fsco_trai\n",
        "  )\n",
        "\n",
        "# Training the model should look familiar, \n",
        "# except for two things. \n",
        "# The scheduler gets called every time a batch is fed to the model. \n",
        "# We're avoiding exploding gradients \n",
        "# by clipping the gradients of the model using clip_gradnorm."
      ],
      "metadata": {
        "id": "g5aahgg5frdV"
      },
      "execution_count": 66,
      "outputs": []
    },
    {
      "cell_type": "code",
      "source": [
        "# another one that helps us evaluate the model on a given data loade\n",
        "def eval_model(model, data_loader, loss_fn, device, n_examples, epoch):\n",
        "  model = model.eval()\n",
        "\n",
        "  # -----------------------------------------\n",
        "  # losses = []\n",
        "  # correct_predictions = 0\n",
        "  # +++++++++++++++++++++++++++++++++++++++++\n",
        "  # square_loss_tot = 0.\n",
        "  # calculate percentage error\n",
        "  # APE_tot = 0.\n",
        "\n",
        "  with torch.no_grad():\n",
        "    for d in data_loader:\n",
        "      input_ids = d[\"input_ids\"].to(device)\n",
        "      attention_mask = d[\"attention_mask\"].to(device)\n",
        "      # -----------------------------------------\n",
        "      targets = d[\"targets\"].to(device)\n",
        "      # +++++++++++++++++++++++++++++++++++++++++\n",
        "      # targets = d[\"protein_freq1\"].to(device)\n",
        "\n",
        "      outputs = model(\n",
        "        input_ids=input_ids,\n",
        "        attention_mask=attention_mask\n",
        "      )\n",
        "      # -----------------------------------------\n",
        "      _, preds = torch.max(outputs, dim=1)\n",
        "\n",
        "      # loss = loss_fn(outputs, targets)\n",
        "\n",
        "      # correct_predictions += torch.sum(preds == targets)\n",
        "      # losses.append(loss.item())\n",
        "      # ++++++++++++++++++++++++++++++++++++++++++\n",
        "      # print(outputs)\n",
        "      # targets = torch.reshape(targets, outputs.shape)\n",
        "      # targets = torch.reshape(targets,(BATCH_SIZE,N_FREQS))\n",
        "      # print(targets)\n",
        "\n",
        "      # square_loss_one_batch = loss_fn(outputs, targets)\n",
        "      # print(square_loss_one_batch)\n",
        "      # square_loss_tot += square_loss_one_batch\n",
        "      # APE_one_batch = APELoss(outputs, targets)\n",
        "      # print(APE_one_batch)\n",
        "      # APE_tot += APE_one_batch\n",
        "\n",
        "      # +++++++++++++++++++++++++++++++++++++++++++\n",
        "      metric_vali.add_batch(\n",
        "          predictions=accelerator.gather(preds),\n",
        "          references=accelerator.gather(targets),\n",
        "      )\n",
        "\n",
        "  eval_metric_vali = metric_vali.compute()\n",
        "\n",
        "  accu = eval_metric_vali[\"accuracy\"]\n",
        "  # only for label = 1\n",
        "  prec = eval_metric_vali[\"precision\"][1]\n",
        "  reca = eval_metric_vali[\"recall\"][1]\n",
        "  fsco = eval_metric_vali[\"fscore\"][1]\n",
        "\n",
        "  # plot the predictions\n",
        "  if accelerator.is_main_process:\n",
        "    pic_name='pred_hist/Vali_epoch_'+str(epoch)+'.png'\n",
        "    show_confusion_matrix(eval_metric_vali[\"refe\"], eval_metric_vali[\"lab_pred\"], ['0_1','3_1'], pic_name)\n",
        "    # plot_all_predictions(eval_metric_vali, pic_name)\n",
        "\n",
        "  # if accelerator.is_main_process:\n",
        "  #   accelerator.print(f\"epoch {epoch} validation MSE: {mse_vali} r2: {r2_vali} MAE: {mae_vali}\")\n",
        "\n",
        "  return (\n",
        "      accu, prec, reca, fsco\n",
        "  )"
      ],
      "metadata": {
        "id": "Zp6xa7clf2UM"
      },
      "execution_count": 67,
      "outputs": []
    },
    {
      "cell_type": "code",
      "source": [
        "# +++++++++++++++++++++++++++++++++++++++++++++++++++++++++++++++++++++\n",
        "  # another one that helps us evaluate the model on a given data loade\n",
        "def test_model(model, data_loader, loss_fn, device, n_examples):\n",
        "  model = model.eval()\n",
        "\n",
        "  # -----------------------------------------\n",
        "  # losses = []\n",
        "  # correct_predictions = 0\n",
        "  # +++++++++++++++++++++++++++++++++++++++++\n",
        "  # square_loss_tot = 0.\n",
        "  # calculate percentage error\n",
        "  # APE_tot = 0.\n",
        "\n",
        "  with torch.no_grad():\n",
        "    for d in data_loader:\n",
        "      input_ids = d[\"input_ids\"].to(device)\n",
        "      attention_mask = d[\"attention_mask\"].to(device)\n",
        "      # -----------------------------------------\n",
        "      targets = d[\"targets\"].to(device)\n",
        "      # targets = torch.reshape(targets,(BATCH_SIZE,1))\n",
        "      # print(targets)\n",
        "      # +++++++++++++++++++++++++++++++++++++++++\n",
        "      # targets = d[\"protein_freq1\"].to(device)\n",
        "\n",
        "      outputs = model(\n",
        "        input_ids=input_ids,\n",
        "        attention_mask=attention_mask\n",
        "      )\n",
        "      # print(outputs)\n",
        "      probs = F.softmax(outputs, dim=1)\n",
        "      # print(probs)\n",
        "      # -----------------------------------------\n",
        "      _, preds = torch.max(outputs, dim=1)\n",
        "      # print(preds)\n",
        "\n",
        "      # loss = loss_fn(outputs, targets)\n",
        "\n",
        "      # correct_predictions += torch.sum(preds == targets)\n",
        "      # losses.append(loss.item())\n",
        "      # ++++++++++++++++++++++++++++++++++++++++++\n",
        "      # print(outputs)\n",
        "      # print(targets)\n",
        "      # targets = torch.reshape(targets, outputs.shape)\n",
        "      # targets = torch.reshape(targets,(BATCH_SIZE,N_FREQS))\n",
        "      # print(targets)\n",
        "\n",
        "      # square_loss_one_batch = loss_fn(outputs, targets)\n",
        "      # print(square_loss_one_batch)\n",
        "      # square_loss_tot += square_loss_one_batch\n",
        "      # APE_one_batch = APELoss(outputs, targets)\n",
        "      # print(APE_one_batch)\n",
        "      # APE_tot += APE_one_batch\n",
        "\n",
        "      # +++++++++++++++++++++++++++++++++++++++++++\n",
        "      metric_test.add_batch(\n",
        "          predictions=accelerator.gather(preds),\n",
        "          references=accelerator.gather(targets),\n",
        "      )\n",
        "\n",
        "  eval_metric_test = metric_test.compute()\n",
        "\n",
        "  accu = eval_metric_test[\"accuracy\"]\n",
        "  prec = eval_metric_test[\"precision\"]\n",
        "  reca = eval_metric_test[\"recall\"]\n",
        "  fsco = eval_metric_test[\"fscore\"]\n",
        "\n",
        "  # if accelerator.is_main_process:\n",
        "  #   accelerator.print(f\"Test MSE: {mse_test} r2: {r2_test} MAE: {mae_test}\")\n",
        "\n",
        "  return eval_metric_test\n",
        "  # {\n",
        "  #     \"mse\": mse_test, \"r2_scores\": r2_test, \"mae\": mae_test,\n",
        "  #     \"predictions\": eval_metric_test[\"pred\"], \n",
        "  #     \"references\": eval_metric_test[\"refe\"]\n",
        "  # }"
      ],
      "metadata": {
        "id": "MS0fjnE4f5_-"
      },
      "execution_count": 68,
      "outputs": []
    },
    {
      "cell_type": "code",
      "source": [
        "# some help functions for the training process\n",
        "\n",
        "def append_on_line(line, filename):\n",
        "    with open(filename, 'a') as redf:\n",
        "        redf.write(line)\n",
        "\n",
        "def touch_file(fname):\n",
        "    if os.path.exists(fname):\n",
        "        os.utime(fname, None)\n",
        "    else:\n",
        "        open(fname, 'a').close()"
      ],
      "metadata": {
        "id": "zxj3H2f1f9nm"
      },
      "execution_count": 69,
      "outputs": []
    },
    {
      "cell_type": "markdown",
      "source": [
        "## The training block"
      ],
      "metadata": {
        "id": "hQ1v4V-ugIKv"
      }
    },
    {
      "cell_type": "code",
      "source": [
        "# Using those two, we can write our training loop. \n",
        "# We'll also store the training history:\n",
        "\n",
        "# %%time\n",
        "if accelerator.is_main_process:\n",
        "  history = defaultdict(list)\n",
        "\n",
        "best_vali_accu = 0\n",
        "# best_vali_mse = 1000000."
      ],
      "metadata": {
        "id": "Emu8swLKgHDy"
      },
      "execution_count": 70,
      "outputs": []
    },
    {
      "cell_type": "code",
      "source": [
        "if accelerator.is_main_process:\n",
        "  # create the folder\n",
        "  folder_exists = os.path.isdir('./pred_hist/')\n",
        "  if not (folder_exists):\n",
        "    os.mkdir('pred_hist')\n",
        "  else:\n",
        "    os.system('rm ./pred_hist/*')\n",
        "\n",
        "  # prepare the training record in real time and \n",
        "  # prepare for the stopping\n",
        "  trai_hist_log = 'training_hist.csv'\n",
        "  # clean the slate\n",
        "  if os.path.isfile(trai_hist_log):\n",
        "    os.remove(trai_hist_log)\n",
        "  # create the record file\n",
        "  touch_file(trai_hist_log)\n",
        "  # write top line\n",
        "  line='Epoch,trai_accu,trai_precision,trai_recall,trai_f,vali_accu,vali_precision,vali_recall,vali_f\\n'\n",
        "  append_on_line(line, trai_hist_log)"
      ],
      "metadata": {
        "id": "ME4oClvygP_g"
      },
      "execution_count": 71,
      "outputs": []
    },
    {
      "cell_type": "code",
      "source": [
        "for epoch in range(EPOCHS):\n",
        "\n",
        "  accelerator.print(f'Epoch {epoch + 1}/{EPOCHS}')\n",
        "  accelerator.print('-' * 20)\n",
        "\n",
        "  accu_trai, prec_trai, reca_trai, fsco_trai = train_epoch(\n",
        "    model,\n",
        "    trai_data_loader,    \n",
        "    loss_fn, \n",
        "    optimizer, \n",
        "    device, \n",
        "    scheduler, \n",
        "    len(df_trai),\n",
        "    epoch\n",
        "  )\n",
        "\n",
        "  # this for per-processor printing:\n",
        "  # print(f'Train MSE loss {train_loss} (1-MAPE) accuracy {train_acc} MSE: {mse_trai}')\n",
        "  # head processor printing only:\n",
        "  accelerator.print(f\"epoch {epoch} training accu: {accu_trai} precision: {prec_trai} recall: {reca_trai} fscore: {fsco_trai}\")\n",
        "\n",
        "  accu_vali, prec_vali, reca_vali, fsco_vali = eval_model(\n",
        "    model,\n",
        "    vali_data_loader,\n",
        "    loss_fn, \n",
        "    device, \n",
        "    len(df_vali),\n",
        "    epoch\n",
        "  )\n",
        "\n",
        "  # this for per-processor printing:\n",
        "  # print(f'Val   loss {val_loss} accuracy {val_acc} MSE: {mse_vali}')\n",
        "  accelerator.print(f\"epoch {epoch} validation accu: {accu_vali} precision: {prec_vali} recall: {reca_vali} fscore: {fsco_vali}\")\n",
        "  accelerator.print()\n",
        "\n",
        "  if accelerator.is_main_process:\n",
        "    # we will do this, however the epoches may not be finished within the job time\n",
        "    history['epoch'].append(epoch)\n",
        "    history['train_accu'].append(accu_trai)\n",
        "    history['train_prec'].append(prec_trai)\n",
        "    history['train_reca'].append(reca_trai)\n",
        "    history['train_fsco'].append(fsco_trai)\n",
        "    history['vali_accu'].append(accu_vali)\n",
        "    history['vali_prec'].append(prec_vali)\n",
        "    history['vali_reca'].append(reca_vali)\n",
        "    history['vali_fsco'].append(fsco_vali)\n",
        "    # in-time writing\n",
        "    line1=str(epoch)+','+str(accu_trai)+','+str(prec_trai)+','+str(reca_trai)+','+str(fsco_trai)+','+str(accu_vali)+','+str(prec_vali)+','+str(reca_vali)+','+str(fsco_vali)+'\\n'\n",
        "    append_on_line(line1, trai_hist_log)\n",
        "\n",
        "  # if val_acc > best_accuracy:\n",
        "  #   torch.save(model.state_dict(), 'best_model_state.bin')\n",
        "  #   best_accuracy = val_acc\n",
        "\n",
        "\t# plot training history\n",
        "  if accelerator.is_main_process:\n",
        "    plt.figure()\n",
        "    plt.plot(history['train_accu'], label='train accuracy')\n",
        "    plt.plot(history['vali_accu'], label='validation accuracy')\n",
        "    plt.title('Training history')\n",
        "    plt.ylabel('Accuracy')\n",
        "    plt.xlabel('Epoch')\n",
        "    plt.legend()\n",
        "    plt.ylim([0, 1]);\n",
        "    plt.savefig(Working_Path_inImag+'accu_hirstory.png')\n",
        "    plt.close()\n",
        "\n",
        "  accelerator.wait_for_everyone()\n",
        "  \n",
        "  if accu_vali > best_vali_accu:\n",
        "    # -----------------------------------------------------\n",
        "    # torch.save(model.state_dict(), 'best_model_state.bin')\n",
        "    # +++++++++++++++++++++++++++++++++++++++++++++++++++++\n",
        "    unwrapped_model = accelerator.unwrap_model(model)\n",
        "    accelerator.save(unwrapped_model.state_dict(), './best_model_state.bin')\n",
        "    # accelerator.save(\n",
        "        # {\n",
        "            # \"model\": unwrapped_model.state_dict(),\n",
        "            # \"optimizer\": optimizer.optimizer.state_dict() # optimizer is an AcceleratedOptimizer object         \n",
        "        # }, './best_model_state.bin'\n",
        "    # )\n",
        "    accelerator.print(f\"save model now!\")\n",
        "\n",
        "    best_vali_accu = accu_vali"
      ],
      "metadata": {
        "colab": {
          "base_uri": "https://localhost:8080/",
          "height": 433
        },
        "id": "v3GmTFnngWxf",
        "outputId": "b71ba9f4-44a5-453e-8f64-78b894957ca8"
      },
      "execution_count": 72,
      "outputs": [
        {
          "output_type": "stream",
          "name": "stdout",
          "text": [
            "Epoch 1/3\n",
            "--------------------\n"
          ]
        },
        {
          "output_type": "error",
          "ename": "KeyboardInterrupt",
          "evalue": "ignored",
          "traceback": [
            "\u001b[0;31m---------------------------------------------------------------------------\u001b[0m",
            "\u001b[0;31mKeyboardInterrupt\u001b[0m                         Traceback (most recent call last)",
            "\u001b[0;32m<ipython-input-72-ec6172a1ed1d>\u001b[0m in \u001b[0;36m<module>\u001b[0;34m()\u001b[0m\n\u001b[1;32m     12\u001b[0m     \u001b[0mscheduler\u001b[0m\u001b[0;34m,\u001b[0m\u001b[0;34m\u001b[0m\u001b[0;34m\u001b[0m\u001b[0m\n\u001b[1;32m     13\u001b[0m     \u001b[0mlen\u001b[0m\u001b[0;34m(\u001b[0m\u001b[0mdf_trai\u001b[0m\u001b[0;34m)\u001b[0m\u001b[0;34m,\u001b[0m\u001b[0;34m\u001b[0m\u001b[0;34m\u001b[0m\u001b[0m\n\u001b[0;32m---> 14\u001b[0;31m     \u001b[0mepoch\u001b[0m\u001b[0;34m\u001b[0m\u001b[0;34m\u001b[0m\u001b[0m\n\u001b[0m\u001b[1;32m     15\u001b[0m   )\n\u001b[1;32m     16\u001b[0m \u001b[0;34m\u001b[0m\u001b[0m\n",
            "\u001b[0;32m<ipython-input-66-f1ee9ce42b26>\u001b[0m in \u001b[0;36mtrain_epoch\u001b[0;34m(model, data_loader, loss_fn, optimizer, device, scheduler, n_examples, epoch)\u001b[0m\n\u001b[1;32m     60\u001b[0m     metric_trai.add_batch(\n\u001b[1;32m     61\u001b[0m           \u001b[0mpredictions\u001b[0m\u001b[0;34m=\u001b[0m\u001b[0maccelerator\u001b[0m\u001b[0;34m.\u001b[0m\u001b[0mgather\u001b[0m\u001b[0;34m(\u001b[0m\u001b[0mpreds\u001b[0m\u001b[0;34m)\u001b[0m\u001b[0;34m,\u001b[0m\u001b[0;34m\u001b[0m\u001b[0;34m\u001b[0m\u001b[0m\n\u001b[0;32m---> 62\u001b[0;31m           \u001b[0mreferences\u001b[0m\u001b[0;34m=\u001b[0m\u001b[0maccelerator\u001b[0m\u001b[0;34m.\u001b[0m\u001b[0mgather\u001b[0m\u001b[0;34m(\u001b[0m\u001b[0mtargets\u001b[0m\u001b[0;34m)\u001b[0m\u001b[0;34m,\u001b[0m\u001b[0;34m\u001b[0m\u001b[0;34m\u001b[0m\u001b[0m\n\u001b[0m\u001b[1;32m     63\u001b[0m       )\n\u001b[1;32m     64\u001b[0m \u001b[0;34m\u001b[0m\u001b[0m\n",
            "\u001b[0;32m/usr/local/lib/python3.7/dist-packages/datasets/metric.py\u001b[0m in \u001b[0;36madd_batch\u001b[0;34m(self, predictions, references, **kwargs)\u001b[0m\n\u001b[1;32m    461\u001b[0m         \u001b[0mbatch\u001b[0m \u001b[0;34m=\u001b[0m \u001b[0;34m{\u001b[0m\u001b[0;34m\"predictions\"\u001b[0m\u001b[0;34m:\u001b[0m \u001b[0mpredictions\u001b[0m\u001b[0;34m,\u001b[0m \u001b[0;34m\"references\"\u001b[0m\u001b[0;34m:\u001b[0m \u001b[0mreferences\u001b[0m\u001b[0;34m,\u001b[0m \u001b[0;34m**\u001b[0m\u001b[0mkwargs\u001b[0m\u001b[0;34m}\u001b[0m\u001b[0;34m\u001b[0m\u001b[0;34m\u001b[0m\u001b[0m\n\u001b[1;32m    462\u001b[0m         \u001b[0mbatch\u001b[0m \u001b[0;34m=\u001b[0m \u001b[0;34m{\u001b[0m\u001b[0mintput_name\u001b[0m\u001b[0;34m:\u001b[0m \u001b[0mbatch\u001b[0m\u001b[0;34m[\u001b[0m\u001b[0mintput_name\u001b[0m\u001b[0;34m]\u001b[0m \u001b[0;32mfor\u001b[0m \u001b[0mintput_name\u001b[0m \u001b[0;32min\u001b[0m \u001b[0mself\u001b[0m\u001b[0;34m.\u001b[0m\u001b[0mfeatures\u001b[0m\u001b[0;34m}\u001b[0m\u001b[0;34m\u001b[0m\u001b[0;34m\u001b[0m\u001b[0m\n\u001b[0;32m--> 463\u001b[0;31m         \u001b[0mbatch\u001b[0m \u001b[0;34m=\u001b[0m \u001b[0mself\u001b[0m\u001b[0;34m.\u001b[0m\u001b[0minfo\u001b[0m\u001b[0;34m.\u001b[0m\u001b[0mfeatures\u001b[0m\u001b[0;34m.\u001b[0m\u001b[0mencode_batch\u001b[0m\u001b[0;34m(\u001b[0m\u001b[0mbatch\u001b[0m\u001b[0;34m)\u001b[0m\u001b[0;34m\u001b[0m\u001b[0;34m\u001b[0m\u001b[0m\n\u001b[0m\u001b[1;32m    464\u001b[0m         \u001b[0;32mif\u001b[0m \u001b[0mself\u001b[0m\u001b[0;34m.\u001b[0m\u001b[0mwriter\u001b[0m \u001b[0;32mis\u001b[0m \u001b[0;32mNone\u001b[0m\u001b[0;34m:\u001b[0m\u001b[0;34m\u001b[0m\u001b[0;34m\u001b[0m\u001b[0m\n\u001b[1;32m    465\u001b[0m             \u001b[0mself\u001b[0m\u001b[0;34m.\u001b[0m\u001b[0m_init_writer\u001b[0m\u001b[0;34m(\u001b[0m\u001b[0;34m)\u001b[0m\u001b[0;34m\u001b[0m\u001b[0;34m\u001b[0m\u001b[0m\n",
            "\u001b[0;32m/usr/local/lib/python3.7/dist-packages/datasets/features/features.py\u001b[0m in \u001b[0;36mencode_batch\u001b[0;34m(self, batch)\u001b[0m\n\u001b[1;32m   1310\u001b[0m             \u001b[0;32mraise\u001b[0m \u001b[0mValueError\u001b[0m\u001b[0;34m(\u001b[0m\u001b[0;34mf\"Column mismatch between batch {set(batch)} and features {set(self)}\"\u001b[0m\u001b[0;34m)\u001b[0m\u001b[0;34m\u001b[0m\u001b[0;34m\u001b[0m\u001b[0m\n\u001b[1;32m   1311\u001b[0m         \u001b[0;32mfor\u001b[0m \u001b[0mkey\u001b[0m\u001b[0;34m,\u001b[0m \u001b[0mcolumn\u001b[0m \u001b[0;32min\u001b[0m \u001b[0mbatch\u001b[0m\u001b[0;34m.\u001b[0m\u001b[0mitems\u001b[0m\u001b[0;34m(\u001b[0m\u001b[0;34m)\u001b[0m\u001b[0;34m:\u001b[0m\u001b[0;34m\u001b[0m\u001b[0;34m\u001b[0m\u001b[0m\n\u001b[0;32m-> 1312\u001b[0;31m             \u001b[0mcolumn\u001b[0m \u001b[0;34m=\u001b[0m \u001b[0mcast_to_python_objects\u001b[0m\u001b[0;34m(\u001b[0m\u001b[0mcolumn\u001b[0m\u001b[0;34m)\u001b[0m\u001b[0;34m\u001b[0m\u001b[0;34m\u001b[0m\u001b[0m\n\u001b[0m\u001b[1;32m   1313\u001b[0m             \u001b[0mencoded_batch\u001b[0m\u001b[0;34m[\u001b[0m\u001b[0mkey\u001b[0m\u001b[0;34m]\u001b[0m \u001b[0;34m=\u001b[0m \u001b[0;34m[\u001b[0m\u001b[0mencode_nested_example\u001b[0m\u001b[0;34m(\u001b[0m\u001b[0mself\u001b[0m\u001b[0;34m[\u001b[0m\u001b[0mkey\u001b[0m\u001b[0;34m]\u001b[0m\u001b[0;34m,\u001b[0m \u001b[0mobj\u001b[0m\u001b[0;34m)\u001b[0m \u001b[0;32mfor\u001b[0m \u001b[0mobj\u001b[0m \u001b[0;32min\u001b[0m \u001b[0mcolumn\u001b[0m\u001b[0;34m]\u001b[0m\u001b[0;34m\u001b[0m\u001b[0;34m\u001b[0m\u001b[0m\n\u001b[1;32m   1314\u001b[0m         \u001b[0;32mreturn\u001b[0m \u001b[0mencoded_batch\u001b[0m\u001b[0;34m\u001b[0m\u001b[0;34m\u001b[0m\u001b[0m\n",
            "\u001b[0;32m/usr/local/lib/python3.7/dist-packages/datasets/features/features.py\u001b[0m in \u001b[0;36mcast_to_python_objects\u001b[0;34m(obj, only_1d_for_numpy)\u001b[0m\n\u001b[1;32m    362\u001b[0m         \u001b[0mcasted_obj\u001b[0m\u001b[0;34m:\u001b[0m \u001b[0mthe\u001b[0m \u001b[0mcasted\u001b[0m \u001b[0mobject\u001b[0m\u001b[0;34m\u001b[0m\u001b[0;34m\u001b[0m\u001b[0m\n\u001b[1;32m    363\u001b[0m     \"\"\"\n\u001b[0;32m--> 364\u001b[0;31m     \u001b[0;32mreturn\u001b[0m \u001b[0m_cast_to_python_objects\u001b[0m\u001b[0;34m(\u001b[0m\u001b[0mobj\u001b[0m\u001b[0;34m,\u001b[0m \u001b[0monly_1d_for_numpy\u001b[0m\u001b[0;34m=\u001b[0m\u001b[0monly_1d_for_numpy\u001b[0m\u001b[0;34m)\u001b[0m\u001b[0;34m[\u001b[0m\u001b[0;36m0\u001b[0m\u001b[0;34m]\u001b[0m\u001b[0;34m\u001b[0m\u001b[0;34m\u001b[0m\u001b[0m\n\u001b[0m\u001b[1;32m    365\u001b[0m \u001b[0;34m\u001b[0m\u001b[0m\n\u001b[1;32m    366\u001b[0m \u001b[0;34m\u001b[0m\u001b[0m\n",
            "\u001b[0;32m/usr/local/lib/python3.7/dist-packages/datasets/features/features.py\u001b[0m in \u001b[0;36m_cast_to_python_objects\u001b[0;34m(obj, only_1d_for_numpy)\u001b[0m\n\u001b[1;32m    297\u001b[0m     \u001b[0;32melif\u001b[0m \u001b[0mconfig\u001b[0m\u001b[0;34m.\u001b[0m\u001b[0mTORCH_AVAILABLE\u001b[0m \u001b[0;32mand\u001b[0m \u001b[0;34m\"torch\"\u001b[0m \u001b[0;32min\u001b[0m \u001b[0msys\u001b[0m\u001b[0;34m.\u001b[0m\u001b[0mmodules\u001b[0m \u001b[0;32mand\u001b[0m \u001b[0misinstance\u001b[0m\u001b[0;34m(\u001b[0m\u001b[0mobj\u001b[0m\u001b[0;34m,\u001b[0m \u001b[0mtorch\u001b[0m\u001b[0;34m.\u001b[0m\u001b[0mTensor\u001b[0m\u001b[0;34m)\u001b[0m\u001b[0;34m:\u001b[0m\u001b[0;34m\u001b[0m\u001b[0;34m\u001b[0m\u001b[0m\n\u001b[1;32m    298\u001b[0m         \u001b[0;32mif\u001b[0m \u001b[0;32mnot\u001b[0m \u001b[0monly_1d_for_numpy\u001b[0m \u001b[0;32mor\u001b[0m \u001b[0mobj\u001b[0m\u001b[0;34m.\u001b[0m\u001b[0mndim\u001b[0m \u001b[0;34m==\u001b[0m \u001b[0;36m1\u001b[0m\u001b[0;34m:\u001b[0m\u001b[0;34m\u001b[0m\u001b[0;34m\u001b[0m\u001b[0m\n\u001b[0;32m--> 299\u001b[0;31m             \u001b[0;32mreturn\u001b[0m \u001b[0mobj\u001b[0m\u001b[0;34m.\u001b[0m\u001b[0mdetach\u001b[0m\u001b[0;34m(\u001b[0m\u001b[0;34m)\u001b[0m\u001b[0;34m.\u001b[0m\u001b[0mcpu\u001b[0m\u001b[0;34m(\u001b[0m\u001b[0;34m)\u001b[0m\u001b[0;34m.\u001b[0m\u001b[0mnumpy\u001b[0m\u001b[0;34m(\u001b[0m\u001b[0;34m)\u001b[0m\u001b[0;34m,\u001b[0m \u001b[0;32mTrue\u001b[0m\u001b[0;34m\u001b[0m\u001b[0;34m\u001b[0m\u001b[0m\n\u001b[0m\u001b[1;32m    300\u001b[0m         \u001b[0;32melse\u001b[0m\u001b[0;34m:\u001b[0m\u001b[0;34m\u001b[0m\u001b[0;34m\u001b[0m\u001b[0m\n\u001b[1;32m    301\u001b[0m             return [\n",
            "\u001b[0;31mKeyboardInterrupt\u001b[0m: "
          ]
        }
      ]
    },
    {
      "cell_type": "code",
      "source": [
        "if accelerator.is_main_process:\n",
        "  file_training_hist = Working_Path_inImag+\"training_hist.pickle\"\n",
        "  with open(file_training_hist, 'wb') as handle:\n",
        "      pickle.dump(history, handle, protocol=pickle.HIGHEST_PROTOCOL)\n"
      ],
      "metadata": {
        "id": "WusCN2BEgcU4"
      },
      "execution_count": null,
      "outputs": []
    },
    {
      "cell_type": "code",
      "source": [
        "# plot training history\n",
        "if accelerator.is_main_process:\n",
        "  plt.figure()\n",
        "  plt.plot(history['train_accu'], label='train accuracy')\n",
        "  plt.plot(history['vali_accu'], label='validation accuracy')\n",
        "\n",
        "  plt.title('Training history')\n",
        "  plt.ylabel('Accuracy')\n",
        "  plt.xlabel('Epoch')\n",
        "  plt.legend()\n",
        "  plt.ylim([0, 1]);\n",
        "  plt.savefig(Working_Path_inImag+'accu_hirstory_final.png')\n",
        "  plt.close()"
      ],
      "metadata": {
        "id": "4VzkhGsKhIE2"
      },
      "execution_count": null,
      "outputs": []
    },
    {
      "cell_type": "markdown",
      "source": [
        "## Evaluation"
      ],
      "metadata": {
        "id": "YROtLgQ0hJpG"
      }
    },
    {
      "cell_type": "code",
      "source": [
        "print(len(df_test))\n",
        "\n",
        "outputs_test = test_model(\n",
        "  model,\n",
        "  test_data_loader,\n",
        "  loss_fn,\n",
        "  device,\n",
        "  len(df_test)\n",
        ")\n"
      ],
      "metadata": {
        "id": "FYRntPr5hTlM"
      },
      "execution_count": null,
      "outputs": []
    },
    {
      "cell_type": "code",
      "source": [
        "accelerator.print(\n",
        "    outputs_test[\"accuracy\"], \n",
        "    outputs_test[\"precision\"],\n",
        "    outputs_test[\"recall\"],\n",
        "    outputs_test[\"fscore\"] \n",
        ")"
      ],
      "metadata": {
        "id": "wPPP9-jghUq0"
      },
      "execution_count": null,
      "outputs": []
    },
    {
      "cell_type": "code",
      "source": [
        "pic_name='prediction_on_test_set.png'\n",
        "show_confusion_matrix(outputs_test[\"refe\"], outputs_test[\"lab_pred\"], ['FGF','FGFR'], pic_name)"
      ],
      "metadata": {
        "id": "je0LdyEYhY-o"
      },
      "execution_count": null,
      "outputs": []
    },
    {
      "cell_type": "code",
      "source": [
        ""
      ],
      "metadata": {
        "id": "16VEHq7Khj-e"
      },
      "execution_count": null,
      "outputs": []
    }
  ]
}