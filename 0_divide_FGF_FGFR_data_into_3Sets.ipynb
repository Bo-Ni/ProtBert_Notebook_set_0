{
  "nbformat": 4,
  "nbformat_minor": 0,
  "metadata": {
    "colab": {
      "name": "0_divide_FGF_FGFR_data_into_3Sets.ipynb",
      "provenance": [],
      "mount_file_id": "1cVuge-FKNHMrz8uF_0YwB8rV2aCgoVpA",
      "authorship_tag": "ABX9TyOwldbEQ8UWhWSuuhfNFR0o",
      "include_colab_link": true
    },
    "kernelspec": {
      "name": "python3",
      "display_name": "Python 3"
    },
    "language_info": {
      "name": "python"
    }
  },
  "cells": [
    {
      "cell_type": "markdown",
      "metadata": {
        "id": "view-in-github",
        "colab_type": "text"
      },
      "source": [
        "<a href=\"https://colab.research.google.com/github/Bo-Ni/ProtBert_Notebook_set_0/blob/main/0_divide_FGF_FGFR_data_into_3Sets.ipynb\" target=\"_parent\"><img src=\"https://colab.research.google.com/assets/colab-badge.svg\" alt=\"Open In Colab\"/></a>"
      ]
    },
    {
      "cell_type": "markdown",
      "source": [
        "# Prepare the datasets for the growth factors and growth factor recipators\n",
        "### Datesource: Sabrina Shen\n",
        "### Code preparation: Bo Ni\n",
        "Apr12, 2022"
      ],
      "metadata": {
        "id": "9QPNuNpODtxp"
      }
    },
    {
      "cell_type": "code",
      "execution_count": null,
      "metadata": {
        "id": "fbO6XETzDsyO"
      },
      "outputs": [],
      "source": [
        "# =================================================================\n",
        "# 0. prepare the packages\n",
        "# =================================================================\n",
        "import os\n",
        "# #if running colab or if you want to use GPU on a local machine, comment out this line\n",
        "# os.environ[\"CUDA_VISIBLE_DEVICES\"] = \"-1\"\n",
        "\n",
        "import numpy as np\n",
        "import pandas as pd\n",
        "\n",
        "import math\n",
        "\n",
        "import seaborn as sns\n",
        "import matplotlib.pyplot as plt\n",
        "\n",
        "import tensorflow as tf\n",
        "\n",
        "#\n",
        "# import matplotlib \n",
        "# matplotlib.use('Agg')\n",
        "#\n",
        "import matplotlib.pyplot as plt\n",
        "from matplotlib import rc"
      ]
    },
    {
      "cell_type": "code",
      "source": [
        "IF_Google = 1\n",
        "IF_Debug = 1"
      ],
      "metadata": {
        "id": "SbpoUWIDHh80"
      },
      "execution_count": null,
      "outputs": []
    },
    {
      "cell_type": "code",
      "source": [
        "# =================================================================\n",
        "# 1. check the GPU set-up\n",
        "# =================================================================\n",
        "# Not work for .py file\n",
        "\n",
        "if IF_Google == 1:\n",
        "  print(os.popen('nvidia-smi').read())"
      ],
      "metadata": {
        "colab": {
          "base_uri": "https://localhost:8080/"
        },
        "id": "dYkDHRNYHHLi",
        "outputId": "71a9e4aa-af31-429f-ad66-4981e191121d"
      },
      "execution_count": null,
      "outputs": [
        {
          "output_type": "stream",
          "name": "stdout",
          "text": [
            "NVIDIA-SMI has failed because it couldn't communicate with the NVIDIA driver. Make sure that the latest NVIDIA driver is installed and running.\n",
            "\n",
            "\n"
          ]
        }
      ]
    },
    {
      "cell_type": "markdown",
      "source": [
        "## 1. Load in the raw dataset"
      ],
      "metadata": {
        "id": "QBRSqQKXHS3f"
      }
    },
    {
      "cell_type": "code",
      "source": [
        "# \n",
        "xlsx_fgf_reviewed = 'uniprot_fgf_reviewed.xlsx'\n",
        "xlsx_fgfr_reviewed = 'uniprot_fgfr_reviewed.xlsx'\n",
        "xlsx_fgf_unreviewed = 'uniprot_fgf_unreviewed.xlsx'\n",
        "xlsx_fgfr_unreviewed = 'uniprot_fgfr_unreviewed.xlsx'"
      ],
      "metadata": {
        "id": "btVNMCRnIqz5"
      },
      "execution_count": null,
      "outputs": []
    },
    {
      "cell_type": "code",
      "source": [
        "if IF_Google == 1:\n",
        "  file_exist_1 = os.path.exists(xlsx_fgf_reviewed)\n",
        "  file_exist_2 = os.path.exists(xlsx_fgfr_reviewed)\n",
        "  file_exist_3 = os.path.exists(xlsx_fgf_unreviewed)\n",
        "  file_exist_4 = os.path.exists(xlsx_fgfr_unreviewed)\n",
        "\n",
        "  if not (file_exist_1 or file_exist_2):\n",
        "    # download files\n",
        "    print(os.popen('wget https://www.dropbox.com/s/yk2bckcdchzvd9u/uniprot_fgf_reviewed.xlsx').read())\n",
        "    print(os.popen('wget https://www.dropbox.com/s/jvmcukfl571mxk6/uniprot_fgfr_reviewed.xlsx').read())\n",
        "    \n",
        "    print(os.popen('wget https://www.dropbox.com/s/4rqairjn72t07ao/uniprot_fgf_unreviewed.xlsx').read())\n",
        "    print(os.popen('wget https://www.dropbox.com/s/8utuj3dcxrmmrc6/uniprot_fgfr_unreviewed.xlsx').read())\n",
        "    # # move the file\n",
        "    # print(os.popen('mkdir homemade_metric_classification_accuracy').read())\n",
        "    # print(os.popen('mv homemade_metric_classification_accuracy.py ./homemade_metric_classification_accuracy').read())\n"
      ],
      "metadata": {
        "id": "wTTyiHEGHO_h"
      },
      "execution_count": null,
      "outputs": []
    },
    {
      "cell_type": "code",
      "source": [
        "df_raw_fgf_Revi  = pd.read_excel(xlsx_fgf_reviewed)\n",
        "df_raw_fgfr_Revi = pd.read_excel(xlsx_fgfr_reviewed)\n",
        "\n",
        "df_raw_fgf_UnRe  = pd.read_excel(xlsx_fgf_unreviewed)\n",
        "df_raw_fgfr_UnRe = pd.read_excel(xlsx_fgfr_unreviewed)"
      ],
      "metadata": {
        "id": "o0PhZhb2gpkW"
      },
      "execution_count": null,
      "outputs": []
    },
    {
      "cell_type": "code",
      "source": [
        "df_raw_fgf_Revi.head(5)"
      ],
      "metadata": {
        "colab": {
          "base_uri": "https://localhost:8080/",
          "height": 336
        },
        "id": "0MJbCjtJg7q8",
        "outputId": "d9025950-f13d-4da5-ed59-c900eb2b1737"
      },
      "execution_count": null,
      "outputs": [
        {
          "output_type": "execute_result",
          "data": {
            "text/plain": [
              "    Entry   Entry name    Status  \\\n",
              "0  O88182    FGF18_RAT  reviewed   \n",
              "1  P36363   FGF7_MOUSE  reviewed   \n",
              "2  Q02195     FGF7_RAT  reviewed   \n",
              "3  P61329  FGF12_MOUSE  reviewed   \n",
              "4  Q92914  FGF11_HUMAN  reviewed   \n",
              "\n",
              "                                       Protein names                 Organism  \\\n",
              "0               Fibroblast growth factor 18 (FGF-18)  Rattus norvegicus (Rat)   \n",
              "1  Fibroblast growth factor 7 (FGF-7) (Heparin-bi...     Mus musculus (Mouse)   \n",
              "2  Fibroblast growth factor 7 (FGF-7) (Heparin-bi...  Rattus norvegicus (Rat)   \n",
              "3  Fibroblast growth factor 12 (FGF-12) (Fibrobla...     Mus musculus (Mouse)   \n",
              "4  Fibroblast growth factor 11 (FGF-11) (Fibrobla...     Homo sapiens (Human)   \n",
              "\n",
              "   Length Fragment                                           Sequence  \n",
              "0     207      NaN  MYSAPSACTCLCLHFLLLCFQVQVLAAEENVDFRIHVENQTRARDD...  \n",
              "1     194      NaN  MRKWILTRILPTLLYRSCFHLVCLVGTISLACNDMSPEQTATSVNC...  \n",
              "2     194      NaN  MRKWILTRILPTPLYRPCFHLVCLVGTISLACNDMSPEQTATSVNC...  \n",
              "3     243      NaN  MAAAIASSLIRQKRQARESNSDRVSASKRRSSPSKDGRSLCERHVL...  \n",
              "4     225      NaN  MAALASSLIRQKREVREPGGSRPVSAQRRVCPRGTKSLCQKQLLIL...  "
            ],
            "text/html": [
              "\n",
              "  <div id=\"df-952d969b-c52a-40ca-a07d-866cecdcd7ba\">\n",
              "    <div class=\"colab-df-container\">\n",
              "      <div>\n",
              "<style scoped>\n",
              "    .dataframe tbody tr th:only-of-type {\n",
              "        vertical-align: middle;\n",
              "    }\n",
              "\n",
              "    .dataframe tbody tr th {\n",
              "        vertical-align: top;\n",
              "    }\n",
              "\n",
              "    .dataframe thead th {\n",
              "        text-align: right;\n",
              "    }\n",
              "</style>\n",
              "<table border=\"1\" class=\"dataframe\">\n",
              "  <thead>\n",
              "    <tr style=\"text-align: right;\">\n",
              "      <th></th>\n",
              "      <th>Entry</th>\n",
              "      <th>Entry name</th>\n",
              "      <th>Status</th>\n",
              "      <th>Protein names</th>\n",
              "      <th>Organism</th>\n",
              "      <th>Length</th>\n",
              "      <th>Fragment</th>\n",
              "      <th>Sequence</th>\n",
              "    </tr>\n",
              "  </thead>\n",
              "  <tbody>\n",
              "    <tr>\n",
              "      <th>0</th>\n",
              "      <td>O88182</td>\n",
              "      <td>FGF18_RAT</td>\n",
              "      <td>reviewed</td>\n",
              "      <td>Fibroblast growth factor 18 (FGF-18)</td>\n",
              "      <td>Rattus norvegicus (Rat)</td>\n",
              "      <td>207</td>\n",
              "      <td>NaN</td>\n",
              "      <td>MYSAPSACTCLCLHFLLLCFQVQVLAAEENVDFRIHVENQTRARDD...</td>\n",
              "    </tr>\n",
              "    <tr>\n",
              "      <th>1</th>\n",
              "      <td>P36363</td>\n",
              "      <td>FGF7_MOUSE</td>\n",
              "      <td>reviewed</td>\n",
              "      <td>Fibroblast growth factor 7 (FGF-7) (Heparin-bi...</td>\n",
              "      <td>Mus musculus (Mouse)</td>\n",
              "      <td>194</td>\n",
              "      <td>NaN</td>\n",
              "      <td>MRKWILTRILPTLLYRSCFHLVCLVGTISLACNDMSPEQTATSVNC...</td>\n",
              "    </tr>\n",
              "    <tr>\n",
              "      <th>2</th>\n",
              "      <td>Q02195</td>\n",
              "      <td>FGF7_RAT</td>\n",
              "      <td>reviewed</td>\n",
              "      <td>Fibroblast growth factor 7 (FGF-7) (Heparin-bi...</td>\n",
              "      <td>Rattus norvegicus (Rat)</td>\n",
              "      <td>194</td>\n",
              "      <td>NaN</td>\n",
              "      <td>MRKWILTRILPTPLYRPCFHLVCLVGTISLACNDMSPEQTATSVNC...</td>\n",
              "    </tr>\n",
              "    <tr>\n",
              "      <th>3</th>\n",
              "      <td>P61329</td>\n",
              "      <td>FGF12_MOUSE</td>\n",
              "      <td>reviewed</td>\n",
              "      <td>Fibroblast growth factor 12 (FGF-12) (Fibrobla...</td>\n",
              "      <td>Mus musculus (Mouse)</td>\n",
              "      <td>243</td>\n",
              "      <td>NaN</td>\n",
              "      <td>MAAAIASSLIRQKRQARESNSDRVSASKRRSSPSKDGRSLCERHVL...</td>\n",
              "    </tr>\n",
              "    <tr>\n",
              "      <th>4</th>\n",
              "      <td>Q92914</td>\n",
              "      <td>FGF11_HUMAN</td>\n",
              "      <td>reviewed</td>\n",
              "      <td>Fibroblast growth factor 11 (FGF-11) (Fibrobla...</td>\n",
              "      <td>Homo sapiens (Human)</td>\n",
              "      <td>225</td>\n",
              "      <td>NaN</td>\n",
              "      <td>MAALASSLIRQKREVREPGGSRPVSAQRRVCPRGTKSLCQKQLLIL...</td>\n",
              "    </tr>\n",
              "  </tbody>\n",
              "</table>\n",
              "</div>\n",
              "      <button class=\"colab-df-convert\" onclick=\"convertToInteractive('df-952d969b-c52a-40ca-a07d-866cecdcd7ba')\"\n",
              "              title=\"Convert this dataframe to an interactive table.\"\n",
              "              style=\"display:none;\">\n",
              "        \n",
              "  <svg xmlns=\"http://www.w3.org/2000/svg\" height=\"24px\"viewBox=\"0 0 24 24\"\n",
              "       width=\"24px\">\n",
              "    <path d=\"M0 0h24v24H0V0z\" fill=\"none\"/>\n",
              "    <path d=\"M18.56 5.44l.94 2.06.94-2.06 2.06-.94-2.06-.94-.94-2.06-.94 2.06-2.06.94zm-11 1L8.5 8.5l.94-2.06 2.06-.94-2.06-.94L8.5 2.5l-.94 2.06-2.06.94zm10 10l.94 2.06.94-2.06 2.06-.94-2.06-.94-.94-2.06-.94 2.06-2.06.94z\"/><path d=\"M17.41 7.96l-1.37-1.37c-.4-.4-.92-.59-1.43-.59-.52 0-1.04.2-1.43.59L10.3 9.45l-7.72 7.72c-.78.78-.78 2.05 0 2.83L4 21.41c.39.39.9.59 1.41.59.51 0 1.02-.2 1.41-.59l7.78-7.78 2.81-2.81c.8-.78.8-2.07 0-2.86zM5.41 20L4 18.59l7.72-7.72 1.47 1.35L5.41 20z\"/>\n",
              "  </svg>\n",
              "      </button>\n",
              "      \n",
              "  <style>\n",
              "    .colab-df-container {\n",
              "      display:flex;\n",
              "      flex-wrap:wrap;\n",
              "      gap: 12px;\n",
              "    }\n",
              "\n",
              "    .colab-df-convert {\n",
              "      background-color: #E8F0FE;\n",
              "      border: none;\n",
              "      border-radius: 50%;\n",
              "      cursor: pointer;\n",
              "      display: none;\n",
              "      fill: #1967D2;\n",
              "      height: 32px;\n",
              "      padding: 0 0 0 0;\n",
              "      width: 32px;\n",
              "    }\n",
              "\n",
              "    .colab-df-convert:hover {\n",
              "      background-color: #E2EBFA;\n",
              "      box-shadow: 0px 1px 2px rgba(60, 64, 67, 0.3), 0px 1px 3px 1px rgba(60, 64, 67, 0.15);\n",
              "      fill: #174EA6;\n",
              "    }\n",
              "\n",
              "    [theme=dark] .colab-df-convert {\n",
              "      background-color: #3B4455;\n",
              "      fill: #D2E3FC;\n",
              "    }\n",
              "\n",
              "    [theme=dark] .colab-df-convert:hover {\n",
              "      background-color: #434B5C;\n",
              "      box-shadow: 0px 1px 3px 1px rgba(0, 0, 0, 0.15);\n",
              "      filter: drop-shadow(0px 1px 2px rgba(0, 0, 0, 0.3));\n",
              "      fill: #FFFFFF;\n",
              "    }\n",
              "  </style>\n",
              "\n",
              "      <script>\n",
              "        const buttonEl =\n",
              "          document.querySelector('#df-952d969b-c52a-40ca-a07d-866cecdcd7ba button.colab-df-convert');\n",
              "        buttonEl.style.display =\n",
              "          google.colab.kernel.accessAllowed ? 'block' : 'none';\n",
              "\n",
              "        async function convertToInteractive(key) {\n",
              "          const element = document.querySelector('#df-952d969b-c52a-40ca-a07d-866cecdcd7ba');\n",
              "          const dataTable =\n",
              "            await google.colab.kernel.invokeFunction('convertToInteractive',\n",
              "                                                     [key], {});\n",
              "          if (!dataTable) return;\n",
              "\n",
              "          const docLinkHtml = 'Like what you see? Visit the ' +\n",
              "            '<a target=\"_blank\" href=https://colab.research.google.com/notebooks/data_table.ipynb>data table notebook</a>'\n",
              "            + ' to learn more about interactive tables.';\n",
              "          element.innerHTML = '';\n",
              "          dataTable['output_type'] = 'display_data';\n",
              "          await google.colab.output.renderOutput(dataTable, element);\n",
              "          const docLink = document.createElement('div');\n",
              "          docLink.innerHTML = docLinkHtml;\n",
              "          element.appendChild(docLink);\n",
              "        }\n",
              "      </script>\n",
              "    </div>\n",
              "  </div>\n",
              "  "
            ]
          },
          "metadata": {},
          "execution_count": 7
        }
      ]
    },
    {
      "cell_type": "code",
      "source": [
        "df_raw_fgf_Revi['Fragment'].unique()\n",
        "df_raw_fgf_Revi['Fragment'].value_counts()"
      ],
      "metadata": {
        "colab": {
          "base_uri": "https://localhost:8080/"
        },
        "id": "ga-u6LTng-Rl",
        "outputId": "fdacb9b3-f584-48eb-dc9d-6564ddab01de"
      },
      "execution_count": null,
      "outputs": [
        {
          "output_type": "execute_result",
          "data": {
            "text/plain": [
              "fragment     7\n",
              "fragments    1\n",
              "Name: Fragment, dtype: int64"
            ]
          },
          "metadata": {},
          "execution_count": 8
        }
      ]
    },
    {
      "cell_type": "code",
      "source": [
        "# df_raw_fgf_Revi['Organism'].unique()\n",
        "df_raw_fgf_Revi['Organism'].value_counts()"
      ],
      "metadata": {
        "colab": {
          "base_uri": "https://localhost:8080/"
        },
        "id": "I7o0uO63tPee",
        "outputId": "02330e57-cbc9-4f3c-8638-fde22a3441da"
      },
      "execution_count": null,
      "outputs": [
        {
          "output_type": "execute_result",
          "data": {
            "text/plain": [
              "Homo sapiens (Human)                                                           21\n",
              "Mus musculus (Mouse)                                                           21\n",
              "Rattus norvegicus (Rat)                                                        13\n",
              "Xenopus laevis (African clawed frog)                                            6\n",
              "Bos taurus (Bovine)                                                             5\n",
              "Danio rerio (Zebrafish) (Brachydanio rerio)                                     5\n",
              "Gallus gallus (Chicken)                                                         5\n",
              "Canis lupus familiaris (Dog) (Canis familiaris)                                 4\n",
              "Ovis aries (Sheep)                                                              3\n",
              "Sus scrofa (Pig)                                                                3\n",
              "Pongo abelii (Sumatran orangutan) (Pongo pygmaeus abelii)                       2\n",
              "Tetraodon nigroviridis (Spotted green pufferfish) (Chelonodon nigroviridis)     1\n",
              "Notophthalmus viridescens (Eastern newt) (Triturus viridescens)                 1\n",
              "Autographa californica nuclear polyhedrosis virus (AcMNPV)                      1\n",
              "Mesocricetus auratus (Golden hamster)                                           1\n",
              "Capreolus capreolus (European roe deer)                                         1\n",
              "Pan troglodytes (Chimpanzee)                                                    1\n",
              "Cavia porcellus (Guinea pig)                                                    1\n",
              "Felis catus (Cat) (Felis silvestris catus)                                      1\n",
              "Orgyia pseudotsugata multicapsid polyhedrosis virus (OpMNPV)                    1\n",
              "Oryctolagus cuniculus (Rabbit)                                                  1\n",
              "Didelphis albiventris (White-eared opossum)                                     1\n",
              "Cervus elaphus (Red deer)                                                       1\n",
              "Monodelphis domestica (Gray short-tailed opossum)                               1\n",
              "Cynops pyrrhogaster (Japanese fire-bellied newt) (Molge pyrrhogaster)           1\n",
              "Name: Organism, dtype: int64"
            ]
          },
          "metadata": {},
          "execution_count": 9
        }
      ]
    },
    {
      "cell_type": "code",
      "source": [
        "print(len(df_raw_fgf_Revi))\n",
        "print(len(df_raw_fgfr_Revi))\n",
        "\n",
        "print(len(df_raw_fgf_UnRe))\n",
        "print(len(df_raw_fgfr_UnRe))"
      ],
      "metadata": {
        "colab": {
          "base_uri": "https://localhost:8080/"
        },
        "id": "wLDbWl6zt4P_",
        "outputId": "80ffd3af-8844-4aab-8a71-ed75128ed084"
      },
      "execution_count": null,
      "outputs": [
        {
          "output_type": "stream",
          "name": "stdout",
          "text": [
            "102\n",
            "44\n",
            "3523\n",
            "8492\n"
          ]
        }
      ]
    },
    {
      "cell_type": "code",
      "source": [
        "# distribution in sequence length\n",
        "# check the distribution of the picked ones\n",
        "plt.figure()\n",
        "sns.histplot(df_raw_fgf_Revi.Length.values, \n",
        "             bins=40, kde=True, stat='density', color=\"red\", label=\"reviewed FGF\");\n",
        "sns.histplot(df_raw_fgfr_Revi.Length.values, \n",
        "             bins=40, kde=True, stat='density', color=\"blue\", label=\"reviewed FGFR\");\n",
        "\n",
        "plt.grid()\n",
        "plt.legend() \n",
        "plt.show()"
      ],
      "metadata": {
        "colab": {
          "base_uri": "https://localhost:8080/",
          "height": 265
        },
        "id": "acTuBig5hudp",
        "outputId": "7773575a-20ec-4673-802f-67b91f8e6d24"
      },
      "execution_count": null,
      "outputs": [
        {
          "output_type": "display_data",
          "data": {
            "text/plain": [
              "<Figure size 432x288 with 1 Axes>"
            ],
            "image/png": "[encoded data removed]"
          },
          "metadata": {
            "needs_background": "light"
          }
        }
      ]
    },
    {
      "cell_type": "code",
      "source": [
        "plt.figure()\n",
        "sns.histplot(df_raw_fgf_UnRe.Length.values, \n",
        "             bins=40, kde=True, stat='density', color=\"red\", label=\"unreviewed FGF\");\n",
        "sns.histplot(df_raw_fgfr_UnRe.Length.values, \n",
        "             bins=40, kde=True, stat='density', color=\"blue\", label=\"unreviewed FGFR\");\n",
        "\n",
        "plt.grid()\n",
        "plt.legend() \n",
        "plt.show()"
      ],
      "metadata": {
        "colab": {
          "base_uri": "https://localhost:8080/",
          "height": 265
        },
        "id": "HaUQHO5Aj48F",
        "outputId": "02bc610d-2bd1-4bd6-800d-d46ac524d59c"
      },
      "execution_count": null,
      "outputs": [
        {
          "output_type": "display_data",
          "data": {
            "text/plain": [
              "<Figure size 432x288 with 1 Axes>"
            ],
            "image/png": "[encoded data removed]"
          },
          "metadata": {
            "needs_background": "light"
          }
        }
      ]
    },
    {
      "cell_type": "markdown",
      "source": [
        "## 2. add labels"
      ],
      "metadata": {
        "id": "WdqQSskkspYA"
      }
    },
    {
      "cell_type": "code",
      "source": [
        "# add a new label\n",
        "# 0: growth factor\n",
        "# 1: growth factor reciptor\n",
        "def add_in_label_FGF(seq):\n",
        "  return 0\n",
        "def add_in_label_FGFR(seq):\n",
        "  return 1\n",
        "\n",
        "def add_gene_names(seq):\n",
        "  return 'NaN'"
      ],
      "metadata": {
        "id": "nc8hM7FmkdPa"
      },
      "execution_count": null,
      "outputs": []
    },
    {
      "cell_type": "code",
      "source": [
        "df_raw_fgf_Revi['GForGFR'] = df_raw_fgf_Revi['Sequence'].apply(add_in_label_FGF)\n",
        "df_raw_fgfr_Revi['GForGFR'] = df_raw_fgfr_Revi['Sequence'].apply(add_in_label_FGFR)\n",
        "\n",
        "df_raw_fgf_UnRe['GForGFR'] = df_raw_fgf_UnRe['Sequence'].apply(add_in_label_FGF)\n",
        "df_raw_fgfr_UnRe['GForGFR'] = df_raw_fgfr_UnRe['Sequence'].apply(add_in_label_FGFR)"
      ],
      "metadata": {
        "id": "CM0cojjQuU3z"
      },
      "execution_count": null,
      "outputs": []
    },
    {
      "cell_type": "code",
      "source": [
        "df_raw_fgf_Revi['Gene names'] = df_raw_fgf_Revi['Sequence'].apply(add_gene_names)"
      ],
      "metadata": {
        "id": "U06McFIdKLdv"
      },
      "execution_count": null,
      "outputs": []
    },
    {
      "cell_type": "code",
      "source": [
        "df_raw_fgf_Revi = df_raw_fgf_Revi.reindex(columns=['Entry','Entry name', 'Gene names','Status','Protein names','Organism','Length','Fragment','Sequence','GForGFR'])"
      ],
      "metadata": {
        "id": "cnoXlmIgLGj3"
      },
      "execution_count": null,
      "outputs": []
    },
    {
      "cell_type": "code",
      "source": [
        "df_raw_fgf_Revi.head(2)"
      ],
      "metadata": {
        "colab": {
          "base_uri": "https://localhost:8080/",
          "height": 208
        },
        "id": "G0JhqiTZuynq",
        "outputId": "d1ff9173-224d-455c-c14c-3d53019e7604"
      },
      "execution_count": null,
      "outputs": [
        {
          "output_type": "execute_result",
          "data": {
            "text/plain": [
              "    Entry  Entry name Gene names    Status  \\\n",
              "0  O88182   FGF18_RAT        NaN  reviewed   \n",
              "1  P36363  FGF7_MOUSE        NaN  reviewed   \n",
              "\n",
              "                                       Protein names                 Organism  \\\n",
              "0               Fibroblast growth factor 18 (FGF-18)  Rattus norvegicus (Rat)   \n",
              "1  Fibroblast growth factor 7 (FGF-7) (Heparin-bi...     Mus musculus (Mouse)   \n",
              "\n",
              "   Length Fragment                                           Sequence  GForGFR  \n",
              "0     207      NaN  MYSAPSACTCLCLHFLLLCFQVQVLAAEENVDFRIHVENQTRARDD...        0  \n",
              "1     194      NaN  MRKWILTRILPTLLYRSCFHLVCLVGTISLACNDMSPEQTATSVNC...        0  "
            ],
            "text/html": [
              "\n",
              "  <div id=\"df-a32e228a-4f7a-482f-a4e6-f19290867af4\">\n",
              "    <div class=\"colab-df-container\">\n",
              "      <div>\n",
              "<style scoped>\n",
              "    .dataframe tbody tr th:only-of-type {\n",
              "        vertical-align: middle;\n",
              "    }\n",
              "\n",
              "    .dataframe tbody tr th {\n",
              "        vertical-align: top;\n",
              "    }\n",
              "\n",
              "    .dataframe thead th {\n",
              "        text-align: right;\n",
              "    }\n",
              "</style>\n",
              "<table border=\"1\" class=\"dataframe\">\n",
              "  <thead>\n",
              "    <tr style=\"text-align: right;\">\n",
              "      <th></th>\n",
              "      <th>Entry</th>\n",
              "      <th>Entry name</th>\n",
              "      <th>Gene names</th>\n",
              "      <th>Status</th>\n",
              "      <th>Protein names</th>\n",
              "      <th>Organism</th>\n",
              "      <th>Length</th>\n",
              "      <th>Fragment</th>\n",
              "      <th>Sequence</th>\n",
              "      <th>GForGFR</th>\n",
              "    </tr>\n",
              "  </thead>\n",
              "  <tbody>\n",
              "    <tr>\n",
              "      <th>0</th>\n",
              "      <td>O88182</td>\n",
              "      <td>FGF18_RAT</td>\n",
              "      <td>NaN</td>\n",
              "      <td>reviewed</td>\n",
              "      <td>Fibroblast growth factor 18 (FGF-18)</td>\n",
              "      <td>Rattus norvegicus (Rat)</td>\n",
              "      <td>207</td>\n",
              "      <td>NaN</td>\n",
              "      <td>MYSAPSACTCLCLHFLLLCFQVQVLAAEENVDFRIHVENQTRARDD...</td>\n",
              "      <td>0</td>\n",
              "    </tr>\n",
              "    <tr>\n",
              "      <th>1</th>\n",
              "      <td>P36363</td>\n",
              "      <td>FGF7_MOUSE</td>\n",
              "      <td>NaN</td>\n",
              "      <td>reviewed</td>\n",
              "      <td>Fibroblast growth factor 7 (FGF-7) (Heparin-bi...</td>\n",
              "      <td>Mus musculus (Mouse)</td>\n",
              "      <td>194</td>\n",
              "      <td>NaN</td>\n",
              "      <td>MRKWILTRILPTLLYRSCFHLVCLVGTISLACNDMSPEQTATSVNC...</td>\n",
              "      <td>0</td>\n",
              "    </tr>\n",
              "  </tbody>\n",
              "</table>\n",
              "</div>\n",
              "      <button class=\"colab-df-convert\" onclick=\"convertToInteractive('df-a32e228a-4f7a-482f-a4e6-f19290867af4')\"\n",
              "              title=\"Convert this dataframe to an interactive table.\"\n",
              "              style=\"display:none;\">\n",
              "        \n",
              "  <svg xmlns=\"http://www.w3.org/2000/svg\" height=\"24px\"viewBox=\"0 0 24 24\"\n",
              "       width=\"24px\">\n",
              "    <path d=\"M0 0h24v24H0V0z\" fill=\"none\"/>\n",
              "    <path d=\"M18.56 5.44l.94 2.06.94-2.06 2.06-.94-2.06-.94-.94-2.06-.94 2.06-2.06.94zm-11 1L8.5 8.5l.94-2.06 2.06-.94-2.06-.94L8.5 2.5l-.94 2.06-2.06.94zm10 10l.94 2.06.94-2.06 2.06-.94-2.06-.94-.94-2.06-.94 2.06-2.06.94z\"/><path d=\"M17.41 7.96l-1.37-1.37c-.4-.4-.92-.59-1.43-.59-.52 0-1.04.2-1.43.59L10.3 9.45l-7.72 7.72c-.78.78-.78 2.05 0 2.83L4 21.41c.39.39.9.59 1.41.59.51 0 1.02-.2 1.41-.59l7.78-7.78 2.81-2.81c.8-.78.8-2.07 0-2.86zM5.41 20L4 18.59l7.72-7.72 1.47 1.35L5.41 20z\"/>\n",
              "  </svg>\n",
              "      </button>\n",
              "      \n",
              "  <style>\n",
              "    .colab-df-container {\n",
              "      display:flex;\n",
              "      flex-wrap:wrap;\n",
              "      gap: 12px;\n",
              "    }\n",
              "\n",
              "    .colab-df-convert {\n",
              "      background-color: #E8F0FE;\n",
              "      border: none;\n",
              "      border-radius: 50%;\n",
              "      cursor: pointer;\n",
              "      display: none;\n",
              "      fill: #1967D2;\n",
              "      height: 32px;\n",
              "      padding: 0 0 0 0;\n",
              "      width: 32px;\n",
              "    }\n",
              "\n",
              "    .colab-df-convert:hover {\n",
              "      background-color: #E2EBFA;\n",
              "      box-shadow: 0px 1px 2px rgba(60, 64, 67, 0.3), 0px 1px 3px 1px rgba(60, 64, 67, 0.15);\n",
              "      fill: #174EA6;\n",
              "    }\n",
              "\n",
              "    [theme=dark] .colab-df-convert {\n",
              "      background-color: #3B4455;\n",
              "      fill: #D2E3FC;\n",
              "    }\n",
              "\n",
              "    [theme=dark] .colab-df-convert:hover {\n",
              "      background-color: #434B5C;\n",
              "      box-shadow: 0px 1px 3px 1px rgba(0, 0, 0, 0.15);\n",
              "      filter: drop-shadow(0px 1px 2px rgba(0, 0, 0, 0.3));\n",
              "      fill: #FFFFFF;\n",
              "    }\n",
              "  </style>\n",
              "\n",
              "      <script>\n",
              "        const buttonEl =\n",
              "          document.querySelector('#df-a32e228a-4f7a-482f-a4e6-f19290867af4 button.colab-df-convert');\n",
              "        buttonEl.style.display =\n",
              "          google.colab.kernel.accessAllowed ? 'block' : 'none';\n",
              "\n",
              "        async function convertToInteractive(key) {\n",
              "          const element = document.querySelector('#df-a32e228a-4f7a-482f-a4e6-f19290867af4');\n",
              "          const dataTable =\n",
              "            await google.colab.kernel.invokeFunction('convertToInteractive',\n",
              "                                                     [key], {});\n",
              "          if (!dataTable) return;\n",
              "\n",
              "          const docLinkHtml = 'Like what you see? Visit the ' +\n",
              "            '<a target=\"_blank\" href=https://colab.research.google.com/notebooks/data_table.ipynb>data table notebook</a>'\n",
              "            + ' to learn more about interactive tables.';\n",
              "          element.innerHTML = '';\n",
              "          dataTable['output_type'] = 'display_data';\n",
              "          await google.colab.output.renderOutput(dataTable, element);\n",
              "          const docLink = document.createElement('div');\n",
              "          docLink.innerHTML = docLinkHtml;\n",
              "          element.appendChild(docLink);\n",
              "        }\n",
              "      </script>\n",
              "    </div>\n",
              "  </div>\n",
              "  "
            ]
          },
          "metadata": {},
          "execution_count": 17
        }
      ]
    },
    {
      "cell_type": "code",
      "source": [
        "df_raw_fgfr_Revi.head(2)"
      ],
      "metadata": {
        "colab": {
          "base_uri": "https://localhost:8080/",
          "height": 225
        },
        "id": "vILiMqfBvM7d",
        "outputId": "109a9a42-5847-4f37-8c6b-2caa3e0b8499"
      },
      "execution_count": null,
      "outputs": [
        {
          "output_type": "execute_result",
          "data": {
            "text/plain": [
              "    Entry   Entry name                            Gene names    Status  \\\n",
              "0  P21802  FGFR2_HUMAN                   FGFR2 BEK KGFR KSAM  reviewed   \n",
              "1  P11362  FGFR1_HUMAN  FGFR1 BFGFR CEK FGFBR FLG FLT2 HBGFR  reviewed   \n",
              "\n",
              "                                       Protein names              Organism  \\\n",
              "0  Fibroblast growth factor receptor 2 (FGFR-2) (...  Homo sapiens (Human)   \n",
              "1  Fibroblast growth factor receptor 1 (FGFR-1) (...  Homo sapiens (Human)   \n",
              "\n",
              "   Length  Fragment                                           Sequence  \\\n",
              "0     821       NaN  MVSWGRFICLVVVTMATLSLARPSFSLVEDTTLEPEEPPTKYQISQ...   \n",
              "1     822       NaN  MWSWKCLLFWAVLVTATLCTARPSPTLPEQAQPWGAPVEVESFLVH...   \n",
              "\n",
              "   GForGFR  \n",
              "0        1  \n",
              "1        1  "
            ],
            "text/html": [
              "\n",
              "  <div id=\"df-fff09d3f-f75d-4aa3-a430-cb240e77c7d7\">\n",
              "    <div class=\"colab-df-container\">\n",
              "      <div>\n",
              "<style scoped>\n",
              "    .dataframe tbody tr th:only-of-type {\n",
              "        vertical-align: middle;\n",
              "    }\n",
              "\n",
              "    .dataframe tbody tr th {\n",
              "        vertical-align: top;\n",
              "    }\n",
              "\n",
              "    .dataframe thead th {\n",
              "        text-align: right;\n",
              "    }\n",
              "</style>\n",
              "<table border=\"1\" class=\"dataframe\">\n",
              "  <thead>\n",
              "    <tr style=\"text-align: right;\">\n",
              "      <th></th>\n",
              "      <th>Entry</th>\n",
              "      <th>Entry name</th>\n",
              "      <th>Gene names</th>\n",
              "      <th>Status</th>\n",
              "      <th>Protein names</th>\n",
              "      <th>Organism</th>\n",
              "      <th>Length</th>\n",
              "      <th>Fragment</th>\n",
              "      <th>Sequence</th>\n",
              "      <th>GForGFR</th>\n",
              "    </tr>\n",
              "  </thead>\n",
              "  <tbody>\n",
              "    <tr>\n",
              "      <th>0</th>\n",
              "      <td>P21802</td>\n",
              "      <td>FGFR2_HUMAN</td>\n",
              "      <td>FGFR2 BEK KGFR KSAM</td>\n",
              "      <td>reviewed</td>\n",
              "      <td>Fibroblast growth factor receptor 2 (FGFR-2) (...</td>\n",
              "      <td>Homo sapiens (Human)</td>\n",
              "      <td>821</td>\n",
              "      <td>NaN</td>\n",
              "      <td>MVSWGRFICLVVVTMATLSLARPSFSLVEDTTLEPEEPPTKYQISQ...</td>\n",
              "      <td>1</td>\n",
              "    </tr>\n",
              "    <tr>\n",
              "      <th>1</th>\n",
              "      <td>P11362</td>\n",
              "      <td>FGFR1_HUMAN</td>\n",
              "      <td>FGFR1 BFGFR CEK FGFBR FLG FLT2 HBGFR</td>\n",
              "      <td>reviewed</td>\n",
              "      <td>Fibroblast growth factor receptor 1 (FGFR-1) (...</td>\n",
              "      <td>Homo sapiens (Human)</td>\n",
              "      <td>822</td>\n",
              "      <td>NaN</td>\n",
              "      <td>MWSWKCLLFWAVLVTATLCTARPSPTLPEQAQPWGAPVEVESFLVH...</td>\n",
              "      <td>1</td>\n",
              "    </tr>\n",
              "  </tbody>\n",
              "</table>\n",
              "</div>\n",
              "      <button class=\"colab-df-convert\" onclick=\"convertToInteractive('df-fff09d3f-f75d-4aa3-a430-cb240e77c7d7')\"\n",
              "              title=\"Convert this dataframe to an interactive table.\"\n",
              "              style=\"display:none;\">\n",
              "        \n",
              "  <svg xmlns=\"http://www.w3.org/2000/svg\" height=\"24px\"viewBox=\"0 0 24 24\"\n",
              "       width=\"24px\">\n",
              "    <path d=\"M0 0h24v24H0V0z\" fill=\"none\"/>\n",
              "    <path d=\"M18.56 5.44l.94 2.06.94-2.06 2.06-.94-2.06-.94-.94-2.06-.94 2.06-2.06.94zm-11 1L8.5 8.5l.94-2.06 2.06-.94-2.06-.94L8.5 2.5l-.94 2.06-2.06.94zm10 10l.94 2.06.94-2.06 2.06-.94-2.06-.94-.94-2.06-.94 2.06-2.06.94z\"/><path d=\"M17.41 7.96l-1.37-1.37c-.4-.4-.92-.59-1.43-.59-.52 0-1.04.2-1.43.59L10.3 9.45l-7.72 7.72c-.78.78-.78 2.05 0 2.83L4 21.41c.39.39.9.59 1.41.59.51 0 1.02-.2 1.41-.59l7.78-7.78 2.81-2.81c.8-.78.8-2.07 0-2.86zM5.41 20L4 18.59l7.72-7.72 1.47 1.35L5.41 20z\"/>\n",
              "  </svg>\n",
              "      </button>\n",
              "      \n",
              "  <style>\n",
              "    .colab-df-container {\n",
              "      display:flex;\n",
              "      flex-wrap:wrap;\n",
              "      gap: 12px;\n",
              "    }\n",
              "\n",
              "    .colab-df-convert {\n",
              "      background-color: #E8F0FE;\n",
              "      border: none;\n",
              "      border-radius: 50%;\n",
              "      cursor: pointer;\n",
              "      display: none;\n",
              "      fill: #1967D2;\n",
              "      height: 32px;\n",
              "      padding: 0 0 0 0;\n",
              "      width: 32px;\n",
              "    }\n",
              "\n",
              "    .colab-df-convert:hover {\n",
              "      background-color: #E2EBFA;\n",
              "      box-shadow: 0px 1px 2px rgba(60, 64, 67, 0.3), 0px 1px 3px 1px rgba(60, 64, 67, 0.15);\n",
              "      fill: #174EA6;\n",
              "    }\n",
              "\n",
              "    [theme=dark] .colab-df-convert {\n",
              "      background-color: #3B4455;\n",
              "      fill: #D2E3FC;\n",
              "    }\n",
              "\n",
              "    [theme=dark] .colab-df-convert:hover {\n",
              "      background-color: #434B5C;\n",
              "      box-shadow: 0px 1px 3px 1px rgba(0, 0, 0, 0.15);\n",
              "      filter: drop-shadow(0px 1px 2px rgba(0, 0, 0, 0.3));\n",
              "      fill: #FFFFFF;\n",
              "    }\n",
              "  </style>\n",
              "\n",
              "      <script>\n",
              "        const buttonEl =\n",
              "          document.querySelector('#df-fff09d3f-f75d-4aa3-a430-cb240e77c7d7 button.colab-df-convert');\n",
              "        buttonEl.style.display =\n",
              "          google.colab.kernel.accessAllowed ? 'block' : 'none';\n",
              "\n",
              "        async function convertToInteractive(key) {\n",
              "          const element = document.querySelector('#df-fff09d3f-f75d-4aa3-a430-cb240e77c7d7');\n",
              "          const dataTable =\n",
              "            await google.colab.kernel.invokeFunction('convertToInteractive',\n",
              "                                                     [key], {});\n",
              "          if (!dataTable) return;\n",
              "\n",
              "          const docLinkHtml = 'Like what you see? Visit the ' +\n",
              "            '<a target=\"_blank\" href=https://colab.research.google.com/notebooks/data_table.ipynb>data table notebook</a>'\n",
              "            + ' to learn more about interactive tables.';\n",
              "          element.innerHTML = '';\n",
              "          dataTable['output_type'] = 'display_data';\n",
              "          await google.colab.output.renderOutput(dataTable, element);\n",
              "          const docLink = document.createElement('div');\n",
              "          docLink.innerHTML = docLinkHtml;\n",
              "          element.appendChild(docLink);\n",
              "        }\n",
              "      </script>\n",
              "    </div>\n",
              "  </div>\n",
              "  "
            ]
          },
          "metadata": {},
          "execution_count": 18
        }
      ]
    },
    {
      "cell_type": "markdown",
      "source": [
        "## 3. divide into three groups"
      ],
      "metadata": {
        "id": "oO2DZ6yAvWoX"
      }
    },
    {
      "cell_type": "code",
      "source": [
        "\n",
        "def divide_into_three_sets(df,trai_ratio):\n",
        "  df_trai = df.sample( frac=trai_ratio )\n",
        "  df_vali_test = df.drop( df_trai.index )\n",
        "\n",
        "  df_vali = df_vali_test.sample( frac=0.5 )\n",
        "  df_test = df_vali_test.drop( df_vali.index )\n",
        "\n",
        "  return df_trai,df_vali,df_test"
      ],
      "metadata": {
        "id": "8-F2KTHhvSpq"
      },
      "execution_count": null,
      "outputs": []
    },
    {
      "cell_type": "code",
      "source": [
        "# ration between groups: 80% + 10% +10%\n",
        "training_ratio = 0.70\n",
        "\n",
        "df_raw_fgf_Revi_trai,df_raw_fgf_Revi_vali,df_raw_fgf_Revi_test = \\\n",
        "  divide_into_three_sets( df_raw_fgf_Revi,training_ratio)\n",
        "\n",
        "print(len( df_raw_fgf_Revi_trai))\n",
        "print(len( df_raw_fgf_Revi_test))\n",
        "print(len( df_raw_fgf_Revi_vali))"
      ],
      "metadata": {
        "colab": {
          "base_uri": "https://localhost:8080/"
        },
        "id": "opODgbw-36_z",
        "outputId": "c636a2c4-4b4f-4320-cedc-a8b2f15b2dd9"
      },
      "execution_count": null,
      "outputs": [
        {
          "output_type": "stream",
          "name": "stdout",
          "text": [
            "71\n",
            "15\n",
            "16\n"
          ]
        }
      ]
    },
    {
      "cell_type": "code",
      "source": [
        "df_raw_fgfr_Revi_trai,df_raw_fgfr_Revi_vali,df_raw_fgfr_Revi_test = \\\n",
        "  divide_into_three_sets( df_raw_fgfr_Revi,training_ratio)\n",
        "\n",
        "print(len(df_raw_fgfr_Revi_trai))\n",
        "print(len(df_raw_fgfr_Revi_vali))\n",
        "print(len(df_raw_fgfr_Revi_test))"
      ],
      "metadata": {
        "colab": {
          "base_uri": "https://localhost:8080/"
        },
        "id": "mx96m0-E4Ue8",
        "outputId": "6f5cd2b6-9b12-4e47-adfe-526c5e19d139"
      },
      "execution_count": null,
      "outputs": [
        {
          "output_type": "stream",
          "name": "stdout",
          "text": [
            "31\n",
            "6\n",
            "7\n"
          ]
        }
      ]
    },
    {
      "cell_type": "code",
      "source": [
        "df_raw_fgf_UnRe_trai,df_raw_fgf_UnRe_vali,df_raw_fgf_UnRe_test = \\\n",
        "  divide_into_three_sets( df_raw_fgf_UnRe,training_ratio)\n",
        "\n",
        "print(len( df_raw_fgf_UnRe_trai))\n",
        "print(len( df_raw_fgf_UnRe_test))\n",
        "print(len( df_raw_fgf_UnRe_vali))"
      ],
      "metadata": {
        "colab": {
          "base_uri": "https://localhost:8080/"
        },
        "id": "zDPdI4AE4ZbP",
        "outputId": "37180c4a-d7d9-49a3-dc40-605f54012092"
      },
      "execution_count": null,
      "outputs": [
        {
          "output_type": "stream",
          "name": "stdout",
          "text": [
            "2466\n",
            "529\n",
            "528\n"
          ]
        }
      ]
    },
    {
      "cell_type": "code",
      "source": [
        "df_raw_fgfr_UnRe_trai,df_raw_fgfr_UnRe_vali,df_raw_fgfr_UnRe_test = \\\n",
        "  divide_into_three_sets( df_raw_fgfr_UnRe,training_ratio)\n",
        "\n",
        "print(len( df_raw_fgfr_UnRe_trai))\n",
        "print(len( df_raw_fgfr_UnRe_test))\n",
        "print(len( df_raw_fgfr_UnRe_vali))"
      ],
      "metadata": {
        "colab": {
          "base_uri": "https://localhost:8080/"
        },
        "id": "LN7DmMpw4zf4",
        "outputId": "ec7cc7c2-6acc-463a-8c5c-c1c14cc9cc36"
      },
      "execution_count": null,
      "outputs": [
        {
          "output_type": "stream",
          "name": "stdout",
          "text": [
            "5944\n",
            "1274\n",
            "1274\n"
          ]
        }
      ]
    },
    {
      "cell_type": "code",
      "source": [
        "# compare the three sets:\n",
        "plt.figure()\n",
        "sns.histplot(df_raw_fgf_Revi_trai.Length.values, \n",
        "             bins=40, kde=True, stat='density', color=\"red\", label=\"reviewed FGF, Training\");\n",
        "sns.histplot(df_raw_fgf_Revi_vali.Length.values, \n",
        "             bins=40, kde=True, stat='density', color=\"blue\", label=\"reviewed FGF, Validation\");\n",
        "sns.histplot(df_raw_fgf_Revi_test.Length.values, \n",
        "             bins=40, kde=True, stat='density', color=\"yellow\", label=\"reviewed FGF, Testing\");\n",
        "\n",
        "plt.grid()\n",
        "plt.legend() \n",
        "plt.show()"
      ],
      "metadata": {
        "colab": {
          "base_uri": "https://localhost:8080/",
          "height": 265
        },
        "id": "WnY6hO1h61-B",
        "outputId": "62aca5bf-323d-4982-cd29-1dc9098e8811"
      },
      "execution_count": null,
      "outputs": [
        {
          "output_type": "display_data",
          "data": {
            "text/plain": [
              "<Figure size 432x288 with 1 Axes>"
            ],
            "image/png": "[encoded data removed]"
          },
          "metadata": {
            "needs_background": "light"
          }
        }
      ]
    },
    {
      "cell_type": "code",
      "source": [
        "plt.figure()\n",
        "sns.histplot(df_raw_fgfr_Revi_trai.Length.values, \n",
        "             bins=40, kde=True, stat='density', color=\"red\", label=\"reviewed FGFR, Training\");\n",
        "sns.histplot(df_raw_fgfr_Revi_vali.Length.values, \n",
        "             bins=40, kde=True, stat='density', color=\"blue\", label=\"reviewed FGFR, Validation\");\n",
        "sns.histplot(df_raw_fgfr_Revi_test.Length.values, \n",
        "             bins=40, kde=True, stat='density', color=\"yellow\", label=\"reviewed FGFR, Testing\");\n",
        "\n",
        "plt.grid()\n",
        "plt.legend() \n",
        "plt.show()"
      ],
      "metadata": {
        "colab": {
          "base_uri": "https://localhost:8080/",
          "height": 266
        },
        "id": "sVjVnChb7ijx",
        "outputId": "ed12621c-dc04-4bc1-95ba-29540fb12dbc"
      },
      "execution_count": null,
      "outputs": [
        {
          "output_type": "display_data",
          "data": {
            "text/plain": [
              "<Figure size 432x288 with 1 Axes>"
            ],
            "image/png": "[encoded data removed]"
          },
          "metadata": {
            "needs_background": "light"
          }
        }
      ]
    },
    {
      "cell_type": "code",
      "source": [
        "plt.figure()\n",
        "sns.histplot(df_raw_fgf_UnRe_trai.Length.values, \n",
        "             bins=40, kde=True, stat='density', color=\"red\", label=\"unreviewed FGF, Training\");\n",
        "sns.histplot(df_raw_fgf_UnRe_vali.Length.values, \n",
        "             bins=40, kde=True, stat='density', color=\"blue\", label=\"unreviewed FGF, Validation\");\n",
        "sns.histplot(df_raw_fgf_UnRe_test.Length.values, \n",
        "             bins=40, kde=True, stat='density', color=\"yellow\", label=\"unreviewed FGF, Testing\");\n",
        "\n",
        "plt.grid()\n",
        "plt.legend() \n",
        "plt.show()"
      ],
      "metadata": {
        "colab": {
          "base_uri": "https://localhost:8080/",
          "height": 265
        },
        "id": "B4xEio3d7zta",
        "outputId": "7ede7689-51ed-4213-cae5-093effb6fbe2"
      },
      "execution_count": null,
      "outputs": [
        {
          "output_type": "display_data",
          "data": {
            "text/plain": [
              "<Figure size 432x288 with 1 Axes>"
            ],
            "image/png": "[encoded data removed]"
          },
          "metadata": {
            "needs_background": "light"
          }
        }
      ]
    },
    {
      "cell_type": "code",
      "source": [
        "plt.figure()\n",
        "sns.histplot(df_raw_fgfr_UnRe_trai.Length.values, \n",
        "             bins=40, kde=True, stat='density', color=\"red\", label=\"unreviewed FGFR, Training\");\n",
        "sns.histplot(df_raw_fgfr_UnRe_vali.Length.values, \n",
        "             bins=40, kde=True, stat='density', color=\"blue\", label=\"unreviewed FGFR, Validation\");\n",
        "sns.histplot(df_raw_fgfr_UnRe_test.Length.values, \n",
        "             bins=40, kde=True, stat='density', color=\"yellow\", label=\"unreviewed FGFR, Testing\");\n",
        "\n",
        "plt.grid()\n",
        "plt.legend() \n",
        "plt.show()"
      ],
      "metadata": {
        "colab": {
          "base_uri": "https://localhost:8080/",
          "height": 265
        },
        "id": "GK8rxG9N8EWE",
        "outputId": "e5855fe3-7fdc-4132-a139-71507334b038"
      },
      "execution_count": null,
      "outputs": [
        {
          "output_type": "display_data",
          "data": {
            "text/plain": [
              "<Figure size 432x288 with 1 Axes>"
            ],
            "image/png": "[encoded data removed]"
          },
          "metadata": {
            "needs_background": "light"
          }
        }
      ]
    },
    {
      "cell_type": "code",
      "source": [
        "# mix the two parts\n",
        "def mix_two_df(df_0, df_1):\n",
        "  df_tot = pd.concat([df_0, df_1])\n",
        "  df_tot = df_tot.sample(frac=1.0)\n",
        "  return df_tot"
      ],
      "metadata": {
        "id": "9PpyyYyWGVcn"
      },
      "execution_count": null,
      "outputs": []
    },
    {
      "cell_type": "code",
      "source": [
        "df_raw_fgf_Revi_trai.head(1)"
      ],
      "metadata": {
        "colab": {
          "base_uri": "https://localhost:8080/",
          "height": 159
        },
        "id": "GC7DaV5jHosT",
        "outputId": "6db5395e-037d-4735-f362-db9aa6befbb2"
      },
      "execution_count": null,
      "outputs": [
        {
          "output_type": "execute_result",
          "data": {
            "text/plain": [
              "     Entry  Entry name Gene names    Status  \\\n",
              "59  P05230  FGF1_HUMAN        NaN  reviewed   \n",
              "\n",
              "                                        Protein names              Organism  \\\n",
              "59  Fibroblast growth factor 1 (FGF-1) (Acidic fib...  Homo sapiens (Human)   \n",
              "\n",
              "    Length Fragment                                           Sequence  \\\n",
              "59     155      NaN  MAEGEITTFTALTEKFNLPPGNYKKPKLLYCSNGGHFLRILPDGTV...   \n",
              "\n",
              "    GForGFR  \n",
              "59        0  "
            ],
            "text/html": [
              "\n",
              "  <div id=\"df-4b703b1d-c062-4e54-81bf-e460a7609d2a\">\n",
              "    <div class=\"colab-df-container\">\n",
              "      <div>\n",
              "<style scoped>\n",
              "    .dataframe tbody tr th:only-of-type {\n",
              "        vertical-align: middle;\n",
              "    }\n",
              "\n",
              "    .dataframe tbody tr th {\n",
              "        vertical-align: top;\n",
              "    }\n",
              "\n",
              "    .dataframe thead th {\n",
              "        text-align: right;\n",
              "    }\n",
              "</style>\n",
              "<table border=\"1\" class=\"dataframe\">\n",
              "  <thead>\n",
              "    <tr style=\"text-align: right;\">\n",
              "      <th></th>\n",
              "      <th>Entry</th>\n",
              "      <th>Entry name</th>\n",
              "      <th>Gene names</th>\n",
              "      <th>Status</th>\n",
              "      <th>Protein names</th>\n",
              "      <th>Organism</th>\n",
              "      <th>Length</th>\n",
              "      <th>Fragment</th>\n",
              "      <th>Sequence</th>\n",
              "      <th>GForGFR</th>\n",
              "    </tr>\n",
              "  </thead>\n",
              "  <tbody>\n",
              "    <tr>\n",
              "      <th>59</th>\n",
              "      <td>P05230</td>\n",
              "      <td>FGF1_HUMAN</td>\n",
              "      <td>NaN</td>\n",
              "      <td>reviewed</td>\n",
              "      <td>Fibroblast growth factor 1 (FGF-1) (Acidic fib...</td>\n",
              "      <td>Homo sapiens (Human)</td>\n",
              "      <td>155</td>\n",
              "      <td>NaN</td>\n",
              "      <td>MAEGEITTFTALTEKFNLPPGNYKKPKLLYCSNGGHFLRILPDGTV...</td>\n",
              "      <td>0</td>\n",
              "    </tr>\n",
              "  </tbody>\n",
              "</table>\n",
              "</div>\n",
              "      <button class=\"colab-df-convert\" onclick=\"convertToInteractive('df-4b703b1d-c062-4e54-81bf-e460a7609d2a')\"\n",
              "              title=\"Convert this dataframe to an interactive table.\"\n",
              "              style=\"display:none;\">\n",
              "        \n",
              "  <svg xmlns=\"http://www.w3.org/2000/svg\" height=\"24px\"viewBox=\"0 0 24 24\"\n",
              "       width=\"24px\">\n",
              "    <path d=\"M0 0h24v24H0V0z\" fill=\"none\"/>\n",
              "    <path d=\"M18.56 5.44l.94 2.06.94-2.06 2.06-.94-2.06-.94-.94-2.06-.94 2.06-2.06.94zm-11 1L8.5 8.5l.94-2.06 2.06-.94-2.06-.94L8.5 2.5l-.94 2.06-2.06.94zm10 10l.94 2.06.94-2.06 2.06-.94-2.06-.94-.94-2.06-.94 2.06-2.06.94z\"/><path d=\"M17.41 7.96l-1.37-1.37c-.4-.4-.92-.59-1.43-.59-.52 0-1.04.2-1.43.59L10.3 9.45l-7.72 7.72c-.78.78-.78 2.05 0 2.83L4 21.41c.39.39.9.59 1.41.59.51 0 1.02-.2 1.41-.59l7.78-7.78 2.81-2.81c.8-.78.8-2.07 0-2.86zM5.41 20L4 18.59l7.72-7.72 1.47 1.35L5.41 20z\"/>\n",
              "  </svg>\n",
              "      </button>\n",
              "      \n",
              "  <style>\n",
              "    .colab-df-container {\n",
              "      display:flex;\n",
              "      flex-wrap:wrap;\n",
              "      gap: 12px;\n",
              "    }\n",
              "\n",
              "    .colab-df-convert {\n",
              "      background-color: #E8F0FE;\n",
              "      border: none;\n",
              "      border-radius: 50%;\n",
              "      cursor: pointer;\n",
              "      display: none;\n",
              "      fill: #1967D2;\n",
              "      height: 32px;\n",
              "      padding: 0 0 0 0;\n",
              "      width: 32px;\n",
              "    }\n",
              "\n",
              "    .colab-df-convert:hover {\n",
              "      background-color: #E2EBFA;\n",
              "      box-shadow: 0px 1px 2px rgba(60, 64, 67, 0.3), 0px 1px 3px 1px rgba(60, 64, 67, 0.15);\n",
              "      fill: #174EA6;\n",
              "    }\n",
              "\n",
              "    [theme=dark] .colab-df-convert {\n",
              "      background-color: #3B4455;\n",
              "      fill: #D2E3FC;\n",
              "    }\n",
              "\n",
              "    [theme=dark] .colab-df-convert:hover {\n",
              "      background-color: #434B5C;\n",
              "      box-shadow: 0px 1px 3px 1px rgba(0, 0, 0, 0.15);\n",
              "      filter: drop-shadow(0px 1px 2px rgba(0, 0, 0, 0.3));\n",
              "      fill: #FFFFFF;\n",
              "    }\n",
              "  </style>\n",
              "\n",
              "      <script>\n",
              "        const buttonEl =\n",
              "          document.querySelector('#df-4b703b1d-c062-4e54-81bf-e460a7609d2a button.colab-df-convert');\n",
              "        buttonEl.style.display =\n",
              "          google.colab.kernel.accessAllowed ? 'block' : 'none';\n",
              "\n",
              "        async function convertToInteractive(key) {\n",
              "          const element = document.querySelector('#df-4b703b1d-c062-4e54-81bf-e460a7609d2a');\n",
              "          const dataTable =\n",
              "            await google.colab.kernel.invokeFunction('convertToInteractive',\n",
              "                                                     [key], {});\n",
              "          if (!dataTable) return;\n",
              "\n",
              "          const docLinkHtml = 'Like what you see? Visit the ' +\n",
              "            '<a target=\"_blank\" href=https://colab.research.google.com/notebooks/data_table.ipynb>data table notebook</a>'\n",
              "            + ' to learn more about interactive tables.';\n",
              "          element.innerHTML = '';\n",
              "          dataTable['output_type'] = 'display_data';\n",
              "          await google.colab.output.renderOutput(dataTable, element);\n",
              "          const docLink = document.createElement('div');\n",
              "          docLink.innerHTML = docLinkHtml;\n",
              "          element.appendChild(docLink);\n",
              "        }\n",
              "      </script>\n",
              "    </div>\n",
              "  </div>\n",
              "  "
            ]
          },
          "metadata": {},
          "execution_count": 29
        }
      ]
    },
    {
      "cell_type": "code",
      "source": [
        "df_raw_fgfr_Revi_trai.head(1)"
      ],
      "metadata": {
        "colab": {
          "base_uri": "https://localhost:8080/",
          "height": 159
        },
        "id": "YvSTuImoHt_A",
        "outputId": "f9e7b792-934e-4f94-8008-300ded270157"
      },
      "execution_count": null,
      "outputs": [
        {
          "output_type": "execute_result",
          "data": {
            "text/plain": [
              "     Entry  Entry name Gene names    Status  \\\n",
              "14  O43559  FRS3_HUMAN       FRS3  reviewed   \n",
              "\n",
              "                                        Protein names              Organism  \\\n",
              "14  Fibroblast growth factor receptor substrate 3 ...  Homo sapiens (Human)   \n",
              "\n",
              "    Length  Fragment                                           Sequence  \\\n",
              "14     492       NaN  MGSCCSCLNRDSVPDNHPTKFKVTNVDDEGVELGSGVMELTQSELV...   \n",
              "\n",
              "    GForGFR  \n",
              "14        1  "
            ],
            "text/html": [
              "\n",
              "  <div id=\"df-010ad90d-eef4-4707-8afe-7b2eb267950c\">\n",
              "    <div class=\"colab-df-container\">\n",
              "      <div>\n",
              "<style scoped>\n",
              "    .dataframe tbody tr th:only-of-type {\n",
              "        vertical-align: middle;\n",
              "    }\n",
              "\n",
              "    .dataframe tbody tr th {\n",
              "        vertical-align: top;\n",
              "    }\n",
              "\n",
              "    .dataframe thead th {\n",
              "        text-align: right;\n",
              "    }\n",
              "</style>\n",
              "<table border=\"1\" class=\"dataframe\">\n",
              "  <thead>\n",
              "    <tr style=\"text-align: right;\">\n",
              "      <th></th>\n",
              "      <th>Entry</th>\n",
              "      <th>Entry name</th>\n",
              "      <th>Gene names</th>\n",
              "      <th>Status</th>\n",
              "      <th>Protein names</th>\n",
              "      <th>Organism</th>\n",
              "      <th>Length</th>\n",
              "      <th>Fragment</th>\n",
              "      <th>Sequence</th>\n",
              "      <th>GForGFR</th>\n",
              "    </tr>\n",
              "  </thead>\n",
              "  <tbody>\n",
              "    <tr>\n",
              "      <th>14</th>\n",
              "      <td>O43559</td>\n",
              "      <td>FRS3_HUMAN</td>\n",
              "      <td>FRS3</td>\n",
              "      <td>reviewed</td>\n",
              "      <td>Fibroblast growth factor receptor substrate 3 ...</td>\n",
              "      <td>Homo sapiens (Human)</td>\n",
              "      <td>492</td>\n",
              "      <td>NaN</td>\n",
              "      <td>MGSCCSCLNRDSVPDNHPTKFKVTNVDDEGVELGSGVMELTQSELV...</td>\n",
              "      <td>1</td>\n",
              "    </tr>\n",
              "  </tbody>\n",
              "</table>\n",
              "</div>\n",
              "      <button class=\"colab-df-convert\" onclick=\"convertToInteractive('df-010ad90d-eef4-4707-8afe-7b2eb267950c')\"\n",
              "              title=\"Convert this dataframe to an interactive table.\"\n",
              "              style=\"display:none;\">\n",
              "        \n",
              "  <svg xmlns=\"http://www.w3.org/2000/svg\" height=\"24px\"viewBox=\"0 0 24 24\"\n",
              "       width=\"24px\">\n",
              "    <path d=\"M0 0h24v24H0V0z\" fill=\"none\"/>\n",
              "    <path d=\"M18.56 5.44l.94 2.06.94-2.06 2.06-.94-2.06-.94-.94-2.06-.94 2.06-2.06.94zm-11 1L8.5 8.5l.94-2.06 2.06-.94-2.06-.94L8.5 2.5l-.94 2.06-2.06.94zm10 10l.94 2.06.94-2.06 2.06-.94-2.06-.94-.94-2.06-.94 2.06-2.06.94z\"/><path d=\"M17.41 7.96l-1.37-1.37c-.4-.4-.92-.59-1.43-.59-.52 0-1.04.2-1.43.59L10.3 9.45l-7.72 7.72c-.78.78-.78 2.05 0 2.83L4 21.41c.39.39.9.59 1.41.59.51 0 1.02-.2 1.41-.59l7.78-7.78 2.81-2.81c.8-.78.8-2.07 0-2.86zM5.41 20L4 18.59l7.72-7.72 1.47 1.35L5.41 20z\"/>\n",
              "  </svg>\n",
              "      </button>\n",
              "      \n",
              "  <style>\n",
              "    .colab-df-container {\n",
              "      display:flex;\n",
              "      flex-wrap:wrap;\n",
              "      gap: 12px;\n",
              "    }\n",
              "\n",
              "    .colab-df-convert {\n",
              "      background-color: #E8F0FE;\n",
              "      border: none;\n",
              "      border-radius: 50%;\n",
              "      cursor: pointer;\n",
              "      display: none;\n",
              "      fill: #1967D2;\n",
              "      height: 32px;\n",
              "      padding: 0 0 0 0;\n",
              "      width: 32px;\n",
              "    }\n",
              "\n",
              "    .colab-df-convert:hover {\n",
              "      background-color: #E2EBFA;\n",
              "      box-shadow: 0px 1px 2px rgba(60, 64, 67, 0.3), 0px 1px 3px 1px rgba(60, 64, 67, 0.15);\n",
              "      fill: #174EA6;\n",
              "    }\n",
              "\n",
              "    [theme=dark] .colab-df-convert {\n",
              "      background-color: #3B4455;\n",
              "      fill: #D2E3FC;\n",
              "    }\n",
              "\n",
              "    [theme=dark] .colab-df-convert:hover {\n",
              "      background-color: #434B5C;\n",
              "      box-shadow: 0px 1px 3px 1px rgba(0, 0, 0, 0.15);\n",
              "      filter: drop-shadow(0px 1px 2px rgba(0, 0, 0, 0.3));\n",
              "      fill: #FFFFFF;\n",
              "    }\n",
              "  </style>\n",
              "\n",
              "      <script>\n",
              "        const buttonEl =\n",
              "          document.querySelector('#df-010ad90d-eef4-4707-8afe-7b2eb267950c button.colab-df-convert');\n",
              "        buttonEl.style.display =\n",
              "          google.colab.kernel.accessAllowed ? 'block' : 'none';\n",
              "\n",
              "        async function convertToInteractive(key) {\n",
              "          const element = document.querySelector('#df-010ad90d-eef4-4707-8afe-7b2eb267950c');\n",
              "          const dataTable =\n",
              "            await google.colab.kernel.invokeFunction('convertToInteractive',\n",
              "                                                     [key], {});\n",
              "          if (!dataTable) return;\n",
              "\n",
              "          const docLinkHtml = 'Like what you see? Visit the ' +\n",
              "            '<a target=\"_blank\" href=https://colab.research.google.com/notebooks/data_table.ipynb>data table notebook</a>'\n",
              "            + ' to learn more about interactive tables.';\n",
              "          element.innerHTML = '';\n",
              "          dataTable['output_type'] = 'display_data';\n",
              "          await google.colab.output.renderOutput(dataTable, element);\n",
              "          const docLink = document.createElement('div');\n",
              "          docLink.innerHTML = docLinkHtml;\n",
              "          element.appendChild(docLink);\n",
              "        }\n",
              "      </script>\n",
              "    </div>\n",
              "  </div>\n",
              "  "
            ]
          },
          "metadata": {},
          "execution_count": 30
        }
      ]
    },
    {
      "cell_type": "code",
      "source": [
        "df_raw_fgf_UnRe_trai.head(1)"
      ],
      "metadata": {
        "colab": {
          "base_uri": "https://localhost:8080/",
          "height": 232
        },
        "id": "1KVUbS-_JY4e",
        "outputId": "2d7bf53f-bcd1-4096-c872-d6409f817d1a"
      },
      "execution_count": null,
      "outputs": [
        {
          "output_type": "execute_result",
          "data": {
            "text/plain": [
              "           Entry        Entry name          Gene names      Status  \\\n",
              "2707  A0A7L0H289  A0A7L0H289_HERCA  Fgf5 HERCAC_R14872  unreviewed   \n",
              "\n",
              "                                  Protein names  \\\n",
              "2707  Fibroblast growth factor (FGF) (Fragment)   \n",
              "\n",
              "                                               Organism  Length  Fragment  \\\n",
              "2707  Herpetotheres cachinnans (Laughing falcon) (Fa...     226  fragment   \n",
              "\n",
              "                                               Sequence  GForGFR  \n",
              "2707  GGAQPGPAGRNAPAPSSSSSSSSSSSSSAAAAAGPSRFPRSRPGRR...        0  "
            ],
            "text/html": [
              "\n",
              "  <div id=\"df-8cdc29ed-2ceb-4253-9b08-2105dc30345d\">\n",
              "    <div class=\"colab-df-container\">\n",
              "      <div>\n",
              "<style scoped>\n",
              "    .dataframe tbody tr th:only-of-type {\n",
              "        vertical-align: middle;\n",
              "    }\n",
              "\n",
              "    .dataframe tbody tr th {\n",
              "        vertical-align: top;\n",
              "    }\n",
              "\n",
              "    .dataframe thead th {\n",
              "        text-align: right;\n",
              "    }\n",
              "</style>\n",
              "<table border=\"1\" class=\"dataframe\">\n",
              "  <thead>\n",
              "    <tr style=\"text-align: right;\">\n",
              "      <th></th>\n",
              "      <th>Entry</th>\n",
              "      <th>Entry name</th>\n",
              "      <th>Gene names</th>\n",
              "      <th>Status</th>\n",
              "      <th>Protein names</th>\n",
              "      <th>Organism</th>\n",
              "      <th>Length</th>\n",
              "      <th>Fragment</th>\n",
              "      <th>Sequence</th>\n",
              "      <th>GForGFR</th>\n",
              "    </tr>\n",
              "  </thead>\n",
              "  <tbody>\n",
              "    <tr>\n",
              "      <th>2707</th>\n",
              "      <td>A0A7L0H289</td>\n",
              "      <td>A0A7L0H289_HERCA</td>\n",
              "      <td>Fgf5 HERCAC_R14872</td>\n",
              "      <td>unreviewed</td>\n",
              "      <td>Fibroblast growth factor (FGF) (Fragment)</td>\n",
              "      <td>Herpetotheres cachinnans (Laughing falcon) (Fa...</td>\n",
              "      <td>226</td>\n",
              "      <td>fragment</td>\n",
              "      <td>GGAQPGPAGRNAPAPSSSSSSSSSSSSSAAAAAGPSRFPRSRPGRR...</td>\n",
              "      <td>0</td>\n",
              "    </tr>\n",
              "  </tbody>\n",
              "</table>\n",
              "</div>\n",
              "      <button class=\"colab-df-convert\" onclick=\"convertToInteractive('df-8cdc29ed-2ceb-4253-9b08-2105dc30345d')\"\n",
              "              title=\"Convert this dataframe to an interactive table.\"\n",
              "              style=\"display:none;\">\n",
              "        \n",
              "  <svg xmlns=\"http://www.w3.org/2000/svg\" height=\"24px\"viewBox=\"0 0 24 24\"\n",
              "       width=\"24px\">\n",
              "    <path d=\"M0 0h24v24H0V0z\" fill=\"none\"/>\n",
              "    <path d=\"M18.56 5.44l.94 2.06.94-2.06 2.06-.94-2.06-.94-.94-2.06-.94 2.06-2.06.94zm-11 1L8.5 8.5l.94-2.06 2.06-.94-2.06-.94L8.5 2.5l-.94 2.06-2.06.94zm10 10l.94 2.06.94-2.06 2.06-.94-2.06-.94-.94-2.06-.94 2.06-2.06.94z\"/><path d=\"M17.41 7.96l-1.37-1.37c-.4-.4-.92-.59-1.43-.59-.52 0-1.04.2-1.43.59L10.3 9.45l-7.72 7.72c-.78.78-.78 2.05 0 2.83L4 21.41c.39.39.9.59 1.41.59.51 0 1.02-.2 1.41-.59l7.78-7.78 2.81-2.81c.8-.78.8-2.07 0-2.86zM5.41 20L4 18.59l7.72-7.72 1.47 1.35L5.41 20z\"/>\n",
              "  </svg>\n",
              "      </button>\n",
              "      \n",
              "  <style>\n",
              "    .colab-df-container {\n",
              "      display:flex;\n",
              "      flex-wrap:wrap;\n",
              "      gap: 12px;\n",
              "    }\n",
              "\n",
              "    .colab-df-convert {\n",
              "      background-color: #E8F0FE;\n",
              "      border: none;\n",
              "      border-radius: 50%;\n",
              "      cursor: pointer;\n",
              "      display: none;\n",
              "      fill: #1967D2;\n",
              "      height: 32px;\n",
              "      padding: 0 0 0 0;\n",
              "      width: 32px;\n",
              "    }\n",
              "\n",
              "    .colab-df-convert:hover {\n",
              "      background-color: #E2EBFA;\n",
              "      box-shadow: 0px 1px 2px rgba(60, 64, 67, 0.3), 0px 1px 3px 1px rgba(60, 64, 67, 0.15);\n",
              "      fill: #174EA6;\n",
              "    }\n",
              "\n",
              "    [theme=dark] .colab-df-convert {\n",
              "      background-color: #3B4455;\n",
              "      fill: #D2E3FC;\n",
              "    }\n",
              "\n",
              "    [theme=dark] .colab-df-convert:hover {\n",
              "      background-color: #434B5C;\n",
              "      box-shadow: 0px 1px 3px 1px rgba(0, 0, 0, 0.15);\n",
              "      filter: drop-shadow(0px 1px 2px rgba(0, 0, 0, 0.3));\n",
              "      fill: #FFFFFF;\n",
              "    }\n",
              "  </style>\n",
              "\n",
              "      <script>\n",
              "        const buttonEl =\n",
              "          document.querySelector('#df-8cdc29ed-2ceb-4253-9b08-2105dc30345d button.colab-df-convert');\n",
              "        buttonEl.style.display =\n",
              "          google.colab.kernel.accessAllowed ? 'block' : 'none';\n",
              "\n",
              "        async function convertToInteractive(key) {\n",
              "          const element = document.querySelector('#df-8cdc29ed-2ceb-4253-9b08-2105dc30345d');\n",
              "          const dataTable =\n",
              "            await google.colab.kernel.invokeFunction('convertToInteractive',\n",
              "                                                     [key], {});\n",
              "          if (!dataTable) return;\n",
              "\n",
              "          const docLinkHtml = 'Like what you see? Visit the ' +\n",
              "            '<a target=\"_blank\" href=https://colab.research.google.com/notebooks/data_table.ipynb>data table notebook</a>'\n",
              "            + ' to learn more about interactive tables.';\n",
              "          element.innerHTML = '';\n",
              "          dataTable['output_type'] = 'display_data';\n",
              "          await google.colab.output.renderOutput(dataTable, element);\n",
              "          const docLink = document.createElement('div');\n",
              "          docLink.innerHTML = docLinkHtml;\n",
              "          element.appendChild(docLink);\n",
              "        }\n",
              "      </script>\n",
              "    </div>\n",
              "  </div>\n",
              "  "
            ]
          },
          "metadata": {},
          "execution_count": 31
        }
      ]
    },
    {
      "cell_type": "code",
      "source": [
        "df_raw_fgfr_UnRe_trai.head(1)"
      ],
      "metadata": {
        "colab": {
          "base_uri": "https://localhost:8080/",
          "height": 249
        },
        "id": "ychsA5lMJsAJ",
        "outputId": "80912039-285d-47d3-9f73-615b97f3d86e"
      },
      "execution_count": null,
      "outputs": [
        {
          "output_type": "execute_result",
          "data": {
            "text/plain": [
              "           Entry        Entry name   Gene names      Status  \\\n",
              "5096  A0A151WPX0  A0A151WPX0_9HYME  ALC60_10970  unreviewed   \n",
              "\n",
              "                                        Protein names             Organism  \\\n",
              "5096  Fibroblast growth factor receptor (EC 2.7.10.1)  Trachymyrmex zeteki   \n",
              "\n",
              "      Length Fragment                                           Sequence  \\\n",
              "5096     859      NaN  MQNVYVADAINPDVVVSVGEKLNLRCQQNFNFETTWYKDDEAFHKS...   \n",
              "\n",
              "      GForGFR  \n",
              "5096        1  "
            ],
            "text/html": [
              "\n",
              "  <div id=\"df-6e62464f-5c92-4c34-947a-5fbe58cf3c42\">\n",
              "    <div class=\"colab-df-container\">\n",
              "      <div>\n",
              "<style scoped>\n",
              "    .dataframe tbody tr th:only-of-type {\n",
              "        vertical-align: middle;\n",
              "    }\n",
              "\n",
              "    .dataframe tbody tr th {\n",
              "        vertical-align: top;\n",
              "    }\n",
              "\n",
              "    .dataframe thead th {\n",
              "        text-align: right;\n",
              "    }\n",
              "</style>\n",
              "<table border=\"1\" class=\"dataframe\">\n",
              "  <thead>\n",
              "    <tr style=\"text-align: right;\">\n",
              "      <th></th>\n",
              "      <th>Entry</th>\n",
              "      <th>Entry name</th>\n",
              "      <th>Gene names</th>\n",
              "      <th>Status</th>\n",
              "      <th>Protein names</th>\n",
              "      <th>Organism</th>\n",
              "      <th>Length</th>\n",
              "      <th>Fragment</th>\n",
              "      <th>Sequence</th>\n",
              "      <th>GForGFR</th>\n",
              "    </tr>\n",
              "  </thead>\n",
              "  <tbody>\n",
              "    <tr>\n",
              "      <th>5096</th>\n",
              "      <td>A0A151WPX0</td>\n",
              "      <td>A0A151WPX0_9HYME</td>\n",
              "      <td>ALC60_10970</td>\n",
              "      <td>unreviewed</td>\n",
              "      <td>Fibroblast growth factor receptor (EC 2.7.10.1)</td>\n",
              "      <td>Trachymyrmex zeteki</td>\n",
              "      <td>859</td>\n",
              "      <td>NaN</td>\n",
              "      <td>MQNVYVADAINPDVVVSVGEKLNLRCQQNFNFETTWYKDDEAFHKS...</td>\n",
              "      <td>1</td>\n",
              "    </tr>\n",
              "  </tbody>\n",
              "</table>\n",
              "</div>\n",
              "      <button class=\"colab-df-convert\" onclick=\"convertToInteractive('df-6e62464f-5c92-4c34-947a-5fbe58cf3c42')\"\n",
              "              title=\"Convert this dataframe to an interactive table.\"\n",
              "              style=\"display:none;\">\n",
              "        \n",
              "  <svg xmlns=\"http://www.w3.org/2000/svg\" height=\"24px\"viewBox=\"0 0 24 24\"\n",
              "       width=\"24px\">\n",
              "    <path d=\"M0 0h24v24H0V0z\" fill=\"none\"/>\n",
              "    <path d=\"M18.56 5.44l.94 2.06.94-2.06 2.06-.94-2.06-.94-.94-2.06-.94 2.06-2.06.94zm-11 1L8.5 8.5l.94-2.06 2.06-.94-2.06-.94L8.5 2.5l-.94 2.06-2.06.94zm10 10l.94 2.06.94-2.06 2.06-.94-2.06-.94-.94-2.06-.94 2.06-2.06.94z\"/><path d=\"M17.41 7.96l-1.37-1.37c-.4-.4-.92-.59-1.43-.59-.52 0-1.04.2-1.43.59L10.3 9.45l-7.72 7.72c-.78.78-.78 2.05 0 2.83L4 21.41c.39.39.9.59 1.41.59.51 0 1.02-.2 1.41-.59l7.78-7.78 2.81-2.81c.8-.78.8-2.07 0-2.86zM5.41 20L4 18.59l7.72-7.72 1.47 1.35L5.41 20z\"/>\n",
              "  </svg>\n",
              "      </button>\n",
              "      \n",
              "  <style>\n",
              "    .colab-df-container {\n",
              "      display:flex;\n",
              "      flex-wrap:wrap;\n",
              "      gap: 12px;\n",
              "    }\n",
              "\n",
              "    .colab-df-convert {\n",
              "      background-color: #E8F0FE;\n",
              "      border: none;\n",
              "      border-radius: 50%;\n",
              "      cursor: pointer;\n",
              "      display: none;\n",
              "      fill: #1967D2;\n",
              "      height: 32px;\n",
              "      padding: 0 0 0 0;\n",
              "      width: 32px;\n",
              "    }\n",
              "\n",
              "    .colab-df-convert:hover {\n",
              "      background-color: #E2EBFA;\n",
              "      box-shadow: 0px 1px 2px rgba(60, 64, 67, 0.3), 0px 1px 3px 1px rgba(60, 64, 67, 0.15);\n",
              "      fill: #174EA6;\n",
              "    }\n",
              "\n",
              "    [theme=dark] .colab-df-convert {\n",
              "      background-color: #3B4455;\n",
              "      fill: #D2E3FC;\n",
              "    }\n",
              "\n",
              "    [theme=dark] .colab-df-convert:hover {\n",
              "      background-color: #434B5C;\n",
              "      box-shadow: 0px 1px 3px 1px rgba(0, 0, 0, 0.15);\n",
              "      filter: drop-shadow(0px 1px 2px rgba(0, 0, 0, 0.3));\n",
              "      fill: #FFFFFF;\n",
              "    }\n",
              "  </style>\n",
              "\n",
              "      <script>\n",
              "        const buttonEl =\n",
              "          document.querySelector('#df-6e62464f-5c92-4c34-947a-5fbe58cf3c42 button.colab-df-convert');\n",
              "        buttonEl.style.display =\n",
              "          google.colab.kernel.accessAllowed ? 'block' : 'none';\n",
              "\n",
              "        async function convertToInteractive(key) {\n",
              "          const element = document.querySelector('#df-6e62464f-5c92-4c34-947a-5fbe58cf3c42');\n",
              "          const dataTable =\n",
              "            await google.colab.kernel.invokeFunction('convertToInteractive',\n",
              "                                                     [key], {});\n",
              "          if (!dataTable) return;\n",
              "\n",
              "          const docLinkHtml = 'Like what you see? Visit the ' +\n",
              "            '<a target=\"_blank\" href=https://colab.research.google.com/notebooks/data_table.ipynb>data table notebook</a>'\n",
              "            + ' to learn more about interactive tables.';\n",
              "          element.innerHTML = '';\n",
              "          dataTable['output_type'] = 'display_data';\n",
              "          await google.colab.output.renderOutput(dataTable, element);\n",
              "          const docLink = document.createElement('div');\n",
              "          docLink.innerHTML = docLinkHtml;\n",
              "          element.appendChild(docLink);\n",
              "        }\n",
              "      </script>\n",
              "    </div>\n",
              "  </div>\n",
              "  "
            ]
          },
          "metadata": {},
          "execution_count": 32
        }
      ]
    },
    {
      "cell_type": "code",
      "source": [
        ""
      ],
      "metadata": {
        "id": "rAS6Mv8SJOvo"
      },
      "execution_count": null,
      "outputs": []
    },
    {
      "cell_type": "code",
      "source": [
        "df_fgf_fgfr_Revi_trai = mix_two_df(df_raw_fgf_Revi_trai,df_raw_fgfr_Revi_trai)\n",
        "df_fgf_fgfr_Revi_vali = mix_two_df(df_raw_fgf_Revi_vali,df_raw_fgfr_Revi_vali)\n",
        "df_fgf_fgfr_Revi_test = mix_two_df(df_raw_fgf_Revi_test,df_raw_fgfr_Revi_test)"
      ],
      "metadata": {
        "id": "OWnFoWcSG19C"
      },
      "execution_count": null,
      "outputs": []
    },
    {
      "cell_type": "code",
      "source": [
        "df_fgf_fgfr_Revi_trai.head(1)"
      ],
      "metadata": {
        "colab": {
          "base_uri": "https://localhost:8080/",
          "height": 159
        },
        "id": "YxADI_fFMJIE",
        "outputId": "2d26efa6-3678-4eb2-e8e6-8863f25b7bd0"
      },
      "execution_count": null,
      "outputs": [
        {
          "output_type": "execute_result",
          "data": {
            "text/plain": [
              "    Entry  Entry name Gene names    Status  \\\n",
              "5  P21658  FGF6_MOUSE        NaN  reviewed   \n",
              "\n",
              "                                       Protein names              Organism  \\\n",
              "5  Fibroblast growth factor 6 (FGF-6) (Heparin se...  Mus musculus (Mouse)   \n",
              "\n",
              "   Length Fragment                                           Sequence  GForGFR  \n",
              "5     208      NaN  MALGQRLFITMSRGAGRVQGTLQALVFLGVLVGMVVPSPAGARANG...        0  "
            ],
            "text/html": [
              "\n",
              "  <div id=\"df-3c2ade5e-79b5-4e94-a528-974a5595e22a\">\n",
              "    <div class=\"colab-df-container\">\n",
              "      <div>\n",
              "<style scoped>\n",
              "    .dataframe tbody tr th:only-of-type {\n",
              "        vertical-align: middle;\n",
              "    }\n",
              "\n",
              "    .dataframe tbody tr th {\n",
              "        vertical-align: top;\n",
              "    }\n",
              "\n",
              "    .dataframe thead th {\n",
              "        text-align: right;\n",
              "    }\n",
              "</style>\n",
              "<table border=\"1\" class=\"dataframe\">\n",
              "  <thead>\n",
              "    <tr style=\"text-align: right;\">\n",
              "      <th></th>\n",
              "      <th>Entry</th>\n",
              "      <th>Entry name</th>\n",
              "      <th>Gene names</th>\n",
              "      <th>Status</th>\n",
              "      <th>Protein names</th>\n",
              "      <th>Organism</th>\n",
              "      <th>Length</th>\n",
              "      <th>Fragment</th>\n",
              "      <th>Sequence</th>\n",
              "      <th>GForGFR</th>\n",
              "    </tr>\n",
              "  </thead>\n",
              "  <tbody>\n",
              "    <tr>\n",
              "      <th>5</th>\n",
              "      <td>P21658</td>\n",
              "      <td>FGF6_MOUSE</td>\n",
              "      <td>NaN</td>\n",
              "      <td>reviewed</td>\n",
              "      <td>Fibroblast growth factor 6 (FGF-6) (Heparin se...</td>\n",
              "      <td>Mus musculus (Mouse)</td>\n",
              "      <td>208</td>\n",
              "      <td>NaN</td>\n",
              "      <td>MALGQRLFITMSRGAGRVQGTLQALVFLGVLVGMVVPSPAGARANG...</td>\n",
              "      <td>0</td>\n",
              "    </tr>\n",
              "  </tbody>\n",
              "</table>\n",
              "</div>\n",
              "      <button class=\"colab-df-convert\" onclick=\"convertToInteractive('df-3c2ade5e-79b5-4e94-a528-974a5595e22a')\"\n",
              "              title=\"Convert this dataframe to an interactive table.\"\n",
              "              style=\"display:none;\">\n",
              "        \n",
              "  <svg xmlns=\"http://www.w3.org/2000/svg\" height=\"24px\"viewBox=\"0 0 24 24\"\n",
              "       width=\"24px\">\n",
              "    <path d=\"M0 0h24v24H0V0z\" fill=\"none\"/>\n",
              "    <path d=\"M18.56 5.44l.94 2.06.94-2.06 2.06-.94-2.06-.94-.94-2.06-.94 2.06-2.06.94zm-11 1L8.5 8.5l.94-2.06 2.06-.94-2.06-.94L8.5 2.5l-.94 2.06-2.06.94zm10 10l.94 2.06.94-2.06 2.06-.94-2.06-.94-.94-2.06-.94 2.06-2.06.94z\"/><path d=\"M17.41 7.96l-1.37-1.37c-.4-.4-.92-.59-1.43-.59-.52 0-1.04.2-1.43.59L10.3 9.45l-7.72 7.72c-.78.78-.78 2.05 0 2.83L4 21.41c.39.39.9.59 1.41.59.51 0 1.02-.2 1.41-.59l7.78-7.78 2.81-2.81c.8-.78.8-2.07 0-2.86zM5.41 20L4 18.59l7.72-7.72 1.47 1.35L5.41 20z\"/>\n",
              "  </svg>\n",
              "      </button>\n",
              "      \n",
              "  <style>\n",
              "    .colab-df-container {\n",
              "      display:flex;\n",
              "      flex-wrap:wrap;\n",
              "      gap: 12px;\n",
              "    }\n",
              "\n",
              "    .colab-df-convert {\n",
              "      background-color: #E8F0FE;\n",
              "      border: none;\n",
              "      border-radius: 50%;\n",
              "      cursor: pointer;\n",
              "      display: none;\n",
              "      fill: #1967D2;\n",
              "      height: 32px;\n",
              "      padding: 0 0 0 0;\n",
              "      width: 32px;\n",
              "    }\n",
              "\n",
              "    .colab-df-convert:hover {\n",
              "      background-color: #E2EBFA;\n",
              "      box-shadow: 0px 1px 2px rgba(60, 64, 67, 0.3), 0px 1px 3px 1px rgba(60, 64, 67, 0.15);\n",
              "      fill: #174EA6;\n",
              "    }\n",
              "\n",
              "    [theme=dark] .colab-df-convert {\n",
              "      background-color: #3B4455;\n",
              "      fill: #D2E3FC;\n",
              "    }\n",
              "\n",
              "    [theme=dark] .colab-df-convert:hover {\n",
              "      background-color: #434B5C;\n",
              "      box-shadow: 0px 1px 3px 1px rgba(0, 0, 0, 0.15);\n",
              "      filter: drop-shadow(0px 1px 2px rgba(0, 0, 0, 0.3));\n",
              "      fill: #FFFFFF;\n",
              "    }\n",
              "  </style>\n",
              "\n",
              "      <script>\n",
              "        const buttonEl =\n",
              "          document.querySelector('#df-3c2ade5e-79b5-4e94-a528-974a5595e22a button.colab-df-convert');\n",
              "        buttonEl.style.display =\n",
              "          google.colab.kernel.accessAllowed ? 'block' : 'none';\n",
              "\n",
              "        async function convertToInteractive(key) {\n",
              "          const element = document.querySelector('#df-3c2ade5e-79b5-4e94-a528-974a5595e22a');\n",
              "          const dataTable =\n",
              "            await google.colab.kernel.invokeFunction('convertToInteractive',\n",
              "                                                     [key], {});\n",
              "          if (!dataTable) return;\n",
              "\n",
              "          const docLinkHtml = 'Like what you see? Visit the ' +\n",
              "            '<a target=\"_blank\" href=https://colab.research.google.com/notebooks/data_table.ipynb>data table notebook</a>'\n",
              "            + ' to learn more about interactive tables.';\n",
              "          element.innerHTML = '';\n",
              "          dataTable['output_type'] = 'display_data';\n",
              "          await google.colab.output.renderOutput(dataTable, element);\n",
              "          const docLink = document.createElement('div');\n",
              "          docLink.innerHTML = docLinkHtml;\n",
              "          element.appendChild(docLink);\n",
              "        }\n",
              "      </script>\n",
              "    </div>\n",
              "  </div>\n",
              "  "
            ]
          },
          "metadata": {},
          "execution_count": 38
        }
      ]
    },
    {
      "cell_type": "code",
      "source": [
        "# d. prepare the figures for the statistics of the mixed sets\n",
        "plt.figure()\n",
        "\n",
        "sns.histplot(df_fgf_fgfr_Revi_trai.Length.values, \n",
        "             bins=40, kde=True, stat='density', color=\"red\", label=\"Training\");\n",
        "sns.histplot(df_fgf_fgfr_Revi_vali.Length.values, \n",
        "             bins=40, kde=True, stat='density', color=\"blue\", label=\"Validation\");\n",
        "sns.histplot(df_fgf_fgfr_Revi_test.Length.values, \n",
        "             bins=40, kde=True, stat='density', color=\"yellow\", label=\"Testing\");\n",
        "\n",
        "plt.grid()\n",
        "plt.legend() \n",
        "plt.show()"
      ],
      "metadata": {
        "colab": {
          "base_uri": "https://localhost:8080/",
          "height": 265
        },
        "id": "kMwDJz_nMUIK",
        "outputId": "571d40fa-0035-41ab-d686-33d0e6e50663"
      },
      "execution_count": null,
      "outputs": [
        {
          "output_type": "display_data",
          "data": {
            "text/plain": [
              "<Figure size 432x288 with 1 Axes>"
            ],
            "image/png": "[encoded data removed]"
          },
          "metadata": {
            "needs_background": "light"
          }
        }
      ]
    },
    {
      "cell_type": "code",
      "source": [
        "df_fgf_fgfr_UnRe_trai = mix_two_df(df_raw_fgf_UnRe_trai,df_raw_fgfr_UnRe_trai)\n",
        "df_fgf_fgfr_UnRe_vali = mix_two_df(df_raw_fgf_UnRe_vali,df_raw_fgfr_UnRe_vali)\n",
        "df_fgf_fgfr_UnRe_test = mix_two_df(df_raw_fgf_UnRe_test,df_raw_fgfr_UnRe_test)"
      ],
      "metadata": {
        "id": "c-9MW_FcMnwD"
      },
      "execution_count": null,
      "outputs": []
    },
    {
      "cell_type": "code",
      "source": [
        "plt.figure()\n",
        "\n",
        "sns.histplot(df_fgf_fgfr_UnRe_trai.Length.values, \n",
        "             bins=40, kde=True, stat='density', color=\"red\", label=\"Training\");\n",
        "sns.histplot(df_fgf_fgfr_UnRe_vali.Length.values, \n",
        "             bins=40, kde=True, stat='density', color=\"blue\", label=\"Validation\");\n",
        "sns.histplot(df_fgf_fgfr_UnRe_test.Length.values, \n",
        "             bins=40, kde=True, stat='density', color=\"yellow\", label=\"Testing\");\n",
        "\n",
        "plt.grid()\n",
        "plt.legend() \n",
        "plt.show()"
      ],
      "metadata": {
        "colab": {
          "base_uri": "https://localhost:8080/",
          "height": 267
        },
        "id": "YpqIinn3M4rf",
        "outputId": "28d44c58-0c05-4a0a-bf1c-6a3112f2219e"
      },
      "execution_count": null,
      "outputs": [
        {
          "output_type": "display_data",
          "data": {
            "text/plain": [
              "<Figure size 432x288 with 1 Axes>"
            ],
            "image/png": "[encoded data removed]"
          },
          "metadata": {
            "needs_background": "light"
          }
        }
      ]
    },
    {
      "cell_type": "markdown",
      "source": [
        "## 4. write into files"
      ],
      "metadata": {
        "id": "g-aQ_vbZ8Pbk"
      }
    },
    {
      "cell_type": "code",
      "source": [
        "Result_path='./drive/MyDrive/0_data_prepare_results/'"
      ],
      "metadata": {
        "id": "wuJ6WtEjNXZ5"
      },
      "execution_count": null,
      "outputs": []
    },
    {
      "cell_type": "code",
      "source": [
        "# write into csv files\n",
        "csv_fgf_fgfr_Revi_trai = Result_path+'fgf_fgfr_Revi_trai.csv'\n",
        "csv_fgf_fgfr_Revi_vali = Result_path+'fgf_fgfr_Revi_vali.csv'\n",
        "csv_fgf_fgfr_Revi_test = Result_path+'fgf_fgfr_Revi_test.csv'\n",
        "\n",
        "csv_fgf_fgfr_UnRe_trai = Result_path+'fgf_fgfr_UnRe_trai.csv'\n",
        "csv_fgf_fgfr_UnRe_vali = Result_path+'fgf_fgfr_UnRe_vali.csv'\n",
        "csv_fgf_fgfr_UnRe_test = Result_path+'fgf_fgfr_UnRe_test.csv'"
      ],
      "metadata": {
        "id": "FmFa7BJV8LTZ"
      },
      "execution_count": null,
      "outputs": []
    },
    {
      "cell_type": "code",
      "source": [
        "df_fgf_fgfr_Revi_trai.to_csv(csv_fgf_fgfr_Revi_trai,\n",
        "                             sep=',',index=False,encoding='utf-8')\n",
        "df_fgf_fgfr_Revi_vali.to_csv(csv_fgf_fgfr_Revi_vali,\n",
        "                             sep=',',index=False,encoding='utf-8')\n",
        "df_fgf_fgfr_Revi_test.to_csv(csv_fgf_fgfr_Revi_test,\n",
        "                             sep=',',index=False,encoding='utf-8')"
      ],
      "metadata": {
        "id": "l7Q8LmQ8PjEl"
      },
      "execution_count": null,
      "outputs": []
    },
    {
      "cell_type": "code",
      "source": [
        "df_fgf_fgfr_UnRe_trai.to_csv(csv_fgf_fgfr_UnRe_trai,\n",
        "                             sep=',',index=False,encoding='utf-8')\n",
        "df_fgf_fgfr_UnRe_vali.to_csv(csv_fgf_fgfr_UnRe_vali,\n",
        "                             sep=',',index=False,encoding='utf-8')\n",
        "df_fgf_fgfr_UnRe_test.to_csv(csv_fgf_fgfr_UnRe_test,\n",
        "                             sep=',',index=False,encoding='utf-8')"
      ],
      "metadata": {
        "id": "BbzNt33eP5Gn"
      },
      "execution_count": null,
      "outputs": []
    },
    {
      "cell_type": "code",
      "source": [
        ""
      ],
      "metadata": {
        "id": "KgYLqDTGQIP7"
      },
      "execution_count": null,
      "outputs": []
    }
  ]
}